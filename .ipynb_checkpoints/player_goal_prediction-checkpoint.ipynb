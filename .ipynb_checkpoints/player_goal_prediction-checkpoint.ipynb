{
 "cells": [
  {
   "cell_type": "code",
   "execution_count": null,
   "metadata": {},
   "outputs": [],
   "source": [
    "import math\n",
    "import matplotlib.pyplot as plt\n",
    "import numpy as np\n",
    "import pandas as pd\n",
    "import seaborn as sns\n",
    "from sklearn.model_selection import train_test_split\n",
    "from datetime import datetime as dt\n",
    "from sklearn.pipeline import make_pipeline\n",
    "from sklearn.model_selection import cross_val_score\n",
    "from sklearn.metrics import mean_squared_error\n",
    "from sklearn.preprocessing import StandardScaler\n",
    "from sklearn.preprocessing import MinMaxScaler\n",
    "from sklearn.preprocessing import RobustScaler\n",
    "from sklearn.decomposition import PCA\n",
    "from sklearn.linear_model import Ridge\n",
    "from sklearn.linear_model import LassoCV\n",
    "from sklearn.ensemble import RandomForestRegressor\n",
    "from sklearn.ensemble import RandomForestClassifier\n",
    "from sklearn.linear_model import LinearRegression \n",
    "from sklearn.model_selection import GridSearchCV\n",
    "from sklearn.linear_model import ElasticNet\n",
    "from sklearn.linear_model import ElasticNetCV\n",
    "from sklearn.linear_model import LogisticRegression\n",
    "from sklearn.neighbors import KNeighborsClassifier\n",
    "from sklearn.naive_bayes import GaussianNB\n",
    "from sklearn.svm import SVR\n",
    "from sklearn.svm import SVC\n",
    "from sklearn.ensemble import GradientBoostingClassifier\n",
    "from sklearn.feature_selection import f_classif, chi2, mutual_info_classif\n",
    "from sklearn.feature_selection import SelectKBest\n",
    "import tensorflow\n",
    "from keras.models import Sequential\n",
    "from keras.layers import Dense, LSTM, Dropout, GRU, Bidirectional\n",
    "from keras.optimizers import SGD\n",
    "from scipy import stats as sc\n",
    "from sklearn.feature_selection import f_regression\n",
    "from sklearn.feature_selection import VarianceThreshold\n",
    "from sklearn.base import clone\n",
    "import pickle\n",
    "from numpy import log\n",
    "from sklearn.feature_selection import RFECV\n",
    "from random import randrange, choices"
   ]
  },
  {
   "cell_type": "code",
   "execution_count": 90,
   "metadata": {},
   "outputs": [],
   "source": [
    "plt.rcParams.update({'font.size': 22})"
   ]
  },
  {
   "cell_type": "code",
   "execution_count": 94,
   "metadata": {},
   "outputs": [],
   "source": [
    "class SFS():\n",
    "    def __init__(self, estimator, k_features, metric=\"accuracy\", test_size=0.25, cv=5, classification = True, random_state=1):\n",
    "        self.estimator = clone(estimator)\n",
    "        self.k_features = k_features\n",
    "        self.test_size = test_size\n",
    "        self.cv = cv\n",
    "        self.metric = metric\n",
    "        self.classification = classification\n",
    "        self.random_state = random_state\n",
    "    def fit(self, X_train, X_test, y_train, y_test):   \n",
    "        if self.metric == \"bic\":\n",
    "            calc_score = self._bic_calc_score\n",
    "        elif self.metric == \"cv\":\n",
    "            calc_score = self._cv_calc_score\n",
    "        else:\n",
    "            calc_score = self._accuracy_calc_score\n",
    "        dim = 0\n",
    "        options = list(range(X_train.shape[1]))\n",
    "        self.indices_ = []\n",
    "        self.subsets_ = []\n",
    "        self.scores_ = []\n",
    "        self.test_scores_ = []\n",
    "        while dim < self.k_features:\n",
    "            print('Processing:', dim)\n",
    "            scores, subsets, test_scores = [], [], []\n",
    "            comb=[]\n",
    "            for opt in options:\n",
    "                comb.append(self.indices_+[opt])\n",
    "#             print(comb)\n",
    "            for p in comb:\n",
    "                score = calc_score(X_train, y_train, X_test, y_test, p)\n",
    "                test_score = self._accuracy_calc_score(X_train, y_train, X_test, y_test, p)\n",
    "                scores.append(score)\n",
    "                test_scores.append(test_score)\n",
    "                subsets.append(p)\n",
    "            best = np.argmax(scores)\n",
    "            self.indices_ = subsets[best]\n",
    "            options.remove(subsets[best][-1])\n",
    "            self.subsets_.append(self.indices_)\n",
    "            dim += 1\n",
    "            self.scores_.append(scores[best])\n",
    "            self.test_scores_.append(test_scores[best])\n",
    "        self.k_score_ = self.scores_[-1]\n",
    "        self.subsets_ = [tuple(x) for x in self.subsets_]\n",
    "        return self\n",
    "    def transform(self, X):\n",
    "        return X[:, self.indices_]\n",
    "    def _accuracy_calc_score(self, X_train, y_train, X_test, y_test, indices):\n",
    "        self.estimator.fit(X_train[:, indices], y_train)\n",
    "        y_pred = self.estimator.predict(X_test[:, indices])\n",
    "        score = accuracy_score(y_test, y_pred)\n",
    "        return score\n",
    "    def _cv_calc_score(self, X_train, y_train, X_test, y_test, indices):\n",
    "        cv_scores = cross_val_score(self.estimator, X_train[:, indices], y_train, cv=self.cv, n_jobs=-1)\n",
    "        score = np.mean(cv_scores)\n",
    "        return score\n",
    "    def _bic_calc_score(self, X_train, y_train, X_test, y_test, indices):\n",
    "        self.estimator.fit(X_train[:, indices], y_train)\n",
    "        y_pred = self.estimator.predict(X_test[:, indices])\n",
    "        if self.classification:\n",
    "            sse = np.sum(y_pred != y_test)\n",
    "        else:\n",
    "            sse = sum((y_test - y_pred)**2)\n",
    "        n = len(X_test)\n",
    "        k = len(indices)\n",
    "        bic = n*log(sse/n) + k*log(n)\n",
    "        return -(bic)\n",
    "    \n",
    "\n",
    "def plotSFS(sfs):\n",
    "    k_feat = [len(k) for k in sfs.subsets_]\n",
    "    plt.figure(1, (9,6))\n",
    "    plt.plot(k_feat, sfs.test_scores_, marker='o', color='orange', label = 'Test set score')\n",
    "    if sfs.metric == 'cv':\n",
    "        plt.plot(k_feat, sfs.scores_, marker='o', color='deepskyblue', label = str(sfs.cv) + '-fold CV score')\n",
    "    plt.ylim([0.0, 1.02])\n",
    "    plt.ylabel('Accuracy')\n",
    "    plt.xlabel('Number of features')\n",
    "    plt.grid()\n",
    "    plt.tight_layout()\n",
    "    plt.legend(loc='best')\n",
    "    plt.show()\n",
    "    for idx, subs in enumerate(sfs.subsets_):\n",
    "        print(str(len(subs))+' feature(s):', sorted(subs), ' Metric Score:', sfs.scores_[idx], ' Test Score:', sfs.test_scores_[idx])"
   ]
  },
  {
   "cell_type": "code",
   "execution_count": 84,
   "metadata": {},
   "outputs": [],
   "source": [
    "def plot_corr(df,size=10):\n",
    "    corr = df.corr()\n",
    "    fig, ax = plt.subplots(figsize=(size, size))\n",
    "    cax = ax.matshow(corr)\n",
    "    fig.colorbar(cax)\n",
    "    plt.xticks(range(len(corr.columns)), corr.columns, rotation='vertical')\n",
    "    plt.yticks(range(len(corr.columns)), corr.columns)\n",
    "    \n",
    "def rfFeaturePlot(rf_reg, col_list, plot=True, title=\"Feature importances\"):\n",
    "    importances = rf_reg.feature_importances_\n",
    "\n",
    "    std = np.std([tree.feature_importances_ for tree in rf_reg.estimators_], axis=0)\n",
    "    indices = np.argsort(importances)[::-1]\n",
    "    \n",
    "    if plot:\n",
    "        # Plot the feature importances of the forest\n",
    "        plt.figure(1,(15,9))\n",
    "        plt.title(title)\n",
    "        plt.bar(range(rf_reg.n_features_), importances[indices],  \n",
    "               color=\"r\", align=\"center\")\n",
    "        plt.xticks(range(rf_reg.n_features_),col_list[indices], rotation='vertical', fontsize=15)\n",
    "#         plt.xlim([-1,rf_reg.n_features_)\n",
    "        plt.xlim([-1, 20.5])\n",
    "        plt.ylabel('Relative Importance')\n",
    "        plt.show()\n",
    "        \n",
    "def variance_threshold_selector(data, threshold=0.7):\n",
    "    selector = VarianceThreshold(threshold)\n",
    "    selector.fit(data)\n",
    "    return data[data.columns[selector.get_support(indices=True)]]\n",
    "\n",
    "def kBestSelector(data, y, score_func = chi2, k = 5):\n",
    "    selector = SelectKBest(score_func, k = k).fit(data, y)\n",
    "    return data[data.columns[selector.get_support(indices=True)]]\n",
    "\n",
    "def plotPca(pca, Xtrain):\n",
    "    plt.figure(1,(8,6))\n",
    "    plt.bar(range(1, Xtrain.shape[1]+1), pca.explained_variance_ratio_, alpha=0.5, align='center')\n",
    "    plt.step(range(1, Xtrain.shape[1]+1), np.cumsum(pca.explained_variance_ratio_), where='mid')\n",
    "    plt.ylabel('Explained variance ratio')\n",
    "    plt.xlabel('Principal components')\n",
    "    plt.xlim([0, 300])\n",
    "    plt.show()\n",
    "    \n",
    "def get_important_features(transformed_features, components_, columns):\n",
    "    num_columns = len(columns)\n",
    "\n",
    "    # Scale the principal components by the max value in\n",
    "    # the transformed set belonging to that component\n",
    "    xvector = components_[0] * max(transformed_features[:,0])\n",
    "    yvector = components_[1] * max(transformed_features[:,1])\n",
    "    \n",
    "    # Sort each column by it's length. These are your *original*\n",
    "    # columns, not the principal components.\n",
    "    important_features = { columns[i] : math.sqrt(xvector[i]**2 + yvector[i]**2) for i in range(num_columns) }\n",
    "    important_features = sorted(zip(important_features.values(), important_features.keys()), reverse=True)\n",
    "    print(\"Features by importance:\\n\", important_features)\n",
    "def cvKBestSelector(X, y, model, scaler = None, testSize = 0.25, cv = 5, random_state = 20191027):\n",
    "    result_dict = {}\n",
    "    for k_v in range(1, X.shape[1]+1):\n",
    "        X_ked = kBestSelector(X, y, score_func = chi2, k = k_v)\n",
    "        X_train, X_test, y_train, y_test = train_test_split(X_ked, y, test_size=testSize, random_state=random_state)\n",
    "        if scaler != None:\n",
    "            scaler = scaler\n",
    "            X_train = scaler.fit_transform(X_train.values)\n",
    "            X_test = scaler.transform(X_test.values)\n",
    "        else:\n",
    "            X_train, X_test = X_train.values, X_test.values\n",
    "        loc_model = clone(model)\n",
    "        loc_model.fit(X_train, y_train)\n",
    "        cv_scores = cross_val_score(loc_model, X_train, y_train, cv=cv, n_jobs=-1)\n",
    "        result_dict[k_v] = (cv_scores, loc_model.score(X_train, y_train), np.mean(cv_scores), loc_model.score(X_test, y_test))\n",
    "    max = float(\"-inf\")\n",
    "    fn = 0\n",
    "    for k,v in result_dict.items():\n",
    "        if v[2] > max:\n",
    "            fn = k\n",
    "            max = v[2]\n",
    "    print(fn, max)\n",
    "\n",
    "    x_ax = []\n",
    "    y_ax = []\n",
    "    test_pred = []\n",
    "    train_pred = []\n",
    "    for k,v in result_dict.items():\n",
    "        x_ax.append(k)\n",
    "        train_pred.append(v[1])\n",
    "        y_ax.append(v[2])\n",
    "        test_pred.append(v[3])\n",
    "    plt.figure(figsize=(12,9))\n",
    "    plt.title('Score against number of features')\n",
    "    plt.ylabel('Accuracy')\n",
    "    plt.xlabel('n features')\n",
    "    plt.plot(x_ax, y_ax, color='orange', label = str(cv) + '-fold CV score')\n",
    "    plt.plot(x_ax, test_pred, color='deepskyblue', label = 'Testing score')\n",
    "    plt.plot(x_ax, train_pred, color='red', label = 'Training score')\n",
    "    plt.show()\n",
    "\n",
    "def cvPCA(X, y, model, testSize = 0.25, cv = 5, random_state = 20191027):\n",
    "    result_dict = {}\n",
    "    for k_v in range(1, X.shape[1]+1):\n",
    "        X_train, X_test, y_train, y_test = train_test_split(X, y, test_size=testSize, random_state=random_state)\n",
    "        scaler = StandardScaler()\n",
    "        X_train = scaler.fit_transform(X_train.values)\n",
    "        X_test = scaler.transform(X_test.values)\n",
    "        pca = PCA(n_components = k_v)\n",
    "        X_train = pca.fit_transform(X_train)\n",
    "        X_test = pca.transform(X_test)\n",
    "        loc_model = clone(model)\n",
    "        loc_model.fit(X_train, y_train)\n",
    "        cv_scores = cross_val_score(loc_model, X_train, y_train, cv=cv, n_jobs=-1)\n",
    "        result_dict[k_v] = (cv_scores, loc_model.score(X_train, y_train), np.mean(cv_scores), loc_model.score(X_test, y_test))\n",
    "    max = float(\"-inf\")\n",
    "    fn = 0\n",
    "    for k,v in result_dict.items():\n",
    "        if v[2] > max:\n",
    "            fn = k\n",
    "            max = v[2]\n",
    "    print(fn, max)\n",
    "\n",
    "    x_ax = []\n",
    "    y_ax = []\n",
    "    test_pred = []\n",
    "    train_pred = []\n",
    "    for k,v in result_dict.items():\n",
    "        x_ax.append(k)\n",
    "        train_pred.append(v[1])\n",
    "        y_ax.append(v[2])\n",
    "        test_pred.append(v[3])\n",
    "    plt.figure(figsize=(12,9))\n",
    "    plt.title('Score against number of principal components')\n",
    "    plt.ylabel('Accuracy')\n",
    "    plt.xlabel('n PCA components')\n",
    "    plt.plot(x_ax, y_ax, color='orange', label = str(cv) + '-fold CV score')\n",
    "    plt.plot(x_ax, test_pred, color='deepskyblue', label = 'Testing score')\n",
    "    plt.plot(x_ax, train_pred, color='red', label = 'Training score')\n",
    "    plt.show()"
   ]
  },
  {
   "cell_type": "code",
   "execution_count": 89,
   "metadata": {},
   "outputs": [],
   "source": [
    "def variance_threshold_selector(data, threshold=0.7):\n",
    "    selector = VarianceThreshold(threshold)\n",
    "    selector.fit(data)\n",
    "    return data[data.columns[selector.get_support(indices=True)]]\n",
    "\n",
    "def kBestSelector(data, y, score_func = chi2, k = 5):\n",
    "    selector = SelectKBest(score_func, k = k).fit(data, y)\n",
    "    return data[data.columns[selector.get_support(indices=True)]]\n"
   ]
  },
  {
   "cell_type": "code",
   "execution_count": 13,
   "metadata": {},
   "outputs": [],
   "source": [
    "suffix = \"_UPDATED\""
   ]
  },
  {
   "cell_type": "code",
   "execution_count": 4,
   "metadata": {},
   "outputs": [],
   "source": [
    "complete_season_path = \"master_data_ver2/all_season_master_data_each_player_goals.csv\"\n",
    "complete_season_df = pd.read_csv(complete_season_path)"
   ]
  },
  {
   "cell_type": "code",
   "execution_count": 5,
   "metadata": {},
   "outputs": [],
   "source": [
    "allCols = complete_season_df.columns\n",
    "player_col = []\n",
    "for col in allCols:\n",
    "    if col.startswith(\"home_player\") or col.startswith(\"away_player\"):\n",
    "        player_col.append(col)"
   ]
  },
  {
   "cell_type": "code",
   "execution_count": 6,
   "metadata": {},
   "outputs": [
    {
     "data": {
      "text/plain": [
       "['home_player_1_match_goal',\n",
       " 'home_player_2_match_goal',\n",
       " 'home_player_3_match_goal',\n",
       " 'home_player_4_match_goal',\n",
       " 'home_player_5_match_goal',\n",
       " 'home_player_6_match_goal',\n",
       " 'home_player_7_match_goal',\n",
       " 'home_player_8_match_goal',\n",
       " 'home_player_9_match_goal',\n",
       " 'home_player_10_match_goal',\n",
       " 'home_player_11_match_goal',\n",
       " 'away_player_1_match_goal',\n",
       " 'away_player_2_match_goal',\n",
       " 'away_player_3_match_goal',\n",
       " 'away_player_4_match_goal',\n",
       " 'away_player_5_match_goal',\n",
       " 'away_player_6_match_goal',\n",
       " 'away_player_7_match_goal',\n",
       " 'away_player_8_match_goal',\n",
       " 'away_player_9_match_goal',\n",
       " 'away_player_10_match_goal',\n",
       " 'away_player_11_match_goal',\n",
       " 'home_player_1_fpl_minutes',\n",
       " 'home_player_1_fpl_goals',\n",
       " 'home_player_1_fpl_assits',\n",
       " 'home_player_1_fpl_cs',\n",
       " 'home_player_1_fpl_points',\n",
       " 'home_player_1_fpl_bonus',\n",
       " 'home_player_1_fpl_cprice',\n",
       " 'home_player_1_player_rating',\n",
       " 'home_player_1_touches',\n",
       " 'home_player_1_saves',\n",
       " 'home_player_1_total_pass',\n",
       " 'home_player_1_aerial_won',\n",
       " 'home_player_1_formation_place',\n",
       " 'home_player_1_accurate_pass',\n",
       " 'home_player_1_total_tackle',\n",
       " 'home_player_1_aerial_lost',\n",
       " 'home_player_1_fouls',\n",
       " 'home_player_1_yellow_card',\n",
       " 'home_player_1_total_scoring_att',\n",
       " 'home_player_1_man_of_the_match',\n",
       " 'home_player_1_goals',\n",
       " 'home_player_1_won_contest',\n",
       " 'home_player_1_blocked_scoring_att',\n",
       " 'home_player_1_goal_assist',\n",
       " 'home_player_1_good_high_claim',\n",
       " 'home_player_1_second_yellow',\n",
       " 'home_player_1_red_card',\n",
       " 'home_player_1_error_lead_to_goal',\n",
       " 'home_player_1_last_man_tackle',\n",
       " 'home_player_1_six_yard_block',\n",
       " 'home_player_1_post_scoring_att',\n",
       " 'home_player_1_att_pen_target',\n",
       " 'home_player_1_penalty_save',\n",
       " 'home_player_1_penalty_conceded',\n",
       " 'home_player_1_clearance_off_line',\n",
       " 'home_player_1_att_pen_goal',\n",
       " 'home_player_1_att_pen_miss',\n",
       " 'home_player_1_own_goals',\n",
       " 'home_player_1_att_pen_post',\n",
       " 'home_player_2_fpl_minutes',\n",
       " 'home_player_2_fpl_goals',\n",
       " 'home_player_2_fpl_assits',\n",
       " 'home_player_2_fpl_cs',\n",
       " 'home_player_2_fpl_points',\n",
       " 'home_player_2_fpl_bonus',\n",
       " 'home_player_2_fpl_cprice',\n",
       " 'home_player_2_player_rating',\n",
       " 'home_player_2_touches',\n",
       " 'home_player_2_saves',\n",
       " 'home_player_2_total_pass',\n",
       " 'home_player_2_aerial_won',\n",
       " 'home_player_2_formation_place',\n",
       " 'home_player_2_accurate_pass',\n",
       " 'home_player_2_total_tackle',\n",
       " 'home_player_2_aerial_lost',\n",
       " 'home_player_2_fouls',\n",
       " 'home_player_2_yellow_card',\n",
       " 'home_player_2_total_scoring_att',\n",
       " 'home_player_2_man_of_the_match',\n",
       " 'home_player_2_goals',\n",
       " 'home_player_2_won_contest',\n",
       " 'home_player_2_blocked_scoring_att',\n",
       " 'home_player_2_goal_assist',\n",
       " 'home_player_2_good_high_claim',\n",
       " 'home_player_2_second_yellow',\n",
       " 'home_player_2_red_card',\n",
       " 'home_player_2_error_lead_to_goal',\n",
       " 'home_player_2_last_man_tackle',\n",
       " 'home_player_2_six_yard_block',\n",
       " 'home_player_2_post_scoring_att',\n",
       " 'home_player_2_att_pen_target',\n",
       " 'home_player_2_penalty_save',\n",
       " 'home_player_2_penalty_conceded',\n",
       " 'home_player_2_clearance_off_line',\n",
       " 'home_player_2_att_pen_goal',\n",
       " 'home_player_2_att_pen_miss',\n",
       " 'home_player_2_own_goals',\n",
       " 'home_player_2_att_pen_post',\n",
       " 'home_player_3_fpl_minutes',\n",
       " 'home_player_3_fpl_goals',\n",
       " 'home_player_3_fpl_assits',\n",
       " 'home_player_3_fpl_cs',\n",
       " 'home_player_3_fpl_points',\n",
       " 'home_player_3_fpl_bonus',\n",
       " 'home_player_3_fpl_cprice',\n",
       " 'home_player_3_player_rating',\n",
       " 'home_player_3_touches',\n",
       " 'home_player_3_saves',\n",
       " 'home_player_3_total_pass',\n",
       " 'home_player_3_aerial_won',\n",
       " 'home_player_3_formation_place',\n",
       " 'home_player_3_accurate_pass',\n",
       " 'home_player_3_total_tackle',\n",
       " 'home_player_3_aerial_lost',\n",
       " 'home_player_3_fouls',\n",
       " 'home_player_3_yellow_card',\n",
       " 'home_player_3_total_scoring_att',\n",
       " 'home_player_3_man_of_the_match',\n",
       " 'home_player_3_goals',\n",
       " 'home_player_3_won_contest',\n",
       " 'home_player_3_blocked_scoring_att',\n",
       " 'home_player_3_goal_assist',\n",
       " 'home_player_3_good_high_claim',\n",
       " 'home_player_3_second_yellow',\n",
       " 'home_player_3_red_card',\n",
       " 'home_player_3_error_lead_to_goal',\n",
       " 'home_player_3_last_man_tackle',\n",
       " 'home_player_3_six_yard_block',\n",
       " 'home_player_3_post_scoring_att',\n",
       " 'home_player_3_att_pen_target',\n",
       " 'home_player_3_penalty_save',\n",
       " 'home_player_3_penalty_conceded',\n",
       " 'home_player_3_clearance_off_line',\n",
       " 'home_player_3_att_pen_goal',\n",
       " 'home_player_3_att_pen_miss',\n",
       " 'home_player_3_own_goals',\n",
       " 'home_player_3_att_pen_post',\n",
       " 'home_player_4_fpl_minutes',\n",
       " 'home_player_4_fpl_goals',\n",
       " 'home_player_4_fpl_assits',\n",
       " 'home_player_4_fpl_cs',\n",
       " 'home_player_4_fpl_points',\n",
       " 'home_player_4_fpl_bonus',\n",
       " 'home_player_4_fpl_cprice',\n",
       " 'home_player_4_player_rating',\n",
       " 'home_player_4_touches',\n",
       " 'home_player_4_saves',\n",
       " 'home_player_4_total_pass',\n",
       " 'home_player_4_aerial_won',\n",
       " 'home_player_4_formation_place',\n",
       " 'home_player_4_accurate_pass',\n",
       " 'home_player_4_total_tackle',\n",
       " 'home_player_4_aerial_lost',\n",
       " 'home_player_4_fouls',\n",
       " 'home_player_4_yellow_card',\n",
       " 'home_player_4_total_scoring_att',\n",
       " 'home_player_4_man_of_the_match',\n",
       " 'home_player_4_goals',\n",
       " 'home_player_4_won_contest',\n",
       " 'home_player_4_blocked_scoring_att',\n",
       " 'home_player_4_goal_assist',\n",
       " 'home_player_4_good_high_claim',\n",
       " 'home_player_4_second_yellow',\n",
       " 'home_player_4_red_card',\n",
       " 'home_player_4_error_lead_to_goal',\n",
       " 'home_player_4_last_man_tackle',\n",
       " 'home_player_4_six_yard_block',\n",
       " 'home_player_4_post_scoring_att',\n",
       " 'home_player_4_att_pen_target',\n",
       " 'home_player_4_penalty_save',\n",
       " 'home_player_4_penalty_conceded',\n",
       " 'home_player_4_clearance_off_line',\n",
       " 'home_player_4_att_pen_goal',\n",
       " 'home_player_4_att_pen_miss',\n",
       " 'home_player_4_own_goals',\n",
       " 'home_player_4_att_pen_post',\n",
       " 'home_player_5_fpl_minutes',\n",
       " 'home_player_5_fpl_goals',\n",
       " 'home_player_5_fpl_assits',\n",
       " 'home_player_5_fpl_cs',\n",
       " 'home_player_5_fpl_points',\n",
       " 'home_player_5_fpl_bonus',\n",
       " 'home_player_5_fpl_cprice',\n",
       " 'home_player_5_player_rating',\n",
       " 'home_player_5_touches',\n",
       " 'home_player_5_saves',\n",
       " 'home_player_5_total_pass',\n",
       " 'home_player_5_aerial_won',\n",
       " 'home_player_5_formation_place',\n",
       " 'home_player_5_accurate_pass',\n",
       " 'home_player_5_total_tackle',\n",
       " 'home_player_5_aerial_lost',\n",
       " 'home_player_5_fouls',\n",
       " 'home_player_5_yellow_card',\n",
       " 'home_player_5_total_scoring_att',\n",
       " 'home_player_5_man_of_the_match',\n",
       " 'home_player_5_goals',\n",
       " 'home_player_5_won_contest',\n",
       " 'home_player_5_blocked_scoring_att',\n",
       " 'home_player_5_goal_assist',\n",
       " 'home_player_5_good_high_claim',\n",
       " 'home_player_5_second_yellow',\n",
       " 'home_player_5_red_card',\n",
       " 'home_player_5_error_lead_to_goal',\n",
       " 'home_player_5_last_man_tackle',\n",
       " 'home_player_5_six_yard_block',\n",
       " 'home_player_5_post_scoring_att',\n",
       " 'home_player_5_att_pen_target',\n",
       " 'home_player_5_penalty_save',\n",
       " 'home_player_5_penalty_conceded',\n",
       " 'home_player_5_clearance_off_line',\n",
       " 'home_player_5_att_pen_goal',\n",
       " 'home_player_5_att_pen_miss',\n",
       " 'home_player_5_own_goals',\n",
       " 'home_player_5_att_pen_post',\n",
       " 'home_player_6_fpl_minutes',\n",
       " 'home_player_6_fpl_goals',\n",
       " 'home_player_6_fpl_assits',\n",
       " 'home_player_6_fpl_cs',\n",
       " 'home_player_6_fpl_points',\n",
       " 'home_player_6_fpl_bonus',\n",
       " 'home_player_6_fpl_cprice',\n",
       " 'home_player_6_player_rating',\n",
       " 'home_player_6_touches',\n",
       " 'home_player_6_saves',\n",
       " 'home_player_6_total_pass',\n",
       " 'home_player_6_aerial_won',\n",
       " 'home_player_6_formation_place',\n",
       " 'home_player_6_accurate_pass',\n",
       " 'home_player_6_total_tackle',\n",
       " 'home_player_6_aerial_lost',\n",
       " 'home_player_6_fouls',\n",
       " 'home_player_6_yellow_card',\n",
       " 'home_player_6_total_scoring_att',\n",
       " 'home_player_6_man_of_the_match',\n",
       " 'home_player_6_goals',\n",
       " 'home_player_6_won_contest',\n",
       " 'home_player_6_blocked_scoring_att',\n",
       " 'home_player_6_goal_assist',\n",
       " 'home_player_6_good_high_claim',\n",
       " 'home_player_6_second_yellow',\n",
       " 'home_player_6_red_card',\n",
       " 'home_player_6_error_lead_to_goal',\n",
       " 'home_player_6_last_man_tackle',\n",
       " 'home_player_6_six_yard_block',\n",
       " 'home_player_6_post_scoring_att',\n",
       " 'home_player_6_att_pen_target',\n",
       " 'home_player_6_penalty_save',\n",
       " 'home_player_6_penalty_conceded',\n",
       " 'home_player_6_clearance_off_line',\n",
       " 'home_player_6_att_pen_goal',\n",
       " 'home_player_6_att_pen_miss',\n",
       " 'home_player_6_own_goals',\n",
       " 'home_player_6_att_pen_post',\n",
       " 'home_player_7_fpl_minutes',\n",
       " 'home_player_7_fpl_goals',\n",
       " 'home_player_7_fpl_assits',\n",
       " 'home_player_7_fpl_cs',\n",
       " 'home_player_7_fpl_points',\n",
       " 'home_player_7_fpl_bonus',\n",
       " 'home_player_7_fpl_cprice',\n",
       " 'home_player_7_player_rating',\n",
       " 'home_player_7_touches',\n",
       " 'home_player_7_saves',\n",
       " 'home_player_7_total_pass',\n",
       " 'home_player_7_aerial_won',\n",
       " 'home_player_7_formation_place',\n",
       " 'home_player_7_accurate_pass',\n",
       " 'home_player_7_total_tackle',\n",
       " 'home_player_7_aerial_lost',\n",
       " 'home_player_7_fouls',\n",
       " 'home_player_7_yellow_card',\n",
       " 'home_player_7_total_scoring_att',\n",
       " 'home_player_7_man_of_the_match',\n",
       " 'home_player_7_goals',\n",
       " 'home_player_7_won_contest',\n",
       " 'home_player_7_blocked_scoring_att',\n",
       " 'home_player_7_goal_assist',\n",
       " 'home_player_7_good_high_claim',\n",
       " 'home_player_7_second_yellow',\n",
       " 'home_player_7_red_card',\n",
       " 'home_player_7_error_lead_to_goal',\n",
       " 'home_player_7_last_man_tackle',\n",
       " 'home_player_7_six_yard_block',\n",
       " 'home_player_7_post_scoring_att',\n",
       " 'home_player_7_att_pen_target',\n",
       " 'home_player_7_penalty_save',\n",
       " 'home_player_7_penalty_conceded',\n",
       " 'home_player_7_clearance_off_line',\n",
       " 'home_player_7_att_pen_goal',\n",
       " 'home_player_7_att_pen_miss',\n",
       " 'home_player_7_own_goals',\n",
       " 'home_player_7_att_pen_post',\n",
       " 'home_player_8_fpl_minutes',\n",
       " 'home_player_8_fpl_goals',\n",
       " 'home_player_8_fpl_assits',\n",
       " 'home_player_8_fpl_cs',\n",
       " 'home_player_8_fpl_points',\n",
       " 'home_player_8_fpl_bonus',\n",
       " 'home_player_8_fpl_cprice',\n",
       " 'home_player_8_player_rating',\n",
       " 'home_player_8_touches',\n",
       " 'home_player_8_saves',\n",
       " 'home_player_8_total_pass',\n",
       " 'home_player_8_aerial_won',\n",
       " 'home_player_8_formation_place',\n",
       " 'home_player_8_accurate_pass',\n",
       " 'home_player_8_total_tackle',\n",
       " 'home_player_8_aerial_lost',\n",
       " 'home_player_8_fouls',\n",
       " 'home_player_8_yellow_card',\n",
       " 'home_player_8_total_scoring_att',\n",
       " 'home_player_8_man_of_the_match',\n",
       " 'home_player_8_goals',\n",
       " 'home_player_8_won_contest',\n",
       " 'home_player_8_blocked_scoring_att',\n",
       " 'home_player_8_goal_assist',\n",
       " 'home_player_8_good_high_claim',\n",
       " 'home_player_8_second_yellow',\n",
       " 'home_player_8_red_card',\n",
       " 'home_player_8_error_lead_to_goal',\n",
       " 'home_player_8_last_man_tackle',\n",
       " 'home_player_8_six_yard_block',\n",
       " 'home_player_8_post_scoring_att',\n",
       " 'home_player_8_att_pen_target',\n",
       " 'home_player_8_penalty_save',\n",
       " 'home_player_8_penalty_conceded',\n",
       " 'home_player_8_clearance_off_line',\n",
       " 'home_player_8_att_pen_goal',\n",
       " 'home_player_8_att_pen_miss',\n",
       " 'home_player_8_own_goals',\n",
       " 'home_player_8_att_pen_post',\n",
       " 'home_player_9_fpl_minutes',\n",
       " 'home_player_9_fpl_goals',\n",
       " 'home_player_9_fpl_assits',\n",
       " 'home_player_9_fpl_cs',\n",
       " 'home_player_9_fpl_points',\n",
       " 'home_player_9_fpl_bonus',\n",
       " 'home_player_9_fpl_cprice',\n",
       " 'home_player_9_player_rating',\n",
       " 'home_player_9_touches',\n",
       " 'home_player_9_saves',\n",
       " 'home_player_9_total_pass',\n",
       " 'home_player_9_aerial_won',\n",
       " 'home_player_9_formation_place',\n",
       " 'home_player_9_accurate_pass',\n",
       " 'home_player_9_total_tackle',\n",
       " 'home_player_9_aerial_lost',\n",
       " 'home_player_9_fouls',\n",
       " 'home_player_9_yellow_card',\n",
       " 'home_player_9_total_scoring_att',\n",
       " 'home_player_9_man_of_the_match',\n",
       " 'home_player_9_goals',\n",
       " 'home_player_9_won_contest',\n",
       " 'home_player_9_blocked_scoring_att',\n",
       " 'home_player_9_goal_assist',\n",
       " 'home_player_9_good_high_claim',\n",
       " 'home_player_9_second_yellow',\n",
       " 'home_player_9_red_card',\n",
       " 'home_player_9_error_lead_to_goal',\n",
       " 'home_player_9_last_man_tackle',\n",
       " 'home_player_9_six_yard_block',\n",
       " 'home_player_9_post_scoring_att',\n",
       " 'home_player_9_att_pen_target',\n",
       " 'home_player_9_penalty_save',\n",
       " 'home_player_9_penalty_conceded',\n",
       " 'home_player_9_clearance_off_line',\n",
       " 'home_player_9_att_pen_goal',\n",
       " 'home_player_9_att_pen_miss',\n",
       " 'home_player_9_own_goals',\n",
       " 'home_player_9_att_pen_post',\n",
       " 'home_player_10_fpl_minutes',\n",
       " 'home_player_10_fpl_goals',\n",
       " 'home_player_10_fpl_assits',\n",
       " 'home_player_10_fpl_cs',\n",
       " 'home_player_10_fpl_points',\n",
       " 'home_player_10_fpl_bonus',\n",
       " 'home_player_10_fpl_cprice',\n",
       " 'home_player_10_player_rating',\n",
       " 'home_player_10_touches',\n",
       " 'home_player_10_saves',\n",
       " 'home_player_10_total_pass',\n",
       " 'home_player_10_aerial_won',\n",
       " 'home_player_10_formation_place',\n",
       " 'home_player_10_accurate_pass',\n",
       " 'home_player_10_total_tackle',\n",
       " 'home_player_10_aerial_lost',\n",
       " 'home_player_10_fouls',\n",
       " 'home_player_10_yellow_card',\n",
       " 'home_player_10_total_scoring_att',\n",
       " 'home_player_10_man_of_the_match',\n",
       " 'home_player_10_goals',\n",
       " 'home_player_10_won_contest',\n",
       " 'home_player_10_blocked_scoring_att',\n",
       " 'home_player_10_goal_assist',\n",
       " 'home_player_10_good_high_claim',\n",
       " 'home_player_10_second_yellow',\n",
       " 'home_player_10_red_card',\n",
       " 'home_player_10_error_lead_to_goal',\n",
       " 'home_player_10_last_man_tackle',\n",
       " 'home_player_10_six_yard_block',\n",
       " 'home_player_10_post_scoring_att',\n",
       " 'home_player_10_att_pen_target',\n",
       " 'home_player_10_penalty_save',\n",
       " 'home_player_10_penalty_conceded',\n",
       " 'home_player_10_clearance_off_line',\n",
       " 'home_player_10_att_pen_goal',\n",
       " 'home_player_10_att_pen_miss',\n",
       " 'home_player_10_own_goals',\n",
       " 'home_player_10_att_pen_post',\n",
       " 'home_player_11_fpl_minutes',\n",
       " 'home_player_11_fpl_goals',\n",
       " 'home_player_11_fpl_assits',\n",
       " 'home_player_11_fpl_cs',\n",
       " 'home_player_11_fpl_points',\n",
       " 'home_player_11_fpl_bonus',\n",
       " 'home_player_11_fpl_cprice',\n",
       " 'home_player_11_player_rating',\n",
       " 'home_player_11_touches',\n",
       " 'home_player_11_saves',\n",
       " 'home_player_11_total_pass',\n",
       " 'home_player_11_aerial_won',\n",
       " 'home_player_11_formation_place',\n",
       " 'home_player_11_accurate_pass',\n",
       " 'home_player_11_total_tackle',\n",
       " 'home_player_11_aerial_lost',\n",
       " 'home_player_11_fouls',\n",
       " 'home_player_11_yellow_card',\n",
       " 'home_player_11_total_scoring_att',\n",
       " 'home_player_11_man_of_the_match',\n",
       " 'home_player_11_goals',\n",
       " 'home_player_11_won_contest',\n",
       " 'home_player_11_blocked_scoring_att',\n",
       " 'home_player_11_goal_assist',\n",
       " 'home_player_11_good_high_claim',\n",
       " 'home_player_11_second_yellow',\n",
       " 'home_player_11_red_card',\n",
       " 'home_player_11_error_lead_to_goal',\n",
       " 'home_player_11_last_man_tackle',\n",
       " 'home_player_11_six_yard_block',\n",
       " 'home_player_11_post_scoring_att',\n",
       " 'home_player_11_att_pen_target',\n",
       " 'home_player_11_penalty_save',\n",
       " 'home_player_11_penalty_conceded',\n",
       " 'home_player_11_clearance_off_line',\n",
       " 'home_player_11_att_pen_goal',\n",
       " 'home_player_11_att_pen_miss',\n",
       " 'home_player_11_own_goals',\n",
       " 'home_player_11_att_pen_post',\n",
       " 'away_player_1_fpl_minutes',\n",
       " 'away_player_1_fpl_goals',\n",
       " 'away_player_1_fpl_assits',\n",
       " 'away_player_1_fpl_cs',\n",
       " 'away_player_1_fpl_points',\n",
       " 'away_player_1_fpl_bonus',\n",
       " 'away_player_1_fpl_cprice',\n",
       " 'away_player_1_player_rating',\n",
       " 'away_player_1_touches',\n",
       " 'away_player_1_saves',\n",
       " 'away_player_1_total_pass',\n",
       " 'away_player_1_aerial_won',\n",
       " 'away_player_1_formation_place',\n",
       " 'away_player_1_accurate_pass',\n",
       " 'away_player_1_total_tackle',\n",
       " 'away_player_1_aerial_lost',\n",
       " 'away_player_1_fouls',\n",
       " 'away_player_1_yellow_card',\n",
       " 'away_player_1_total_scoring_att',\n",
       " 'away_player_1_man_of_the_match',\n",
       " 'away_player_1_goals',\n",
       " 'away_player_1_won_contest',\n",
       " 'away_player_1_blocked_scoring_att',\n",
       " 'away_player_1_goal_assist',\n",
       " 'away_player_1_good_high_claim',\n",
       " 'away_player_1_second_yellow',\n",
       " 'away_player_1_red_card',\n",
       " 'away_player_1_error_lead_to_goal',\n",
       " 'away_player_1_last_man_tackle',\n",
       " 'away_player_1_six_yard_block',\n",
       " 'away_player_1_post_scoring_att',\n",
       " 'away_player_1_att_pen_target',\n",
       " 'away_player_1_penalty_save',\n",
       " 'away_player_1_penalty_conceded',\n",
       " 'away_player_1_clearance_off_line',\n",
       " 'away_player_1_att_pen_goal',\n",
       " 'away_player_1_att_pen_miss',\n",
       " 'away_player_1_own_goals',\n",
       " 'away_player_1_att_pen_post',\n",
       " 'away_player_2_fpl_minutes',\n",
       " 'away_player_2_fpl_goals',\n",
       " 'away_player_2_fpl_assits',\n",
       " 'away_player_2_fpl_cs',\n",
       " 'away_player_2_fpl_points',\n",
       " 'away_player_2_fpl_bonus',\n",
       " 'away_player_2_fpl_cprice',\n",
       " 'away_player_2_player_rating',\n",
       " 'away_player_2_touches',\n",
       " 'away_player_2_saves',\n",
       " 'away_player_2_total_pass',\n",
       " 'away_player_2_aerial_won',\n",
       " 'away_player_2_formation_place',\n",
       " 'away_player_2_accurate_pass',\n",
       " 'away_player_2_total_tackle',\n",
       " 'away_player_2_aerial_lost',\n",
       " 'away_player_2_fouls',\n",
       " 'away_player_2_yellow_card',\n",
       " 'away_player_2_total_scoring_att',\n",
       " 'away_player_2_man_of_the_match',\n",
       " 'away_player_2_goals',\n",
       " 'away_player_2_won_contest',\n",
       " 'away_player_2_blocked_scoring_att',\n",
       " 'away_player_2_goal_assist',\n",
       " 'away_player_2_good_high_claim',\n",
       " 'away_player_2_second_yellow',\n",
       " 'away_player_2_red_card',\n",
       " 'away_player_2_error_lead_to_goal',\n",
       " 'away_player_2_last_man_tackle',\n",
       " 'away_player_2_six_yard_block',\n",
       " 'away_player_2_post_scoring_att',\n",
       " 'away_player_2_att_pen_target',\n",
       " 'away_player_2_penalty_save',\n",
       " 'away_player_2_penalty_conceded',\n",
       " 'away_player_2_clearance_off_line',\n",
       " 'away_player_2_att_pen_goal',\n",
       " 'away_player_2_att_pen_miss',\n",
       " 'away_player_2_own_goals',\n",
       " 'away_player_2_att_pen_post',\n",
       " 'away_player_3_fpl_minutes',\n",
       " 'away_player_3_fpl_goals',\n",
       " 'away_player_3_fpl_assits',\n",
       " 'away_player_3_fpl_cs',\n",
       " 'away_player_3_fpl_points',\n",
       " 'away_player_3_fpl_bonus',\n",
       " 'away_player_3_fpl_cprice',\n",
       " 'away_player_3_player_rating',\n",
       " 'away_player_3_touches',\n",
       " 'away_player_3_saves',\n",
       " 'away_player_3_total_pass',\n",
       " 'away_player_3_aerial_won',\n",
       " 'away_player_3_formation_place',\n",
       " 'away_player_3_accurate_pass',\n",
       " 'away_player_3_total_tackle',\n",
       " 'away_player_3_aerial_lost',\n",
       " 'away_player_3_fouls',\n",
       " 'away_player_3_yellow_card',\n",
       " 'away_player_3_total_scoring_att',\n",
       " 'away_player_3_man_of_the_match',\n",
       " 'away_player_3_goals',\n",
       " 'away_player_3_won_contest',\n",
       " 'away_player_3_blocked_scoring_att',\n",
       " 'away_player_3_goal_assist',\n",
       " 'away_player_3_good_high_claim',\n",
       " 'away_player_3_second_yellow',\n",
       " 'away_player_3_red_card',\n",
       " 'away_player_3_error_lead_to_goal',\n",
       " 'away_player_3_last_man_tackle',\n",
       " 'away_player_3_six_yard_block',\n",
       " 'away_player_3_post_scoring_att',\n",
       " 'away_player_3_att_pen_target',\n",
       " 'away_player_3_penalty_save',\n",
       " 'away_player_3_penalty_conceded',\n",
       " 'away_player_3_clearance_off_line',\n",
       " 'away_player_3_att_pen_goal',\n",
       " 'away_player_3_att_pen_miss',\n",
       " 'away_player_3_own_goals',\n",
       " 'away_player_3_att_pen_post',\n",
       " 'away_player_4_fpl_minutes',\n",
       " 'away_player_4_fpl_goals',\n",
       " 'away_player_4_fpl_assits',\n",
       " 'away_player_4_fpl_cs',\n",
       " 'away_player_4_fpl_points',\n",
       " 'away_player_4_fpl_bonus',\n",
       " 'away_player_4_fpl_cprice',\n",
       " 'away_player_4_player_rating',\n",
       " 'away_player_4_touches',\n",
       " 'away_player_4_saves',\n",
       " 'away_player_4_total_pass',\n",
       " 'away_player_4_aerial_won',\n",
       " 'away_player_4_formation_place',\n",
       " 'away_player_4_accurate_pass',\n",
       " 'away_player_4_total_tackle',\n",
       " 'away_player_4_aerial_lost',\n",
       " 'away_player_4_fouls',\n",
       " 'away_player_4_yellow_card',\n",
       " 'away_player_4_total_scoring_att',\n",
       " 'away_player_4_man_of_the_match',\n",
       " 'away_player_4_goals',\n",
       " 'away_player_4_won_contest',\n",
       " 'away_player_4_blocked_scoring_att',\n",
       " 'away_player_4_goal_assist',\n",
       " 'away_player_4_good_high_claim',\n",
       " 'away_player_4_second_yellow',\n",
       " 'away_player_4_red_card',\n",
       " 'away_player_4_error_lead_to_goal',\n",
       " 'away_player_4_last_man_tackle',\n",
       " 'away_player_4_six_yard_block',\n",
       " 'away_player_4_post_scoring_att',\n",
       " 'away_player_4_att_pen_target',\n",
       " 'away_player_4_penalty_save',\n",
       " 'away_player_4_penalty_conceded',\n",
       " 'away_player_4_clearance_off_line',\n",
       " 'away_player_4_att_pen_goal',\n",
       " 'away_player_4_att_pen_miss',\n",
       " 'away_player_4_own_goals',\n",
       " 'away_player_4_att_pen_post',\n",
       " 'away_player_5_fpl_minutes',\n",
       " 'away_player_5_fpl_goals',\n",
       " 'away_player_5_fpl_assits',\n",
       " 'away_player_5_fpl_cs',\n",
       " 'away_player_5_fpl_points',\n",
       " 'away_player_5_fpl_bonus',\n",
       " 'away_player_5_fpl_cprice',\n",
       " 'away_player_5_player_rating',\n",
       " 'away_player_5_touches',\n",
       " 'away_player_5_saves',\n",
       " 'away_player_5_total_pass',\n",
       " 'away_player_5_aerial_won',\n",
       " 'away_player_5_formation_place',\n",
       " 'away_player_5_accurate_pass',\n",
       " 'away_player_5_total_tackle',\n",
       " 'away_player_5_aerial_lost',\n",
       " 'away_player_5_fouls',\n",
       " 'away_player_5_yellow_card',\n",
       " 'away_player_5_total_scoring_att',\n",
       " 'away_player_5_man_of_the_match',\n",
       " 'away_player_5_goals',\n",
       " 'away_player_5_won_contest',\n",
       " 'away_player_5_blocked_scoring_att',\n",
       " 'away_player_5_goal_assist',\n",
       " 'away_player_5_good_high_claim',\n",
       " 'away_player_5_second_yellow',\n",
       " 'away_player_5_red_card',\n",
       " 'away_player_5_error_lead_to_goal',\n",
       " 'away_player_5_last_man_tackle',\n",
       " 'away_player_5_six_yard_block',\n",
       " 'away_player_5_post_scoring_att',\n",
       " 'away_player_5_att_pen_target',\n",
       " 'away_player_5_penalty_save',\n",
       " 'away_player_5_penalty_conceded',\n",
       " 'away_player_5_clearance_off_line',\n",
       " 'away_player_5_att_pen_goal',\n",
       " 'away_player_5_att_pen_miss',\n",
       " 'away_player_5_own_goals',\n",
       " 'away_player_5_att_pen_post',\n",
       " 'away_player_6_fpl_minutes',\n",
       " 'away_player_6_fpl_goals',\n",
       " 'away_player_6_fpl_assits',\n",
       " 'away_player_6_fpl_cs',\n",
       " 'away_player_6_fpl_points',\n",
       " 'away_player_6_fpl_bonus',\n",
       " 'away_player_6_fpl_cprice',\n",
       " 'away_player_6_player_rating',\n",
       " 'away_player_6_touches',\n",
       " 'away_player_6_saves',\n",
       " 'away_player_6_total_pass',\n",
       " 'away_player_6_aerial_won',\n",
       " 'away_player_6_formation_place',\n",
       " 'away_player_6_accurate_pass',\n",
       " 'away_player_6_total_tackle',\n",
       " 'away_player_6_aerial_lost',\n",
       " 'away_player_6_fouls',\n",
       " 'away_player_6_yellow_card',\n",
       " 'away_player_6_total_scoring_att',\n",
       " 'away_player_6_man_of_the_match',\n",
       " 'away_player_6_goals',\n",
       " 'away_player_6_won_contest',\n",
       " 'away_player_6_blocked_scoring_att',\n",
       " 'away_player_6_goal_assist',\n",
       " 'away_player_6_good_high_claim',\n",
       " 'away_player_6_second_yellow',\n",
       " 'away_player_6_red_card',\n",
       " 'away_player_6_error_lead_to_goal',\n",
       " 'away_player_6_last_man_tackle',\n",
       " 'away_player_6_six_yard_block',\n",
       " 'away_player_6_post_scoring_att',\n",
       " 'away_player_6_att_pen_target',\n",
       " 'away_player_6_penalty_save',\n",
       " 'away_player_6_penalty_conceded',\n",
       " 'away_player_6_clearance_off_line',\n",
       " 'away_player_6_att_pen_goal',\n",
       " 'away_player_6_att_pen_miss',\n",
       " 'away_player_6_own_goals',\n",
       " 'away_player_6_att_pen_post',\n",
       " 'away_player_7_fpl_minutes',\n",
       " 'away_player_7_fpl_goals',\n",
       " 'away_player_7_fpl_assits',\n",
       " 'away_player_7_fpl_cs',\n",
       " 'away_player_7_fpl_points',\n",
       " 'away_player_7_fpl_bonus',\n",
       " 'away_player_7_fpl_cprice',\n",
       " 'away_player_7_player_rating',\n",
       " 'away_player_7_touches',\n",
       " 'away_player_7_saves',\n",
       " 'away_player_7_total_pass',\n",
       " 'away_player_7_aerial_won',\n",
       " 'away_player_7_formation_place',\n",
       " 'away_player_7_accurate_pass',\n",
       " 'away_player_7_total_tackle',\n",
       " 'away_player_7_aerial_lost',\n",
       " 'away_player_7_fouls',\n",
       " 'away_player_7_yellow_card',\n",
       " 'away_player_7_total_scoring_att',\n",
       " 'away_player_7_man_of_the_match',\n",
       " 'away_player_7_goals',\n",
       " 'away_player_7_won_contest',\n",
       " 'away_player_7_blocked_scoring_att',\n",
       " 'away_player_7_goal_assist',\n",
       " 'away_player_7_good_high_claim',\n",
       " 'away_player_7_second_yellow',\n",
       " 'away_player_7_red_card',\n",
       " 'away_player_7_error_lead_to_goal',\n",
       " 'away_player_7_last_man_tackle',\n",
       " 'away_player_7_six_yard_block',\n",
       " 'away_player_7_post_scoring_att',\n",
       " 'away_player_7_att_pen_target',\n",
       " 'away_player_7_penalty_save',\n",
       " 'away_player_7_penalty_conceded',\n",
       " 'away_player_7_clearance_off_line',\n",
       " 'away_player_7_att_pen_goal',\n",
       " 'away_player_7_att_pen_miss',\n",
       " 'away_player_7_own_goals',\n",
       " 'away_player_7_att_pen_post',\n",
       " 'away_player_8_fpl_minutes',\n",
       " 'away_player_8_fpl_goals',\n",
       " 'away_player_8_fpl_assits',\n",
       " 'away_player_8_fpl_cs',\n",
       " 'away_player_8_fpl_points',\n",
       " 'away_player_8_fpl_bonus',\n",
       " 'away_player_8_fpl_cprice',\n",
       " 'away_player_8_player_rating',\n",
       " 'away_player_8_touches',\n",
       " 'away_player_8_saves',\n",
       " 'away_player_8_total_pass',\n",
       " 'away_player_8_aerial_won',\n",
       " 'away_player_8_formation_place',\n",
       " 'away_player_8_accurate_pass',\n",
       " 'away_player_8_total_tackle',\n",
       " 'away_player_8_aerial_lost',\n",
       " 'away_player_8_fouls',\n",
       " 'away_player_8_yellow_card',\n",
       " 'away_player_8_total_scoring_att',\n",
       " 'away_player_8_man_of_the_match',\n",
       " 'away_player_8_goals',\n",
       " 'away_player_8_won_contest',\n",
       " 'away_player_8_blocked_scoring_att',\n",
       " 'away_player_8_goal_assist',\n",
       " 'away_player_8_good_high_claim',\n",
       " 'away_player_8_second_yellow',\n",
       " 'away_player_8_red_card',\n",
       " 'away_player_8_error_lead_to_goal',\n",
       " 'away_player_8_last_man_tackle',\n",
       " 'away_player_8_six_yard_block',\n",
       " 'away_player_8_post_scoring_att',\n",
       " 'away_player_8_att_pen_target',\n",
       " 'away_player_8_penalty_save',\n",
       " 'away_player_8_penalty_conceded',\n",
       " 'away_player_8_clearance_off_line',\n",
       " 'away_player_8_att_pen_goal',\n",
       " 'away_player_8_att_pen_miss',\n",
       " 'away_player_8_own_goals',\n",
       " 'away_player_8_att_pen_post',\n",
       " 'away_player_9_fpl_minutes',\n",
       " 'away_player_9_fpl_goals',\n",
       " 'away_player_9_fpl_assits',\n",
       " 'away_player_9_fpl_cs',\n",
       " 'away_player_9_fpl_points',\n",
       " 'away_player_9_fpl_bonus',\n",
       " 'away_player_9_fpl_cprice',\n",
       " 'away_player_9_player_rating',\n",
       " 'away_player_9_touches',\n",
       " 'away_player_9_saves',\n",
       " 'away_player_9_total_pass',\n",
       " 'away_player_9_aerial_won',\n",
       " 'away_player_9_formation_place',\n",
       " 'away_player_9_accurate_pass',\n",
       " 'away_player_9_total_tackle',\n",
       " 'away_player_9_aerial_lost',\n",
       " 'away_player_9_fouls',\n",
       " 'away_player_9_yellow_card',\n",
       " 'away_player_9_total_scoring_att',\n",
       " 'away_player_9_man_of_the_match',\n",
       " 'away_player_9_goals',\n",
       " 'away_player_9_won_contest',\n",
       " 'away_player_9_blocked_scoring_att',\n",
       " 'away_player_9_goal_assist',\n",
       " 'away_player_9_good_high_claim',\n",
       " 'away_player_9_second_yellow',\n",
       " 'away_player_9_red_card',\n",
       " 'away_player_9_error_lead_to_goal',\n",
       " 'away_player_9_last_man_tackle',\n",
       " 'away_player_9_six_yard_block',\n",
       " 'away_player_9_post_scoring_att',\n",
       " 'away_player_9_att_pen_target',\n",
       " 'away_player_9_penalty_save',\n",
       " 'away_player_9_penalty_conceded',\n",
       " 'away_player_9_clearance_off_line',\n",
       " 'away_player_9_att_pen_goal',\n",
       " 'away_player_9_att_pen_miss',\n",
       " 'away_player_9_own_goals',\n",
       " 'away_player_9_att_pen_post',\n",
       " 'away_player_10_fpl_minutes',\n",
       " 'away_player_10_fpl_goals',\n",
       " 'away_player_10_fpl_assits',\n",
       " 'away_player_10_fpl_cs',\n",
       " 'away_player_10_fpl_points',\n",
       " 'away_player_10_fpl_bonus',\n",
       " 'away_player_10_fpl_cprice',\n",
       " 'away_player_10_player_rating',\n",
       " 'away_player_10_touches',\n",
       " 'away_player_10_saves',\n",
       " 'away_player_10_total_pass',\n",
       " 'away_player_10_aerial_won',\n",
       " 'away_player_10_formation_place',\n",
       " 'away_player_10_accurate_pass',\n",
       " 'away_player_10_total_tackle',\n",
       " 'away_player_10_aerial_lost',\n",
       " 'away_player_10_fouls',\n",
       " 'away_player_10_yellow_card',\n",
       " 'away_player_10_total_scoring_att',\n",
       " 'away_player_10_man_of_the_match',\n",
       " 'away_player_10_goals',\n",
       " 'away_player_10_won_contest',\n",
       " 'away_player_10_blocked_scoring_att',\n",
       " 'away_player_10_goal_assist',\n",
       " 'away_player_10_good_high_claim',\n",
       " 'away_player_10_second_yellow',\n",
       " 'away_player_10_red_card',\n",
       " 'away_player_10_error_lead_to_goal',\n",
       " 'away_player_10_last_man_tackle',\n",
       " 'away_player_10_six_yard_block',\n",
       " 'away_player_10_post_scoring_att',\n",
       " 'away_player_10_att_pen_target',\n",
       " 'away_player_10_penalty_save',\n",
       " 'away_player_10_penalty_conceded',\n",
       " 'away_player_10_clearance_off_line',\n",
       " 'away_player_10_att_pen_goal',\n",
       " 'away_player_10_att_pen_miss',\n",
       " 'away_player_10_own_goals',\n",
       " 'away_player_10_att_pen_post',\n",
       " 'away_player_11_fpl_minutes',\n",
       " 'away_player_11_fpl_goals',\n",
       " 'away_player_11_fpl_assits',\n",
       " 'away_player_11_fpl_cs',\n",
       " 'away_player_11_fpl_points',\n",
       " 'away_player_11_fpl_bonus',\n",
       " 'away_player_11_fpl_cprice',\n",
       " 'away_player_11_player_rating',\n",
       " 'away_player_11_touches',\n",
       " 'away_player_11_saves',\n",
       " 'away_player_11_total_pass',\n",
       " 'away_player_11_aerial_won',\n",
       " 'away_player_11_formation_place',\n",
       " 'away_player_11_accurate_pass',\n",
       " 'away_player_11_total_tackle',\n",
       " 'away_player_11_aerial_lost',\n",
       " 'away_player_11_fouls',\n",
       " 'away_player_11_yellow_card',\n",
       " 'away_player_11_total_scoring_att',\n",
       " 'away_player_11_man_of_the_match',\n",
       " 'away_player_11_goals',\n",
       " 'away_player_11_won_contest',\n",
       " 'away_player_11_blocked_scoring_att',\n",
       " 'away_player_11_goal_assist',\n",
       " 'away_player_11_good_high_claim',\n",
       " 'away_player_11_second_yellow',\n",
       " 'away_player_11_red_card',\n",
       " 'away_player_11_error_lead_to_goal',\n",
       " 'away_player_11_last_man_tackle',\n",
       " 'away_player_11_six_yard_block',\n",
       " 'away_player_11_post_scoring_att',\n",
       " 'away_player_11_att_pen_target',\n",
       " 'away_player_11_penalty_save',\n",
       " 'away_player_11_penalty_conceded',\n",
       " 'away_player_11_clearance_off_line',\n",
       " 'away_player_11_att_pen_goal',\n",
       " 'away_player_11_att_pen_miss',\n",
       " 'away_player_11_own_goals',\n",
       " 'away_player_11_att_pen_post']"
      ]
     },
     "execution_count": 6,
     "metadata": {},
     "output_type": "execute_result"
    }
   ],
   "source": [
    "player_col"
   ]
  },
  {
   "cell_type": "code",
   "execution_count": 7,
   "metadata": {},
   "outputs": [],
   "source": [
    "player_stat_col = []\n",
    "for col in player_col:\n",
    "    if not col.endswith(\"match_goal\"):\n",
    "        splitted = col.split('_')\n",
    "        stat = '_'.join(splitted[3:])\n",
    "        if stat not in player_stat_col:\n",
    "            player_stat_col.append(stat)"
   ]
  },
  {
   "cell_type": "code",
   "execution_count": 8,
   "metadata": {
    "scrolled": true
   },
   "outputs": [
    {
     "data": {
      "text/plain": [
       "['fpl_minutes',\n",
       " 'fpl_goals',\n",
       " 'fpl_assits',\n",
       " 'fpl_cs',\n",
       " 'fpl_points',\n",
       " 'fpl_bonus',\n",
       " 'fpl_cprice',\n",
       " 'player_rating',\n",
       " 'touches',\n",
       " 'saves',\n",
       " 'total_pass',\n",
       " 'aerial_won',\n",
       " 'formation_place',\n",
       " 'accurate_pass',\n",
       " 'total_tackle',\n",
       " 'aerial_lost',\n",
       " 'fouls',\n",
       " 'yellow_card',\n",
       " 'total_scoring_att',\n",
       " 'man_of_the_match',\n",
       " 'goals',\n",
       " 'won_contest',\n",
       " 'blocked_scoring_att',\n",
       " 'goal_assist',\n",
       " 'good_high_claim',\n",
       " 'second_yellow',\n",
       " 'red_card',\n",
       " 'error_lead_to_goal',\n",
       " 'last_man_tackle',\n",
       " 'six_yard_block',\n",
       " 'post_scoring_att',\n",
       " 'att_pen_target',\n",
       " 'penalty_save',\n",
       " 'penalty_conceded',\n",
       " 'clearance_off_line',\n",
       " 'att_pen_goal',\n",
       " 'att_pen_miss',\n",
       " 'own_goals',\n",
       " 'att_pen_post']"
      ]
     },
     "execution_count": 8,
     "metadata": {},
     "output_type": "execute_result"
    }
   ],
   "source": [
    "player_stat_col"
   ]
  },
  {
   "cell_type": "code",
   "execution_count": 9,
   "metadata": {},
   "outputs": [],
   "source": [
    "complete_season_df = complete_season_df[['match_id'] + player_col]                             "
   ]
  },
  {
   "cell_type": "code",
   "execution_count": 10,
   "metadata": {
    "scrolled": true
   },
   "outputs": [
    {
     "data": {
      "text/html": [
       "<div>\n",
       "<style scoped>\n",
       "    .dataframe tbody tr th:only-of-type {\n",
       "        vertical-align: middle;\n",
       "    }\n",
       "\n",
       "    .dataframe tbody tr th {\n",
       "        vertical-align: top;\n",
       "    }\n",
       "\n",
       "    .dataframe thead th {\n",
       "        text-align: right;\n",
       "    }\n",
       "</style>\n",
       "<table border=\"1\" class=\"dataframe\">\n",
       "  <thead>\n",
       "    <tr style=\"text-align: right;\">\n",
       "      <th></th>\n",
       "      <th>match_id</th>\n",
       "      <th>home_player_1_match_goal</th>\n",
       "      <th>home_player_2_match_goal</th>\n",
       "      <th>home_player_3_match_goal</th>\n",
       "      <th>home_player_4_match_goal</th>\n",
       "      <th>home_player_5_match_goal</th>\n",
       "      <th>home_player_6_match_goal</th>\n",
       "      <th>home_player_7_match_goal</th>\n",
       "      <th>home_player_8_match_goal</th>\n",
       "      <th>home_player_9_match_goal</th>\n",
       "      <th>...</th>\n",
       "      <th>away_player_11_six_yard_block</th>\n",
       "      <th>away_player_11_post_scoring_att</th>\n",
       "      <th>away_player_11_att_pen_target</th>\n",
       "      <th>away_player_11_penalty_save</th>\n",
       "      <th>away_player_11_penalty_conceded</th>\n",
       "      <th>away_player_11_clearance_off_line</th>\n",
       "      <th>away_player_11_att_pen_goal</th>\n",
       "      <th>away_player_11_att_pen_miss</th>\n",
       "      <th>away_player_11_own_goals</th>\n",
       "      <th>away_player_11_att_pen_post</th>\n",
       "    </tr>\n",
       "  </thead>\n",
       "  <tbody>\n",
       "    <tr>\n",
       "      <th>0</th>\n",
       "      <td>829513</td>\n",
       "      <td>0</td>\n",
       "      <td>0</td>\n",
       "      <td>0</td>\n",
       "      <td>0</td>\n",
       "      <td>1</td>\n",
       "      <td>0</td>\n",
       "      <td>0</td>\n",
       "      <td>0</td>\n",
       "      <td>1</td>\n",
       "      <td>...</td>\n",
       "      <td>1.00000</td>\n",
       "      <td>0.000000</td>\n",
       "      <td>0.0</td>\n",
       "      <td>0.0</td>\n",
       "      <td>0.0</td>\n",
       "      <td>0.0</td>\n",
       "      <td>0.0</td>\n",
       "      <td>0.0</td>\n",
       "      <td>0.0</td>\n",
       "      <td>0.0</td>\n",
       "    </tr>\n",
       "    <tr>\n",
       "      <th>1</th>\n",
       "      <td>829514</td>\n",
       "      <td>0</td>\n",
       "      <td>0</td>\n",
       "      <td>0</td>\n",
       "      <td>0</td>\n",
       "      <td>0</td>\n",
       "      <td>1</td>\n",
       "      <td>0</td>\n",
       "      <td>0</td>\n",
       "      <td>0</td>\n",
       "      <td>...</td>\n",
       "      <td>1.00000</td>\n",
       "      <td>1.000000</td>\n",
       "      <td>0.0</td>\n",
       "      <td>0.0</td>\n",
       "      <td>0.0</td>\n",
       "      <td>0.0</td>\n",
       "      <td>1.0</td>\n",
       "      <td>0.0</td>\n",
       "      <td>0.0</td>\n",
       "      <td>0.0</td>\n",
       "    </tr>\n",
       "    <tr>\n",
       "      <th>2</th>\n",
       "      <td>829515</td>\n",
       "      <td>0</td>\n",
       "      <td>0</td>\n",
       "      <td>0</td>\n",
       "      <td>0</td>\n",
       "      <td>0</td>\n",
       "      <td>0</td>\n",
       "      <td>0</td>\n",
       "      <td>0</td>\n",
       "      <td>0</td>\n",
       "      <td>...</td>\n",
       "      <td>1.00000</td>\n",
       "      <td>1.000000</td>\n",
       "      <td>0.0</td>\n",
       "      <td>0.0</td>\n",
       "      <td>0.0</td>\n",
       "      <td>0.0</td>\n",
       "      <td>1.0</td>\n",
       "      <td>0.0</td>\n",
       "      <td>1.0</td>\n",
       "      <td>0.0</td>\n",
       "    </tr>\n",
       "    <tr>\n",
       "      <th>3</th>\n",
       "      <td>829516</td>\n",
       "      <td>0</td>\n",
       "      <td>0</td>\n",
       "      <td>0</td>\n",
       "      <td>0</td>\n",
       "      <td>0</td>\n",
       "      <td>0</td>\n",
       "      <td>0</td>\n",
       "      <td>0</td>\n",
       "      <td>1</td>\n",
       "      <td>...</td>\n",
       "      <td>0.00000</td>\n",
       "      <td>1.000000</td>\n",
       "      <td>0.0</td>\n",
       "      <td>0.0</td>\n",
       "      <td>1.0</td>\n",
       "      <td>0.0</td>\n",
       "      <td>1.0</td>\n",
       "      <td>0.0</td>\n",
       "      <td>0.0</td>\n",
       "      <td>0.0</td>\n",
       "    </tr>\n",
       "    <tr>\n",
       "      <th>4</th>\n",
       "      <td>829517</td>\n",
       "      <td>0</td>\n",
       "      <td>0</td>\n",
       "      <td>0</td>\n",
       "      <td>0</td>\n",
       "      <td>0</td>\n",
       "      <td>0</td>\n",
       "      <td>0</td>\n",
       "      <td>0</td>\n",
       "      <td>1</td>\n",
       "      <td>...</td>\n",
       "      <td>1.00000</td>\n",
       "      <td>1.000000</td>\n",
       "      <td>0.0</td>\n",
       "      <td>0.0</td>\n",
       "      <td>0.0</td>\n",
       "      <td>0.0</td>\n",
       "      <td>1.0</td>\n",
       "      <td>0.0</td>\n",
       "      <td>0.0</td>\n",
       "      <td>0.0</td>\n",
       "    </tr>\n",
       "    <tr>\n",
       "      <th>5</th>\n",
       "      <td>829518</td>\n",
       "      <td>0</td>\n",
       "      <td>0</td>\n",
       "      <td>0</td>\n",
       "      <td>0</td>\n",
       "      <td>0</td>\n",
       "      <td>0</td>\n",
       "      <td>0</td>\n",
       "      <td>0</td>\n",
       "      <td>0</td>\n",
       "      <td>...</td>\n",
       "      <td>0.00000</td>\n",
       "      <td>0.000000</td>\n",
       "      <td>0.0</td>\n",
       "      <td>0.0</td>\n",
       "      <td>0.0</td>\n",
       "      <td>0.0</td>\n",
       "      <td>0.0</td>\n",
       "      <td>0.0</td>\n",
       "      <td>0.0</td>\n",
       "      <td>0.0</td>\n",
       "    </tr>\n",
       "    <tr>\n",
       "      <th>6</th>\n",
       "      <td>829519</td>\n",
       "      <td>0</td>\n",
       "      <td>0</td>\n",
       "      <td>0</td>\n",
       "      <td>0</td>\n",
       "      <td>0</td>\n",
       "      <td>0</td>\n",
       "      <td>0</td>\n",
       "      <td>0</td>\n",
       "      <td>0</td>\n",
       "      <td>...</td>\n",
       "      <td>0.00000</td>\n",
       "      <td>0.000000</td>\n",
       "      <td>0.0</td>\n",
       "      <td>0.0</td>\n",
       "      <td>0.0</td>\n",
       "      <td>0.0</td>\n",
       "      <td>0.0</td>\n",
       "      <td>0.0</td>\n",
       "      <td>0.0</td>\n",
       "      <td>0.0</td>\n",
       "    </tr>\n",
       "    <tr>\n",
       "      <th>7</th>\n",
       "      <td>829520</td>\n",
       "      <td>0</td>\n",
       "      <td>0</td>\n",
       "      <td>0</td>\n",
       "      <td>0</td>\n",
       "      <td>0</td>\n",
       "      <td>0</td>\n",
       "      <td>0</td>\n",
       "      <td>0</td>\n",
       "      <td>0</td>\n",
       "      <td>...</td>\n",
       "      <td>1.00000</td>\n",
       "      <td>1.000000</td>\n",
       "      <td>0.0</td>\n",
       "      <td>0.0</td>\n",
       "      <td>0.0</td>\n",
       "      <td>0.0</td>\n",
       "      <td>0.0</td>\n",
       "      <td>0.0</td>\n",
       "      <td>0.0</td>\n",
       "      <td>0.0</td>\n",
       "    </tr>\n",
       "    <tr>\n",
       "      <th>8</th>\n",
       "      <td>829521</td>\n",
       "      <td>0</td>\n",
       "      <td>0</td>\n",
       "      <td>0</td>\n",
       "      <td>0</td>\n",
       "      <td>0</td>\n",
       "      <td>0</td>\n",
       "      <td>0</td>\n",
       "      <td>0</td>\n",
       "      <td>0</td>\n",
       "      <td>...</td>\n",
       "      <td>0.00000</td>\n",
       "      <td>1.000000</td>\n",
       "      <td>0.0</td>\n",
       "      <td>0.0</td>\n",
       "      <td>0.0</td>\n",
       "      <td>0.0</td>\n",
       "      <td>0.0</td>\n",
       "      <td>0.0</td>\n",
       "      <td>0.0</td>\n",
       "      <td>0.0</td>\n",
       "    </tr>\n",
       "    <tr>\n",
       "      <th>9</th>\n",
       "      <td>829522</td>\n",
       "      <td>0</td>\n",
       "      <td>0</td>\n",
       "      <td>0</td>\n",
       "      <td>0</td>\n",
       "      <td>0</td>\n",
       "      <td>0</td>\n",
       "      <td>0</td>\n",
       "      <td>0</td>\n",
       "      <td>0</td>\n",
       "      <td>...</td>\n",
       "      <td>1.00000</td>\n",
       "      <td>0.000000</td>\n",
       "      <td>0.0</td>\n",
       "      <td>0.0</td>\n",
       "      <td>0.0</td>\n",
       "      <td>0.0</td>\n",
       "      <td>0.0</td>\n",
       "      <td>0.0</td>\n",
       "      <td>0.0</td>\n",
       "      <td>0.0</td>\n",
       "    </tr>\n",
       "    <tr>\n",
       "      <th>10</th>\n",
       "      <td>829523</td>\n",
       "      <td>0</td>\n",
       "      <td>0</td>\n",
       "      <td>0</td>\n",
       "      <td>0</td>\n",
       "      <td>0</td>\n",
       "      <td>0</td>\n",
       "      <td>0</td>\n",
       "      <td>0</td>\n",
       "      <td>0</td>\n",
       "      <td>...</td>\n",
       "      <td>1.00000</td>\n",
       "      <td>0.000000</td>\n",
       "      <td>0.0</td>\n",
       "      <td>0.0</td>\n",
       "      <td>1.0</td>\n",
       "      <td>0.0</td>\n",
       "      <td>0.0</td>\n",
       "      <td>0.0</td>\n",
       "      <td>0.0</td>\n",
       "      <td>0.0</td>\n",
       "    </tr>\n",
       "    <tr>\n",
       "      <th>11</th>\n",
       "      <td>829524</td>\n",
       "      <td>0</td>\n",
       "      <td>0</td>\n",
       "      <td>0</td>\n",
       "      <td>0</td>\n",
       "      <td>0</td>\n",
       "      <td>0</td>\n",
       "      <td>0</td>\n",
       "      <td>0</td>\n",
       "      <td>0</td>\n",
       "      <td>...</td>\n",
       "      <td>2.00000</td>\n",
       "      <td>1.000000</td>\n",
       "      <td>1.0</td>\n",
       "      <td>0.0</td>\n",
       "      <td>1.0</td>\n",
       "      <td>1.0</td>\n",
       "      <td>1.0</td>\n",
       "      <td>0.0</td>\n",
       "      <td>0.0</td>\n",
       "      <td>0.0</td>\n",
       "    </tr>\n",
       "    <tr>\n",
       "      <th>12</th>\n",
       "      <td>829525</td>\n",
       "      <td>0</td>\n",
       "      <td>0</td>\n",
       "      <td>0</td>\n",
       "      <td>0</td>\n",
       "      <td>0</td>\n",
       "      <td>0</td>\n",
       "      <td>0</td>\n",
       "      <td>0</td>\n",
       "      <td>0</td>\n",
       "      <td>...</td>\n",
       "      <td>0.00000</td>\n",
       "      <td>0.000000</td>\n",
       "      <td>0.0</td>\n",
       "      <td>0.0</td>\n",
       "      <td>0.0</td>\n",
       "      <td>0.0</td>\n",
       "      <td>0.0</td>\n",
       "      <td>0.0</td>\n",
       "      <td>0.0</td>\n",
       "      <td>0.0</td>\n",
       "    </tr>\n",
       "    <tr>\n",
       "      <th>13</th>\n",
       "      <td>829526</td>\n",
       "      <td>0</td>\n",
       "      <td>0</td>\n",
       "      <td>1</td>\n",
       "      <td>0</td>\n",
       "      <td>0</td>\n",
       "      <td>1</td>\n",
       "      <td>0</td>\n",
       "      <td>0</td>\n",
       "      <td>0</td>\n",
       "      <td>...</td>\n",
       "      <td>1.00000</td>\n",
       "      <td>1.000000</td>\n",
       "      <td>1.0</td>\n",
       "      <td>0.0</td>\n",
       "      <td>0.0</td>\n",
       "      <td>0.0</td>\n",
       "      <td>0.0</td>\n",
       "      <td>0.0</td>\n",
       "      <td>0.0</td>\n",
       "      <td>0.0</td>\n",
       "    </tr>\n",
       "    <tr>\n",
       "      <th>14</th>\n",
       "      <td>829527</td>\n",
       "      <td>0</td>\n",
       "      <td>0</td>\n",
       "      <td>0</td>\n",
       "      <td>0</td>\n",
       "      <td>0</td>\n",
       "      <td>0</td>\n",
       "      <td>0</td>\n",
       "      <td>0</td>\n",
       "      <td>0</td>\n",
       "      <td>...</td>\n",
       "      <td>1.00000</td>\n",
       "      <td>1.000000</td>\n",
       "      <td>0.0</td>\n",
       "      <td>0.0</td>\n",
       "      <td>1.0</td>\n",
       "      <td>0.0</td>\n",
       "      <td>0.0</td>\n",
       "      <td>0.0</td>\n",
       "      <td>0.0</td>\n",
       "      <td>0.0</td>\n",
       "    </tr>\n",
       "    <tr>\n",
       "      <th>15</th>\n",
       "      <td>829528</td>\n",
       "      <td>0</td>\n",
       "      <td>0</td>\n",
       "      <td>0</td>\n",
       "      <td>0</td>\n",
       "      <td>0</td>\n",
       "      <td>0</td>\n",
       "      <td>0</td>\n",
       "      <td>0</td>\n",
       "      <td>0</td>\n",
       "      <td>...</td>\n",
       "      <td>1.00000</td>\n",
       "      <td>2.000000</td>\n",
       "      <td>0.0</td>\n",
       "      <td>0.0</td>\n",
       "      <td>0.0</td>\n",
       "      <td>1.0</td>\n",
       "      <td>0.0</td>\n",
       "      <td>0.0</td>\n",
       "      <td>0.0</td>\n",
       "      <td>0.0</td>\n",
       "    </tr>\n",
       "    <tr>\n",
       "      <th>16</th>\n",
       "      <td>829529</td>\n",
       "      <td>0</td>\n",
       "      <td>0</td>\n",
       "      <td>0</td>\n",
       "      <td>0</td>\n",
       "      <td>0</td>\n",
       "      <td>0</td>\n",
       "      <td>0</td>\n",
       "      <td>0</td>\n",
       "      <td>0</td>\n",
       "      <td>...</td>\n",
       "      <td>1.00000</td>\n",
       "      <td>0.000000</td>\n",
       "      <td>0.0</td>\n",
       "      <td>0.0</td>\n",
       "      <td>0.0</td>\n",
       "      <td>0.0</td>\n",
       "      <td>0.0</td>\n",
       "      <td>0.0</td>\n",
       "      <td>0.0</td>\n",
       "      <td>0.0</td>\n",
       "    </tr>\n",
       "    <tr>\n",
       "      <th>17</th>\n",
       "      <td>829530</td>\n",
       "      <td>0</td>\n",
       "      <td>0</td>\n",
       "      <td>0</td>\n",
       "      <td>0</td>\n",
       "      <td>0</td>\n",
       "      <td>0</td>\n",
       "      <td>0</td>\n",
       "      <td>1</td>\n",
       "      <td>0</td>\n",
       "      <td>...</td>\n",
       "      <td>1.00000</td>\n",
       "      <td>1.000000</td>\n",
       "      <td>1.0</td>\n",
       "      <td>0.0</td>\n",
       "      <td>0.0</td>\n",
       "      <td>1.0</td>\n",
       "      <td>1.0</td>\n",
       "      <td>0.0</td>\n",
       "      <td>0.0</td>\n",
       "      <td>0.0</td>\n",
       "    </tr>\n",
       "    <tr>\n",
       "      <th>18</th>\n",
       "      <td>829531</td>\n",
       "      <td>0</td>\n",
       "      <td>0</td>\n",
       "      <td>0</td>\n",
       "      <td>0</td>\n",
       "      <td>0</td>\n",
       "      <td>0</td>\n",
       "      <td>0</td>\n",
       "      <td>0</td>\n",
       "      <td>0</td>\n",
       "      <td>...</td>\n",
       "      <td>1.00000</td>\n",
       "      <td>1.000000</td>\n",
       "      <td>0.0</td>\n",
       "      <td>0.0</td>\n",
       "      <td>0.0</td>\n",
       "      <td>0.0</td>\n",
       "      <td>1.0</td>\n",
       "      <td>0.0</td>\n",
       "      <td>0.0</td>\n",
       "      <td>0.0</td>\n",
       "    </tr>\n",
       "    <tr>\n",
       "      <th>19</th>\n",
       "      <td>829532</td>\n",
       "      <td>0</td>\n",
       "      <td>0</td>\n",
       "      <td>1</td>\n",
       "      <td>0</td>\n",
       "      <td>0</td>\n",
       "      <td>0</td>\n",
       "      <td>2</td>\n",
       "      <td>0</td>\n",
       "      <td>0</td>\n",
       "      <td>...</td>\n",
       "      <td>0.00000</td>\n",
       "      <td>1.000000</td>\n",
       "      <td>0.0</td>\n",
       "      <td>0.0</td>\n",
       "      <td>0.0</td>\n",
       "      <td>0.0</td>\n",
       "      <td>0.0</td>\n",
       "      <td>0.0</td>\n",
       "      <td>0.0</td>\n",
       "      <td>0.0</td>\n",
       "    </tr>\n",
       "    <tr>\n",
       "      <th>20</th>\n",
       "      <td>829533</td>\n",
       "      <td>0</td>\n",
       "      <td>0</td>\n",
       "      <td>0</td>\n",
       "      <td>0</td>\n",
       "      <td>0</td>\n",
       "      <td>0</td>\n",
       "      <td>0</td>\n",
       "      <td>0</td>\n",
       "      <td>0</td>\n",
       "      <td>...</td>\n",
       "      <td>0.00000</td>\n",
       "      <td>0.000000</td>\n",
       "      <td>0.0</td>\n",
       "      <td>0.0</td>\n",
       "      <td>0.0</td>\n",
       "      <td>0.0</td>\n",
       "      <td>0.0</td>\n",
       "      <td>0.0</td>\n",
       "      <td>0.0</td>\n",
       "      <td>0.0</td>\n",
       "    </tr>\n",
       "    <tr>\n",
       "      <th>21</th>\n",
       "      <td>829534</td>\n",
       "      <td>0</td>\n",
       "      <td>0</td>\n",
       "      <td>0</td>\n",
       "      <td>0</td>\n",
       "      <td>0</td>\n",
       "      <td>0</td>\n",
       "      <td>0</td>\n",
       "      <td>0</td>\n",
       "      <td>0</td>\n",
       "      <td>...</td>\n",
       "      <td>1.00000</td>\n",
       "      <td>1.000000</td>\n",
       "      <td>1.0</td>\n",
       "      <td>0.0</td>\n",
       "      <td>0.0</td>\n",
       "      <td>0.0</td>\n",
       "      <td>1.0</td>\n",
       "      <td>0.0</td>\n",
       "      <td>0.0</td>\n",
       "      <td>0.0</td>\n",
       "    </tr>\n",
       "    <tr>\n",
       "      <th>22</th>\n",
       "      <td>829535</td>\n",
       "      <td>0</td>\n",
       "      <td>0</td>\n",
       "      <td>0</td>\n",
       "      <td>0</td>\n",
       "      <td>0</td>\n",
       "      <td>0</td>\n",
       "      <td>1</td>\n",
       "      <td>1</td>\n",
       "      <td>0</td>\n",
       "      <td>...</td>\n",
       "      <td>1.00000</td>\n",
       "      <td>1.000000</td>\n",
       "      <td>0.0</td>\n",
       "      <td>0.0</td>\n",
       "      <td>0.0</td>\n",
       "      <td>0.0</td>\n",
       "      <td>1.0</td>\n",
       "      <td>0.0</td>\n",
       "      <td>0.0</td>\n",
       "      <td>0.0</td>\n",
       "    </tr>\n",
       "    <tr>\n",
       "      <th>23</th>\n",
       "      <td>829536</td>\n",
       "      <td>0</td>\n",
       "      <td>0</td>\n",
       "      <td>0</td>\n",
       "      <td>0</td>\n",
       "      <td>0</td>\n",
       "      <td>0</td>\n",
       "      <td>0</td>\n",
       "      <td>0</td>\n",
       "      <td>0</td>\n",
       "      <td>...</td>\n",
       "      <td>1.00000</td>\n",
       "      <td>0.000000</td>\n",
       "      <td>0.0</td>\n",
       "      <td>0.0</td>\n",
       "      <td>0.0</td>\n",
       "      <td>0.0</td>\n",
       "      <td>0.0</td>\n",
       "      <td>0.0</td>\n",
       "      <td>0.0</td>\n",
       "      <td>0.0</td>\n",
       "    </tr>\n",
       "    <tr>\n",
       "      <th>24</th>\n",
       "      <td>829537</td>\n",
       "      <td>0</td>\n",
       "      <td>0</td>\n",
       "      <td>0</td>\n",
       "      <td>0</td>\n",
       "      <td>0</td>\n",
       "      <td>0</td>\n",
       "      <td>0</td>\n",
       "      <td>0</td>\n",
       "      <td>0</td>\n",
       "      <td>...</td>\n",
       "      <td>1.00000</td>\n",
       "      <td>1.000000</td>\n",
       "      <td>0.0</td>\n",
       "      <td>0.0</td>\n",
       "      <td>0.0</td>\n",
       "      <td>0.0</td>\n",
       "      <td>0.0</td>\n",
       "      <td>0.0</td>\n",
       "      <td>0.0</td>\n",
       "      <td>0.0</td>\n",
       "    </tr>\n",
       "    <tr>\n",
       "      <th>25</th>\n",
       "      <td>829538</td>\n",
       "      <td>0</td>\n",
       "      <td>1</td>\n",
       "      <td>0</td>\n",
       "      <td>0</td>\n",
       "      <td>1</td>\n",
       "      <td>0</td>\n",
       "      <td>0</td>\n",
       "      <td>0</td>\n",
       "      <td>0</td>\n",
       "      <td>...</td>\n",
       "      <td>0.00000</td>\n",
       "      <td>0.000000</td>\n",
       "      <td>0.0</td>\n",
       "      <td>0.0</td>\n",
       "      <td>0.0</td>\n",
       "      <td>0.0</td>\n",
       "      <td>0.0</td>\n",
       "      <td>0.0</td>\n",
       "      <td>0.0</td>\n",
       "      <td>0.0</td>\n",
       "    </tr>\n",
       "    <tr>\n",
       "      <th>26</th>\n",
       "      <td>829539</td>\n",
       "      <td>0</td>\n",
       "      <td>0</td>\n",
       "      <td>0</td>\n",
       "      <td>0</td>\n",
       "      <td>0</td>\n",
       "      <td>0</td>\n",
       "      <td>0</td>\n",
       "      <td>0</td>\n",
       "      <td>0</td>\n",
       "      <td>...</td>\n",
       "      <td>0.00000</td>\n",
       "      <td>1.000000</td>\n",
       "      <td>0.0</td>\n",
       "      <td>0.0</td>\n",
       "      <td>0.0</td>\n",
       "      <td>0.0</td>\n",
       "      <td>0.0</td>\n",
       "      <td>0.0</td>\n",
       "      <td>0.0</td>\n",
       "      <td>0.0</td>\n",
       "    </tr>\n",
       "    <tr>\n",
       "      <th>27</th>\n",
       "      <td>829540</td>\n",
       "      <td>0</td>\n",
       "      <td>0</td>\n",
       "      <td>0</td>\n",
       "      <td>0</td>\n",
       "      <td>0</td>\n",
       "      <td>2</td>\n",
       "      <td>0</td>\n",
       "      <td>1</td>\n",
       "      <td>0</td>\n",
       "      <td>...</td>\n",
       "      <td>0.00000</td>\n",
       "      <td>0.000000</td>\n",
       "      <td>1.0</td>\n",
       "      <td>0.0</td>\n",
       "      <td>0.0</td>\n",
       "      <td>0.0</td>\n",
       "      <td>0.0</td>\n",
       "      <td>0.0</td>\n",
       "      <td>0.0</td>\n",
       "      <td>0.0</td>\n",
       "    </tr>\n",
       "    <tr>\n",
       "      <th>28</th>\n",
       "      <td>829541</td>\n",
       "      <td>0</td>\n",
       "      <td>0</td>\n",
       "      <td>0</td>\n",
       "      <td>0</td>\n",
       "      <td>0</td>\n",
       "      <td>0</td>\n",
       "      <td>0</td>\n",
       "      <td>0</td>\n",
       "      <td>0</td>\n",
       "      <td>...</td>\n",
       "      <td>0.00000</td>\n",
       "      <td>1.000000</td>\n",
       "      <td>0.0</td>\n",
       "      <td>0.0</td>\n",
       "      <td>0.0</td>\n",
       "      <td>0.0</td>\n",
       "      <td>0.0</td>\n",
       "      <td>0.0</td>\n",
       "      <td>0.0</td>\n",
       "      <td>0.0</td>\n",
       "    </tr>\n",
       "    <tr>\n",
       "      <th>29</th>\n",
       "      <td>829542</td>\n",
       "      <td>0</td>\n",
       "      <td>0</td>\n",
       "      <td>0</td>\n",
       "      <td>0</td>\n",
       "      <td>0</td>\n",
       "      <td>0</td>\n",
       "      <td>0</td>\n",
       "      <td>0</td>\n",
       "      <td>0</td>\n",
       "      <td>...</td>\n",
       "      <td>1.00000</td>\n",
       "      <td>0.000000</td>\n",
       "      <td>0.0</td>\n",
       "      <td>0.0</td>\n",
       "      <td>0.0</td>\n",
       "      <td>0.0</td>\n",
       "      <td>0.0</td>\n",
       "      <td>0.0</td>\n",
       "      <td>0.0</td>\n",
       "      <td>0.0</td>\n",
       "    </tr>\n",
       "    <tr>\n",
       "      <th>...</th>\n",
       "      <td>...</td>\n",
       "      <td>...</td>\n",
       "      <td>...</td>\n",
       "      <td>...</td>\n",
       "      <td>...</td>\n",
       "      <td>...</td>\n",
       "      <td>...</td>\n",
       "      <td>...</td>\n",
       "      <td>...</td>\n",
       "      <td>...</td>\n",
       "      <td>...</td>\n",
       "      <td>...</td>\n",
       "      <td>...</td>\n",
       "      <td>...</td>\n",
       "      <td>...</td>\n",
       "      <td>...</td>\n",
       "      <td>...</td>\n",
       "      <td>...</td>\n",
       "      <td>...</td>\n",
       "      <td>...</td>\n",
       "      <td>...</td>\n",
       "    </tr>\n",
       "    <tr>\n",
       "      <th>1490</th>\n",
       "      <td>1190205</td>\n",
       "      <td>0</td>\n",
       "      <td>0</td>\n",
       "      <td>0</td>\n",
       "      <td>0</td>\n",
       "      <td>0</td>\n",
       "      <td>1</td>\n",
       "      <td>0</td>\n",
       "      <td>0</td>\n",
       "      <td>0</td>\n",
       "      <td>...</td>\n",
       "      <td>1.00000</td>\n",
       "      <td>0.000000</td>\n",
       "      <td>0.0</td>\n",
       "      <td>0.0</td>\n",
       "      <td>0.0</td>\n",
       "      <td>0.0</td>\n",
       "      <td>0.0</td>\n",
       "      <td>0.0</td>\n",
       "      <td>0.0</td>\n",
       "      <td>0.0</td>\n",
       "    </tr>\n",
       "    <tr>\n",
       "      <th>1491</th>\n",
       "      <td>1190211</td>\n",
       "      <td>0</td>\n",
       "      <td>0</td>\n",
       "      <td>0</td>\n",
       "      <td>0</td>\n",
       "      <td>0</td>\n",
       "      <td>0</td>\n",
       "      <td>0</td>\n",
       "      <td>0</td>\n",
       "      <td>0</td>\n",
       "      <td>...</td>\n",
       "      <td>1.00000</td>\n",
       "      <td>1.000000</td>\n",
       "      <td>0.0</td>\n",
       "      <td>0.0</td>\n",
       "      <td>0.0</td>\n",
       "      <td>0.0</td>\n",
       "      <td>0.0</td>\n",
       "      <td>0.0</td>\n",
       "      <td>0.0</td>\n",
       "      <td>0.0</td>\n",
       "    </tr>\n",
       "    <tr>\n",
       "      <th>1492</th>\n",
       "      <td>1190239</td>\n",
       "      <td>0</td>\n",
       "      <td>0</td>\n",
       "      <td>0</td>\n",
       "      <td>0</td>\n",
       "      <td>0</td>\n",
       "      <td>0</td>\n",
       "      <td>0</td>\n",
       "      <td>0</td>\n",
       "      <td>0</td>\n",
       "      <td>...</td>\n",
       "      <td>1.00000</td>\n",
       "      <td>1.000000</td>\n",
       "      <td>1.0</td>\n",
       "      <td>0.0</td>\n",
       "      <td>0.0</td>\n",
       "      <td>0.0</td>\n",
       "      <td>1.0</td>\n",
       "      <td>0.0</td>\n",
       "      <td>0.0</td>\n",
       "      <td>0.0</td>\n",
       "    </tr>\n",
       "    <tr>\n",
       "      <th>1493</th>\n",
       "      <td>1190238</td>\n",
       "      <td>0</td>\n",
       "      <td>0</td>\n",
       "      <td>0</td>\n",
       "      <td>0</td>\n",
       "      <td>0</td>\n",
       "      <td>0</td>\n",
       "      <td>1</td>\n",
       "      <td>0</td>\n",
       "      <td>0</td>\n",
       "      <td>...</td>\n",
       "      <td>0.00000</td>\n",
       "      <td>0.000000</td>\n",
       "      <td>0.0</td>\n",
       "      <td>0.0</td>\n",
       "      <td>0.0</td>\n",
       "      <td>1.0</td>\n",
       "      <td>0.0</td>\n",
       "      <td>0.0</td>\n",
       "      <td>0.0</td>\n",
       "      <td>0.0</td>\n",
       "    </tr>\n",
       "    <tr>\n",
       "      <th>1494</th>\n",
       "      <td>1190210</td>\n",
       "      <td>0</td>\n",
       "      <td>0</td>\n",
       "      <td>0</td>\n",
       "      <td>0</td>\n",
       "      <td>0</td>\n",
       "      <td>0</td>\n",
       "      <td>0</td>\n",
       "      <td>0</td>\n",
       "      <td>0</td>\n",
       "      <td>...</td>\n",
       "      <td>1.00000</td>\n",
       "      <td>1.000000</td>\n",
       "      <td>0.0</td>\n",
       "      <td>0.0</td>\n",
       "      <td>0.0</td>\n",
       "      <td>0.0</td>\n",
       "      <td>0.0</td>\n",
       "      <td>0.0</td>\n",
       "      <td>0.0</td>\n",
       "      <td>0.0</td>\n",
       "    </tr>\n",
       "    <tr>\n",
       "      <th>1495</th>\n",
       "      <td>1190204</td>\n",
       "      <td>0</td>\n",
       "      <td>0</td>\n",
       "      <td>0</td>\n",
       "      <td>0</td>\n",
       "      <td>0</td>\n",
       "      <td>0</td>\n",
       "      <td>0</td>\n",
       "      <td>0</td>\n",
       "      <td>0</td>\n",
       "      <td>...</td>\n",
       "      <td>1.00000</td>\n",
       "      <td>1.000000</td>\n",
       "      <td>1.0</td>\n",
       "      <td>0.0</td>\n",
       "      <td>0.0</td>\n",
       "      <td>0.0</td>\n",
       "      <td>1.0</td>\n",
       "      <td>0.0</td>\n",
       "      <td>0.0</td>\n",
       "      <td>1.0</td>\n",
       "    </tr>\n",
       "    <tr>\n",
       "      <th>1496</th>\n",
       "      <td>1190199</td>\n",
       "      <td>0</td>\n",
       "      <td>1</td>\n",
       "      <td>0</td>\n",
       "      <td>0</td>\n",
       "      <td>0</td>\n",
       "      <td>0</td>\n",
       "      <td>0</td>\n",
       "      <td>0</td>\n",
       "      <td>0</td>\n",
       "      <td>...</td>\n",
       "      <td>0.00000</td>\n",
       "      <td>1.000000</td>\n",
       "      <td>0.0</td>\n",
       "      <td>0.0</td>\n",
       "      <td>0.0</td>\n",
       "      <td>0.0</td>\n",
       "      <td>0.0</td>\n",
       "      <td>0.0</td>\n",
       "      <td>0.0</td>\n",
       "      <td>0.0</td>\n",
       "    </tr>\n",
       "    <tr>\n",
       "      <th>1497</th>\n",
       "      <td>1190358</td>\n",
       "      <td>0</td>\n",
       "      <td>0</td>\n",
       "      <td>0</td>\n",
       "      <td>0</td>\n",
       "      <td>1</td>\n",
       "      <td>0</td>\n",
       "      <td>0</td>\n",
       "      <td>0</td>\n",
       "      <td>1</td>\n",
       "      <td>...</td>\n",
       "      <td>1.00000</td>\n",
       "      <td>1.000000</td>\n",
       "      <td>0.0</td>\n",
       "      <td>0.0</td>\n",
       "      <td>0.0</td>\n",
       "      <td>1.0</td>\n",
       "      <td>0.0</td>\n",
       "      <td>0.0</td>\n",
       "      <td>0.0</td>\n",
       "      <td>0.0</td>\n",
       "    </tr>\n",
       "    <tr>\n",
       "      <th>1498</th>\n",
       "      <td>1190402</td>\n",
       "      <td>0</td>\n",
       "      <td>0</td>\n",
       "      <td>0</td>\n",
       "      <td>0</td>\n",
       "      <td>0</td>\n",
       "      <td>0</td>\n",
       "      <td>0</td>\n",
       "      <td>0</td>\n",
       "      <td>0</td>\n",
       "      <td>...</td>\n",
       "      <td>1.70000</td>\n",
       "      <td>1.210153</td>\n",
       "      <td>1.0</td>\n",
       "      <td>0.0</td>\n",
       "      <td>0.0</td>\n",
       "      <td>0.0</td>\n",
       "      <td>1.0</td>\n",
       "      <td>1.0</td>\n",
       "      <td>1.0</td>\n",
       "      <td>0.0</td>\n",
       "    </tr>\n",
       "    <tr>\n",
       "      <th>1499</th>\n",
       "      <td>1190364</td>\n",
       "      <td>0</td>\n",
       "      <td>0</td>\n",
       "      <td>0</td>\n",
       "      <td>0</td>\n",
       "      <td>0</td>\n",
       "      <td>0</td>\n",
       "      <td>0</td>\n",
       "      <td>0</td>\n",
       "      <td>0</td>\n",
       "      <td>...</td>\n",
       "      <td>1.00000</td>\n",
       "      <td>1.027000</td>\n",
       "      <td>0.0</td>\n",
       "      <td>0.0</td>\n",
       "      <td>1.0</td>\n",
       "      <td>1.0</td>\n",
       "      <td>1.0</td>\n",
       "      <td>0.0</td>\n",
       "      <td>0.0</td>\n",
       "      <td>0.0</td>\n",
       "    </tr>\n",
       "    <tr>\n",
       "      <th>1500</th>\n",
       "      <td>1190370</td>\n",
       "      <td>0</td>\n",
       "      <td>0</td>\n",
       "      <td>0</td>\n",
       "      <td>0</td>\n",
       "      <td>0</td>\n",
       "      <td>1</td>\n",
       "      <td>0</td>\n",
       "      <td>0</td>\n",
       "      <td>0</td>\n",
       "      <td>...</td>\n",
       "      <td>1.00000</td>\n",
       "      <td>1.000000</td>\n",
       "      <td>0.0</td>\n",
       "      <td>0.0</td>\n",
       "      <td>0.0</td>\n",
       "      <td>0.0</td>\n",
       "      <td>0.0</td>\n",
       "      <td>0.0</td>\n",
       "      <td>0.0</td>\n",
       "      <td>1.0</td>\n",
       "    </tr>\n",
       "    <tr>\n",
       "      <th>1501</th>\n",
       "      <td>1190416</td>\n",
       "      <td>0</td>\n",
       "      <td>0</td>\n",
       "      <td>0</td>\n",
       "      <td>0</td>\n",
       "      <td>0</td>\n",
       "      <td>0</td>\n",
       "      <td>0</td>\n",
       "      <td>0</td>\n",
       "      <td>0</td>\n",
       "      <td>...</td>\n",
       "      <td>1.06300</td>\n",
       "      <td>1.000000</td>\n",
       "      <td>1.0</td>\n",
       "      <td>0.0</td>\n",
       "      <td>0.0</td>\n",
       "      <td>0.0</td>\n",
       "      <td>1.0</td>\n",
       "      <td>0.0</td>\n",
       "      <td>0.0</td>\n",
       "      <td>0.0</td>\n",
       "    </tr>\n",
       "    <tr>\n",
       "      <th>1502</th>\n",
       "      <td>1190366</td>\n",
       "      <td>0</td>\n",
       "      <td>0</td>\n",
       "      <td>0</td>\n",
       "      <td>0</td>\n",
       "      <td>0</td>\n",
       "      <td>1</td>\n",
       "      <td>0</td>\n",
       "      <td>0</td>\n",
       "      <td>0</td>\n",
       "      <td>...</td>\n",
       "      <td>1.00000</td>\n",
       "      <td>0.000000</td>\n",
       "      <td>0.0</td>\n",
       "      <td>0.0</td>\n",
       "      <td>0.0</td>\n",
       "      <td>2.0</td>\n",
       "      <td>0.0</td>\n",
       "      <td>0.0</td>\n",
       "      <td>0.0</td>\n",
       "      <td>0.0</td>\n",
       "    </tr>\n",
       "    <tr>\n",
       "      <th>1503</th>\n",
       "      <td>1190400</td>\n",
       "      <td>0</td>\n",
       "      <td>0</td>\n",
       "      <td>0</td>\n",
       "      <td>0</td>\n",
       "      <td>0</td>\n",
       "      <td>0</td>\n",
       "      <td>0</td>\n",
       "      <td>0</td>\n",
       "      <td>0</td>\n",
       "      <td>...</td>\n",
       "      <td>1.00000</td>\n",
       "      <td>1.000000</td>\n",
       "      <td>0.0</td>\n",
       "      <td>0.0</td>\n",
       "      <td>0.0</td>\n",
       "      <td>0.0</td>\n",
       "      <td>0.0</td>\n",
       "      <td>0.0</td>\n",
       "      <td>0.0</td>\n",
       "      <td>1.0</td>\n",
       "    </tr>\n",
       "    <tr>\n",
       "      <th>1504</th>\n",
       "      <td>1190414</td>\n",
       "      <td>0</td>\n",
       "      <td>0</td>\n",
       "      <td>0</td>\n",
       "      <td>0</td>\n",
       "      <td>0</td>\n",
       "      <td>0</td>\n",
       "      <td>0</td>\n",
       "      <td>0</td>\n",
       "      <td>0</td>\n",
       "      <td>...</td>\n",
       "      <td>1.00000</td>\n",
       "      <td>1.000000</td>\n",
       "      <td>0.0</td>\n",
       "      <td>0.0</td>\n",
       "      <td>0.0</td>\n",
       "      <td>0.0</td>\n",
       "      <td>1.0</td>\n",
       "      <td>0.0</td>\n",
       "      <td>0.0</td>\n",
       "      <td>0.0</td>\n",
       "    </tr>\n",
       "    <tr>\n",
       "      <th>1505</th>\n",
       "      <td>1190372</td>\n",
       "      <td>0</td>\n",
       "      <td>1</td>\n",
       "      <td>0</td>\n",
       "      <td>0</td>\n",
       "      <td>0</td>\n",
       "      <td>0</td>\n",
       "      <td>0</td>\n",
       "      <td>0</td>\n",
       "      <td>0</td>\n",
       "      <td>...</td>\n",
       "      <td>1.00000</td>\n",
       "      <td>1.063000</td>\n",
       "      <td>1.0</td>\n",
       "      <td>0.0</td>\n",
       "      <td>0.0</td>\n",
       "      <td>0.0</td>\n",
       "      <td>1.0</td>\n",
       "      <td>1.0</td>\n",
       "      <td>0.0</td>\n",
       "      <td>0.0</td>\n",
       "    </tr>\n",
       "    <tr>\n",
       "      <th>1506</th>\n",
       "      <td>1190428</td>\n",
       "      <td>0</td>\n",
       "      <td>0</td>\n",
       "      <td>0</td>\n",
       "      <td>0</td>\n",
       "      <td>0</td>\n",
       "      <td>0</td>\n",
       "      <td>0</td>\n",
       "      <td>1</td>\n",
       "      <td>0</td>\n",
       "      <td>...</td>\n",
       "      <td>1.00000</td>\n",
       "      <td>1.000000</td>\n",
       "      <td>0.0</td>\n",
       "      <td>0.0</td>\n",
       "      <td>0.0</td>\n",
       "      <td>0.0</td>\n",
       "      <td>0.0</td>\n",
       "      <td>0.0</td>\n",
       "      <td>0.0</td>\n",
       "      <td>0.0</td>\n",
       "    </tr>\n",
       "    <tr>\n",
       "      <th>1507</th>\n",
       "      <td>1190399</td>\n",
       "      <td>0</td>\n",
       "      <td>0</td>\n",
       "      <td>0</td>\n",
       "      <td>0</td>\n",
       "      <td>0</td>\n",
       "      <td>0</td>\n",
       "      <td>0</td>\n",
       "      <td>0</td>\n",
       "      <td>0</td>\n",
       "      <td>...</td>\n",
       "      <td>1.00000</td>\n",
       "      <td>1.000000</td>\n",
       "      <td>0.0</td>\n",
       "      <td>0.0</td>\n",
       "      <td>0.0</td>\n",
       "      <td>1.0</td>\n",
       "      <td>1.0</td>\n",
       "      <td>0.0</td>\n",
       "      <td>0.0</td>\n",
       "      <td>0.0</td>\n",
       "    </tr>\n",
       "    <tr>\n",
       "      <th>1508</th>\n",
       "      <td>1190212</td>\n",
       "      <td>0</td>\n",
       "      <td>0</td>\n",
       "      <td>0</td>\n",
       "      <td>0</td>\n",
       "      <td>0</td>\n",
       "      <td>0</td>\n",
       "      <td>0</td>\n",
       "      <td>0</td>\n",
       "      <td>1</td>\n",
       "      <td>...</td>\n",
       "      <td>1.01890</td>\n",
       "      <td>1.000000</td>\n",
       "      <td>1.0</td>\n",
       "      <td>0.0</td>\n",
       "      <td>0.0</td>\n",
       "      <td>1.0</td>\n",
       "      <td>1.0</td>\n",
       "      <td>0.0</td>\n",
       "      <td>0.0</td>\n",
       "      <td>0.0</td>\n",
       "    </tr>\n",
       "    <tr>\n",
       "      <th>1509</th>\n",
       "      <td>1190206</td>\n",
       "      <td>0</td>\n",
       "      <td>0</td>\n",
       "      <td>0</td>\n",
       "      <td>0</td>\n",
       "      <td>0</td>\n",
       "      <td>0</td>\n",
       "      <td>0</td>\n",
       "      <td>0</td>\n",
       "      <td>0</td>\n",
       "      <td>...</td>\n",
       "      <td>1.00000</td>\n",
       "      <td>1.000153</td>\n",
       "      <td>1.0</td>\n",
       "      <td>0.0</td>\n",
       "      <td>0.0</td>\n",
       "      <td>0.0</td>\n",
       "      <td>1.0</td>\n",
       "      <td>0.0</td>\n",
       "      <td>1.0</td>\n",
       "      <td>0.0</td>\n",
       "    </tr>\n",
       "    <tr>\n",
       "      <th>1510</th>\n",
       "      <td>1190548</td>\n",
       "      <td>0</td>\n",
       "      <td>0</td>\n",
       "      <td>0</td>\n",
       "      <td>0</td>\n",
       "      <td>0</td>\n",
       "      <td>0</td>\n",
       "      <td>1</td>\n",
       "      <td>0</td>\n",
       "      <td>0</td>\n",
       "      <td>...</td>\n",
       "      <td>1.00000</td>\n",
       "      <td>1.000000</td>\n",
       "      <td>1.0</td>\n",
       "      <td>0.0</td>\n",
       "      <td>0.0</td>\n",
       "      <td>0.0</td>\n",
       "      <td>1.0</td>\n",
       "      <td>0.0</td>\n",
       "      <td>0.0</td>\n",
       "      <td>0.0</td>\n",
       "    </tr>\n",
       "    <tr>\n",
       "      <th>1511</th>\n",
       "      <td>1190549</td>\n",
       "      <td>0</td>\n",
       "      <td>0</td>\n",
       "      <td>0</td>\n",
       "      <td>0</td>\n",
       "      <td>0</td>\n",
       "      <td>1</td>\n",
       "      <td>0</td>\n",
       "      <td>0</td>\n",
       "      <td>1</td>\n",
       "      <td>...</td>\n",
       "      <td>1.00000</td>\n",
       "      <td>1.000000</td>\n",
       "      <td>0.0</td>\n",
       "      <td>0.0</td>\n",
       "      <td>0.0</td>\n",
       "      <td>0.0</td>\n",
       "      <td>1.0</td>\n",
       "      <td>1.0</td>\n",
       "      <td>0.0</td>\n",
       "      <td>0.0</td>\n",
       "    </tr>\n",
       "    <tr>\n",
       "      <th>1512</th>\n",
       "      <td>1190207</td>\n",
       "      <td>0</td>\n",
       "      <td>0</td>\n",
       "      <td>0</td>\n",
       "      <td>0</td>\n",
       "      <td>0</td>\n",
       "      <td>0</td>\n",
       "      <td>0</td>\n",
       "      <td>0</td>\n",
       "      <td>0</td>\n",
       "      <td>...</td>\n",
       "      <td>1.00000</td>\n",
       "      <td>1.000000</td>\n",
       "      <td>0.0</td>\n",
       "      <td>0.0</td>\n",
       "      <td>0.0</td>\n",
       "      <td>0.0</td>\n",
       "      <td>0.0</td>\n",
       "      <td>0.0</td>\n",
       "      <td>0.0</td>\n",
       "      <td>0.0</td>\n",
       "    </tr>\n",
       "    <tr>\n",
       "      <th>1513</th>\n",
       "      <td>1190213</td>\n",
       "      <td>0</td>\n",
       "      <td>0</td>\n",
       "      <td>0</td>\n",
       "      <td>0</td>\n",
       "      <td>0</td>\n",
       "      <td>0</td>\n",
       "      <td>0</td>\n",
       "      <td>0</td>\n",
       "      <td>0</td>\n",
       "      <td>...</td>\n",
       "      <td>1.00000</td>\n",
       "      <td>1.000000</td>\n",
       "      <td>1.0</td>\n",
       "      <td>0.0</td>\n",
       "      <td>0.0</td>\n",
       "      <td>0.0</td>\n",
       "      <td>0.0</td>\n",
       "      <td>0.0</td>\n",
       "      <td>0.0</td>\n",
       "      <td>0.0</td>\n",
       "    </tr>\n",
       "    <tr>\n",
       "      <th>1514</th>\n",
       "      <td>1190398</td>\n",
       "      <td>0</td>\n",
       "      <td>0</td>\n",
       "      <td>0</td>\n",
       "      <td>0</td>\n",
       "      <td>0</td>\n",
       "      <td>0</td>\n",
       "      <td>0</td>\n",
       "      <td>0</td>\n",
       "      <td>0</td>\n",
       "      <td>...</td>\n",
       "      <td>1.00000</td>\n",
       "      <td>1.000000</td>\n",
       "      <td>1.0</td>\n",
       "      <td>0.0</td>\n",
       "      <td>0.0</td>\n",
       "      <td>0.0</td>\n",
       "      <td>0.0</td>\n",
       "      <td>0.0</td>\n",
       "      <td>0.0</td>\n",
       "      <td>0.0</td>\n",
       "    </tr>\n",
       "    <tr>\n",
       "      <th>1515</th>\n",
       "      <td>1190429</td>\n",
       "      <td>0</td>\n",
       "      <td>0</td>\n",
       "      <td>0</td>\n",
       "      <td>0</td>\n",
       "      <td>0</td>\n",
       "      <td>0</td>\n",
       "      <td>0</td>\n",
       "      <td>0</td>\n",
       "      <td>4</td>\n",
       "      <td>...</td>\n",
       "      <td>1.00243</td>\n",
       "      <td>1.000000</td>\n",
       "      <td>1.0</td>\n",
       "      <td>0.0</td>\n",
       "      <td>0.0</td>\n",
       "      <td>0.0</td>\n",
       "      <td>1.0</td>\n",
       "      <td>0.0</td>\n",
       "      <td>1.0</td>\n",
       "      <td>0.0</td>\n",
       "    </tr>\n",
       "    <tr>\n",
       "      <th>1516</th>\n",
       "      <td>1190415</td>\n",
       "      <td>0</td>\n",
       "      <td>0</td>\n",
       "      <td>0</td>\n",
       "      <td>0</td>\n",
       "      <td>0</td>\n",
       "      <td>0</td>\n",
       "      <td>0</td>\n",
       "      <td>0</td>\n",
       "      <td>1</td>\n",
       "      <td>...</td>\n",
       "      <td>1.00000</td>\n",
       "      <td>1.000000</td>\n",
       "      <td>0.0</td>\n",
       "      <td>0.0</td>\n",
       "      <td>0.0</td>\n",
       "      <td>0.0</td>\n",
       "      <td>0.0</td>\n",
       "      <td>0.0</td>\n",
       "      <td>0.0</td>\n",
       "      <td>0.0</td>\n",
       "    </tr>\n",
       "    <tr>\n",
       "      <th>1517</th>\n",
       "      <td>1190373</td>\n",
       "      <td>0</td>\n",
       "      <td>1</td>\n",
       "      <td>0</td>\n",
       "      <td>0</td>\n",
       "      <td>0</td>\n",
       "      <td>0</td>\n",
       "      <td>1</td>\n",
       "      <td>0</td>\n",
       "      <td>0</td>\n",
       "      <td>...</td>\n",
       "      <td>1.00243</td>\n",
       "      <td>1.000000</td>\n",
       "      <td>1.0</td>\n",
       "      <td>0.0</td>\n",
       "      <td>0.0</td>\n",
       "      <td>0.0</td>\n",
       "      <td>1.0</td>\n",
       "      <td>0.0</td>\n",
       "      <td>1.0</td>\n",
       "      <td>0.0</td>\n",
       "    </tr>\n",
       "    <tr>\n",
       "      <th>1518</th>\n",
       "      <td>1190367</td>\n",
       "      <td>0</td>\n",
       "      <td>0</td>\n",
       "      <td>0</td>\n",
       "      <td>0</td>\n",
       "      <td>0</td>\n",
       "      <td>0</td>\n",
       "      <td>0</td>\n",
       "      <td>0</td>\n",
       "      <td>0</td>\n",
       "      <td>...</td>\n",
       "      <td>1.00000</td>\n",
       "      <td>1.000000</td>\n",
       "      <td>0.0</td>\n",
       "      <td>0.0</td>\n",
       "      <td>0.0</td>\n",
       "      <td>0.0</td>\n",
       "      <td>0.0</td>\n",
       "      <td>0.0</td>\n",
       "      <td>0.0</td>\n",
       "      <td>0.0</td>\n",
       "    </tr>\n",
       "    <tr>\n",
       "      <th>1519</th>\n",
       "      <td>1190401</td>\n",
       "      <td>0</td>\n",
       "      <td>0</td>\n",
       "      <td>0</td>\n",
       "      <td>0</td>\n",
       "      <td>0</td>\n",
       "      <td>0</td>\n",
       "      <td>0</td>\n",
       "      <td>0</td>\n",
       "      <td>0</td>\n",
       "      <td>...</td>\n",
       "      <td>1.00000</td>\n",
       "      <td>1.027000</td>\n",
       "      <td>0.0</td>\n",
       "      <td>0.0</td>\n",
       "      <td>1.0</td>\n",
       "      <td>1.0</td>\n",
       "      <td>1.0</td>\n",
       "      <td>0.0</td>\n",
       "      <td>0.0</td>\n",
       "      <td>0.0</td>\n",
       "    </tr>\n",
       "  </tbody>\n",
       "</table>\n",
       "<p>1520 rows × 881 columns</p>\n",
       "</div>"
      ],
      "text/plain": [
       "      match_id  home_player_1_match_goal  home_player_2_match_goal  \\\n",
       "0       829513                         0                         0   \n",
       "1       829514                         0                         0   \n",
       "2       829515                         0                         0   \n",
       "3       829516                         0                         0   \n",
       "4       829517                         0                         0   \n",
       "5       829518                         0                         0   \n",
       "6       829519                         0                         0   \n",
       "7       829520                         0                         0   \n",
       "8       829521                         0                         0   \n",
       "9       829522                         0                         0   \n",
       "10      829523                         0                         0   \n",
       "11      829524                         0                         0   \n",
       "12      829525                         0                         0   \n",
       "13      829526                         0                         0   \n",
       "14      829527                         0                         0   \n",
       "15      829528                         0                         0   \n",
       "16      829529                         0                         0   \n",
       "17      829530                         0                         0   \n",
       "18      829531                         0                         0   \n",
       "19      829532                         0                         0   \n",
       "20      829533                         0                         0   \n",
       "21      829534                         0                         0   \n",
       "22      829535                         0                         0   \n",
       "23      829536                         0                         0   \n",
       "24      829537                         0                         0   \n",
       "25      829538                         0                         1   \n",
       "26      829539                         0                         0   \n",
       "27      829540                         0                         0   \n",
       "28      829541                         0                         0   \n",
       "29      829542                         0                         0   \n",
       "...        ...                       ...                       ...   \n",
       "1490   1190205                         0                         0   \n",
       "1491   1190211                         0                         0   \n",
       "1492   1190239                         0                         0   \n",
       "1493   1190238                         0                         0   \n",
       "1494   1190210                         0                         0   \n",
       "1495   1190204                         0                         0   \n",
       "1496   1190199                         0                         1   \n",
       "1497   1190358                         0                         0   \n",
       "1498   1190402                         0                         0   \n",
       "1499   1190364                         0                         0   \n",
       "1500   1190370                         0                         0   \n",
       "1501   1190416                         0                         0   \n",
       "1502   1190366                         0                         0   \n",
       "1503   1190400                         0                         0   \n",
       "1504   1190414                         0                         0   \n",
       "1505   1190372                         0                         1   \n",
       "1506   1190428                         0                         0   \n",
       "1507   1190399                         0                         0   \n",
       "1508   1190212                         0                         0   \n",
       "1509   1190206                         0                         0   \n",
       "1510   1190548                         0                         0   \n",
       "1511   1190549                         0                         0   \n",
       "1512   1190207                         0                         0   \n",
       "1513   1190213                         0                         0   \n",
       "1514   1190398                         0                         0   \n",
       "1515   1190429                         0                         0   \n",
       "1516   1190415                         0                         0   \n",
       "1517   1190373                         0                         1   \n",
       "1518   1190367                         0                         0   \n",
       "1519   1190401                         0                         0   \n",
       "\n",
       "      home_player_3_match_goal  home_player_4_match_goal  \\\n",
       "0                            0                         0   \n",
       "1                            0                         0   \n",
       "2                            0                         0   \n",
       "3                            0                         0   \n",
       "4                            0                         0   \n",
       "5                            0                         0   \n",
       "6                            0                         0   \n",
       "7                            0                         0   \n",
       "8                            0                         0   \n",
       "9                            0                         0   \n",
       "10                           0                         0   \n",
       "11                           0                         0   \n",
       "12                           0                         0   \n",
       "13                           1                         0   \n",
       "14                           0                         0   \n",
       "15                           0                         0   \n",
       "16                           0                         0   \n",
       "17                           0                         0   \n",
       "18                           0                         0   \n",
       "19                           1                         0   \n",
       "20                           0                         0   \n",
       "21                           0                         0   \n",
       "22                           0                         0   \n",
       "23                           0                         0   \n",
       "24                           0                         0   \n",
       "25                           0                         0   \n",
       "26                           0                         0   \n",
       "27                           0                         0   \n",
       "28                           0                         0   \n",
       "29                           0                         0   \n",
       "...                        ...                       ...   \n",
       "1490                         0                         0   \n",
       "1491                         0                         0   \n",
       "1492                         0                         0   \n",
       "1493                         0                         0   \n",
       "1494                         0                         0   \n",
       "1495                         0                         0   \n",
       "1496                         0                         0   \n",
       "1497                         0                         0   \n",
       "1498                         0                         0   \n",
       "1499                         0                         0   \n",
       "1500                         0                         0   \n",
       "1501                         0                         0   \n",
       "1502                         0                         0   \n",
       "1503                         0                         0   \n",
       "1504                         0                         0   \n",
       "1505                         0                         0   \n",
       "1506                         0                         0   \n",
       "1507                         0                         0   \n",
       "1508                         0                         0   \n",
       "1509                         0                         0   \n",
       "1510                         0                         0   \n",
       "1511                         0                         0   \n",
       "1512                         0                         0   \n",
       "1513                         0                         0   \n",
       "1514                         0                         0   \n",
       "1515                         0                         0   \n",
       "1516                         0                         0   \n",
       "1517                         0                         0   \n",
       "1518                         0                         0   \n",
       "1519                         0                         0   \n",
       "\n",
       "      home_player_5_match_goal  home_player_6_match_goal  \\\n",
       "0                            1                         0   \n",
       "1                            0                         1   \n",
       "2                            0                         0   \n",
       "3                            0                         0   \n",
       "4                            0                         0   \n",
       "5                            0                         0   \n",
       "6                            0                         0   \n",
       "7                            0                         0   \n",
       "8                            0                         0   \n",
       "9                            0                         0   \n",
       "10                           0                         0   \n",
       "11                           0                         0   \n",
       "12                           0                         0   \n",
       "13                           0                         1   \n",
       "14                           0                         0   \n",
       "15                           0                         0   \n",
       "16                           0                         0   \n",
       "17                           0                         0   \n",
       "18                           0                         0   \n",
       "19                           0                         0   \n",
       "20                           0                         0   \n",
       "21                           0                         0   \n",
       "22                           0                         0   \n",
       "23                           0                         0   \n",
       "24                           0                         0   \n",
       "25                           1                         0   \n",
       "26                           0                         0   \n",
       "27                           0                         2   \n",
       "28                           0                         0   \n",
       "29                           0                         0   \n",
       "...                        ...                       ...   \n",
       "1490                         0                         1   \n",
       "1491                         0                         0   \n",
       "1492                         0                         0   \n",
       "1493                         0                         0   \n",
       "1494                         0                         0   \n",
       "1495                         0                         0   \n",
       "1496                         0                         0   \n",
       "1497                         1                         0   \n",
       "1498                         0                         0   \n",
       "1499                         0                         0   \n",
       "1500                         0                         1   \n",
       "1501                         0                         0   \n",
       "1502                         0                         1   \n",
       "1503                         0                         0   \n",
       "1504                         0                         0   \n",
       "1505                         0                         0   \n",
       "1506                         0                         0   \n",
       "1507                         0                         0   \n",
       "1508                         0                         0   \n",
       "1509                         0                         0   \n",
       "1510                         0                         0   \n",
       "1511                         0                         1   \n",
       "1512                         0                         0   \n",
       "1513                         0                         0   \n",
       "1514                         0                         0   \n",
       "1515                         0                         0   \n",
       "1516                         0                         0   \n",
       "1517                         0                         0   \n",
       "1518                         0                         0   \n",
       "1519                         0                         0   \n",
       "\n",
       "      home_player_7_match_goal  home_player_8_match_goal  \\\n",
       "0                            0                         0   \n",
       "1                            0                         0   \n",
       "2                            0                         0   \n",
       "3                            0                         0   \n",
       "4                            0                         0   \n",
       "5                            0                         0   \n",
       "6                            0                         0   \n",
       "7                            0                         0   \n",
       "8                            0                         0   \n",
       "9                            0                         0   \n",
       "10                           0                         0   \n",
       "11                           0                         0   \n",
       "12                           0                         0   \n",
       "13                           0                         0   \n",
       "14                           0                         0   \n",
       "15                           0                         0   \n",
       "16                           0                         0   \n",
       "17                           0                         1   \n",
       "18                           0                         0   \n",
       "19                           2                         0   \n",
       "20                           0                         0   \n",
       "21                           0                         0   \n",
       "22                           1                         1   \n",
       "23                           0                         0   \n",
       "24                           0                         0   \n",
       "25                           0                         0   \n",
       "26                           0                         0   \n",
       "27                           0                         1   \n",
       "28                           0                         0   \n",
       "29                           0                         0   \n",
       "...                        ...                       ...   \n",
       "1490                         0                         0   \n",
       "1491                         0                         0   \n",
       "1492                         0                         0   \n",
       "1493                         1                         0   \n",
       "1494                         0                         0   \n",
       "1495                         0                         0   \n",
       "1496                         0                         0   \n",
       "1497                         0                         0   \n",
       "1498                         0                         0   \n",
       "1499                         0                         0   \n",
       "1500                         0                         0   \n",
       "1501                         0                         0   \n",
       "1502                         0                         0   \n",
       "1503                         0                         0   \n",
       "1504                         0                         0   \n",
       "1505                         0                         0   \n",
       "1506                         0                         1   \n",
       "1507                         0                         0   \n",
       "1508                         0                         0   \n",
       "1509                         0                         0   \n",
       "1510                         1                         0   \n",
       "1511                         0                         0   \n",
       "1512                         0                         0   \n",
       "1513                         0                         0   \n",
       "1514                         0                         0   \n",
       "1515                         0                         0   \n",
       "1516                         0                         0   \n",
       "1517                         1                         0   \n",
       "1518                         0                         0   \n",
       "1519                         0                         0   \n",
       "\n",
       "      home_player_9_match_goal             ...               \\\n",
       "0                            1             ...                \n",
       "1                            0             ...                \n",
       "2                            0             ...                \n",
       "3                            1             ...                \n",
       "4                            1             ...                \n",
       "5                            0             ...                \n",
       "6                            0             ...                \n",
       "7                            0             ...                \n",
       "8                            0             ...                \n",
       "9                            0             ...                \n",
       "10                           0             ...                \n",
       "11                           0             ...                \n",
       "12                           0             ...                \n",
       "13                           0             ...                \n",
       "14                           0             ...                \n",
       "15                           0             ...                \n",
       "16                           0             ...                \n",
       "17                           0             ...                \n",
       "18                           0             ...                \n",
       "19                           0             ...                \n",
       "20                           0             ...                \n",
       "21                           0             ...                \n",
       "22                           0             ...                \n",
       "23                           0             ...                \n",
       "24                           0             ...                \n",
       "25                           0             ...                \n",
       "26                           0             ...                \n",
       "27                           0             ...                \n",
       "28                           0             ...                \n",
       "29                           0             ...                \n",
       "...                        ...             ...                \n",
       "1490                         0             ...                \n",
       "1491                         0             ...                \n",
       "1492                         0             ...                \n",
       "1493                         0             ...                \n",
       "1494                         0             ...                \n",
       "1495                         0             ...                \n",
       "1496                         0             ...                \n",
       "1497                         1             ...                \n",
       "1498                         0             ...                \n",
       "1499                         0             ...                \n",
       "1500                         0             ...                \n",
       "1501                         0             ...                \n",
       "1502                         0             ...                \n",
       "1503                         0             ...                \n",
       "1504                         0             ...                \n",
       "1505                         0             ...                \n",
       "1506                         0             ...                \n",
       "1507                         0             ...                \n",
       "1508                         1             ...                \n",
       "1509                         0             ...                \n",
       "1510                         0             ...                \n",
       "1511                         1             ...                \n",
       "1512                         0             ...                \n",
       "1513                         0             ...                \n",
       "1514                         0             ...                \n",
       "1515                         4             ...                \n",
       "1516                         1             ...                \n",
       "1517                         0             ...                \n",
       "1518                         0             ...                \n",
       "1519                         0             ...                \n",
       "\n",
       "      away_player_11_six_yard_block  away_player_11_post_scoring_att  \\\n",
       "0                           1.00000                         0.000000   \n",
       "1                           1.00000                         1.000000   \n",
       "2                           1.00000                         1.000000   \n",
       "3                           0.00000                         1.000000   \n",
       "4                           1.00000                         1.000000   \n",
       "5                           0.00000                         0.000000   \n",
       "6                           0.00000                         0.000000   \n",
       "7                           1.00000                         1.000000   \n",
       "8                           0.00000                         1.000000   \n",
       "9                           1.00000                         0.000000   \n",
       "10                          1.00000                         0.000000   \n",
       "11                          2.00000                         1.000000   \n",
       "12                          0.00000                         0.000000   \n",
       "13                          1.00000                         1.000000   \n",
       "14                          1.00000                         1.000000   \n",
       "15                          1.00000                         2.000000   \n",
       "16                          1.00000                         0.000000   \n",
       "17                          1.00000                         1.000000   \n",
       "18                          1.00000                         1.000000   \n",
       "19                          0.00000                         1.000000   \n",
       "20                          0.00000                         0.000000   \n",
       "21                          1.00000                         1.000000   \n",
       "22                          1.00000                         1.000000   \n",
       "23                          1.00000                         0.000000   \n",
       "24                          1.00000                         1.000000   \n",
       "25                          0.00000                         0.000000   \n",
       "26                          0.00000                         1.000000   \n",
       "27                          0.00000                         0.000000   \n",
       "28                          0.00000                         1.000000   \n",
       "29                          1.00000                         0.000000   \n",
       "...                             ...                              ...   \n",
       "1490                        1.00000                         0.000000   \n",
       "1491                        1.00000                         1.000000   \n",
       "1492                        1.00000                         1.000000   \n",
       "1493                        0.00000                         0.000000   \n",
       "1494                        1.00000                         1.000000   \n",
       "1495                        1.00000                         1.000000   \n",
       "1496                        0.00000                         1.000000   \n",
       "1497                        1.00000                         1.000000   \n",
       "1498                        1.70000                         1.210153   \n",
       "1499                        1.00000                         1.027000   \n",
       "1500                        1.00000                         1.000000   \n",
       "1501                        1.06300                         1.000000   \n",
       "1502                        1.00000                         0.000000   \n",
       "1503                        1.00000                         1.000000   \n",
       "1504                        1.00000                         1.000000   \n",
       "1505                        1.00000                         1.063000   \n",
       "1506                        1.00000                         1.000000   \n",
       "1507                        1.00000                         1.000000   \n",
       "1508                        1.01890                         1.000000   \n",
       "1509                        1.00000                         1.000153   \n",
       "1510                        1.00000                         1.000000   \n",
       "1511                        1.00000                         1.000000   \n",
       "1512                        1.00000                         1.000000   \n",
       "1513                        1.00000                         1.000000   \n",
       "1514                        1.00000                         1.000000   \n",
       "1515                        1.00243                         1.000000   \n",
       "1516                        1.00000                         1.000000   \n",
       "1517                        1.00243                         1.000000   \n",
       "1518                        1.00000                         1.000000   \n",
       "1519                        1.00000                         1.027000   \n",
       "\n",
       "      away_player_11_att_pen_target  away_player_11_penalty_save  \\\n",
       "0                               0.0                          0.0   \n",
       "1                               0.0                          0.0   \n",
       "2                               0.0                          0.0   \n",
       "3                               0.0                          0.0   \n",
       "4                               0.0                          0.0   \n",
       "5                               0.0                          0.0   \n",
       "6                               0.0                          0.0   \n",
       "7                               0.0                          0.0   \n",
       "8                               0.0                          0.0   \n",
       "9                               0.0                          0.0   \n",
       "10                              0.0                          0.0   \n",
       "11                              1.0                          0.0   \n",
       "12                              0.0                          0.0   \n",
       "13                              1.0                          0.0   \n",
       "14                              0.0                          0.0   \n",
       "15                              0.0                          0.0   \n",
       "16                              0.0                          0.0   \n",
       "17                              1.0                          0.0   \n",
       "18                              0.0                          0.0   \n",
       "19                              0.0                          0.0   \n",
       "20                              0.0                          0.0   \n",
       "21                              1.0                          0.0   \n",
       "22                              0.0                          0.0   \n",
       "23                              0.0                          0.0   \n",
       "24                              0.0                          0.0   \n",
       "25                              0.0                          0.0   \n",
       "26                              0.0                          0.0   \n",
       "27                              1.0                          0.0   \n",
       "28                              0.0                          0.0   \n",
       "29                              0.0                          0.0   \n",
       "...                             ...                          ...   \n",
       "1490                            0.0                          0.0   \n",
       "1491                            0.0                          0.0   \n",
       "1492                            1.0                          0.0   \n",
       "1493                            0.0                          0.0   \n",
       "1494                            0.0                          0.0   \n",
       "1495                            1.0                          0.0   \n",
       "1496                            0.0                          0.0   \n",
       "1497                            0.0                          0.0   \n",
       "1498                            1.0                          0.0   \n",
       "1499                            0.0                          0.0   \n",
       "1500                            0.0                          0.0   \n",
       "1501                            1.0                          0.0   \n",
       "1502                            0.0                          0.0   \n",
       "1503                            0.0                          0.0   \n",
       "1504                            0.0                          0.0   \n",
       "1505                            1.0                          0.0   \n",
       "1506                            0.0                          0.0   \n",
       "1507                            0.0                          0.0   \n",
       "1508                            1.0                          0.0   \n",
       "1509                            1.0                          0.0   \n",
       "1510                            1.0                          0.0   \n",
       "1511                            0.0                          0.0   \n",
       "1512                            0.0                          0.0   \n",
       "1513                            1.0                          0.0   \n",
       "1514                            1.0                          0.0   \n",
       "1515                            1.0                          0.0   \n",
       "1516                            0.0                          0.0   \n",
       "1517                            1.0                          0.0   \n",
       "1518                            0.0                          0.0   \n",
       "1519                            0.0                          0.0   \n",
       "\n",
       "      away_player_11_penalty_conceded  away_player_11_clearance_off_line  \\\n",
       "0                                 0.0                                0.0   \n",
       "1                                 0.0                                0.0   \n",
       "2                                 0.0                                0.0   \n",
       "3                                 1.0                                0.0   \n",
       "4                                 0.0                                0.0   \n",
       "5                                 0.0                                0.0   \n",
       "6                                 0.0                                0.0   \n",
       "7                                 0.0                                0.0   \n",
       "8                                 0.0                                0.0   \n",
       "9                                 0.0                                0.0   \n",
       "10                                1.0                                0.0   \n",
       "11                                1.0                                1.0   \n",
       "12                                0.0                                0.0   \n",
       "13                                0.0                                0.0   \n",
       "14                                1.0                                0.0   \n",
       "15                                0.0                                1.0   \n",
       "16                                0.0                                0.0   \n",
       "17                                0.0                                1.0   \n",
       "18                                0.0                                0.0   \n",
       "19                                0.0                                0.0   \n",
       "20                                0.0                                0.0   \n",
       "21                                0.0                                0.0   \n",
       "22                                0.0                                0.0   \n",
       "23                                0.0                                0.0   \n",
       "24                                0.0                                0.0   \n",
       "25                                0.0                                0.0   \n",
       "26                                0.0                                0.0   \n",
       "27                                0.0                                0.0   \n",
       "28                                0.0                                0.0   \n",
       "29                                0.0                                0.0   \n",
       "...                               ...                                ...   \n",
       "1490                              0.0                                0.0   \n",
       "1491                              0.0                                0.0   \n",
       "1492                              0.0                                0.0   \n",
       "1493                              0.0                                1.0   \n",
       "1494                              0.0                                0.0   \n",
       "1495                              0.0                                0.0   \n",
       "1496                              0.0                                0.0   \n",
       "1497                              0.0                                1.0   \n",
       "1498                              0.0                                0.0   \n",
       "1499                              1.0                                1.0   \n",
       "1500                              0.0                                0.0   \n",
       "1501                              0.0                                0.0   \n",
       "1502                              0.0                                2.0   \n",
       "1503                              0.0                                0.0   \n",
       "1504                              0.0                                0.0   \n",
       "1505                              0.0                                0.0   \n",
       "1506                              0.0                                0.0   \n",
       "1507                              0.0                                1.0   \n",
       "1508                              0.0                                1.0   \n",
       "1509                              0.0                                0.0   \n",
       "1510                              0.0                                0.0   \n",
       "1511                              0.0                                0.0   \n",
       "1512                              0.0                                0.0   \n",
       "1513                              0.0                                0.0   \n",
       "1514                              0.0                                0.0   \n",
       "1515                              0.0                                0.0   \n",
       "1516                              0.0                                0.0   \n",
       "1517                              0.0                                0.0   \n",
       "1518                              0.0                                0.0   \n",
       "1519                              1.0                                1.0   \n",
       "\n",
       "      away_player_11_att_pen_goal  away_player_11_att_pen_miss  \\\n",
       "0                             0.0                          0.0   \n",
       "1                             1.0                          0.0   \n",
       "2                             1.0                          0.0   \n",
       "3                             1.0                          0.0   \n",
       "4                             1.0                          0.0   \n",
       "5                             0.0                          0.0   \n",
       "6                             0.0                          0.0   \n",
       "7                             0.0                          0.0   \n",
       "8                             0.0                          0.0   \n",
       "9                             0.0                          0.0   \n",
       "10                            0.0                          0.0   \n",
       "11                            1.0                          0.0   \n",
       "12                            0.0                          0.0   \n",
       "13                            0.0                          0.0   \n",
       "14                            0.0                          0.0   \n",
       "15                            0.0                          0.0   \n",
       "16                            0.0                          0.0   \n",
       "17                            1.0                          0.0   \n",
       "18                            1.0                          0.0   \n",
       "19                            0.0                          0.0   \n",
       "20                            0.0                          0.0   \n",
       "21                            1.0                          0.0   \n",
       "22                            1.0                          0.0   \n",
       "23                            0.0                          0.0   \n",
       "24                            0.0                          0.0   \n",
       "25                            0.0                          0.0   \n",
       "26                            0.0                          0.0   \n",
       "27                            0.0                          0.0   \n",
       "28                            0.0                          0.0   \n",
       "29                            0.0                          0.0   \n",
       "...                           ...                          ...   \n",
       "1490                          0.0                          0.0   \n",
       "1491                          0.0                          0.0   \n",
       "1492                          1.0                          0.0   \n",
       "1493                          0.0                          0.0   \n",
       "1494                          0.0                          0.0   \n",
       "1495                          1.0                          0.0   \n",
       "1496                          0.0                          0.0   \n",
       "1497                          0.0                          0.0   \n",
       "1498                          1.0                          1.0   \n",
       "1499                          1.0                          0.0   \n",
       "1500                          0.0                          0.0   \n",
       "1501                          1.0                          0.0   \n",
       "1502                          0.0                          0.0   \n",
       "1503                          0.0                          0.0   \n",
       "1504                          1.0                          0.0   \n",
       "1505                          1.0                          1.0   \n",
       "1506                          0.0                          0.0   \n",
       "1507                          1.0                          0.0   \n",
       "1508                          1.0                          0.0   \n",
       "1509                          1.0                          0.0   \n",
       "1510                          1.0                          0.0   \n",
       "1511                          1.0                          1.0   \n",
       "1512                          0.0                          0.0   \n",
       "1513                          0.0                          0.0   \n",
       "1514                          0.0                          0.0   \n",
       "1515                          1.0                          0.0   \n",
       "1516                          0.0                          0.0   \n",
       "1517                          1.0                          0.0   \n",
       "1518                          0.0                          0.0   \n",
       "1519                          1.0                          0.0   \n",
       "\n",
       "      away_player_11_own_goals  away_player_11_att_pen_post  \n",
       "0                          0.0                          0.0  \n",
       "1                          0.0                          0.0  \n",
       "2                          1.0                          0.0  \n",
       "3                          0.0                          0.0  \n",
       "4                          0.0                          0.0  \n",
       "5                          0.0                          0.0  \n",
       "6                          0.0                          0.0  \n",
       "7                          0.0                          0.0  \n",
       "8                          0.0                          0.0  \n",
       "9                          0.0                          0.0  \n",
       "10                         0.0                          0.0  \n",
       "11                         0.0                          0.0  \n",
       "12                         0.0                          0.0  \n",
       "13                         0.0                          0.0  \n",
       "14                         0.0                          0.0  \n",
       "15                         0.0                          0.0  \n",
       "16                         0.0                          0.0  \n",
       "17                         0.0                          0.0  \n",
       "18                         0.0                          0.0  \n",
       "19                         0.0                          0.0  \n",
       "20                         0.0                          0.0  \n",
       "21                         0.0                          0.0  \n",
       "22                         0.0                          0.0  \n",
       "23                         0.0                          0.0  \n",
       "24                         0.0                          0.0  \n",
       "25                         0.0                          0.0  \n",
       "26                         0.0                          0.0  \n",
       "27                         0.0                          0.0  \n",
       "28                         0.0                          0.0  \n",
       "29                         0.0                          0.0  \n",
       "...                        ...                          ...  \n",
       "1490                       0.0                          0.0  \n",
       "1491                       0.0                          0.0  \n",
       "1492                       0.0                          0.0  \n",
       "1493                       0.0                          0.0  \n",
       "1494                       0.0                          0.0  \n",
       "1495                       0.0                          1.0  \n",
       "1496                       0.0                          0.0  \n",
       "1497                       0.0                          0.0  \n",
       "1498                       1.0                          0.0  \n",
       "1499                       0.0                          0.0  \n",
       "1500                       0.0                          1.0  \n",
       "1501                       0.0                          0.0  \n",
       "1502                       0.0                          0.0  \n",
       "1503                       0.0                          1.0  \n",
       "1504                       0.0                          0.0  \n",
       "1505                       0.0                          0.0  \n",
       "1506                       0.0                          0.0  \n",
       "1507                       0.0                          0.0  \n",
       "1508                       0.0                          0.0  \n",
       "1509                       1.0                          0.0  \n",
       "1510                       0.0                          0.0  \n",
       "1511                       0.0                          0.0  \n",
       "1512                       0.0                          0.0  \n",
       "1513                       0.0                          0.0  \n",
       "1514                       0.0                          0.0  \n",
       "1515                       1.0                          0.0  \n",
       "1516                       0.0                          0.0  \n",
       "1517                       1.0                          0.0  \n",
       "1518                       0.0                          0.0  \n",
       "1519                       0.0                          0.0  \n",
       "\n",
       "[1520 rows x 881 columns]"
      ]
     },
     "execution_count": 10,
     "metadata": {},
     "output_type": "execute_result"
    }
   ],
   "source": [
    "complete_season_df"
   ]
  },
  {
   "cell_type": "code",
   "execution_count": 14,
   "metadata": {},
   "outputs": [],
   "source": [
    "df_cols = ['match_id', 'scored'] + player_stat_col\n",
    "goaler_df = pd.DataFrame(columns=df_cols)\n",
    "index = 0\n",
    "for _, row in complete_season_df.iterrows():\n",
    "    match_id = int(row['match_id'])\n",
    "    homeScorer, awayScorer = [], []\n",
    "    homeNormies, awayNormies = [], []\n",
    "    for i in range(1,12):\n",
    "        home_match_goal_col = \"home_player_\"+str(i)+\"_match_goal\"\n",
    "        away_match_goal_col = \"away_player_\"+str(i)+\"_match_goal\"\n",
    "        if row[home_match_goal_col] >= 1:\n",
    "            homeScorer.append(i)\n",
    "        if row[away_match_goal_col] >= 1:\n",
    "            awayScorer.append(i)\n",
    "            \n",
    "    for scorer in homeScorer:\n",
    "        newScorerRow = []\n",
    "        newScorerRow.append(match_id)\n",
    "        newScorerRow.append(int(1))\n",
    "        for stat in player_stat_col:\n",
    "            colName = 'home_player_' + str(scorer) + \"_\" + stat\n",
    "            newScorerRow.append(float(row[colName]))\n",
    "        goaler_df.loc[index] = newScorerRow\n",
    "        index += 1\n",
    "        \n",
    "        newPlebsRow = []\n",
    "        newPlebsRow.append(match_id)\n",
    "        newPlebsRow.append(int(0))\n",
    "        tryAgain = True\n",
    "        while tryAgain:\n",
    "            plebNumber = randrange(1,12)\n",
    "            if (plebNumber not in awayScorer) and (plebNumber not in awayNormies):\n",
    "                tryAgain = False\n",
    "                awayNormies.append(plebNumber)\n",
    "        \n",
    "        for stat in player_stat_col:\n",
    "            colName = 'away_player_' + str(plebNumber) + \"_\" + stat\n",
    "            newPlebsRow.append(float(row[colName]))\n",
    "        goaler_df.loc[index] = newPlebsRow\n",
    "        index += 1\n",
    "    \n",
    "    for scorer in awayScorer:\n",
    "        newScorerRow = []\n",
    "        newScorerRow.append(match_id)\n",
    "        newScorerRow.append(int(1))\n",
    "        for stat in player_stat_col:\n",
    "            colName = 'away_player_' + str(scorer) + \"_\" + stat\n",
    "            newScorerRow.append(float(row[colName]))\n",
    "        goaler_df.loc[index] = newScorerRow\n",
    "        index += 1\n",
    "        \n",
    "        newPlebsRow = []\n",
    "        newPlebsRow.append(match_id)\n",
    "        newPlebsRow.append(int(0))\n",
    "        tryAgain = True\n",
    "        while tryAgain:\n",
    "            plebNumber = randrange(1,12)\n",
    "            if (plebNumber not in homeScorer) and (plebNumber not in homeNormies):\n",
    "                tryAgain = False\n",
    "                homeNormies.append(plebNumber)\n",
    "        \n",
    "        for stat in player_stat_col:\n",
    "            colName = 'home_player_' + str(plebNumber) + \"_\" + stat\n",
    "            newPlebsRow.append(float(row[colName]))\n",
    "        goaler_df.loc[index] = newPlebsRow\n",
    "        index += 1\n",
    "goaler_df.to_csv (\"master_data_ver2/goal_prediction\" + suffix + \".csv\", index = None, header=True)       "
   ]
  },
  {
   "cell_type": "code",
   "execution_count": null,
   "metadata": {},
   "outputs": [],
   "source": [
    "df_cols = ['match_id', 'scored'] + player_stat_col\n",
    "goaler_df = pd.DataFrame(columns=df_cols)\n",
    "index = 0\n",
    "for _, row in complete_season_df.iterrows():\n",
    "    match_id = int(row['match_id'])\n",
    "    homeScorer, awayScorer = [], []\n",
    "    homeNormies, awayNormies = [], []\n",
    "    for i in range(1,12):\n",
    "        home_match_goal_col = \"home_player_\"+str(i)+\"_match_goal\"\n",
    "        away_match_goal_col = \"away_player_\"+str(i)+\"_match_goal\"\n",
    "        if row[home_match_goal_col] >= 1:\n",
    "            homeScorer.append(i)\n",
    "        if row[away_match_goal_col] >= 1:\n",
    "            awayScorer.append(i)\n",
    "            \n",
    "    for scorer in homeScorer:\n",
    "        newScorerRow = []\n",
    "        newScorerRow.append(match_id)\n",
    "        newScorerRow.append(int(1))\n",
    "        for stat in player_stat_col:\n",
    "            colName = 'home_player_' + str(scorer) + \"_\" + stat\n",
    "            newScorerRow.append(float(row[colName]))\n",
    "        goaler_df.loc[index] = newScorerRow\n",
    "        index += 1\n",
    "        \n",
    "        newPlebsRow = []\n",
    "        newPlebsRow.append(match_id)\n",
    "        newPlebsRow.append(int(0))\n",
    "        tryAgain = True\n",
    "        while tryAgain:\n",
    "            plebNumber = randrange(1,12)\n",
    "            if (plebNumber not in awayScorer) and (plebNumber not in awayNormies):\n",
    "                tryAgain = False\n",
    "                awayNormies.append(plebNumber)\n",
    "        \n",
    "        for stat in player_stat_col:\n",
    "            colName = 'away_player_' + str(plebNumber) + \"_\" + stat\n",
    "            newPlebsRow.append(float(row[colName]))\n",
    "        goaler_df.loc[index] = newPlebsRow\n",
    "        index += 1\n",
    "    \n",
    "    for scorer in awayScorer:\n",
    "        newScorerRow = []\n",
    "        newScorerRow.append(match_id)\n",
    "        newScorerRow.append(int(1))\n",
    "        for stat in player_stat_col:\n",
    "            colName = 'away_player_' + str(scorer) + \"_\" + stat\n",
    "            newScorerRow.append(float(row[colName]))\n",
    "        goaler_df.loc[index] = newScorerRow\n",
    "        index += 1\n",
    "        \n",
    "        newPlebsRow = []\n",
    "        newPlebsRow.append(match_id)\n",
    "        newPlebsRow.append(int(0))\n",
    "        tryAgain = True\n",
    "        while tryAgain:\n",
    "            plebNumber = randrange(1,12)\n",
    "            if (plebNumber not in homeScorer) and (plebNumber not in homeNormies):\n",
    "                tryAgain = False\n",
    "                homeNormies.append(plebNumber)\n",
    "        \n",
    "        for stat in player_stat_col:\n",
    "            colName = 'home_player_' + str(plebNumber) + \"_\" + stat\n",
    "            newPlebsRow.append(float(row[colName]))\n",
    "        goaler_df.loc[index] = newPlebsRow\n",
    "        index += 1\n",
    "goaler_df.to_csv (\"master_data_ver2/goal_prediction\" + suffix + \".csv\", index = None, header=True)       "
   ]
  },
  {
   "cell_type": "code",
   "execution_count": 47,
   "metadata": {},
   "outputs": [],
   "source": [
    "df_cols = ['match_id', 'scored'] + player_stat_col\n",
    "goaler_df = pd.DataFrame(columns=df_cols)\n",
    "index = 0\n",
    "k=400\n",
    "players_goal_dict = {}\n",
    "for _, row in complete_season_df.iterrows():\n",
    "    match_id = int(row['match_id'])\n",
    "    homeScorer, awayScorer = [], []\n",
    "    homeNormies, awayNormies = [], []\n",
    "    for i in range(1,12):\n",
    "        home_match_goal_col = \"home_player_\"+str(i)+\"_match_goal\"\n",
    "        away_match_goal_col = \"away_player_\"+str(i)+\"_match_goal\"\n",
    "        if row[home_match_goal_col] >= 1:\n",
    "            if row[home_match_goal_col] not in players_goal_dict:\n",
    "                players_goal_dict[row[home_match_goal_col]] = []\n",
    "            homeScorer.append((i, row[home_match_goal_col]))\n",
    "        if row[away_match_goal_col] >= 1:\n",
    "            if row[away_match_goal_col] not in players_goal_dict:\n",
    "                players_goal_dict[row[away_match_goal_col]] = []\n",
    "            awayScorer.append((i, row[away_match_goal_col]))\n",
    "            \n",
    "    for scorer, goal in homeScorer:\n",
    "        newScorerRow = []\n",
    "        newScorerRow.append(match_id)\n",
    "        newScorerRow.append(int(goal))\n",
    "        for stat in player_stat_col:\n",
    "            colName = 'home_player_' + str(scorer) + \"_\" + stat\n",
    "            newScorerRow.append(float(row[colName]))\n",
    "        players_goal_dict[goal].append(newScorerRow)\n",
    "        \n",
    "    for scorer, goal in awayScorer:\n",
    "        newScorerRow = []\n",
    "        newScorerRow.append(match_id)\n",
    "        newScorerRow.append(int(goal))\n",
    "        for stat in player_stat_col:\n",
    "            colName = 'away_player_' + str(scorer) + \"_\" + stat\n",
    "            newScorerRow.append(float(row[colName]))\n",
    "        players_goal_dict[goal].append(newScorerRow)\n",
    "        \n",
    "for i in range(1,4):\n",
    "    choices_list = choices(players_goal_dict[i], k=k)\n",
    "    for choice in choices_list:\n",
    "        goaler_df.loc[index] = choice\n",
    "        index += 1\n",
    "#         newPlebsRow = []\n",
    "#         newPlebsRow.append(match_id)\n",
    "#         newPlebsRow.append(int(0))\n",
    "#         tryAgain = True\n",
    "#         while tryAgain:\n",
    "#             plebNumber = randrange(1,12)\n",
    "#             if (plebNumber not in homeScorer) and (plebNumber not in homeNormies):\n",
    "#                 tryAgain = False\n",
    "#                 homeNormies.append(plebNumber)\n",
    "        \n",
    "#         for stat in player_stat_col:\n",
    "#             colName = 'home_player_' + str(plebNumber) + \"_\" + stat\n",
    "#             newPlebsRow.append(float(row[colName]))\n",
    "#         goaler_df.loc[index] = newPlebsRow\n",
    "#         index += 1\n",
    "goaler_df.to_csv (\"master_data_ver2/goal_prediction_numeric\" + suffix + \".csv\", index = None, header=True)       "
   ]
  },
  {
   "cell_type": "code",
   "execution_count": 27,
   "metadata": {},
   "outputs": [],
   "source": [
    "df_cols = ['match_id', 'scored'] + player_stat_col\n",
    "goaler_df = pd.DataFrame(columns=df_cols)\n",
    "index = 0\n",
    "players_goal_dict = {}\n",
    "for _, row in complete_season_df.iterrows():\n",
    "    match_id = int(row['match_id'])\n",
    "    homeScorer, awayScorer = [], []\n",
    "    homeNormies, awayNormies = [], []\n",
    "    for i in range(1,12):\n",
    "        home_match_goal_col = \"home_player_\"+str(i)+\"_match_goal\"\n",
    "        away_match_goal_col = \"away_player_\"+str(i)+\"_match_goal\"\n",
    "        if row[home_match_goal_col] >= 1:\n",
    "            if row[home_match_goal_col] not in players_goal_dict:\n",
    "                players_goal_dict[row[home_match_goal_col]] = []\n",
    "            players_goal_dict[row[home_match_goal_col]].append((match_id, 'home', i))\n",
    "        if row[away_match_goal_col] >= 1:\n",
    "            if row[away_match_goal_col] not in players_goal_dict:\n",
    "                players_goal_dict[row[away_match_goal_col]] = []\n",
    "            players_goal_dict[row[away_match_goal_col]].append((match_id, 'away', i))"
   ]
  },
  {
   "cell_type": "markdown",
   "metadata": {},
   "source": [
    "# Modeling"
   ]
  },
  {
   "cell_type": "code",
   "execution_count": 51,
   "metadata": {
    "scrolled": true
   },
   "outputs": [
    {
     "data": {
      "text/html": [
       "<div>\n",
       "<style scoped>\n",
       "    .dataframe tbody tr th:only-of-type {\n",
       "        vertical-align: middle;\n",
       "    }\n",
       "\n",
       "    .dataframe tbody tr th {\n",
       "        vertical-align: top;\n",
       "    }\n",
       "\n",
       "    .dataframe thead th {\n",
       "        text-align: right;\n",
       "    }\n",
       "</style>\n",
       "<table border=\"1\" class=\"dataframe\">\n",
       "  <thead>\n",
       "    <tr style=\"text-align: right;\">\n",
       "      <th></th>\n",
       "      <th>match_id</th>\n",
       "      <th>scored</th>\n",
       "      <th>fpl_minutes</th>\n",
       "      <th>fpl_goals</th>\n",
       "      <th>fpl_assits</th>\n",
       "      <th>fpl_cs</th>\n",
       "      <th>fpl_points</th>\n",
       "      <th>fpl_bonus</th>\n",
       "      <th>fpl_cprice</th>\n",
       "      <th>player_rating</th>\n",
       "      <th>...</th>\n",
       "      <th>six_yard_block</th>\n",
       "      <th>post_scoring_att</th>\n",
       "      <th>att_pen_target</th>\n",
       "      <th>penalty_save</th>\n",
       "      <th>penalty_conceded</th>\n",
       "      <th>clearance_off_line</th>\n",
       "      <th>att_pen_goal</th>\n",
       "      <th>att_pen_miss</th>\n",
       "      <th>own_goals</th>\n",
       "      <th>att_pen_post</th>\n",
       "    </tr>\n",
       "  </thead>\n",
       "  <tbody>\n",
       "    <tr>\n",
       "      <th>0</th>\n",
       "      <td>829513.0</td>\n",
       "      <td>1.0</td>\n",
       "      <td>2287.00000</td>\n",
       "      <td>3.00000</td>\n",
       "      <td>0.00000</td>\n",
       "      <td>11.00000</td>\n",
       "      <td>120.00000</td>\n",
       "      <td>15.00000</td>\n",
       "      <td>6.100000</td>\n",
       "      <td>6.651000</td>\n",
       "      <td>...</td>\n",
       "      <td>0.000</td>\n",
       "      <td>0.000000</td>\n",
       "      <td>0.0</td>\n",
       "      <td>0.0</td>\n",
       "      <td>1.0</td>\n",
       "      <td>0.0</td>\n",
       "      <td>0.000000</td>\n",
       "      <td>0.0</td>\n",
       "      <td>0.0</td>\n",
       "      <td>0.0</td>\n",
       "    </tr>\n",
       "    <tr>\n",
       "      <th>1</th>\n",
       "      <td>829513.0</td>\n",
       "      <td>0.0</td>\n",
       "      <td>2771.00000</td>\n",
       "      <td>4.00000</td>\n",
       "      <td>12.00000</td>\n",
       "      <td>6.00000</td>\n",
       "      <td>132.00000</td>\n",
       "      <td>8.00000</td>\n",
       "      <td>5.600000</td>\n",
       "      <td>7.054412</td>\n",
       "      <td>...</td>\n",
       "      <td>1.000</td>\n",
       "      <td>1.000000</td>\n",
       "      <td>0.0</td>\n",
       "      <td>0.0</td>\n",
       "      <td>0.0</td>\n",
       "      <td>0.0</td>\n",
       "      <td>0.000000</td>\n",
       "      <td>0.0</td>\n",
       "      <td>0.0</td>\n",
       "      <td>0.0</td>\n",
       "    </tr>\n",
       "    <tr>\n",
       "      <th>2</th>\n",
       "      <td>829513.0</td>\n",
       "      <td>1.0</td>\n",
       "      <td>2007.00000</td>\n",
       "      <td>6.00000</td>\n",
       "      <td>6.00000</td>\n",
       "      <td>10.00000</td>\n",
       "      <td>116.00000</td>\n",
       "      <td>13.00000</td>\n",
       "      <td>8.800000</td>\n",
       "      <td>6.839000</td>\n",
       "      <td>...</td>\n",
       "      <td>0.000</td>\n",
       "      <td>1.000000</td>\n",
       "      <td>0.0</td>\n",
       "      <td>0.0</td>\n",
       "      <td>0.0</td>\n",
       "      <td>0.0</td>\n",
       "      <td>0.000000</td>\n",
       "      <td>0.0</td>\n",
       "      <td>0.0</td>\n",
       "      <td>0.0</td>\n",
       "    </tr>\n",
       "    <tr>\n",
       "      <th>3</th>\n",
       "      <td>829513.0</td>\n",
       "      <td>0.0</td>\n",
       "      <td>2823.00000</td>\n",
       "      <td>6.00000</td>\n",
       "      <td>7.00000</td>\n",
       "      <td>6.00000</td>\n",
       "      <td>128.00000</td>\n",
       "      <td>14.00000</td>\n",
       "      <td>5.500000</td>\n",
       "      <td>6.987838</td>\n",
       "      <td>...</td>\n",
       "      <td>0.000</td>\n",
       "      <td>1.000000</td>\n",
       "      <td>0.0</td>\n",
       "      <td>0.0</td>\n",
       "      <td>0.0</td>\n",
       "      <td>0.0</td>\n",
       "      <td>0.000000</td>\n",
       "      <td>0.0</td>\n",
       "      <td>0.0</td>\n",
       "      <td>0.0</td>\n",
       "    </tr>\n",
       "    <tr>\n",
       "      <th>4</th>\n",
       "      <td>829513.0</td>\n",
       "      <td>1.0</td>\n",
       "      <td>1173.00000</td>\n",
       "      <td>2.00000</td>\n",
       "      <td>1.00000</td>\n",
       "      <td>2.00000</td>\n",
       "      <td>42.00000</td>\n",
       "      <td>1.00000</td>\n",
       "      <td>4.600000</td>\n",
       "      <td>3.183548</td>\n",
       "      <td>...</td>\n",
       "      <td>1.000</td>\n",
       "      <td>0.000000</td>\n",
       "      <td>0.0</td>\n",
       "      <td>0.0</td>\n",
       "      <td>0.0</td>\n",
       "      <td>0.0</td>\n",
       "      <td>0.000000</td>\n",
       "      <td>0.0</td>\n",
       "      <td>0.0</td>\n",
       "      <td>0.0</td>\n",
       "    </tr>\n",
       "    <tr>\n",
       "      <th>5</th>\n",
       "      <td>829513.0</td>\n",
       "      <td>0.0</td>\n",
       "      <td>729.00000</td>\n",
       "      <td>2.00000</td>\n",
       "      <td>1.00000</td>\n",
       "      <td>1.00000</td>\n",
       "      <td>36.00000</td>\n",
       "      <td>4.00000</td>\n",
       "      <td>6.300000</td>\n",
       "      <td>5.634706</td>\n",
       "      <td>...</td>\n",
       "      <td>1.000</td>\n",
       "      <td>0.000000</td>\n",
       "      <td>0.0</td>\n",
       "      <td>0.0</td>\n",
       "      <td>0.0</td>\n",
       "      <td>0.0</td>\n",
       "      <td>0.000000</td>\n",
       "      <td>0.0</td>\n",
       "      <td>0.0</td>\n",
       "      <td>0.0</td>\n",
       "    </tr>\n",
       "    <tr>\n",
       "      <th>6</th>\n",
       "      <td>829514.0</td>\n",
       "      <td>1.0</td>\n",
       "      <td>3202.00000</td>\n",
       "      <td>2.00000</td>\n",
       "      <td>2.00000</td>\n",
       "      <td>9.00000</td>\n",
       "      <td>91.00000</td>\n",
       "      <td>2.00000</td>\n",
       "      <td>4.700000</td>\n",
       "      <td>6.575946</td>\n",
       "      <td>...</td>\n",
       "      <td>1.000</td>\n",
       "      <td>0.000000</td>\n",
       "      <td>1.0</td>\n",
       "      <td>0.0</td>\n",
       "      <td>1.0</td>\n",
       "      <td>0.0</td>\n",
       "      <td>0.000000</td>\n",
       "      <td>0.0</td>\n",
       "      <td>0.0</td>\n",
       "      <td>0.0</td>\n",
       "    </tr>\n",
       "    <tr>\n",
       "      <th>7</th>\n",
       "      <td>829514.0</td>\n",
       "      <td>0.0</td>\n",
       "      <td>2481.00000</td>\n",
       "      <td>0.00000</td>\n",
       "      <td>3.00000</td>\n",
       "      <td>14.00000</td>\n",
       "      <td>132.00000</td>\n",
       "      <td>19.00000</td>\n",
       "      <td>6.200000</td>\n",
       "      <td>5.998286</td>\n",
       "      <td>...</td>\n",
       "      <td>0.000</td>\n",
       "      <td>0.000000</td>\n",
       "      <td>0.0</td>\n",
       "      <td>0.0</td>\n",
       "      <td>0.0</td>\n",
       "      <td>1.0</td>\n",
       "      <td>0.000000</td>\n",
       "      <td>0.0</td>\n",
       "      <td>0.0</td>\n",
       "      <td>0.0</td>\n",
       "    </tr>\n",
       "    <tr>\n",
       "      <th>8</th>\n",
       "      <td>829514.0</td>\n",
       "      <td>1.0</td>\n",
       "      <td>3420.00000</td>\n",
       "      <td>4.00000</td>\n",
       "      <td>6.00000</td>\n",
       "      <td>17.00000</td>\n",
       "      <td>179.00000</td>\n",
       "      <td>13.00000</td>\n",
       "      <td>7.700000</td>\n",
       "      <td>7.253684</td>\n",
       "      <td>...</td>\n",
       "      <td>0.000</td>\n",
       "      <td>0.000000</td>\n",
       "      <td>0.0</td>\n",
       "      <td>0.0</td>\n",
       "      <td>0.0</td>\n",
       "      <td>0.0</td>\n",
       "      <td>0.000000</td>\n",
       "      <td>0.0</td>\n",
       "      <td>0.0</td>\n",
       "      <td>0.0</td>\n",
       "    </tr>\n",
       "    <tr>\n",
       "      <th>9</th>\n",
       "      <td>829514.0</td>\n",
       "      <td>0.0</td>\n",
       "      <td>3415.00000</td>\n",
       "      <td>0.00000</td>\n",
       "      <td>4.00000</td>\n",
       "      <td>10.00000</td>\n",
       "      <td>118.00000</td>\n",
       "      <td>11.00000</td>\n",
       "      <td>4.800000</td>\n",
       "      <td>7.146579</td>\n",
       "      <td>...</td>\n",
       "      <td>0.000</td>\n",
       "      <td>0.000000</td>\n",
       "      <td>0.0</td>\n",
       "      <td>0.0</td>\n",
       "      <td>0.0</td>\n",
       "      <td>1.0</td>\n",
       "      <td>0.000000</td>\n",
       "      <td>0.0</td>\n",
       "      <td>0.0</td>\n",
       "      <td>0.0</td>\n",
       "    </tr>\n",
       "    <tr>\n",
       "      <th>10</th>\n",
       "      <td>829514.0</td>\n",
       "      <td>1.0</td>\n",
       "      <td>436.00000</td>\n",
       "      <td>3.00000</td>\n",
       "      <td>0.00000</td>\n",
       "      <td>2.00000</td>\n",
       "      <td>33.00000</td>\n",
       "      <td>1.00000</td>\n",
       "      <td>7.100000</td>\n",
       "      <td>5.138333</td>\n",
       "      <td>...</td>\n",
       "      <td>0.000</td>\n",
       "      <td>0.000000</td>\n",
       "      <td>0.0</td>\n",
       "      <td>0.0</td>\n",
       "      <td>0.0</td>\n",
       "      <td>0.0</td>\n",
       "      <td>0.000000</td>\n",
       "      <td>0.0</td>\n",
       "      <td>0.0</td>\n",
       "      <td>0.0</td>\n",
       "    </tr>\n",
       "    <tr>\n",
       "      <th>11</th>\n",
       "      <td>829514.0</td>\n",
       "      <td>0.0</td>\n",
       "      <td>981.00000</td>\n",
       "      <td>0.00000</td>\n",
       "      <td>3.00000</td>\n",
       "      <td>3.00000</td>\n",
       "      <td>43.00000</td>\n",
       "      <td>0.00000</td>\n",
       "      <td>4.400000</td>\n",
       "      <td>4.295946</td>\n",
       "      <td>...</td>\n",
       "      <td>0.000</td>\n",
       "      <td>0.000000</td>\n",
       "      <td>0.0</td>\n",
       "      <td>0.0</td>\n",
       "      <td>0.0</td>\n",
       "      <td>0.0</td>\n",
       "      <td>0.000000</td>\n",
       "      <td>0.0</td>\n",
       "      <td>0.0</td>\n",
       "      <td>0.0</td>\n",
       "    </tr>\n",
       "    <tr>\n",
       "      <th>12</th>\n",
       "      <td>829514.0</td>\n",
       "      <td>1.0</td>\n",
       "      <td>2069.00000</td>\n",
       "      <td>20.00000</td>\n",
       "      <td>3.00000</td>\n",
       "      <td>12.00000</td>\n",
       "      <td>150.00000</td>\n",
       "      <td>18.00000</td>\n",
       "      <td>10.600000</td>\n",
       "      <td>7.428077</td>\n",
       "      <td>...</td>\n",
       "      <td>1.000</td>\n",
       "      <td>1.000000</td>\n",
       "      <td>0.0</td>\n",
       "      <td>0.0</td>\n",
       "      <td>0.0</td>\n",
       "      <td>0.0</td>\n",
       "      <td>1.000000</td>\n",
       "      <td>0.0</td>\n",
       "      <td>0.0</td>\n",
       "      <td>0.0</td>\n",
       "    </tr>\n",
       "    <tr>\n",
       "      <th>13</th>\n",
       "      <td>829514.0</td>\n",
       "      <td>0.0</td>\n",
       "      <td>3420.00000</td>\n",
       "      <td>0.00000</td>\n",
       "      <td>0.00000</td>\n",
       "      <td>10.00000</td>\n",
       "      <td>150.00000</td>\n",
       "      <td>11.00000</td>\n",
       "      <td>4.700000</td>\n",
       "      <td>6.817895</td>\n",
       "      <td>...</td>\n",
       "      <td>0.000</td>\n",
       "      <td>0.000000</td>\n",
       "      <td>0.0</td>\n",
       "      <td>1.0</td>\n",
       "      <td>0.0</td>\n",
       "      <td>0.0</td>\n",
       "      <td>0.000000</td>\n",
       "      <td>0.0</td>\n",
       "      <td>1.0</td>\n",
       "      <td>0.0</td>\n",
       "    </tr>\n",
       "    <tr>\n",
       "      <th>14</th>\n",
       "      <td>829515.0</td>\n",
       "      <td>1.0</td>\n",
       "      <td>2398.00000</td>\n",
       "      <td>11.00000</td>\n",
       "      <td>4.00000</td>\n",
       "      <td>9.00000</td>\n",
       "      <td>130.00000</td>\n",
       "      <td>14.00000</td>\n",
       "      <td>5.000000</td>\n",
       "      <td>6.668421</td>\n",
       "      <td>...</td>\n",
       "      <td>1.000</td>\n",
       "      <td>1.000000</td>\n",
       "      <td>0.0</td>\n",
       "      <td>0.0</td>\n",
       "      <td>0.0</td>\n",
       "      <td>0.0</td>\n",
       "      <td>1.000000</td>\n",
       "      <td>0.0</td>\n",
       "      <td>0.0</td>\n",
       "      <td>0.0</td>\n",
       "    </tr>\n",
       "    <tr>\n",
       "      <th>15</th>\n",
       "      <td>829515.0</td>\n",
       "      <td>0.0</td>\n",
       "      <td>2400.00000</td>\n",
       "      <td>2.00000</td>\n",
       "      <td>2.00000</td>\n",
       "      <td>8.00000</td>\n",
       "      <td>79.00000</td>\n",
       "      <td>8.00000</td>\n",
       "      <td>4.600000</td>\n",
       "      <td>7.084643</td>\n",
       "      <td>...</td>\n",
       "      <td>0.000</td>\n",
       "      <td>1.000000</td>\n",
       "      <td>0.0</td>\n",
       "      <td>0.0</td>\n",
       "      <td>1.0</td>\n",
       "      <td>1.0</td>\n",
       "      <td>0.000000</td>\n",
       "      <td>0.0</td>\n",
       "      <td>0.0</td>\n",
       "      <td>0.0</td>\n",
       "    </tr>\n",
       "    <tr>\n",
       "      <th>16</th>\n",
       "      <td>829515.0</td>\n",
       "      <td>1.0</td>\n",
       "      <td>884.00000</td>\n",
       "      <td>1.00000</td>\n",
       "      <td>3.00000</td>\n",
       "      <td>4.00000</td>\n",
       "      <td>44.00000</td>\n",
       "      <td>0.00000</td>\n",
       "      <td>5.300000</td>\n",
       "      <td>4.018846</td>\n",
       "      <td>...</td>\n",
       "      <td>1.000</td>\n",
       "      <td>0.000000</td>\n",
       "      <td>0.0</td>\n",
       "      <td>0.0</td>\n",
       "      <td>0.0</td>\n",
       "      <td>0.0</td>\n",
       "      <td>0.000000</td>\n",
       "      <td>0.0</td>\n",
       "      <td>0.0</td>\n",
       "      <td>0.0</td>\n",
       "    </tr>\n",
       "    <tr>\n",
       "      <th>17</th>\n",
       "      <td>829515.0</td>\n",
       "      <td>0.0</td>\n",
       "      <td>2244.00000</td>\n",
       "      <td>1.00000</td>\n",
       "      <td>1.00000</td>\n",
       "      <td>5.00000</td>\n",
       "      <td>62.00000</td>\n",
       "      <td>5.00000</td>\n",
       "      <td>4.400000</td>\n",
       "      <td>4.664444</td>\n",
       "      <td>...</td>\n",
       "      <td>0.000</td>\n",
       "      <td>0.000000</td>\n",
       "      <td>0.0</td>\n",
       "      <td>0.0</td>\n",
       "      <td>1.0</td>\n",
       "      <td>0.0</td>\n",
       "      <td>0.000000</td>\n",
       "      <td>0.0</td>\n",
       "      <td>0.0</td>\n",
       "      <td>0.0</td>\n",
       "    </tr>\n",
       "    <tr>\n",
       "      <th>18</th>\n",
       "      <td>829515.0</td>\n",
       "      <td>1.0</td>\n",
       "      <td>2057.00000</td>\n",
       "      <td>7.00000</td>\n",
       "      <td>3.00000</td>\n",
       "      <td>6.00000</td>\n",
       "      <td>98.00000</td>\n",
       "      <td>16.00000</td>\n",
       "      <td>4.700000</td>\n",
       "      <td>6.191765</td>\n",
       "      <td>...</td>\n",
       "      <td>1.000</td>\n",
       "      <td>1.000000</td>\n",
       "      <td>0.0</td>\n",
       "      <td>0.0</td>\n",
       "      <td>0.0</td>\n",
       "      <td>0.0</td>\n",
       "      <td>0.000000</td>\n",
       "      <td>0.0</td>\n",
       "      <td>0.0</td>\n",
       "      <td>0.0</td>\n",
       "    </tr>\n",
       "    <tr>\n",
       "      <th>19</th>\n",
       "      <td>829515.0</td>\n",
       "      <td>0.0</td>\n",
       "      <td>2160.00000</td>\n",
       "      <td>0.00000</td>\n",
       "      <td>0.00000</td>\n",
       "      <td>6.00000</td>\n",
       "      <td>83.00000</td>\n",
       "      <td>6.00000</td>\n",
       "      <td>4.500000</td>\n",
       "      <td>6.368800</td>\n",
       "      <td>...</td>\n",
       "      <td>0.000</td>\n",
       "      <td>0.000000</td>\n",
       "      <td>0.0</td>\n",
       "      <td>0.0</td>\n",
       "      <td>0.0</td>\n",
       "      <td>0.0</td>\n",
       "      <td>0.000000</td>\n",
       "      <td>0.0</td>\n",
       "      <td>0.0</td>\n",
       "      <td>0.0</td>\n",
       "    </tr>\n",
       "    <tr>\n",
       "      <th>20</th>\n",
       "      <td>829516.0</td>\n",
       "      <td>1.0</td>\n",
       "      <td>3047.00000</td>\n",
       "      <td>7.00000</td>\n",
       "      <td>10.00000</td>\n",
       "      <td>13.00000</td>\n",
       "      <td>158.00000</td>\n",
       "      <td>16.00000</td>\n",
       "      <td>8.300000</td>\n",
       "      <td>7.072222</td>\n",
       "      <td>...</td>\n",
       "      <td>1.000</td>\n",
       "      <td>2.000000</td>\n",
       "      <td>0.0</td>\n",
       "      <td>0.0</td>\n",
       "      <td>0.0</td>\n",
       "      <td>1.0</td>\n",
       "      <td>0.000000</td>\n",
       "      <td>0.0</td>\n",
       "      <td>0.0</td>\n",
       "      <td>0.0</td>\n",
       "    </tr>\n",
       "    <tr>\n",
       "      <th>21</th>\n",
       "      <td>829516.0</td>\n",
       "      <td>0.0</td>\n",
       "      <td>2186.00000</td>\n",
       "      <td>4.00000</td>\n",
       "      <td>2.00000</td>\n",
       "      <td>11.00000</td>\n",
       "      <td>90.00000</td>\n",
       "      <td>12.00000</td>\n",
       "      <td>5.500000</td>\n",
       "      <td>7.499231</td>\n",
       "      <td>...</td>\n",
       "      <td>1.000</td>\n",
       "      <td>1.000000</td>\n",
       "      <td>0.0</td>\n",
       "      <td>0.0</td>\n",
       "      <td>0.0</td>\n",
       "      <td>0.0</td>\n",
       "      <td>0.000000</td>\n",
       "      <td>0.0</td>\n",
       "      <td>0.0</td>\n",
       "      <td>0.0</td>\n",
       "    </tr>\n",
       "    <tr>\n",
       "      <th>22</th>\n",
       "      <td>829516.0</td>\n",
       "      <td>1.0</td>\n",
       "      <td>752.00000</td>\n",
       "      <td>4.00000</td>\n",
       "      <td>3.00000</td>\n",
       "      <td>3.00000</td>\n",
       "      <td>46.00000</td>\n",
       "      <td>2.00000</td>\n",
       "      <td>11.100000</td>\n",
       "      <td>7.010833</td>\n",
       "      <td>...</td>\n",
       "      <td>1.000</td>\n",
       "      <td>1.000000</td>\n",
       "      <td>0.0</td>\n",
       "      <td>0.0</td>\n",
       "      <td>0.0</td>\n",
       "      <td>0.0</td>\n",
       "      <td>0.000000</td>\n",
       "      <td>0.0</td>\n",
       "      <td>0.0</td>\n",
       "      <td>0.0</td>\n",
       "    </tr>\n",
       "    <tr>\n",
       "      <th>23</th>\n",
       "      <td>829516.0</td>\n",
       "      <td>0.0</td>\n",
       "      <td>3053.00000</td>\n",
       "      <td>2.00000</td>\n",
       "      <td>3.00000</td>\n",
       "      <td>13.00000</td>\n",
       "      <td>140.00000</td>\n",
       "      <td>13.00000</td>\n",
       "      <td>5.800000</td>\n",
       "      <td>7.021176</td>\n",
       "      <td>...</td>\n",
       "      <td>0.000</td>\n",
       "      <td>0.000000</td>\n",
       "      <td>0.0</td>\n",
       "      <td>0.0</td>\n",
       "      <td>0.0</td>\n",
       "      <td>1.0</td>\n",
       "      <td>0.000000</td>\n",
       "      <td>0.0</td>\n",
       "      <td>0.0</td>\n",
       "      <td>0.0</td>\n",
       "    </tr>\n",
       "    <tr>\n",
       "      <th>24</th>\n",
       "      <td>829516.0</td>\n",
       "      <td>1.0</td>\n",
       "      <td>3146.00000</td>\n",
       "      <td>2.00000</td>\n",
       "      <td>2.00000</td>\n",
       "      <td>13.00000</td>\n",
       "      <td>142.00000</td>\n",
       "      <td>15.00000</td>\n",
       "      <td>5.900000</td>\n",
       "      <td>6.842778</td>\n",
       "      <td>...</td>\n",
       "      <td>0.000</td>\n",
       "      <td>0.000000</td>\n",
       "      <td>0.0</td>\n",
       "      <td>0.0</td>\n",
       "      <td>0.0</td>\n",
       "      <td>0.0</td>\n",
       "      <td>0.000000</td>\n",
       "      <td>0.0</td>\n",
       "      <td>0.0</td>\n",
       "      <td>0.0</td>\n",
       "    </tr>\n",
       "    <tr>\n",
       "      <th>25</th>\n",
       "      <td>829516.0</td>\n",
       "      <td>0.0</td>\n",
       "      <td>2236.00000</td>\n",
       "      <td>9.00000</td>\n",
       "      <td>1.00000</td>\n",
       "      <td>5.00000</td>\n",
       "      <td>114.00000</td>\n",
       "      <td>20.00000</td>\n",
       "      <td>8.600000</td>\n",
       "      <td>6.723333</td>\n",
       "      <td>...</td>\n",
       "      <td>0.000</td>\n",
       "      <td>0.000000</td>\n",
       "      <td>1.0</td>\n",
       "      <td>0.0</td>\n",
       "      <td>0.0</td>\n",
       "      <td>0.0</td>\n",
       "      <td>1.333333</td>\n",
       "      <td>0.0</td>\n",
       "      <td>1.0</td>\n",
       "      <td>0.0</td>\n",
       "    </tr>\n",
       "    <tr>\n",
       "      <th>26</th>\n",
       "      <td>829517.0</td>\n",
       "      <td>1.0</td>\n",
       "      <td>2872.00000</td>\n",
       "      <td>12.00000</td>\n",
       "      <td>5.00000</td>\n",
       "      <td>11.00000</td>\n",
       "      <td>132.00000</td>\n",
       "      <td>15.00000</td>\n",
       "      <td>10.600000</td>\n",
       "      <td>7.276667</td>\n",
       "      <td>...</td>\n",
       "      <td>1.000</td>\n",
       "      <td>1.000000</td>\n",
       "      <td>1.0</td>\n",
       "      <td>0.0</td>\n",
       "      <td>0.0</td>\n",
       "      <td>0.0</td>\n",
       "      <td>1.000000</td>\n",
       "      <td>0.0</td>\n",
       "      <td>0.0</td>\n",
       "      <td>0.0</td>\n",
       "    </tr>\n",
       "    <tr>\n",
       "      <th>27</th>\n",
       "      <td>829517.0</td>\n",
       "      <td>0.0</td>\n",
       "      <td>1598.00000</td>\n",
       "      <td>11.00000</td>\n",
       "      <td>3.00000</td>\n",
       "      <td>8.00000</td>\n",
       "      <td>108.00000</td>\n",
       "      <td>14.00000</td>\n",
       "      <td>8.100000</td>\n",
       "      <td>7.105667</td>\n",
       "      <td>...</td>\n",
       "      <td>1.000</td>\n",
       "      <td>1.000000</td>\n",
       "      <td>0.0</td>\n",
       "      <td>0.0</td>\n",
       "      <td>0.0</td>\n",
       "      <td>0.0</td>\n",
       "      <td>1.000000</td>\n",
       "      <td>0.0</td>\n",
       "      <td>0.0</td>\n",
       "      <td>0.0</td>\n",
       "    </tr>\n",
       "    <tr>\n",
       "      <th>28</th>\n",
       "      <td>829517.0</td>\n",
       "      <td>1.0</td>\n",
       "      <td>2689.00000</td>\n",
       "      <td>8.00000</td>\n",
       "      <td>1.00000</td>\n",
       "      <td>11.00000</td>\n",
       "      <td>129.00000</td>\n",
       "      <td>17.00000</td>\n",
       "      <td>5.100000</td>\n",
       "      <td>7.095455</td>\n",
       "      <td>...</td>\n",
       "      <td>0.000</td>\n",
       "      <td>0.000000</td>\n",
       "      <td>0.0</td>\n",
       "      <td>0.0</td>\n",
       "      <td>0.0</td>\n",
       "      <td>0.0</td>\n",
       "      <td>0.000000</td>\n",
       "      <td>0.0</td>\n",
       "      <td>0.0</td>\n",
       "      <td>0.0</td>\n",
       "    </tr>\n",
       "    <tr>\n",
       "      <th>29</th>\n",
       "      <td>829517.0</td>\n",
       "      <td>0.0</td>\n",
       "      <td>3313.00000</td>\n",
       "      <td>0.00000</td>\n",
       "      <td>0.00000</td>\n",
       "      <td>11.00000</td>\n",
       "      <td>138.00000</td>\n",
       "      <td>3.00000</td>\n",
       "      <td>5.800000</td>\n",
       "      <td>6.679189</td>\n",
       "      <td>...</td>\n",
       "      <td>0.000</td>\n",
       "      <td>0.000000</td>\n",
       "      <td>0.0</td>\n",
       "      <td>1.0</td>\n",
       "      <td>0.0</td>\n",
       "      <td>0.0</td>\n",
       "      <td>0.000000</td>\n",
       "      <td>0.0</td>\n",
       "      <td>0.0</td>\n",
       "      <td>0.0</td>\n",
       "    </tr>\n",
       "    <tr>\n",
       "      <th>...</th>\n",
       "      <td>...</td>\n",
       "      <td>...</td>\n",
       "      <td>...</td>\n",
       "      <td>...</td>\n",
       "      <td>...</td>\n",
       "      <td>...</td>\n",
       "      <td>...</td>\n",
       "      <td>...</td>\n",
       "      <td>...</td>\n",
       "      <td>...</td>\n",
       "      <td>...</td>\n",
       "      <td>...</td>\n",
       "      <td>...</td>\n",
       "      <td>...</td>\n",
       "      <td>...</td>\n",
       "      <td>...</td>\n",
       "      <td>...</td>\n",
       "      <td>...</td>\n",
       "      <td>...</td>\n",
       "      <td>...</td>\n",
       "      <td>...</td>\n",
       "    </tr>\n",
       "    <tr>\n",
       "      <th>6254</th>\n",
       "      <td>1190549.0</td>\n",
       "      <td>1.0</td>\n",
       "      <td>1413.80000</td>\n",
       "      <td>3.10000</td>\n",
       "      <td>5.60000</td>\n",
       "      <td>4.20000</td>\n",
       "      <td>66.70000</td>\n",
       "      <td>2.40000</td>\n",
       "      <td>4.780000</td>\n",
       "      <td>6.912950</td>\n",
       "      <td>...</td>\n",
       "      <td>1.000</td>\n",
       "      <td>0.000000</td>\n",
       "      <td>0.0</td>\n",
       "      <td>0.0</td>\n",
       "      <td>0.0</td>\n",
       "      <td>0.0</td>\n",
       "      <td>0.000000</td>\n",
       "      <td>0.0</td>\n",
       "      <td>0.0</td>\n",
       "      <td>0.0</td>\n",
       "    </tr>\n",
       "    <tr>\n",
       "      <th>6255</th>\n",
       "      <td>1190549.0</td>\n",
       "      <td>0.0</td>\n",
       "      <td>3123.00000</td>\n",
       "      <td>2.60000</td>\n",
       "      <td>0.70000</td>\n",
       "      <td>8.40000</td>\n",
       "      <td>106.60000</td>\n",
       "      <td>7.60000</td>\n",
       "      <td>4.950000</td>\n",
       "      <td>6.175602</td>\n",
       "      <td>...</td>\n",
       "      <td>1.000</td>\n",
       "      <td>2.000000</td>\n",
       "      <td>0.0</td>\n",
       "      <td>0.0</td>\n",
       "      <td>1.0</td>\n",
       "      <td>1.0</td>\n",
       "      <td>0.000000</td>\n",
       "      <td>0.0</td>\n",
       "      <td>1.0</td>\n",
       "      <td>0.0</td>\n",
       "    </tr>\n",
       "    <tr>\n",
       "      <th>6256</th>\n",
       "      <td>1190549.0</td>\n",
       "      <td>1.0</td>\n",
       "      <td>1570.31918</td>\n",
       "      <td>2.05018</td>\n",
       "      <td>1.45606</td>\n",
       "      <td>3.92809</td>\n",
       "      <td>53.28167</td>\n",
       "      <td>1.82742</td>\n",
       "      <td>5.111212</td>\n",
       "      <td>6.205986</td>\n",
       "      <td>...</td>\n",
       "      <td>1.000</td>\n",
       "      <td>1.063000</td>\n",
       "      <td>0.0</td>\n",
       "      <td>0.0</td>\n",
       "      <td>0.0</td>\n",
       "      <td>0.0</td>\n",
       "      <td>0.000000</td>\n",
       "      <td>0.0</td>\n",
       "      <td>0.0</td>\n",
       "      <td>0.0</td>\n",
       "    </tr>\n",
       "    <tr>\n",
       "      <th>6257</th>\n",
       "      <td>1190549.0</td>\n",
       "      <td>0.0</td>\n",
       "      <td>1629.43327</td>\n",
       "      <td>0.53091</td>\n",
       "      <td>3.25606</td>\n",
       "      <td>5.33703</td>\n",
       "      <td>59.56946</td>\n",
       "      <td>0.83691</td>\n",
       "      <td>5.477124</td>\n",
       "      <td>6.247411</td>\n",
       "      <td>...</td>\n",
       "      <td>0.000</td>\n",
       "      <td>0.000000</td>\n",
       "      <td>0.0</td>\n",
       "      <td>0.0</td>\n",
       "      <td>0.0</td>\n",
       "      <td>0.0</td>\n",
       "      <td>0.000000</td>\n",
       "      <td>0.0</td>\n",
       "      <td>0.0</td>\n",
       "      <td>0.0</td>\n",
       "    </tr>\n",
       "    <tr>\n",
       "      <th>6258</th>\n",
       "      <td>1190213.0</td>\n",
       "      <td>1.0</td>\n",
       "      <td>842.00000</td>\n",
       "      <td>2.00000</td>\n",
       "      <td>2.00000</td>\n",
       "      <td>3.00000</td>\n",
       "      <td>43.00000</td>\n",
       "      <td>5.00000</td>\n",
       "      <td>4.600000</td>\n",
       "      <td>7.585571</td>\n",
       "      <td>...</td>\n",
       "      <td>1.000</td>\n",
       "      <td>0.000000</td>\n",
       "      <td>0.0</td>\n",
       "      <td>0.0</td>\n",
       "      <td>0.0</td>\n",
       "      <td>0.0</td>\n",
       "      <td>0.000000</td>\n",
       "      <td>0.0</td>\n",
       "      <td>0.0</td>\n",
       "      <td>0.0</td>\n",
       "    </tr>\n",
       "    <tr>\n",
       "      <th>6259</th>\n",
       "      <td>1190213.0</td>\n",
       "      <td>0.0</td>\n",
       "      <td>2404.46600</td>\n",
       "      <td>7.55300</td>\n",
       "      <td>4.64100</td>\n",
       "      <td>6.79400</td>\n",
       "      <td>115.46500</td>\n",
       "      <td>13.50000</td>\n",
       "      <td>5.257600</td>\n",
       "      <td>7.220694</td>\n",
       "      <td>...</td>\n",
       "      <td>0.000</td>\n",
       "      <td>1.000000</td>\n",
       "      <td>0.0</td>\n",
       "      <td>0.0</td>\n",
       "      <td>0.0</td>\n",
       "      <td>0.0</td>\n",
       "      <td>0.000000</td>\n",
       "      <td>0.0</td>\n",
       "      <td>1.0</td>\n",
       "      <td>0.0</td>\n",
       "    </tr>\n",
       "    <tr>\n",
       "      <th>6260</th>\n",
       "      <td>1190398.0</td>\n",
       "      <td>1.0</td>\n",
       "      <td>2099.96413</td>\n",
       "      <td>21.46806</td>\n",
       "      <td>5.94021</td>\n",
       "      <td>11.87791</td>\n",
       "      <td>174.67396</td>\n",
       "      <td>24.01009</td>\n",
       "      <td>11.920588</td>\n",
       "      <td>8.285222</td>\n",
       "      <td>...</td>\n",
       "      <td>1.000</td>\n",
       "      <td>1.700000</td>\n",
       "      <td>1.0</td>\n",
       "      <td>0.0</td>\n",
       "      <td>0.0</td>\n",
       "      <td>0.0</td>\n",
       "      <td>1.000000</td>\n",
       "      <td>0.0</td>\n",
       "      <td>0.0</td>\n",
       "      <td>1.0</td>\n",
       "    </tr>\n",
       "    <tr>\n",
       "      <th>6261</th>\n",
       "      <td>1190398.0</td>\n",
       "      <td>0.0</td>\n",
       "      <td>1277.10000</td>\n",
       "      <td>1.40000</td>\n",
       "      <td>3.10000</td>\n",
       "      <td>4.20000</td>\n",
       "      <td>57.30000</td>\n",
       "      <td>3.50000</td>\n",
       "      <td>5.070000</td>\n",
       "      <td>6.580920</td>\n",
       "      <td>...</td>\n",
       "      <td>0.000</td>\n",
       "      <td>0.000000</td>\n",
       "      <td>0.0</td>\n",
       "      <td>0.0</td>\n",
       "      <td>0.0</td>\n",
       "      <td>0.0</td>\n",
       "      <td>0.000000</td>\n",
       "      <td>0.0</td>\n",
       "      <td>0.0</td>\n",
       "      <td>0.0</td>\n",
       "    </tr>\n",
       "    <tr>\n",
       "      <th>6262</th>\n",
       "      <td>1190398.0</td>\n",
       "      <td>1.0</td>\n",
       "      <td>1137.00000</td>\n",
       "      <td>1.00000</td>\n",
       "      <td>2.00000</td>\n",
       "      <td>2.00000</td>\n",
       "      <td>51.00000</td>\n",
       "      <td>2.00000</td>\n",
       "      <td>5.000000</td>\n",
       "      <td>6.432299</td>\n",
       "      <td>...</td>\n",
       "      <td>0.000</td>\n",
       "      <td>0.000000</td>\n",
       "      <td>0.0</td>\n",
       "      <td>0.0</td>\n",
       "      <td>0.0</td>\n",
       "      <td>0.0</td>\n",
       "      <td>0.000000</td>\n",
       "      <td>0.0</td>\n",
       "      <td>0.0</td>\n",
       "      <td>0.0</td>\n",
       "    </tr>\n",
       "    <tr>\n",
       "      <th>6263</th>\n",
       "      <td>1190398.0</td>\n",
       "      <td>0.0</td>\n",
       "      <td>2865.88700</td>\n",
       "      <td>3.10000</td>\n",
       "      <td>0.29400</td>\n",
       "      <td>13.50600</td>\n",
       "      <td>139.81200</td>\n",
       "      <td>18.46500</td>\n",
       "      <td>6.341800</td>\n",
       "      <td>7.821894</td>\n",
       "      <td>...</td>\n",
       "      <td>1.000</td>\n",
       "      <td>1.000000</td>\n",
       "      <td>0.0</td>\n",
       "      <td>0.0</td>\n",
       "      <td>1.0</td>\n",
       "      <td>1.0</td>\n",
       "      <td>0.000000</td>\n",
       "      <td>0.0</td>\n",
       "      <td>1.0</td>\n",
       "      <td>0.0</td>\n",
       "    </tr>\n",
       "    <tr>\n",
       "      <th>6264</th>\n",
       "      <td>1190429.0</td>\n",
       "      <td>1.0</td>\n",
       "      <td>2043.40000</td>\n",
       "      <td>22.40000</td>\n",
       "      <td>8.40000</td>\n",
       "      <td>10.50000</td>\n",
       "      <td>213.00000</td>\n",
       "      <td>18.20000</td>\n",
       "      <td>9.220000</td>\n",
       "      <td>7.974378</td>\n",
       "      <td>...</td>\n",
       "      <td>1.000</td>\n",
       "      <td>0.000000</td>\n",
       "      <td>1.0</td>\n",
       "      <td>0.0</td>\n",
       "      <td>0.0</td>\n",
       "      <td>0.0</td>\n",
       "      <td>1.000000</td>\n",
       "      <td>0.0</td>\n",
       "      <td>0.0</td>\n",
       "      <td>0.0</td>\n",
       "    </tr>\n",
       "    <tr>\n",
       "      <th>6265</th>\n",
       "      <td>1190429.0</td>\n",
       "      <td>0.0</td>\n",
       "      <td>1709.00000</td>\n",
       "      <td>1.00000</td>\n",
       "      <td>1.00000</td>\n",
       "      <td>5.00000</td>\n",
       "      <td>65.00000</td>\n",
       "      <td>9.00000</td>\n",
       "      <td>4.300000</td>\n",
       "      <td>7.136066</td>\n",
       "      <td>...</td>\n",
       "      <td>0.000</td>\n",
       "      <td>0.000000</td>\n",
       "      <td>0.0</td>\n",
       "      <td>0.0</td>\n",
       "      <td>0.0</td>\n",
       "      <td>0.0</td>\n",
       "      <td>0.000000</td>\n",
       "      <td>0.0</td>\n",
       "      <td>0.0</td>\n",
       "      <td>0.0</td>\n",
       "    </tr>\n",
       "    <tr>\n",
       "      <th>6266</th>\n",
       "      <td>1190429.0</td>\n",
       "      <td>1.0</td>\n",
       "      <td>2683.98300</td>\n",
       "      <td>13.64700</td>\n",
       "      <td>8.44100</td>\n",
       "      <td>14.19400</td>\n",
       "      <td>176.87500</td>\n",
       "      <td>25.55300</td>\n",
       "      <td>9.169400</td>\n",
       "      <td>8.058750</td>\n",
       "      <td>...</td>\n",
       "      <td>1.000</td>\n",
       "      <td>1.000000</td>\n",
       "      <td>0.0</td>\n",
       "      <td>0.0</td>\n",
       "      <td>0.0</td>\n",
       "      <td>1.0</td>\n",
       "      <td>1.000000</td>\n",
       "      <td>0.0</td>\n",
       "      <td>0.0</td>\n",
       "      <td>0.0</td>\n",
       "    </tr>\n",
       "    <tr>\n",
       "      <th>6267</th>\n",
       "      <td>1190429.0</td>\n",
       "      <td>0.0</td>\n",
       "      <td>1208.82900</td>\n",
       "      <td>0.84700</td>\n",
       "      <td>0.29400</td>\n",
       "      <td>3.35300</td>\n",
       "      <td>34.55800</td>\n",
       "      <td>1.32900</td>\n",
       "      <td>4.315900</td>\n",
       "      <td>5.734267</td>\n",
       "      <td>...</td>\n",
       "      <td>1.000</td>\n",
       "      <td>0.000000</td>\n",
       "      <td>0.0</td>\n",
       "      <td>0.0</td>\n",
       "      <td>1.0</td>\n",
       "      <td>0.0</td>\n",
       "      <td>0.000000</td>\n",
       "      <td>0.0</td>\n",
       "      <td>0.0</td>\n",
       "      <td>0.0</td>\n",
       "    </tr>\n",
       "    <tr>\n",
       "      <th>6268</th>\n",
       "      <td>1190415.0</td>\n",
       "      <td>1.0</td>\n",
       "      <td>2375.28830</td>\n",
       "      <td>9.48470</td>\n",
       "      <td>6.92503</td>\n",
       "      <td>7.51585</td>\n",
       "      <td>136.92357</td>\n",
       "      <td>11.31561</td>\n",
       "      <td>6.969797</td>\n",
       "      <td>8.084258</td>\n",
       "      <td>...</td>\n",
       "      <td>1.000</td>\n",
       "      <td>1.002430</td>\n",
       "      <td>0.0</td>\n",
       "      <td>0.0</td>\n",
       "      <td>1.0</td>\n",
       "      <td>0.0</td>\n",
       "      <td>1.000000</td>\n",
       "      <td>1.0</td>\n",
       "      <td>0.0</td>\n",
       "      <td>0.0</td>\n",
       "    </tr>\n",
       "    <tr>\n",
       "      <th>6269</th>\n",
       "      <td>1190415.0</td>\n",
       "      <td>0.0</td>\n",
       "      <td>1775.42400</td>\n",
       "      <td>0.45300</td>\n",
       "      <td>0.29400</td>\n",
       "      <td>5.00000</td>\n",
       "      <td>48.27600</td>\n",
       "      <td>0.59400</td>\n",
       "      <td>4.284700</td>\n",
       "      <td>6.078425</td>\n",
       "      <td>...</td>\n",
       "      <td>1.000</td>\n",
       "      <td>1.000000</td>\n",
       "      <td>0.0</td>\n",
       "      <td>0.0</td>\n",
       "      <td>1.0</td>\n",
       "      <td>1.0</td>\n",
       "      <td>0.000000</td>\n",
       "      <td>0.0</td>\n",
       "      <td>0.0</td>\n",
       "      <td>0.0</td>\n",
       "    </tr>\n",
       "    <tr>\n",
       "      <th>6270</th>\n",
       "      <td>1190415.0</td>\n",
       "      <td>1.0</td>\n",
       "      <td>1086.31300</td>\n",
       "      <td>5.60000</td>\n",
       "      <td>1.40000</td>\n",
       "      <td>4.20000</td>\n",
       "      <td>65.40000</td>\n",
       "      <td>9.80000</td>\n",
       "      <td>6.474700</td>\n",
       "      <td>6.228400</td>\n",
       "      <td>...</td>\n",
       "      <td>0.000</td>\n",
       "      <td>1.000000</td>\n",
       "      <td>0.0</td>\n",
       "      <td>0.0</td>\n",
       "      <td>0.0</td>\n",
       "      <td>0.0</td>\n",
       "      <td>0.000000</td>\n",
       "      <td>0.0</td>\n",
       "      <td>0.0</td>\n",
       "      <td>0.0</td>\n",
       "    </tr>\n",
       "    <tr>\n",
       "      <th>6271</th>\n",
       "      <td>1190415.0</td>\n",
       "      <td>0.0</td>\n",
       "      <td>582.31900</td>\n",
       "      <td>1.00600</td>\n",
       "      <td>2.07700</td>\n",
       "      <td>1.85900</td>\n",
       "      <td>31.95700</td>\n",
       "      <td>2.55900</td>\n",
       "      <td>5.574100</td>\n",
       "      <td>8.264825</td>\n",
       "      <td>...</td>\n",
       "      <td>0.000</td>\n",
       "      <td>0.000000</td>\n",
       "      <td>0.0</td>\n",
       "      <td>0.0</td>\n",
       "      <td>0.0</td>\n",
       "      <td>0.0</td>\n",
       "      <td>0.000000</td>\n",
       "      <td>0.0</td>\n",
       "      <td>0.0</td>\n",
       "      <td>0.0</td>\n",
       "    </tr>\n",
       "    <tr>\n",
       "      <th>6272</th>\n",
       "      <td>1190373.0</td>\n",
       "      <td>1.0</td>\n",
       "      <td>2272.60000</td>\n",
       "      <td>2.70000</td>\n",
       "      <td>1.30000</td>\n",
       "      <td>9.40000</td>\n",
       "      <td>103.30000</td>\n",
       "      <td>11.50000</td>\n",
       "      <td>5.520000</td>\n",
       "      <td>7.000838</td>\n",
       "      <td>...</td>\n",
       "      <td>1.000</td>\n",
       "      <td>1.000000</td>\n",
       "      <td>0.0</td>\n",
       "      <td>0.0</td>\n",
       "      <td>0.0</td>\n",
       "      <td>1.0</td>\n",
       "      <td>0.000000</td>\n",
       "      <td>0.0</td>\n",
       "      <td>0.0</td>\n",
       "      <td>0.0</td>\n",
       "    </tr>\n",
       "    <tr>\n",
       "      <th>6273</th>\n",
       "      <td>1190373.0</td>\n",
       "      <td>0.0</td>\n",
       "      <td>1709.00000</td>\n",
       "      <td>1.00000</td>\n",
       "      <td>1.00000</td>\n",
       "      <td>5.00000</td>\n",
       "      <td>65.00000</td>\n",
       "      <td>9.00000</td>\n",
       "      <td>4.300000</td>\n",
       "      <td>6.445820</td>\n",
       "      <td>...</td>\n",
       "      <td>0.000</td>\n",
       "      <td>0.000000</td>\n",
       "      <td>0.0</td>\n",
       "      <td>0.0</td>\n",
       "      <td>0.0</td>\n",
       "      <td>0.0</td>\n",
       "      <td>0.000000</td>\n",
       "      <td>0.0</td>\n",
       "      <td>0.0</td>\n",
       "      <td>0.0</td>\n",
       "    </tr>\n",
       "    <tr>\n",
       "      <th>6274</th>\n",
       "      <td>1190373.0</td>\n",
       "      <td>1.0</td>\n",
       "      <td>1602.80000</td>\n",
       "      <td>3.30000</td>\n",
       "      <td>6.60000</td>\n",
       "      <td>11.40000</td>\n",
       "      <td>96.80000</td>\n",
       "      <td>7.20000</td>\n",
       "      <td>8.000000</td>\n",
       "      <td>8.314319</td>\n",
       "      <td>...</td>\n",
       "      <td>1.000</td>\n",
       "      <td>0.000000</td>\n",
       "      <td>0.0</td>\n",
       "      <td>0.0</td>\n",
       "      <td>1.0</td>\n",
       "      <td>0.0</td>\n",
       "      <td>0.000000</td>\n",
       "      <td>0.0</td>\n",
       "      <td>0.0</td>\n",
       "      <td>0.0</td>\n",
       "    </tr>\n",
       "    <tr>\n",
       "      <th>6275</th>\n",
       "      <td>1190373.0</td>\n",
       "      <td>0.0</td>\n",
       "      <td>2817.00000</td>\n",
       "      <td>5.00000</td>\n",
       "      <td>8.00000</td>\n",
       "      <td>8.00000</td>\n",
       "      <td>125.00000</td>\n",
       "      <td>4.00000</td>\n",
       "      <td>5.800000</td>\n",
       "      <td>6.433354</td>\n",
       "      <td>...</td>\n",
       "      <td>1.000</td>\n",
       "      <td>1.000000</td>\n",
       "      <td>0.0</td>\n",
       "      <td>0.0</td>\n",
       "      <td>0.0</td>\n",
       "      <td>0.0</td>\n",
       "      <td>0.000000</td>\n",
       "      <td>0.0</td>\n",
       "      <td>0.0</td>\n",
       "      <td>0.0</td>\n",
       "    </tr>\n",
       "    <tr>\n",
       "      <th>6276</th>\n",
       "      <td>1190373.0</td>\n",
       "      <td>1.0</td>\n",
       "      <td>1056.00000</td>\n",
       "      <td>10.00000</td>\n",
       "      <td>4.00000</td>\n",
       "      <td>4.00000</td>\n",
       "      <td>87.00000</td>\n",
       "      <td>12.00000</td>\n",
       "      <td>10.800000</td>\n",
       "      <td>6.350573</td>\n",
       "      <td>...</td>\n",
       "      <td>0.000</td>\n",
       "      <td>0.000000</td>\n",
       "      <td>1.0</td>\n",
       "      <td>0.0</td>\n",
       "      <td>0.0</td>\n",
       "      <td>0.0</td>\n",
       "      <td>1.000000</td>\n",
       "      <td>0.0</td>\n",
       "      <td>0.0</td>\n",
       "      <td>0.0</td>\n",
       "    </tr>\n",
       "    <tr>\n",
       "      <th>6277</th>\n",
       "      <td>1190373.0</td>\n",
       "      <td>0.0</td>\n",
       "      <td>1437.80000</td>\n",
       "      <td>4.10000</td>\n",
       "      <td>3.00000</td>\n",
       "      <td>1.60000</td>\n",
       "      <td>69.60000</td>\n",
       "      <td>4.10000</td>\n",
       "      <td>5.800000</td>\n",
       "      <td>6.732687</td>\n",
       "      <td>...</td>\n",
       "      <td>1.000</td>\n",
       "      <td>1.000000</td>\n",
       "      <td>0.0</td>\n",
       "      <td>0.0</td>\n",
       "      <td>0.0</td>\n",
       "      <td>0.0</td>\n",
       "      <td>0.000000</td>\n",
       "      <td>0.0</td>\n",
       "      <td>0.0</td>\n",
       "      <td>0.0</td>\n",
       "    </tr>\n",
       "    <tr>\n",
       "      <th>6278</th>\n",
       "      <td>1190367.0</td>\n",
       "      <td>1.0</td>\n",
       "      <td>2667.44624</td>\n",
       "      <td>12.05109</td>\n",
       "      <td>9.61609</td>\n",
       "      <td>11.59694</td>\n",
       "      <td>173.88020</td>\n",
       "      <td>17.34136</td>\n",
       "      <td>11.444712</td>\n",
       "      <td>7.574495</td>\n",
       "      <td>...</td>\n",
       "      <td>1.063</td>\n",
       "      <td>1.000000</td>\n",
       "      <td>1.0</td>\n",
       "      <td>0.0</td>\n",
       "      <td>0.0</td>\n",
       "      <td>0.0</td>\n",
       "      <td>1.000000</td>\n",
       "      <td>0.0</td>\n",
       "      <td>0.0</td>\n",
       "      <td>0.0</td>\n",
       "    </tr>\n",
       "    <tr>\n",
       "      <th>6279</th>\n",
       "      <td>1190367.0</td>\n",
       "      <td>0.0</td>\n",
       "      <td>3264.00000</td>\n",
       "      <td>0.00000</td>\n",
       "      <td>2.00000</td>\n",
       "      <td>9.00000</td>\n",
       "      <td>102.00000</td>\n",
       "      <td>15.00000</td>\n",
       "      <td>4.600000</td>\n",
       "      <td>7.663458</td>\n",
       "      <td>...</td>\n",
       "      <td>1.000</td>\n",
       "      <td>1.000000</td>\n",
       "      <td>0.0</td>\n",
       "      <td>0.0</td>\n",
       "      <td>0.0</td>\n",
       "      <td>0.0</td>\n",
       "      <td>0.000000</td>\n",
       "      <td>0.0</td>\n",
       "      <td>0.0</td>\n",
       "      <td>0.0</td>\n",
       "    </tr>\n",
       "    <tr>\n",
       "      <th>6280</th>\n",
       "      <td>1190367.0</td>\n",
       "      <td>1.0</td>\n",
       "      <td>2948.05906</td>\n",
       "      <td>17.00476</td>\n",
       "      <td>6.77497</td>\n",
       "      <td>13.08800</td>\n",
       "      <td>170.29050</td>\n",
       "      <td>20.26161</td>\n",
       "      <td>10.865800</td>\n",
       "      <td>7.470642</td>\n",
       "      <td>...</td>\n",
       "      <td>1.000</td>\n",
       "      <td>1.000153</td>\n",
       "      <td>1.0</td>\n",
       "      <td>0.0</td>\n",
       "      <td>0.0</td>\n",
       "      <td>0.0</td>\n",
       "      <td>1.000000</td>\n",
       "      <td>0.0</td>\n",
       "      <td>1.0</td>\n",
       "      <td>0.0</td>\n",
       "    </tr>\n",
       "    <tr>\n",
       "      <th>6281</th>\n",
       "      <td>1190367.0</td>\n",
       "      <td>0.0</td>\n",
       "      <td>1268.00000</td>\n",
       "      <td>0.00000</td>\n",
       "      <td>4.00000</td>\n",
       "      <td>3.00000</td>\n",
       "      <td>44.00000</td>\n",
       "      <td>0.00000</td>\n",
       "      <td>4.500000</td>\n",
       "      <td>6.146364</td>\n",
       "      <td>...</td>\n",
       "      <td>0.000</td>\n",
       "      <td>0.000000</td>\n",
       "      <td>0.0</td>\n",
       "      <td>0.0</td>\n",
       "      <td>0.0</td>\n",
       "      <td>0.0</td>\n",
       "      <td>0.000000</td>\n",
       "      <td>0.0</td>\n",
       "      <td>0.0</td>\n",
       "      <td>0.0</td>\n",
       "    </tr>\n",
       "    <tr>\n",
       "      <th>6282</th>\n",
       "      <td>1190401.0</td>\n",
       "      <td>1.0</td>\n",
       "      <td>2448.15865</td>\n",
       "      <td>7.89933</td>\n",
       "      <td>10.78403</td>\n",
       "      <td>13.32503</td>\n",
       "      <td>159.51085</td>\n",
       "      <td>22.37375</td>\n",
       "      <td>8.503600</td>\n",
       "      <td>8.094137</td>\n",
       "      <td>...</td>\n",
       "      <td>1.000</td>\n",
       "      <td>1.000000</td>\n",
       "      <td>0.0</td>\n",
       "      <td>0.0</td>\n",
       "      <td>0.0</td>\n",
       "      <td>0.0</td>\n",
       "      <td>0.000000</td>\n",
       "      <td>0.0</td>\n",
       "      <td>0.0</td>\n",
       "      <td>0.0</td>\n",
       "    </tr>\n",
       "    <tr>\n",
       "      <th>6283</th>\n",
       "      <td>1190401.0</td>\n",
       "      <td>0.0</td>\n",
       "      <td>1648.47040</td>\n",
       "      <td>0.00000</td>\n",
       "      <td>0.22503</td>\n",
       "      <td>3.12197</td>\n",
       "      <td>41.49909</td>\n",
       "      <td>1.27815</td>\n",
       "      <td>4.270000</td>\n",
       "      <td>7.072728</td>\n",
       "      <td>...</td>\n",
       "      <td>1.300</td>\n",
       "      <td>0.000000</td>\n",
       "      <td>0.0</td>\n",
       "      <td>0.0</td>\n",
       "      <td>1.0</td>\n",
       "      <td>0.0</td>\n",
       "      <td>0.000000</td>\n",
       "      <td>0.0</td>\n",
       "      <td>0.0</td>\n",
       "      <td>0.0</td>\n",
       "    </tr>\n",
       "  </tbody>\n",
       "</table>\n",
       "<p>6284 rows × 41 columns</p>\n",
       "</div>"
      ],
      "text/plain": [
       "       match_id  scored  fpl_minutes  fpl_goals  fpl_assits    fpl_cs  \\\n",
       "0      829513.0     1.0   2287.00000    3.00000     0.00000  11.00000   \n",
       "1      829513.0     0.0   2771.00000    4.00000    12.00000   6.00000   \n",
       "2      829513.0     1.0   2007.00000    6.00000     6.00000  10.00000   \n",
       "3      829513.0     0.0   2823.00000    6.00000     7.00000   6.00000   \n",
       "4      829513.0     1.0   1173.00000    2.00000     1.00000   2.00000   \n",
       "5      829513.0     0.0    729.00000    2.00000     1.00000   1.00000   \n",
       "6      829514.0     1.0   3202.00000    2.00000     2.00000   9.00000   \n",
       "7      829514.0     0.0   2481.00000    0.00000     3.00000  14.00000   \n",
       "8      829514.0     1.0   3420.00000    4.00000     6.00000  17.00000   \n",
       "9      829514.0     0.0   3415.00000    0.00000     4.00000  10.00000   \n",
       "10     829514.0     1.0    436.00000    3.00000     0.00000   2.00000   \n",
       "11     829514.0     0.0    981.00000    0.00000     3.00000   3.00000   \n",
       "12     829514.0     1.0   2069.00000   20.00000     3.00000  12.00000   \n",
       "13     829514.0     0.0   3420.00000    0.00000     0.00000  10.00000   \n",
       "14     829515.0     1.0   2398.00000   11.00000     4.00000   9.00000   \n",
       "15     829515.0     0.0   2400.00000    2.00000     2.00000   8.00000   \n",
       "16     829515.0     1.0    884.00000    1.00000     3.00000   4.00000   \n",
       "17     829515.0     0.0   2244.00000    1.00000     1.00000   5.00000   \n",
       "18     829515.0     1.0   2057.00000    7.00000     3.00000   6.00000   \n",
       "19     829515.0     0.0   2160.00000    0.00000     0.00000   6.00000   \n",
       "20     829516.0     1.0   3047.00000    7.00000    10.00000  13.00000   \n",
       "21     829516.0     0.0   2186.00000    4.00000     2.00000  11.00000   \n",
       "22     829516.0     1.0    752.00000    4.00000     3.00000   3.00000   \n",
       "23     829516.0     0.0   3053.00000    2.00000     3.00000  13.00000   \n",
       "24     829516.0     1.0   3146.00000    2.00000     2.00000  13.00000   \n",
       "25     829516.0     0.0   2236.00000    9.00000     1.00000   5.00000   \n",
       "26     829517.0     1.0   2872.00000   12.00000     5.00000  11.00000   \n",
       "27     829517.0     0.0   1598.00000   11.00000     3.00000   8.00000   \n",
       "28     829517.0     1.0   2689.00000    8.00000     1.00000  11.00000   \n",
       "29     829517.0     0.0   3313.00000    0.00000     0.00000  11.00000   \n",
       "...         ...     ...          ...        ...         ...       ...   \n",
       "6254  1190549.0     1.0   1413.80000    3.10000     5.60000   4.20000   \n",
       "6255  1190549.0     0.0   3123.00000    2.60000     0.70000   8.40000   \n",
       "6256  1190549.0     1.0   1570.31918    2.05018     1.45606   3.92809   \n",
       "6257  1190549.0     0.0   1629.43327    0.53091     3.25606   5.33703   \n",
       "6258  1190213.0     1.0    842.00000    2.00000     2.00000   3.00000   \n",
       "6259  1190213.0     0.0   2404.46600    7.55300     4.64100   6.79400   \n",
       "6260  1190398.0     1.0   2099.96413   21.46806     5.94021  11.87791   \n",
       "6261  1190398.0     0.0   1277.10000    1.40000     3.10000   4.20000   \n",
       "6262  1190398.0     1.0   1137.00000    1.00000     2.00000   2.00000   \n",
       "6263  1190398.0     0.0   2865.88700    3.10000     0.29400  13.50600   \n",
       "6264  1190429.0     1.0   2043.40000   22.40000     8.40000  10.50000   \n",
       "6265  1190429.0     0.0   1709.00000    1.00000     1.00000   5.00000   \n",
       "6266  1190429.0     1.0   2683.98300   13.64700     8.44100  14.19400   \n",
       "6267  1190429.0     0.0   1208.82900    0.84700     0.29400   3.35300   \n",
       "6268  1190415.0     1.0   2375.28830    9.48470     6.92503   7.51585   \n",
       "6269  1190415.0     0.0   1775.42400    0.45300     0.29400   5.00000   \n",
       "6270  1190415.0     1.0   1086.31300    5.60000     1.40000   4.20000   \n",
       "6271  1190415.0     0.0    582.31900    1.00600     2.07700   1.85900   \n",
       "6272  1190373.0     1.0   2272.60000    2.70000     1.30000   9.40000   \n",
       "6273  1190373.0     0.0   1709.00000    1.00000     1.00000   5.00000   \n",
       "6274  1190373.0     1.0   1602.80000    3.30000     6.60000  11.40000   \n",
       "6275  1190373.0     0.0   2817.00000    5.00000     8.00000   8.00000   \n",
       "6276  1190373.0     1.0   1056.00000   10.00000     4.00000   4.00000   \n",
       "6277  1190373.0     0.0   1437.80000    4.10000     3.00000   1.60000   \n",
       "6278  1190367.0     1.0   2667.44624   12.05109     9.61609  11.59694   \n",
       "6279  1190367.0     0.0   3264.00000    0.00000     2.00000   9.00000   \n",
       "6280  1190367.0     1.0   2948.05906   17.00476     6.77497  13.08800   \n",
       "6281  1190367.0     0.0   1268.00000    0.00000     4.00000   3.00000   \n",
       "6282  1190401.0     1.0   2448.15865    7.89933    10.78403  13.32503   \n",
       "6283  1190401.0     0.0   1648.47040    0.00000     0.22503   3.12197   \n",
       "\n",
       "      fpl_points  fpl_bonus  fpl_cprice  player_rating      ...       \\\n",
       "0      120.00000   15.00000    6.100000       6.651000      ...        \n",
       "1      132.00000    8.00000    5.600000       7.054412      ...        \n",
       "2      116.00000   13.00000    8.800000       6.839000      ...        \n",
       "3      128.00000   14.00000    5.500000       6.987838      ...        \n",
       "4       42.00000    1.00000    4.600000       3.183548      ...        \n",
       "5       36.00000    4.00000    6.300000       5.634706      ...        \n",
       "6       91.00000    2.00000    4.700000       6.575946      ...        \n",
       "7      132.00000   19.00000    6.200000       5.998286      ...        \n",
       "8      179.00000   13.00000    7.700000       7.253684      ...        \n",
       "9      118.00000   11.00000    4.800000       7.146579      ...        \n",
       "10      33.00000    1.00000    7.100000       5.138333      ...        \n",
       "11      43.00000    0.00000    4.400000       4.295946      ...        \n",
       "12     150.00000   18.00000   10.600000       7.428077      ...        \n",
       "13     150.00000   11.00000    4.700000       6.817895      ...        \n",
       "14     130.00000   14.00000    5.000000       6.668421      ...        \n",
       "15      79.00000    8.00000    4.600000       7.084643      ...        \n",
       "16      44.00000    0.00000    5.300000       4.018846      ...        \n",
       "17      62.00000    5.00000    4.400000       4.664444      ...        \n",
       "18      98.00000   16.00000    4.700000       6.191765      ...        \n",
       "19      83.00000    6.00000    4.500000       6.368800      ...        \n",
       "20     158.00000   16.00000    8.300000       7.072222      ...        \n",
       "21      90.00000   12.00000    5.500000       7.499231      ...        \n",
       "22      46.00000    2.00000   11.100000       7.010833      ...        \n",
       "23     140.00000   13.00000    5.800000       7.021176      ...        \n",
       "24     142.00000   15.00000    5.900000       6.842778      ...        \n",
       "25     114.00000   20.00000    8.600000       6.723333      ...        \n",
       "26     132.00000   15.00000   10.600000       7.276667      ...        \n",
       "27     108.00000   14.00000    8.100000       7.105667      ...        \n",
       "28     129.00000   17.00000    5.100000       7.095455      ...        \n",
       "29     138.00000    3.00000    5.800000       6.679189      ...        \n",
       "...          ...        ...         ...            ...      ...        \n",
       "6254    66.70000    2.40000    4.780000       6.912950      ...        \n",
       "6255   106.60000    7.60000    4.950000       6.175602      ...        \n",
       "6256    53.28167    1.82742    5.111212       6.205986      ...        \n",
       "6257    59.56946    0.83691    5.477124       6.247411      ...        \n",
       "6258    43.00000    5.00000    4.600000       7.585571      ...        \n",
       "6259   115.46500   13.50000    5.257600       7.220694      ...        \n",
       "6260   174.67396   24.01009   11.920588       8.285222      ...        \n",
       "6261    57.30000    3.50000    5.070000       6.580920      ...        \n",
       "6262    51.00000    2.00000    5.000000       6.432299      ...        \n",
       "6263   139.81200   18.46500    6.341800       7.821894      ...        \n",
       "6264   213.00000   18.20000    9.220000       7.974378      ...        \n",
       "6265    65.00000    9.00000    4.300000       7.136066      ...        \n",
       "6266   176.87500   25.55300    9.169400       8.058750      ...        \n",
       "6267    34.55800    1.32900    4.315900       5.734267      ...        \n",
       "6268   136.92357   11.31561    6.969797       8.084258      ...        \n",
       "6269    48.27600    0.59400    4.284700       6.078425      ...        \n",
       "6270    65.40000    9.80000    6.474700       6.228400      ...        \n",
       "6271    31.95700    2.55900    5.574100       8.264825      ...        \n",
       "6272   103.30000   11.50000    5.520000       7.000838      ...        \n",
       "6273    65.00000    9.00000    4.300000       6.445820      ...        \n",
       "6274    96.80000    7.20000    8.000000       8.314319      ...        \n",
       "6275   125.00000    4.00000    5.800000       6.433354      ...        \n",
       "6276    87.00000   12.00000   10.800000       6.350573      ...        \n",
       "6277    69.60000    4.10000    5.800000       6.732687      ...        \n",
       "6278   173.88020   17.34136   11.444712       7.574495      ...        \n",
       "6279   102.00000   15.00000    4.600000       7.663458      ...        \n",
       "6280   170.29050   20.26161   10.865800       7.470642      ...        \n",
       "6281    44.00000    0.00000    4.500000       6.146364      ...        \n",
       "6282   159.51085   22.37375    8.503600       8.094137      ...        \n",
       "6283    41.49909    1.27815    4.270000       7.072728      ...        \n",
       "\n",
       "      six_yard_block  post_scoring_att  att_pen_target  penalty_save  \\\n",
       "0              0.000          0.000000             0.0           0.0   \n",
       "1              1.000          1.000000             0.0           0.0   \n",
       "2              0.000          1.000000             0.0           0.0   \n",
       "3              0.000          1.000000             0.0           0.0   \n",
       "4              1.000          0.000000             0.0           0.0   \n",
       "5              1.000          0.000000             0.0           0.0   \n",
       "6              1.000          0.000000             1.0           0.0   \n",
       "7              0.000          0.000000             0.0           0.0   \n",
       "8              0.000          0.000000             0.0           0.0   \n",
       "9              0.000          0.000000             0.0           0.0   \n",
       "10             0.000          0.000000             0.0           0.0   \n",
       "11             0.000          0.000000             0.0           0.0   \n",
       "12             1.000          1.000000             0.0           0.0   \n",
       "13             0.000          0.000000             0.0           1.0   \n",
       "14             1.000          1.000000             0.0           0.0   \n",
       "15             0.000          1.000000             0.0           0.0   \n",
       "16             1.000          0.000000             0.0           0.0   \n",
       "17             0.000          0.000000             0.0           0.0   \n",
       "18             1.000          1.000000             0.0           0.0   \n",
       "19             0.000          0.000000             0.0           0.0   \n",
       "20             1.000          2.000000             0.0           0.0   \n",
       "21             1.000          1.000000             0.0           0.0   \n",
       "22             1.000          1.000000             0.0           0.0   \n",
       "23             0.000          0.000000             0.0           0.0   \n",
       "24             0.000          0.000000             0.0           0.0   \n",
       "25             0.000          0.000000             1.0           0.0   \n",
       "26             1.000          1.000000             1.0           0.0   \n",
       "27             1.000          1.000000             0.0           0.0   \n",
       "28             0.000          0.000000             0.0           0.0   \n",
       "29             0.000          0.000000             0.0           1.0   \n",
       "...              ...               ...             ...           ...   \n",
       "6254           1.000          0.000000             0.0           0.0   \n",
       "6255           1.000          2.000000             0.0           0.0   \n",
       "6256           1.000          1.063000             0.0           0.0   \n",
       "6257           0.000          0.000000             0.0           0.0   \n",
       "6258           1.000          0.000000             0.0           0.0   \n",
       "6259           0.000          1.000000             0.0           0.0   \n",
       "6260           1.000          1.700000             1.0           0.0   \n",
       "6261           0.000          0.000000             0.0           0.0   \n",
       "6262           0.000          0.000000             0.0           0.0   \n",
       "6263           1.000          1.000000             0.0           0.0   \n",
       "6264           1.000          0.000000             1.0           0.0   \n",
       "6265           0.000          0.000000             0.0           0.0   \n",
       "6266           1.000          1.000000             0.0           0.0   \n",
       "6267           1.000          0.000000             0.0           0.0   \n",
       "6268           1.000          1.002430             0.0           0.0   \n",
       "6269           1.000          1.000000             0.0           0.0   \n",
       "6270           0.000          1.000000             0.0           0.0   \n",
       "6271           0.000          0.000000             0.0           0.0   \n",
       "6272           1.000          1.000000             0.0           0.0   \n",
       "6273           0.000          0.000000             0.0           0.0   \n",
       "6274           1.000          0.000000             0.0           0.0   \n",
       "6275           1.000          1.000000             0.0           0.0   \n",
       "6276           0.000          0.000000             1.0           0.0   \n",
       "6277           1.000          1.000000             0.0           0.0   \n",
       "6278           1.063          1.000000             1.0           0.0   \n",
       "6279           1.000          1.000000             0.0           0.0   \n",
       "6280           1.000          1.000153             1.0           0.0   \n",
       "6281           0.000          0.000000             0.0           0.0   \n",
       "6282           1.000          1.000000             0.0           0.0   \n",
       "6283           1.300          0.000000             0.0           0.0   \n",
       "\n",
       "      penalty_conceded  clearance_off_line  att_pen_goal  att_pen_miss  \\\n",
       "0                  1.0                 0.0      0.000000           0.0   \n",
       "1                  0.0                 0.0      0.000000           0.0   \n",
       "2                  0.0                 0.0      0.000000           0.0   \n",
       "3                  0.0                 0.0      0.000000           0.0   \n",
       "4                  0.0                 0.0      0.000000           0.0   \n",
       "5                  0.0                 0.0      0.000000           0.0   \n",
       "6                  1.0                 0.0      0.000000           0.0   \n",
       "7                  0.0                 1.0      0.000000           0.0   \n",
       "8                  0.0                 0.0      0.000000           0.0   \n",
       "9                  0.0                 1.0      0.000000           0.0   \n",
       "10                 0.0                 0.0      0.000000           0.0   \n",
       "11                 0.0                 0.0      0.000000           0.0   \n",
       "12                 0.0                 0.0      1.000000           0.0   \n",
       "13                 0.0                 0.0      0.000000           0.0   \n",
       "14                 0.0                 0.0      1.000000           0.0   \n",
       "15                 1.0                 1.0      0.000000           0.0   \n",
       "16                 0.0                 0.0      0.000000           0.0   \n",
       "17                 1.0                 0.0      0.000000           0.0   \n",
       "18                 0.0                 0.0      0.000000           0.0   \n",
       "19                 0.0                 0.0      0.000000           0.0   \n",
       "20                 0.0                 1.0      0.000000           0.0   \n",
       "21                 0.0                 0.0      0.000000           0.0   \n",
       "22                 0.0                 0.0      0.000000           0.0   \n",
       "23                 0.0                 1.0      0.000000           0.0   \n",
       "24                 0.0                 0.0      0.000000           0.0   \n",
       "25                 0.0                 0.0      1.333333           0.0   \n",
       "26                 0.0                 0.0      1.000000           0.0   \n",
       "27                 0.0                 0.0      1.000000           0.0   \n",
       "28                 0.0                 0.0      0.000000           0.0   \n",
       "29                 0.0                 0.0      0.000000           0.0   \n",
       "...                ...                 ...           ...           ...   \n",
       "6254               0.0                 0.0      0.000000           0.0   \n",
       "6255               1.0                 1.0      0.000000           0.0   \n",
       "6256               0.0                 0.0      0.000000           0.0   \n",
       "6257               0.0                 0.0      0.000000           0.0   \n",
       "6258               0.0                 0.0      0.000000           0.0   \n",
       "6259               0.0                 0.0      0.000000           0.0   \n",
       "6260               0.0                 0.0      1.000000           0.0   \n",
       "6261               0.0                 0.0      0.000000           0.0   \n",
       "6262               0.0                 0.0      0.000000           0.0   \n",
       "6263               1.0                 1.0      0.000000           0.0   \n",
       "6264               0.0                 0.0      1.000000           0.0   \n",
       "6265               0.0                 0.0      0.000000           0.0   \n",
       "6266               0.0                 1.0      1.000000           0.0   \n",
       "6267               1.0                 0.0      0.000000           0.0   \n",
       "6268               1.0                 0.0      1.000000           1.0   \n",
       "6269               1.0                 1.0      0.000000           0.0   \n",
       "6270               0.0                 0.0      0.000000           0.0   \n",
       "6271               0.0                 0.0      0.000000           0.0   \n",
       "6272               0.0                 1.0      0.000000           0.0   \n",
       "6273               0.0                 0.0      0.000000           0.0   \n",
       "6274               1.0                 0.0      0.000000           0.0   \n",
       "6275               0.0                 0.0      0.000000           0.0   \n",
       "6276               0.0                 0.0      1.000000           0.0   \n",
       "6277               0.0                 0.0      0.000000           0.0   \n",
       "6278               0.0                 0.0      1.000000           0.0   \n",
       "6279               0.0                 0.0      0.000000           0.0   \n",
       "6280               0.0                 0.0      1.000000           0.0   \n",
       "6281               0.0                 0.0      0.000000           0.0   \n",
       "6282               0.0                 0.0      0.000000           0.0   \n",
       "6283               1.0                 0.0      0.000000           0.0   \n",
       "\n",
       "      own_goals  att_pen_post  \n",
       "0           0.0           0.0  \n",
       "1           0.0           0.0  \n",
       "2           0.0           0.0  \n",
       "3           0.0           0.0  \n",
       "4           0.0           0.0  \n",
       "5           0.0           0.0  \n",
       "6           0.0           0.0  \n",
       "7           0.0           0.0  \n",
       "8           0.0           0.0  \n",
       "9           0.0           0.0  \n",
       "10          0.0           0.0  \n",
       "11          0.0           0.0  \n",
       "12          0.0           0.0  \n",
       "13          1.0           0.0  \n",
       "14          0.0           0.0  \n",
       "15          0.0           0.0  \n",
       "16          0.0           0.0  \n",
       "17          0.0           0.0  \n",
       "18          0.0           0.0  \n",
       "19          0.0           0.0  \n",
       "20          0.0           0.0  \n",
       "21          0.0           0.0  \n",
       "22          0.0           0.0  \n",
       "23          0.0           0.0  \n",
       "24          0.0           0.0  \n",
       "25          1.0           0.0  \n",
       "26          0.0           0.0  \n",
       "27          0.0           0.0  \n",
       "28          0.0           0.0  \n",
       "29          0.0           0.0  \n",
       "...         ...           ...  \n",
       "6254        0.0           0.0  \n",
       "6255        1.0           0.0  \n",
       "6256        0.0           0.0  \n",
       "6257        0.0           0.0  \n",
       "6258        0.0           0.0  \n",
       "6259        1.0           0.0  \n",
       "6260        0.0           1.0  \n",
       "6261        0.0           0.0  \n",
       "6262        0.0           0.0  \n",
       "6263        1.0           0.0  \n",
       "6264        0.0           0.0  \n",
       "6265        0.0           0.0  \n",
       "6266        0.0           0.0  \n",
       "6267        0.0           0.0  \n",
       "6268        0.0           0.0  \n",
       "6269        0.0           0.0  \n",
       "6270        0.0           0.0  \n",
       "6271        0.0           0.0  \n",
       "6272        0.0           0.0  \n",
       "6273        0.0           0.0  \n",
       "6274        0.0           0.0  \n",
       "6275        0.0           0.0  \n",
       "6276        0.0           0.0  \n",
       "6277        0.0           0.0  \n",
       "6278        0.0           0.0  \n",
       "6279        0.0           0.0  \n",
       "6280        1.0           0.0  \n",
       "6281        0.0           0.0  \n",
       "6282        0.0           0.0  \n",
       "6283        0.0           0.0  \n",
       "\n",
       "[6284 rows x 41 columns]"
      ]
     },
     "execution_count": 51,
     "metadata": {},
     "output_type": "execute_result"
    }
   ],
   "source": [
    "goal_pred_path = \"master_data_ver2/goal_prediction_UPDATED.csv\"\n",
    "goal_pred_df = pd.read_csv(goal_pred_path)\n",
    "goal_pred_df"
   ]
  },
  {
   "cell_type": "code",
   "execution_count": 52,
   "metadata": {},
   "outputs": [
    {
     "data": {
      "text/plain": [
       "((6284, 39), (6284,))"
      ]
     },
     "execution_count": 52,
     "metadata": {},
     "output_type": "execute_result"
    }
   ],
   "source": [
    "# data_df = goal_pred_df.drop(columns=['match_id', 'fpl_minutes', 'fpl_goals', 'fpl_assits', 'fpl_cs', 'fpl_points', 'fpl_bonus', 'fpl_cprice'])\n",
    "data_df = goal_pred_df.drop(columns=['match_id'])\n",
    "X_unp = data_df.iloc[:,1:]\n",
    "y = data_df.iloc[:,0]\n",
    "X_unp.shape, y.shape"
   ]
  },
  {
   "cell_type": "code",
   "execution_count": 76,
   "metadata": {
    "scrolled": true
   },
   "outputs": [
    {
     "data": {
      "text/html": [
       "<div>\n",
       "<style scoped>\n",
       "    .dataframe tbody tr th:only-of-type {\n",
       "        vertical-align: middle;\n",
       "    }\n",
       "\n",
       "    .dataframe tbody tr th {\n",
       "        vertical-align: top;\n",
       "    }\n",
       "\n",
       "    .dataframe thead th {\n",
       "        text-align: right;\n",
       "    }\n",
       "</style>\n",
       "<table border=\"1\" class=\"dataframe\">\n",
       "  <thead>\n",
       "    <tr style=\"text-align: right;\">\n",
       "      <th></th>\n",
       "      <th>fpl_minutes</th>\n",
       "      <th>fpl_goals</th>\n",
       "      <th>fpl_assits</th>\n",
       "      <th>fpl_cs</th>\n",
       "      <th>fpl_points</th>\n",
       "      <th>fpl_bonus</th>\n",
       "      <th>fpl_cprice</th>\n",
       "      <th>player_rating</th>\n",
       "      <th>touches</th>\n",
       "      <th>saves</th>\n",
       "      <th>...</th>\n",
       "      <th>six_yard_block</th>\n",
       "      <th>post_scoring_att</th>\n",
       "      <th>att_pen_target</th>\n",
       "      <th>penalty_save</th>\n",
       "      <th>penalty_conceded</th>\n",
       "      <th>clearance_off_line</th>\n",
       "      <th>att_pen_goal</th>\n",
       "      <th>att_pen_miss</th>\n",
       "      <th>own_goals</th>\n",
       "      <th>att_pen_post</th>\n",
       "    </tr>\n",
       "  </thead>\n",
       "  <tbody>\n",
       "    <tr>\n",
       "      <th>0</th>\n",
       "      <td>2287.00000</td>\n",
       "      <td>3.00000</td>\n",
       "      <td>0.00000</td>\n",
       "      <td>11.00000</td>\n",
       "      <td>120.00000</td>\n",
       "      <td>15.00000</td>\n",
       "      <td>6.100000</td>\n",
       "      <td>6.651000</td>\n",
       "      <td>57.740741</td>\n",
       "      <td>0.000000</td>\n",
       "      <td>...</td>\n",
       "      <td>0.000</td>\n",
       "      <td>0.000000</td>\n",
       "      <td>0.0</td>\n",
       "      <td>0.0</td>\n",
       "      <td>1.0</td>\n",
       "      <td>0.0</td>\n",
       "      <td>0.000000</td>\n",
       "      <td>0.0</td>\n",
       "      <td>0.0</td>\n",
       "      <td>0.0</td>\n",
       "    </tr>\n",
       "    <tr>\n",
       "      <th>1</th>\n",
       "      <td>2771.00000</td>\n",
       "      <td>4.00000</td>\n",
       "      <td>12.00000</td>\n",
       "      <td>6.00000</td>\n",
       "      <td>132.00000</td>\n",
       "      <td>8.00000</td>\n",
       "      <td>5.600000</td>\n",
       "      <td>7.054412</td>\n",
       "      <td>44.029412</td>\n",
       "      <td>0.000000</td>\n",
       "      <td>...</td>\n",
       "      <td>1.000</td>\n",
       "      <td>1.000000</td>\n",
       "      <td>0.0</td>\n",
       "      <td>0.0</td>\n",
       "      <td>0.0</td>\n",
       "      <td>0.0</td>\n",
       "      <td>0.000000</td>\n",
       "      <td>0.0</td>\n",
       "      <td>0.0</td>\n",
       "      <td>0.0</td>\n",
       "    </tr>\n",
       "    <tr>\n",
       "      <th>2</th>\n",
       "      <td>2007.00000</td>\n",
       "      <td>6.00000</td>\n",
       "      <td>6.00000</td>\n",
       "      <td>10.00000</td>\n",
       "      <td>116.00000</td>\n",
       "      <td>13.00000</td>\n",
       "      <td>8.800000</td>\n",
       "      <td>6.839000</td>\n",
       "      <td>72.758621</td>\n",
       "      <td>0.000000</td>\n",
       "      <td>...</td>\n",
       "      <td>0.000</td>\n",
       "      <td>1.000000</td>\n",
       "      <td>0.0</td>\n",
       "      <td>0.0</td>\n",
       "      <td>0.0</td>\n",
       "      <td>0.0</td>\n",
       "      <td>0.000000</td>\n",
       "      <td>0.0</td>\n",
       "      <td>0.0</td>\n",
       "      <td>0.0</td>\n",
       "    </tr>\n",
       "    <tr>\n",
       "      <th>3</th>\n",
       "      <td>2823.00000</td>\n",
       "      <td>6.00000</td>\n",
       "      <td>7.00000</td>\n",
       "      <td>6.00000</td>\n",
       "      <td>128.00000</td>\n",
       "      <td>14.00000</td>\n",
       "      <td>5.500000</td>\n",
       "      <td>6.987838</td>\n",
       "      <td>51.783784</td>\n",
       "      <td>0.000000</td>\n",
       "      <td>...</td>\n",
       "      <td>0.000</td>\n",
       "      <td>1.000000</td>\n",
       "      <td>0.0</td>\n",
       "      <td>0.0</td>\n",
       "      <td>0.0</td>\n",
       "      <td>0.0</td>\n",
       "      <td>0.000000</td>\n",
       "      <td>0.0</td>\n",
       "      <td>0.0</td>\n",
       "      <td>0.0</td>\n",
       "    </tr>\n",
       "    <tr>\n",
       "      <th>4</th>\n",
       "      <td>1173.00000</td>\n",
       "      <td>2.00000</td>\n",
       "      <td>1.00000</td>\n",
       "      <td>2.00000</td>\n",
       "      <td>42.00000</td>\n",
       "      <td>1.00000</td>\n",
       "      <td>4.600000</td>\n",
       "      <td>3.183548</td>\n",
       "      <td>34.642857</td>\n",
       "      <td>0.000000</td>\n",
       "      <td>...</td>\n",
       "      <td>1.000</td>\n",
       "      <td>0.000000</td>\n",
       "      <td>0.0</td>\n",
       "      <td>0.0</td>\n",
       "      <td>0.0</td>\n",
       "      <td>0.0</td>\n",
       "      <td>0.000000</td>\n",
       "      <td>0.0</td>\n",
       "      <td>0.0</td>\n",
       "      <td>0.0</td>\n",
       "    </tr>\n",
       "    <tr>\n",
       "      <th>5</th>\n",
       "      <td>729.00000</td>\n",
       "      <td>2.00000</td>\n",
       "      <td>1.00000</td>\n",
       "      <td>1.00000</td>\n",
       "      <td>36.00000</td>\n",
       "      <td>4.00000</td>\n",
       "      <td>6.300000</td>\n",
       "      <td>5.634706</td>\n",
       "      <td>49.357143</td>\n",
       "      <td>0.000000</td>\n",
       "      <td>...</td>\n",
       "      <td>1.000</td>\n",
       "      <td>0.000000</td>\n",
       "      <td>0.0</td>\n",
       "      <td>0.0</td>\n",
       "      <td>0.0</td>\n",
       "      <td>0.0</td>\n",
       "      <td>0.000000</td>\n",
       "      <td>0.0</td>\n",
       "      <td>0.0</td>\n",
       "      <td>0.0</td>\n",
       "    </tr>\n",
       "    <tr>\n",
       "      <th>6</th>\n",
       "      <td>3202.00000</td>\n",
       "      <td>2.00000</td>\n",
       "      <td>2.00000</td>\n",
       "      <td>9.00000</td>\n",
       "      <td>91.00000</td>\n",
       "      <td>2.00000</td>\n",
       "      <td>4.700000</td>\n",
       "      <td>6.575946</td>\n",
       "      <td>52.162162</td>\n",
       "      <td>0.000000</td>\n",
       "      <td>...</td>\n",
       "      <td>1.000</td>\n",
       "      <td>0.000000</td>\n",
       "      <td>1.0</td>\n",
       "      <td>0.0</td>\n",
       "      <td>1.0</td>\n",
       "      <td>0.0</td>\n",
       "      <td>0.000000</td>\n",
       "      <td>0.0</td>\n",
       "      <td>0.0</td>\n",
       "      <td>0.0</td>\n",
       "    </tr>\n",
       "    <tr>\n",
       "      <th>7</th>\n",
       "      <td>2481.00000</td>\n",
       "      <td>0.00000</td>\n",
       "      <td>3.00000</td>\n",
       "      <td>14.00000</td>\n",
       "      <td>132.00000</td>\n",
       "      <td>19.00000</td>\n",
       "      <td>6.200000</td>\n",
       "      <td>5.998286</td>\n",
       "      <td>68.689655</td>\n",
       "      <td>0.000000</td>\n",
       "      <td>...</td>\n",
       "      <td>0.000</td>\n",
       "      <td>0.000000</td>\n",
       "      <td>0.0</td>\n",
       "      <td>0.0</td>\n",
       "      <td>0.0</td>\n",
       "      <td>1.0</td>\n",
       "      <td>0.000000</td>\n",
       "      <td>0.0</td>\n",
       "      <td>0.0</td>\n",
       "      <td>0.0</td>\n",
       "    </tr>\n",
       "    <tr>\n",
       "      <th>8</th>\n",
       "      <td>3420.00000</td>\n",
       "      <td>4.00000</td>\n",
       "      <td>6.00000</td>\n",
       "      <td>17.00000</td>\n",
       "      <td>179.00000</td>\n",
       "      <td>13.00000</td>\n",
       "      <td>7.700000</td>\n",
       "      <td>7.253684</td>\n",
       "      <td>65.052632</td>\n",
       "      <td>0.000000</td>\n",
       "      <td>...</td>\n",
       "      <td>0.000</td>\n",
       "      <td>0.000000</td>\n",
       "      <td>0.0</td>\n",
       "      <td>0.0</td>\n",
       "      <td>0.0</td>\n",
       "      <td>0.0</td>\n",
       "      <td>0.000000</td>\n",
       "      <td>0.0</td>\n",
       "      <td>0.0</td>\n",
       "      <td>0.0</td>\n",
       "    </tr>\n",
       "    <tr>\n",
       "      <th>9</th>\n",
       "      <td>3415.00000</td>\n",
       "      <td>0.00000</td>\n",
       "      <td>4.00000</td>\n",
       "      <td>10.00000</td>\n",
       "      <td>118.00000</td>\n",
       "      <td>11.00000</td>\n",
       "      <td>4.800000</td>\n",
       "      <td>7.146579</td>\n",
       "      <td>83.236842</td>\n",
       "      <td>0.000000</td>\n",
       "      <td>...</td>\n",
       "      <td>0.000</td>\n",
       "      <td>0.000000</td>\n",
       "      <td>0.0</td>\n",
       "      <td>0.0</td>\n",
       "      <td>0.0</td>\n",
       "      <td>1.0</td>\n",
       "      <td>0.000000</td>\n",
       "      <td>0.0</td>\n",
       "      <td>0.0</td>\n",
       "      <td>0.0</td>\n",
       "    </tr>\n",
       "    <tr>\n",
       "      <th>10</th>\n",
       "      <td>436.00000</td>\n",
       "      <td>3.00000</td>\n",
       "      <td>0.00000</td>\n",
       "      <td>2.00000</td>\n",
       "      <td>33.00000</td>\n",
       "      <td>1.00000</td>\n",
       "      <td>7.100000</td>\n",
       "      <td>5.138333</td>\n",
       "      <td>23.928571</td>\n",
       "      <td>0.000000</td>\n",
       "      <td>...</td>\n",
       "      <td>0.000</td>\n",
       "      <td>0.000000</td>\n",
       "      <td>0.0</td>\n",
       "      <td>0.0</td>\n",
       "      <td>0.0</td>\n",
       "      <td>0.0</td>\n",
       "      <td>0.000000</td>\n",
       "      <td>0.0</td>\n",
       "      <td>0.0</td>\n",
       "      <td>0.0</td>\n",
       "    </tr>\n",
       "    <tr>\n",
       "      <th>11</th>\n",
       "      <td>981.00000</td>\n",
       "      <td>0.00000</td>\n",
       "      <td>3.00000</td>\n",
       "      <td>3.00000</td>\n",
       "      <td>43.00000</td>\n",
       "      <td>0.00000</td>\n",
       "      <td>4.400000</td>\n",
       "      <td>4.295946</td>\n",
       "      <td>20.565217</td>\n",
       "      <td>0.000000</td>\n",
       "      <td>...</td>\n",
       "      <td>0.000</td>\n",
       "      <td>0.000000</td>\n",
       "      <td>0.0</td>\n",
       "      <td>0.0</td>\n",
       "      <td>0.0</td>\n",
       "      <td>0.0</td>\n",
       "      <td>0.000000</td>\n",
       "      <td>0.0</td>\n",
       "      <td>0.0</td>\n",
       "      <td>0.0</td>\n",
       "    </tr>\n",
       "    <tr>\n",
       "      <th>12</th>\n",
       "      <td>2069.00000</td>\n",
       "      <td>20.00000</td>\n",
       "      <td>3.00000</td>\n",
       "      <td>12.00000</td>\n",
       "      <td>150.00000</td>\n",
       "      <td>18.00000</td>\n",
       "      <td>10.600000</td>\n",
       "      <td>7.428077</td>\n",
       "      <td>42.538462</td>\n",
       "      <td>0.000000</td>\n",
       "      <td>...</td>\n",
       "      <td>1.000</td>\n",
       "      <td>1.000000</td>\n",
       "      <td>0.0</td>\n",
       "      <td>0.0</td>\n",
       "      <td>0.0</td>\n",
       "      <td>0.0</td>\n",
       "      <td>1.000000</td>\n",
       "      <td>0.0</td>\n",
       "      <td>0.0</td>\n",
       "      <td>0.0</td>\n",
       "    </tr>\n",
       "    <tr>\n",
       "      <th>13</th>\n",
       "      <td>3420.00000</td>\n",
       "      <td>0.00000</td>\n",
       "      <td>0.00000</td>\n",
       "      <td>10.00000</td>\n",
       "      <td>150.00000</td>\n",
       "      <td>11.00000</td>\n",
       "      <td>4.700000</td>\n",
       "      <td>6.817895</td>\n",
       "      <td>36.421053</td>\n",
       "      <td>3.459459</td>\n",
       "      <td>...</td>\n",
       "      <td>0.000</td>\n",
       "      <td>0.000000</td>\n",
       "      <td>0.0</td>\n",
       "      <td>1.0</td>\n",
       "      <td>0.0</td>\n",
       "      <td>0.0</td>\n",
       "      <td>0.000000</td>\n",
       "      <td>0.0</td>\n",
       "      <td>1.0</td>\n",
       "      <td>0.0</td>\n",
       "    </tr>\n",
       "    <tr>\n",
       "      <th>14</th>\n",
       "      <td>2398.00000</td>\n",
       "      <td>11.00000</td>\n",
       "      <td>4.00000</td>\n",
       "      <td>9.00000</td>\n",
       "      <td>130.00000</td>\n",
       "      <td>14.00000</td>\n",
       "      <td>5.000000</td>\n",
       "      <td>6.668421</td>\n",
       "      <td>37.837838</td>\n",
       "      <td>0.000000</td>\n",
       "      <td>...</td>\n",
       "      <td>1.000</td>\n",
       "      <td>1.000000</td>\n",
       "      <td>0.0</td>\n",
       "      <td>0.0</td>\n",
       "      <td>0.0</td>\n",
       "      <td>0.0</td>\n",
       "      <td>1.000000</td>\n",
       "      <td>0.0</td>\n",
       "      <td>0.0</td>\n",
       "      <td>0.0</td>\n",
       "    </tr>\n",
       "    <tr>\n",
       "      <th>15</th>\n",
       "      <td>2400.00000</td>\n",
       "      <td>2.00000</td>\n",
       "      <td>2.00000</td>\n",
       "      <td>8.00000</td>\n",
       "      <td>79.00000</td>\n",
       "      <td>8.00000</td>\n",
       "      <td>4.600000</td>\n",
       "      <td>7.084643</td>\n",
       "      <td>65.750000</td>\n",
       "      <td>0.000000</td>\n",
       "      <td>...</td>\n",
       "      <td>0.000</td>\n",
       "      <td>1.000000</td>\n",
       "      <td>0.0</td>\n",
       "      <td>0.0</td>\n",
       "      <td>1.0</td>\n",
       "      <td>1.0</td>\n",
       "      <td>0.000000</td>\n",
       "      <td>0.0</td>\n",
       "      <td>0.0</td>\n",
       "      <td>0.0</td>\n",
       "    </tr>\n",
       "    <tr>\n",
       "      <th>16</th>\n",
       "      <td>884.00000</td>\n",
       "      <td>1.00000</td>\n",
       "      <td>3.00000</td>\n",
       "      <td>4.00000</td>\n",
       "      <td>44.00000</td>\n",
       "      <td>0.00000</td>\n",
       "      <td>5.300000</td>\n",
       "      <td>4.018846</td>\n",
       "      <td>30.312500</td>\n",
       "      <td>0.000000</td>\n",
       "      <td>...</td>\n",
       "      <td>1.000</td>\n",
       "      <td>0.000000</td>\n",
       "      <td>0.0</td>\n",
       "      <td>0.0</td>\n",
       "      <td>0.0</td>\n",
       "      <td>0.0</td>\n",
       "      <td>0.000000</td>\n",
       "      <td>0.0</td>\n",
       "      <td>0.0</td>\n",
       "      <td>0.0</td>\n",
       "    </tr>\n",
       "    <tr>\n",
       "      <th>17</th>\n",
       "      <td>2244.00000</td>\n",
       "      <td>1.00000</td>\n",
       "      <td>1.00000</td>\n",
       "      <td>5.00000</td>\n",
       "      <td>62.00000</td>\n",
       "      <td>5.00000</td>\n",
       "      <td>4.400000</td>\n",
       "      <td>4.664444</td>\n",
       "      <td>59.384615</td>\n",
       "      <td>0.000000</td>\n",
       "      <td>...</td>\n",
       "      <td>0.000</td>\n",
       "      <td>0.000000</td>\n",
       "      <td>0.0</td>\n",
       "      <td>0.0</td>\n",
       "      <td>1.0</td>\n",
       "      <td>0.0</td>\n",
       "      <td>0.000000</td>\n",
       "      <td>0.0</td>\n",
       "      <td>0.0</td>\n",
       "      <td>0.0</td>\n",
       "    </tr>\n",
       "    <tr>\n",
       "      <th>18</th>\n",
       "      <td>2057.00000</td>\n",
       "      <td>7.00000</td>\n",
       "      <td>3.00000</td>\n",
       "      <td>6.00000</td>\n",
       "      <td>98.00000</td>\n",
       "      <td>16.00000</td>\n",
       "      <td>4.700000</td>\n",
       "      <td>6.191765</td>\n",
       "      <td>44.903226</td>\n",
       "      <td>0.000000</td>\n",
       "      <td>...</td>\n",
       "      <td>1.000</td>\n",
       "      <td>1.000000</td>\n",
       "      <td>0.0</td>\n",
       "      <td>0.0</td>\n",
       "      <td>0.0</td>\n",
       "      <td>0.0</td>\n",
       "      <td>0.000000</td>\n",
       "      <td>0.0</td>\n",
       "      <td>0.0</td>\n",
       "      <td>0.0</td>\n",
       "    </tr>\n",
       "    <tr>\n",
       "      <th>19</th>\n",
       "      <td>2160.00000</td>\n",
       "      <td>0.00000</td>\n",
       "      <td>0.00000</td>\n",
       "      <td>6.00000</td>\n",
       "      <td>83.00000</td>\n",
       "      <td>6.00000</td>\n",
       "      <td>4.500000</td>\n",
       "      <td>6.368800</td>\n",
       "      <td>38.250000</td>\n",
       "      <td>3.478261</td>\n",
       "      <td>...</td>\n",
       "      <td>0.000</td>\n",
       "      <td>0.000000</td>\n",
       "      <td>0.0</td>\n",
       "      <td>0.0</td>\n",
       "      <td>0.0</td>\n",
       "      <td>0.0</td>\n",
       "      <td>0.000000</td>\n",
       "      <td>0.0</td>\n",
       "      <td>0.0</td>\n",
       "      <td>0.0</td>\n",
       "    </tr>\n",
       "    <tr>\n",
       "      <th>20</th>\n",
       "      <td>3047.00000</td>\n",
       "      <td>7.00000</td>\n",
       "      <td>10.00000</td>\n",
       "      <td>13.00000</td>\n",
       "      <td>158.00000</td>\n",
       "      <td>16.00000</td>\n",
       "      <td>8.300000</td>\n",
       "      <td>7.072222</td>\n",
       "      <td>56.285714</td>\n",
       "      <td>0.000000</td>\n",
       "      <td>...</td>\n",
       "      <td>1.000</td>\n",
       "      <td>2.000000</td>\n",
       "      <td>0.0</td>\n",
       "      <td>0.0</td>\n",
       "      <td>0.0</td>\n",
       "      <td>1.0</td>\n",
       "      <td>0.000000</td>\n",
       "      <td>0.0</td>\n",
       "      <td>0.0</td>\n",
       "      <td>0.0</td>\n",
       "    </tr>\n",
       "    <tr>\n",
       "      <th>21</th>\n",
       "      <td>2186.00000</td>\n",
       "      <td>4.00000</td>\n",
       "      <td>2.00000</td>\n",
       "      <td>11.00000</td>\n",
       "      <td>90.00000</td>\n",
       "      <td>12.00000</td>\n",
       "      <td>5.500000</td>\n",
       "      <td>7.499231</td>\n",
       "      <td>76.730769</td>\n",
       "      <td>0.000000</td>\n",
       "      <td>...</td>\n",
       "      <td>1.000</td>\n",
       "      <td>1.000000</td>\n",
       "      <td>0.0</td>\n",
       "      <td>0.0</td>\n",
       "      <td>0.0</td>\n",
       "      <td>0.0</td>\n",
       "      <td>0.000000</td>\n",
       "      <td>0.0</td>\n",
       "      <td>0.0</td>\n",
       "      <td>0.0</td>\n",
       "    </tr>\n",
       "    <tr>\n",
       "      <th>22</th>\n",
       "      <td>752.00000</td>\n",
       "      <td>4.00000</td>\n",
       "      <td>3.00000</td>\n",
       "      <td>3.00000</td>\n",
       "      <td>46.00000</td>\n",
       "      <td>2.00000</td>\n",
       "      <td>11.100000</td>\n",
       "      <td>7.010833</td>\n",
       "      <td>33.750000</td>\n",
       "      <td>0.000000</td>\n",
       "      <td>...</td>\n",
       "      <td>1.000</td>\n",
       "      <td>1.000000</td>\n",
       "      <td>0.0</td>\n",
       "      <td>0.0</td>\n",
       "      <td>0.0</td>\n",
       "      <td>0.0</td>\n",
       "      <td>0.000000</td>\n",
       "      <td>0.0</td>\n",
       "      <td>0.0</td>\n",
       "      <td>0.0</td>\n",
       "    </tr>\n",
       "    <tr>\n",
       "      <th>23</th>\n",
       "      <td>3053.00000</td>\n",
       "      <td>2.00000</td>\n",
       "      <td>3.00000</td>\n",
       "      <td>13.00000</td>\n",
       "      <td>140.00000</td>\n",
       "      <td>13.00000</td>\n",
       "      <td>5.800000</td>\n",
       "      <td>7.021176</td>\n",
       "      <td>67.058824</td>\n",
       "      <td>0.000000</td>\n",
       "      <td>...</td>\n",
       "      <td>0.000</td>\n",
       "      <td>0.000000</td>\n",
       "      <td>0.0</td>\n",
       "      <td>0.0</td>\n",
       "      <td>0.0</td>\n",
       "      <td>1.0</td>\n",
       "      <td>0.000000</td>\n",
       "      <td>0.0</td>\n",
       "      <td>0.0</td>\n",
       "      <td>0.0</td>\n",
       "    </tr>\n",
       "    <tr>\n",
       "      <th>24</th>\n",
       "      <td>3146.00000</td>\n",
       "      <td>2.00000</td>\n",
       "      <td>2.00000</td>\n",
       "      <td>13.00000</td>\n",
       "      <td>142.00000</td>\n",
       "      <td>15.00000</td>\n",
       "      <td>5.900000</td>\n",
       "      <td>6.842778</td>\n",
       "      <td>70.800000</td>\n",
       "      <td>0.000000</td>\n",
       "      <td>...</td>\n",
       "      <td>0.000</td>\n",
       "      <td>0.000000</td>\n",
       "      <td>0.0</td>\n",
       "      <td>0.0</td>\n",
       "      <td>0.0</td>\n",
       "      <td>0.0</td>\n",
       "      <td>0.000000</td>\n",
       "      <td>0.0</td>\n",
       "      <td>0.0</td>\n",
       "      <td>0.0</td>\n",
       "    </tr>\n",
       "    <tr>\n",
       "      <th>25</th>\n",
       "      <td>2236.00000</td>\n",
       "      <td>9.00000</td>\n",
       "      <td>1.00000</td>\n",
       "      <td>5.00000</td>\n",
       "      <td>114.00000</td>\n",
       "      <td>20.00000</td>\n",
       "      <td>8.600000</td>\n",
       "      <td>6.723333</td>\n",
       "      <td>67.000000</td>\n",
       "      <td>0.000000</td>\n",
       "      <td>...</td>\n",
       "      <td>0.000</td>\n",
       "      <td>0.000000</td>\n",
       "      <td>1.0</td>\n",
       "      <td>0.0</td>\n",
       "      <td>0.0</td>\n",
       "      <td>0.0</td>\n",
       "      <td>1.333333</td>\n",
       "      <td>0.0</td>\n",
       "      <td>1.0</td>\n",
       "      <td>0.0</td>\n",
       "    </tr>\n",
       "    <tr>\n",
       "      <th>26</th>\n",
       "      <td>2872.00000</td>\n",
       "      <td>12.00000</td>\n",
       "      <td>5.00000</td>\n",
       "      <td>11.00000</td>\n",
       "      <td>132.00000</td>\n",
       "      <td>15.00000</td>\n",
       "      <td>10.600000</td>\n",
       "      <td>7.276667</td>\n",
       "      <td>66.757576</td>\n",
       "      <td>0.000000</td>\n",
       "      <td>...</td>\n",
       "      <td>1.000</td>\n",
       "      <td>1.000000</td>\n",
       "      <td>1.0</td>\n",
       "      <td>0.0</td>\n",
       "      <td>0.0</td>\n",
       "      <td>0.0</td>\n",
       "      <td>1.000000</td>\n",
       "      <td>0.0</td>\n",
       "      <td>0.0</td>\n",
       "      <td>0.0</td>\n",
       "    </tr>\n",
       "    <tr>\n",
       "      <th>27</th>\n",
       "      <td>1598.00000</td>\n",
       "      <td>11.00000</td>\n",
       "      <td>3.00000</td>\n",
       "      <td>8.00000</td>\n",
       "      <td>108.00000</td>\n",
       "      <td>14.00000</td>\n",
       "      <td>8.100000</td>\n",
       "      <td>7.105667</td>\n",
       "      <td>31.466667</td>\n",
       "      <td>0.000000</td>\n",
       "      <td>...</td>\n",
       "      <td>1.000</td>\n",
       "      <td>1.000000</td>\n",
       "      <td>0.0</td>\n",
       "      <td>0.0</td>\n",
       "      <td>0.0</td>\n",
       "      <td>0.0</td>\n",
       "      <td>1.000000</td>\n",
       "      <td>0.0</td>\n",
       "      <td>0.0</td>\n",
       "      <td>0.0</td>\n",
       "    </tr>\n",
       "    <tr>\n",
       "      <th>28</th>\n",
       "      <td>2689.00000</td>\n",
       "      <td>8.00000</td>\n",
       "      <td>1.00000</td>\n",
       "      <td>11.00000</td>\n",
       "      <td>129.00000</td>\n",
       "      <td>17.00000</td>\n",
       "      <td>5.100000</td>\n",
       "      <td>7.095455</td>\n",
       "      <td>64.060606</td>\n",
       "      <td>0.000000</td>\n",
       "      <td>...</td>\n",
       "      <td>0.000</td>\n",
       "      <td>0.000000</td>\n",
       "      <td>0.0</td>\n",
       "      <td>0.0</td>\n",
       "      <td>0.0</td>\n",
       "      <td>0.0</td>\n",
       "      <td>0.000000</td>\n",
       "      <td>0.0</td>\n",
       "      <td>0.0</td>\n",
       "      <td>0.0</td>\n",
       "    </tr>\n",
       "    <tr>\n",
       "      <th>29</th>\n",
       "      <td>3313.00000</td>\n",
       "      <td>0.00000</td>\n",
       "      <td>0.00000</td>\n",
       "      <td>11.00000</td>\n",
       "      <td>138.00000</td>\n",
       "      <td>3.00000</td>\n",
       "      <td>5.800000</td>\n",
       "      <td>6.679189</td>\n",
       "      <td>36.081081</td>\n",
       "      <td>2.906250</td>\n",
       "      <td>...</td>\n",
       "      <td>0.000</td>\n",
       "      <td>0.000000</td>\n",
       "      <td>0.0</td>\n",
       "      <td>1.0</td>\n",
       "      <td>0.0</td>\n",
       "      <td>0.0</td>\n",
       "      <td>0.000000</td>\n",
       "      <td>0.0</td>\n",
       "      <td>0.0</td>\n",
       "      <td>0.0</td>\n",
       "    </tr>\n",
       "    <tr>\n",
       "      <th>...</th>\n",
       "      <td>...</td>\n",
       "      <td>...</td>\n",
       "      <td>...</td>\n",
       "      <td>...</td>\n",
       "      <td>...</td>\n",
       "      <td>...</td>\n",
       "      <td>...</td>\n",
       "      <td>...</td>\n",
       "      <td>...</td>\n",
       "      <td>...</td>\n",
       "      <td>...</td>\n",
       "      <td>...</td>\n",
       "      <td>...</td>\n",
       "      <td>...</td>\n",
       "      <td>...</td>\n",
       "      <td>...</td>\n",
       "      <td>...</td>\n",
       "      <td>...</td>\n",
       "      <td>...</td>\n",
       "      <td>...</td>\n",
       "      <td>...</td>\n",
       "    </tr>\n",
       "    <tr>\n",
       "      <th>6254</th>\n",
       "      <td>1413.80000</td>\n",
       "      <td>3.10000</td>\n",
       "      <td>5.60000</td>\n",
       "      <td>4.20000</td>\n",
       "      <td>66.70000</td>\n",
       "      <td>2.40000</td>\n",
       "      <td>4.780000</td>\n",
       "      <td>6.912950</td>\n",
       "      <td>33.604982</td>\n",
       "      <td>0.000000</td>\n",
       "      <td>...</td>\n",
       "      <td>1.000</td>\n",
       "      <td>0.000000</td>\n",
       "      <td>0.0</td>\n",
       "      <td>0.0</td>\n",
       "      <td>0.0</td>\n",
       "      <td>0.0</td>\n",
       "      <td>0.000000</td>\n",
       "      <td>0.0</td>\n",
       "      <td>0.0</td>\n",
       "      <td>0.0</td>\n",
       "    </tr>\n",
       "    <tr>\n",
       "      <th>6255</th>\n",
       "      <td>3123.00000</td>\n",
       "      <td>2.60000</td>\n",
       "      <td>0.70000</td>\n",
       "      <td>8.40000</td>\n",
       "      <td>106.60000</td>\n",
       "      <td>7.60000</td>\n",
       "      <td>4.950000</td>\n",
       "      <td>6.175602</td>\n",
       "      <td>49.436576</td>\n",
       "      <td>0.000000</td>\n",
       "      <td>...</td>\n",
       "      <td>1.000</td>\n",
       "      <td>2.000000</td>\n",
       "      <td>0.0</td>\n",
       "      <td>0.0</td>\n",
       "      <td>1.0</td>\n",
       "      <td>1.0</td>\n",
       "      <td>0.000000</td>\n",
       "      <td>0.0</td>\n",
       "      <td>1.0</td>\n",
       "      <td>0.0</td>\n",
       "    </tr>\n",
       "    <tr>\n",
       "      <th>6256</th>\n",
       "      <td>1570.31918</td>\n",
       "      <td>2.05018</td>\n",
       "      <td>1.45606</td>\n",
       "      <td>3.92809</td>\n",
       "      <td>53.28167</td>\n",
       "      <td>1.82742</td>\n",
       "      <td>5.111212</td>\n",
       "      <td>6.205986</td>\n",
       "      <td>53.670682</td>\n",
       "      <td>0.000000</td>\n",
       "      <td>...</td>\n",
       "      <td>1.000</td>\n",
       "      <td>1.063000</td>\n",
       "      <td>0.0</td>\n",
       "      <td>0.0</td>\n",
       "      <td>0.0</td>\n",
       "      <td>0.0</td>\n",
       "      <td>0.000000</td>\n",
       "      <td>0.0</td>\n",
       "      <td>0.0</td>\n",
       "      <td>0.0</td>\n",
       "    </tr>\n",
       "    <tr>\n",
       "      <th>6257</th>\n",
       "      <td>1629.43327</td>\n",
       "      <td>0.53091</td>\n",
       "      <td>3.25606</td>\n",
       "      <td>5.33703</td>\n",
       "      <td>59.56946</td>\n",
       "      <td>0.83691</td>\n",
       "      <td>5.477124</td>\n",
       "      <td>6.247411</td>\n",
       "      <td>33.560427</td>\n",
       "      <td>0.000000</td>\n",
       "      <td>...</td>\n",
       "      <td>0.000</td>\n",
       "      <td>0.000000</td>\n",
       "      <td>0.0</td>\n",
       "      <td>0.0</td>\n",
       "      <td>0.0</td>\n",
       "      <td>0.0</td>\n",
       "      <td>0.000000</td>\n",
       "      <td>0.0</td>\n",
       "      <td>0.0</td>\n",
       "      <td>0.0</td>\n",
       "    </tr>\n",
       "    <tr>\n",
       "      <th>6258</th>\n",
       "      <td>842.00000</td>\n",
       "      <td>2.00000</td>\n",
       "      <td>2.00000</td>\n",
       "      <td>3.00000</td>\n",
       "      <td>43.00000</td>\n",
       "      <td>5.00000</td>\n",
       "      <td>4.600000</td>\n",
       "      <td>7.585571</td>\n",
       "      <td>25.592150</td>\n",
       "      <td>0.000000</td>\n",
       "      <td>...</td>\n",
       "      <td>1.000</td>\n",
       "      <td>0.000000</td>\n",
       "      <td>0.0</td>\n",
       "      <td>0.0</td>\n",
       "      <td>0.0</td>\n",
       "      <td>0.0</td>\n",
       "      <td>0.000000</td>\n",
       "      <td>0.0</td>\n",
       "      <td>0.0</td>\n",
       "      <td>0.0</td>\n",
       "    </tr>\n",
       "    <tr>\n",
       "      <th>6259</th>\n",
       "      <td>2404.46600</td>\n",
       "      <td>7.55300</td>\n",
       "      <td>4.64100</td>\n",
       "      <td>6.79400</td>\n",
       "      <td>115.46500</td>\n",
       "      <td>13.50000</td>\n",
       "      <td>5.257600</td>\n",
       "      <td>7.220694</td>\n",
       "      <td>43.813086</td>\n",
       "      <td>0.000000</td>\n",
       "      <td>...</td>\n",
       "      <td>0.000</td>\n",
       "      <td>1.000000</td>\n",
       "      <td>0.0</td>\n",
       "      <td>0.0</td>\n",
       "      <td>0.0</td>\n",
       "      <td>0.0</td>\n",
       "      <td>0.000000</td>\n",
       "      <td>0.0</td>\n",
       "      <td>1.0</td>\n",
       "      <td>0.0</td>\n",
       "    </tr>\n",
       "    <tr>\n",
       "      <th>6260</th>\n",
       "      <td>2099.96413</td>\n",
       "      <td>21.46806</td>\n",
       "      <td>5.94021</td>\n",
       "      <td>11.87791</td>\n",
       "      <td>174.67396</td>\n",
       "      <td>24.01009</td>\n",
       "      <td>11.920588</td>\n",
       "      <td>8.285222</td>\n",
       "      <td>50.733721</td>\n",
       "      <td>0.000000</td>\n",
       "      <td>...</td>\n",
       "      <td>1.000</td>\n",
       "      <td>1.700000</td>\n",
       "      <td>1.0</td>\n",
       "      <td>0.0</td>\n",
       "      <td>0.0</td>\n",
       "      <td>0.0</td>\n",
       "      <td>1.000000</td>\n",
       "      <td>0.0</td>\n",
       "      <td>0.0</td>\n",
       "      <td>1.0</td>\n",
       "    </tr>\n",
       "    <tr>\n",
       "      <th>6261</th>\n",
       "      <td>1277.10000</td>\n",
       "      <td>1.40000</td>\n",
       "      <td>3.10000</td>\n",
       "      <td>4.20000</td>\n",
       "      <td>57.30000</td>\n",
       "      <td>3.50000</td>\n",
       "      <td>5.070000</td>\n",
       "      <td>6.580920</td>\n",
       "      <td>41.017253</td>\n",
       "      <td>0.000000</td>\n",
       "      <td>...</td>\n",
       "      <td>0.000</td>\n",
       "      <td>0.000000</td>\n",
       "      <td>0.0</td>\n",
       "      <td>0.0</td>\n",
       "      <td>0.0</td>\n",
       "      <td>0.0</td>\n",
       "      <td>0.000000</td>\n",
       "      <td>0.0</td>\n",
       "      <td>0.0</td>\n",
       "      <td>0.0</td>\n",
       "    </tr>\n",
       "    <tr>\n",
       "      <th>6262</th>\n",
       "      <td>1137.00000</td>\n",
       "      <td>1.00000</td>\n",
       "      <td>2.00000</td>\n",
       "      <td>2.00000</td>\n",
       "      <td>51.00000</td>\n",
       "      <td>2.00000</td>\n",
       "      <td>5.000000</td>\n",
       "      <td>6.432299</td>\n",
       "      <td>29.777925</td>\n",
       "      <td>0.000000</td>\n",
       "      <td>...</td>\n",
       "      <td>0.000</td>\n",
       "      <td>0.000000</td>\n",
       "      <td>0.0</td>\n",
       "      <td>0.0</td>\n",
       "      <td>0.0</td>\n",
       "      <td>0.0</td>\n",
       "      <td>0.000000</td>\n",
       "      <td>0.0</td>\n",
       "      <td>0.0</td>\n",
       "      <td>0.0</td>\n",
       "    </tr>\n",
       "    <tr>\n",
       "      <th>6263</th>\n",
       "      <td>2865.88700</td>\n",
       "      <td>3.10000</td>\n",
       "      <td>0.29400</td>\n",
       "      <td>13.50600</td>\n",
       "      <td>139.81200</td>\n",
       "      <td>18.46500</td>\n",
       "      <td>6.341800</td>\n",
       "      <td>7.821894</td>\n",
       "      <td>116.530879</td>\n",
       "      <td>0.000000</td>\n",
       "      <td>...</td>\n",
       "      <td>1.000</td>\n",
       "      <td>1.000000</td>\n",
       "      <td>0.0</td>\n",
       "      <td>0.0</td>\n",
       "      <td>1.0</td>\n",
       "      <td>1.0</td>\n",
       "      <td>0.000000</td>\n",
       "      <td>0.0</td>\n",
       "      <td>1.0</td>\n",
       "      <td>0.0</td>\n",
       "    </tr>\n",
       "    <tr>\n",
       "      <th>6264</th>\n",
       "      <td>2043.40000</td>\n",
       "      <td>22.40000</td>\n",
       "      <td>8.40000</td>\n",
       "      <td>10.50000</td>\n",
       "      <td>213.00000</td>\n",
       "      <td>18.20000</td>\n",
       "      <td>9.220000</td>\n",
       "      <td>7.974378</td>\n",
       "      <td>41.410421</td>\n",
       "      <td>0.000000</td>\n",
       "      <td>...</td>\n",
       "      <td>1.000</td>\n",
       "      <td>0.000000</td>\n",
       "      <td>1.0</td>\n",
       "      <td>0.0</td>\n",
       "      <td>0.0</td>\n",
       "      <td>0.0</td>\n",
       "      <td>1.000000</td>\n",
       "      <td>0.0</td>\n",
       "      <td>0.0</td>\n",
       "      <td>0.0</td>\n",
       "    </tr>\n",
       "    <tr>\n",
       "      <th>6265</th>\n",
       "      <td>1709.00000</td>\n",
       "      <td>1.00000</td>\n",
       "      <td>1.00000</td>\n",
       "      <td>5.00000</td>\n",
       "      <td>65.00000</td>\n",
       "      <td>9.00000</td>\n",
       "      <td>4.300000</td>\n",
       "      <td>7.136066</td>\n",
       "      <td>67.623738</td>\n",
       "      <td>0.000000</td>\n",
       "      <td>...</td>\n",
       "      <td>0.000</td>\n",
       "      <td>0.000000</td>\n",
       "      <td>0.0</td>\n",
       "      <td>0.0</td>\n",
       "      <td>0.0</td>\n",
       "      <td>0.0</td>\n",
       "      <td>0.000000</td>\n",
       "      <td>0.0</td>\n",
       "      <td>0.0</td>\n",
       "      <td>0.0</td>\n",
       "    </tr>\n",
       "    <tr>\n",
       "      <th>6266</th>\n",
       "      <td>2683.98300</td>\n",
       "      <td>13.64700</td>\n",
       "      <td>8.44100</td>\n",
       "      <td>14.19400</td>\n",
       "      <td>176.87500</td>\n",
       "      <td>25.55300</td>\n",
       "      <td>9.169400</td>\n",
       "      <td>8.058750</td>\n",
       "      <td>61.493274</td>\n",
       "      <td>0.000000</td>\n",
       "      <td>...</td>\n",
       "      <td>1.000</td>\n",
       "      <td>1.000000</td>\n",
       "      <td>0.0</td>\n",
       "      <td>0.0</td>\n",
       "      <td>0.0</td>\n",
       "      <td>1.0</td>\n",
       "      <td>1.000000</td>\n",
       "      <td>0.0</td>\n",
       "      <td>0.0</td>\n",
       "      <td>0.0</td>\n",
       "    </tr>\n",
       "    <tr>\n",
       "      <th>6267</th>\n",
       "      <td>1208.82900</td>\n",
       "      <td>0.84700</td>\n",
       "      <td>0.29400</td>\n",
       "      <td>3.35300</td>\n",
       "      <td>34.55800</td>\n",
       "      <td>1.32900</td>\n",
       "      <td>4.315900</td>\n",
       "      <td>5.734267</td>\n",
       "      <td>30.366053</td>\n",
       "      <td>0.000000</td>\n",
       "      <td>...</td>\n",
       "      <td>1.000</td>\n",
       "      <td>0.000000</td>\n",
       "      <td>0.0</td>\n",
       "      <td>0.0</td>\n",
       "      <td>1.0</td>\n",
       "      <td>0.0</td>\n",
       "      <td>0.000000</td>\n",
       "      <td>0.0</td>\n",
       "      <td>0.0</td>\n",
       "      <td>0.0</td>\n",
       "    </tr>\n",
       "    <tr>\n",
       "      <th>6268</th>\n",
       "      <td>2375.28830</td>\n",
       "      <td>9.48470</td>\n",
       "      <td>6.92503</td>\n",
       "      <td>7.51585</td>\n",
       "      <td>136.92357</td>\n",
       "      <td>11.31561</td>\n",
       "      <td>6.969797</td>\n",
       "      <td>8.084258</td>\n",
       "      <td>41.325900</td>\n",
       "      <td>0.000000</td>\n",
       "      <td>...</td>\n",
       "      <td>1.000</td>\n",
       "      <td>1.002430</td>\n",
       "      <td>0.0</td>\n",
       "      <td>0.0</td>\n",
       "      <td>1.0</td>\n",
       "      <td>0.0</td>\n",
       "      <td>1.000000</td>\n",
       "      <td>1.0</td>\n",
       "      <td>0.0</td>\n",
       "      <td>0.0</td>\n",
       "    </tr>\n",
       "    <tr>\n",
       "      <th>6269</th>\n",
       "      <td>1775.42400</td>\n",
       "      <td>0.45300</td>\n",
       "      <td>0.29400</td>\n",
       "      <td>5.00000</td>\n",
       "      <td>48.27600</td>\n",
       "      <td>0.59400</td>\n",
       "      <td>4.284700</td>\n",
       "      <td>6.078425</td>\n",
       "      <td>46.330703</td>\n",
       "      <td>0.000000</td>\n",
       "      <td>...</td>\n",
       "      <td>1.000</td>\n",
       "      <td>1.000000</td>\n",
       "      <td>0.0</td>\n",
       "      <td>0.0</td>\n",
       "      <td>1.0</td>\n",
       "      <td>1.0</td>\n",
       "      <td>0.000000</td>\n",
       "      <td>0.0</td>\n",
       "      <td>0.0</td>\n",
       "      <td>0.0</td>\n",
       "    </tr>\n",
       "    <tr>\n",
       "      <th>6270</th>\n",
       "      <td>1086.31300</td>\n",
       "      <td>5.60000</td>\n",
       "      <td>1.40000</td>\n",
       "      <td>4.20000</td>\n",
       "      <td>65.40000</td>\n",
       "      <td>9.80000</td>\n",
       "      <td>6.474700</td>\n",
       "      <td>6.228400</td>\n",
       "      <td>27.846124</td>\n",
       "      <td>0.000000</td>\n",
       "      <td>...</td>\n",
       "      <td>0.000</td>\n",
       "      <td>1.000000</td>\n",
       "      <td>0.0</td>\n",
       "      <td>0.0</td>\n",
       "      <td>0.0</td>\n",
       "      <td>0.0</td>\n",
       "      <td>0.000000</td>\n",
       "      <td>0.0</td>\n",
       "      <td>0.0</td>\n",
       "      <td>0.0</td>\n",
       "    </tr>\n",
       "    <tr>\n",
       "      <th>6271</th>\n",
       "      <td>582.31900</td>\n",
       "      <td>1.00600</td>\n",
       "      <td>2.07700</td>\n",
       "      <td>1.85900</td>\n",
       "      <td>31.95700</td>\n",
       "      <td>2.55900</td>\n",
       "      <td>5.574100</td>\n",
       "      <td>8.264825</td>\n",
       "      <td>52.030455</td>\n",
       "      <td>0.000000</td>\n",
       "      <td>...</td>\n",
       "      <td>0.000</td>\n",
       "      <td>0.000000</td>\n",
       "      <td>0.0</td>\n",
       "      <td>0.0</td>\n",
       "      <td>0.0</td>\n",
       "      <td>0.0</td>\n",
       "      <td>0.000000</td>\n",
       "      <td>0.0</td>\n",
       "      <td>0.0</td>\n",
       "      <td>0.0</td>\n",
       "    </tr>\n",
       "    <tr>\n",
       "      <th>6272</th>\n",
       "      <td>2272.60000</td>\n",
       "      <td>2.70000</td>\n",
       "      <td>1.30000</td>\n",
       "      <td>9.40000</td>\n",
       "      <td>103.30000</td>\n",
       "      <td>11.50000</td>\n",
       "      <td>5.520000</td>\n",
       "      <td>7.000838</td>\n",
       "      <td>70.138254</td>\n",
       "      <td>0.000000</td>\n",
       "      <td>...</td>\n",
       "      <td>1.000</td>\n",
       "      <td>1.000000</td>\n",
       "      <td>0.0</td>\n",
       "      <td>0.0</td>\n",
       "      <td>0.0</td>\n",
       "      <td>1.0</td>\n",
       "      <td>0.000000</td>\n",
       "      <td>0.0</td>\n",
       "      <td>0.0</td>\n",
       "      <td>0.0</td>\n",
       "    </tr>\n",
       "    <tr>\n",
       "      <th>6273</th>\n",
       "      <td>1709.00000</td>\n",
       "      <td>1.00000</td>\n",
       "      <td>1.00000</td>\n",
       "      <td>5.00000</td>\n",
       "      <td>65.00000</td>\n",
       "      <td>9.00000</td>\n",
       "      <td>4.300000</td>\n",
       "      <td>6.445820</td>\n",
       "      <td>68.587121</td>\n",
       "      <td>0.000000</td>\n",
       "      <td>...</td>\n",
       "      <td>0.000</td>\n",
       "      <td>0.000000</td>\n",
       "      <td>0.0</td>\n",
       "      <td>0.0</td>\n",
       "      <td>0.0</td>\n",
       "      <td>0.0</td>\n",
       "      <td>0.000000</td>\n",
       "      <td>0.0</td>\n",
       "      <td>0.0</td>\n",
       "      <td>0.0</td>\n",
       "    </tr>\n",
       "    <tr>\n",
       "      <th>6274</th>\n",
       "      <td>1602.80000</td>\n",
       "      <td>3.30000</td>\n",
       "      <td>6.60000</td>\n",
       "      <td>11.40000</td>\n",
       "      <td>96.80000</td>\n",
       "      <td>7.20000</td>\n",
       "      <td>8.000000</td>\n",
       "      <td>8.314319</td>\n",
       "      <td>73.804548</td>\n",
       "      <td>0.000000</td>\n",
       "      <td>...</td>\n",
       "      <td>1.000</td>\n",
       "      <td>0.000000</td>\n",
       "      <td>0.0</td>\n",
       "      <td>0.0</td>\n",
       "      <td>1.0</td>\n",
       "      <td>0.0</td>\n",
       "      <td>0.000000</td>\n",
       "      <td>0.0</td>\n",
       "      <td>0.0</td>\n",
       "      <td>0.0</td>\n",
       "    </tr>\n",
       "    <tr>\n",
       "      <th>6275</th>\n",
       "      <td>2817.00000</td>\n",
       "      <td>5.00000</td>\n",
       "      <td>8.00000</td>\n",
       "      <td>8.00000</td>\n",
       "      <td>125.00000</td>\n",
       "      <td>4.00000</td>\n",
       "      <td>5.800000</td>\n",
       "      <td>6.433354</td>\n",
       "      <td>33.564619</td>\n",
       "      <td>0.000000</td>\n",
       "      <td>...</td>\n",
       "      <td>1.000</td>\n",
       "      <td>1.000000</td>\n",
       "      <td>0.0</td>\n",
       "      <td>0.0</td>\n",
       "      <td>0.0</td>\n",
       "      <td>0.0</td>\n",
       "      <td>0.000000</td>\n",
       "      <td>0.0</td>\n",
       "      <td>0.0</td>\n",
       "      <td>0.0</td>\n",
       "    </tr>\n",
       "    <tr>\n",
       "      <th>6276</th>\n",
       "      <td>1056.00000</td>\n",
       "      <td>10.00000</td>\n",
       "      <td>4.00000</td>\n",
       "      <td>4.00000</td>\n",
       "      <td>87.00000</td>\n",
       "      <td>12.00000</td>\n",
       "      <td>10.800000</td>\n",
       "      <td>6.350573</td>\n",
       "      <td>33.391965</td>\n",
       "      <td>0.000000</td>\n",
       "      <td>...</td>\n",
       "      <td>0.000</td>\n",
       "      <td>0.000000</td>\n",
       "      <td>1.0</td>\n",
       "      <td>0.0</td>\n",
       "      <td>0.0</td>\n",
       "      <td>0.0</td>\n",
       "      <td>1.000000</td>\n",
       "      <td>0.0</td>\n",
       "      <td>0.0</td>\n",
       "      <td>0.0</td>\n",
       "    </tr>\n",
       "    <tr>\n",
       "      <th>6277</th>\n",
       "      <td>1437.80000</td>\n",
       "      <td>4.10000</td>\n",
       "      <td>3.00000</td>\n",
       "      <td>1.60000</td>\n",
       "      <td>69.60000</td>\n",
       "      <td>4.10000</td>\n",
       "      <td>5.800000</td>\n",
       "      <td>6.732687</td>\n",
       "      <td>44.610546</td>\n",
       "      <td>0.000000</td>\n",
       "      <td>...</td>\n",
       "      <td>1.000</td>\n",
       "      <td>1.000000</td>\n",
       "      <td>0.0</td>\n",
       "      <td>0.0</td>\n",
       "      <td>0.0</td>\n",
       "      <td>0.0</td>\n",
       "      <td>0.000000</td>\n",
       "      <td>0.0</td>\n",
       "      <td>0.0</td>\n",
       "      <td>0.0</td>\n",
       "    </tr>\n",
       "    <tr>\n",
       "      <th>6278</th>\n",
       "      <td>2667.44624</td>\n",
       "      <td>12.05109</td>\n",
       "      <td>9.61609</td>\n",
       "      <td>11.59694</td>\n",
       "      <td>173.88020</td>\n",
       "      <td>17.34136</td>\n",
       "      <td>11.444712</td>\n",
       "      <td>7.574495</td>\n",
       "      <td>82.684088</td>\n",
       "      <td>0.000000</td>\n",
       "      <td>...</td>\n",
       "      <td>1.063</td>\n",
       "      <td>1.000000</td>\n",
       "      <td>1.0</td>\n",
       "      <td>0.0</td>\n",
       "      <td>0.0</td>\n",
       "      <td>0.0</td>\n",
       "      <td>1.000000</td>\n",
       "      <td>0.0</td>\n",
       "      <td>0.0</td>\n",
       "      <td>0.0</td>\n",
       "    </tr>\n",
       "    <tr>\n",
       "      <th>6279</th>\n",
       "      <td>3264.00000</td>\n",
       "      <td>0.00000</td>\n",
       "      <td>2.00000</td>\n",
       "      <td>9.00000</td>\n",
       "      <td>102.00000</td>\n",
       "      <td>15.00000</td>\n",
       "      <td>4.600000</td>\n",
       "      <td>7.663458</td>\n",
       "      <td>60.436318</td>\n",
       "      <td>0.000000</td>\n",
       "      <td>...</td>\n",
       "      <td>1.000</td>\n",
       "      <td>1.000000</td>\n",
       "      <td>0.0</td>\n",
       "      <td>0.0</td>\n",
       "      <td>0.0</td>\n",
       "      <td>0.0</td>\n",
       "      <td>0.000000</td>\n",
       "      <td>0.0</td>\n",
       "      <td>0.0</td>\n",
       "      <td>0.0</td>\n",
       "    </tr>\n",
       "    <tr>\n",
       "      <th>6280</th>\n",
       "      <td>2948.05906</td>\n",
       "      <td>17.00476</td>\n",
       "      <td>6.77497</td>\n",
       "      <td>13.08800</td>\n",
       "      <td>170.29050</td>\n",
       "      <td>20.26161</td>\n",
       "      <td>10.865800</td>\n",
       "      <td>7.470642</td>\n",
       "      <td>22.455973</td>\n",
       "      <td>0.000000</td>\n",
       "      <td>...</td>\n",
       "      <td>1.000</td>\n",
       "      <td>1.000153</td>\n",
       "      <td>1.0</td>\n",
       "      <td>0.0</td>\n",
       "      <td>0.0</td>\n",
       "      <td>0.0</td>\n",
       "      <td>1.000000</td>\n",
       "      <td>0.0</td>\n",
       "      <td>1.0</td>\n",
       "      <td>0.0</td>\n",
       "    </tr>\n",
       "    <tr>\n",
       "      <th>6281</th>\n",
       "      <td>1268.00000</td>\n",
       "      <td>0.00000</td>\n",
       "      <td>4.00000</td>\n",
       "      <td>3.00000</td>\n",
       "      <td>44.00000</td>\n",
       "      <td>0.00000</td>\n",
       "      <td>4.500000</td>\n",
       "      <td>6.146364</td>\n",
       "      <td>19.293781</td>\n",
       "      <td>0.000000</td>\n",
       "      <td>...</td>\n",
       "      <td>0.000</td>\n",
       "      <td>0.000000</td>\n",
       "      <td>0.0</td>\n",
       "      <td>0.0</td>\n",
       "      <td>0.0</td>\n",
       "      <td>0.0</td>\n",
       "      <td>0.000000</td>\n",
       "      <td>0.0</td>\n",
       "      <td>0.0</td>\n",
       "      <td>0.0</td>\n",
       "    </tr>\n",
       "    <tr>\n",
       "      <th>6282</th>\n",
       "      <td>2448.15865</td>\n",
       "      <td>7.89933</td>\n",
       "      <td>10.78403</td>\n",
       "      <td>13.32503</td>\n",
       "      <td>159.51085</td>\n",
       "      <td>22.37375</td>\n",
       "      <td>8.503600</td>\n",
       "      <td>8.094137</td>\n",
       "      <td>120.452894</td>\n",
       "      <td>0.000000</td>\n",
       "      <td>...</td>\n",
       "      <td>1.000</td>\n",
       "      <td>1.000000</td>\n",
       "      <td>0.0</td>\n",
       "      <td>0.0</td>\n",
       "      <td>0.0</td>\n",
       "      <td>0.0</td>\n",
       "      <td>0.000000</td>\n",
       "      <td>0.0</td>\n",
       "      <td>0.0</td>\n",
       "      <td>0.0</td>\n",
       "    </tr>\n",
       "    <tr>\n",
       "      <th>6283</th>\n",
       "      <td>1648.47040</td>\n",
       "      <td>0.00000</td>\n",
       "      <td>0.22503</td>\n",
       "      <td>3.12197</td>\n",
       "      <td>41.49909</td>\n",
       "      <td>1.27815</td>\n",
       "      <td>4.270000</td>\n",
       "      <td>7.072728</td>\n",
       "      <td>42.853771</td>\n",
       "      <td>0.000000</td>\n",
       "      <td>...</td>\n",
       "      <td>1.300</td>\n",
       "      <td>0.000000</td>\n",
       "      <td>0.0</td>\n",
       "      <td>0.0</td>\n",
       "      <td>1.0</td>\n",
       "      <td>0.0</td>\n",
       "      <td>0.000000</td>\n",
       "      <td>0.0</td>\n",
       "      <td>0.0</td>\n",
       "      <td>0.0</td>\n",
       "    </tr>\n",
       "  </tbody>\n",
       "</table>\n",
       "<p>6284 rows × 39 columns</p>\n",
       "</div>"
      ],
      "text/plain": [
       "      fpl_minutes  fpl_goals  fpl_assits    fpl_cs  fpl_points  fpl_bonus  \\\n",
       "0      2287.00000    3.00000     0.00000  11.00000   120.00000   15.00000   \n",
       "1      2771.00000    4.00000    12.00000   6.00000   132.00000    8.00000   \n",
       "2      2007.00000    6.00000     6.00000  10.00000   116.00000   13.00000   \n",
       "3      2823.00000    6.00000     7.00000   6.00000   128.00000   14.00000   \n",
       "4      1173.00000    2.00000     1.00000   2.00000    42.00000    1.00000   \n",
       "5       729.00000    2.00000     1.00000   1.00000    36.00000    4.00000   \n",
       "6      3202.00000    2.00000     2.00000   9.00000    91.00000    2.00000   \n",
       "7      2481.00000    0.00000     3.00000  14.00000   132.00000   19.00000   \n",
       "8      3420.00000    4.00000     6.00000  17.00000   179.00000   13.00000   \n",
       "9      3415.00000    0.00000     4.00000  10.00000   118.00000   11.00000   \n",
       "10      436.00000    3.00000     0.00000   2.00000    33.00000    1.00000   \n",
       "11      981.00000    0.00000     3.00000   3.00000    43.00000    0.00000   \n",
       "12     2069.00000   20.00000     3.00000  12.00000   150.00000   18.00000   \n",
       "13     3420.00000    0.00000     0.00000  10.00000   150.00000   11.00000   \n",
       "14     2398.00000   11.00000     4.00000   9.00000   130.00000   14.00000   \n",
       "15     2400.00000    2.00000     2.00000   8.00000    79.00000    8.00000   \n",
       "16      884.00000    1.00000     3.00000   4.00000    44.00000    0.00000   \n",
       "17     2244.00000    1.00000     1.00000   5.00000    62.00000    5.00000   \n",
       "18     2057.00000    7.00000     3.00000   6.00000    98.00000   16.00000   \n",
       "19     2160.00000    0.00000     0.00000   6.00000    83.00000    6.00000   \n",
       "20     3047.00000    7.00000    10.00000  13.00000   158.00000   16.00000   \n",
       "21     2186.00000    4.00000     2.00000  11.00000    90.00000   12.00000   \n",
       "22      752.00000    4.00000     3.00000   3.00000    46.00000    2.00000   \n",
       "23     3053.00000    2.00000     3.00000  13.00000   140.00000   13.00000   \n",
       "24     3146.00000    2.00000     2.00000  13.00000   142.00000   15.00000   \n",
       "25     2236.00000    9.00000     1.00000   5.00000   114.00000   20.00000   \n",
       "26     2872.00000   12.00000     5.00000  11.00000   132.00000   15.00000   \n",
       "27     1598.00000   11.00000     3.00000   8.00000   108.00000   14.00000   \n",
       "28     2689.00000    8.00000     1.00000  11.00000   129.00000   17.00000   \n",
       "29     3313.00000    0.00000     0.00000  11.00000   138.00000    3.00000   \n",
       "...           ...        ...         ...       ...         ...        ...   \n",
       "6254   1413.80000    3.10000     5.60000   4.20000    66.70000    2.40000   \n",
       "6255   3123.00000    2.60000     0.70000   8.40000   106.60000    7.60000   \n",
       "6256   1570.31918    2.05018     1.45606   3.92809    53.28167    1.82742   \n",
       "6257   1629.43327    0.53091     3.25606   5.33703    59.56946    0.83691   \n",
       "6258    842.00000    2.00000     2.00000   3.00000    43.00000    5.00000   \n",
       "6259   2404.46600    7.55300     4.64100   6.79400   115.46500   13.50000   \n",
       "6260   2099.96413   21.46806     5.94021  11.87791   174.67396   24.01009   \n",
       "6261   1277.10000    1.40000     3.10000   4.20000    57.30000    3.50000   \n",
       "6262   1137.00000    1.00000     2.00000   2.00000    51.00000    2.00000   \n",
       "6263   2865.88700    3.10000     0.29400  13.50600   139.81200   18.46500   \n",
       "6264   2043.40000   22.40000     8.40000  10.50000   213.00000   18.20000   \n",
       "6265   1709.00000    1.00000     1.00000   5.00000    65.00000    9.00000   \n",
       "6266   2683.98300   13.64700     8.44100  14.19400   176.87500   25.55300   \n",
       "6267   1208.82900    0.84700     0.29400   3.35300    34.55800    1.32900   \n",
       "6268   2375.28830    9.48470     6.92503   7.51585   136.92357   11.31561   \n",
       "6269   1775.42400    0.45300     0.29400   5.00000    48.27600    0.59400   \n",
       "6270   1086.31300    5.60000     1.40000   4.20000    65.40000    9.80000   \n",
       "6271    582.31900    1.00600     2.07700   1.85900    31.95700    2.55900   \n",
       "6272   2272.60000    2.70000     1.30000   9.40000   103.30000   11.50000   \n",
       "6273   1709.00000    1.00000     1.00000   5.00000    65.00000    9.00000   \n",
       "6274   1602.80000    3.30000     6.60000  11.40000    96.80000    7.20000   \n",
       "6275   2817.00000    5.00000     8.00000   8.00000   125.00000    4.00000   \n",
       "6276   1056.00000   10.00000     4.00000   4.00000    87.00000   12.00000   \n",
       "6277   1437.80000    4.10000     3.00000   1.60000    69.60000    4.10000   \n",
       "6278   2667.44624   12.05109     9.61609  11.59694   173.88020   17.34136   \n",
       "6279   3264.00000    0.00000     2.00000   9.00000   102.00000   15.00000   \n",
       "6280   2948.05906   17.00476     6.77497  13.08800   170.29050   20.26161   \n",
       "6281   1268.00000    0.00000     4.00000   3.00000    44.00000    0.00000   \n",
       "6282   2448.15865    7.89933    10.78403  13.32503   159.51085   22.37375   \n",
       "6283   1648.47040    0.00000     0.22503   3.12197    41.49909    1.27815   \n",
       "\n",
       "      fpl_cprice  player_rating     touches     saves      ...       \\\n",
       "0       6.100000       6.651000   57.740741  0.000000      ...        \n",
       "1       5.600000       7.054412   44.029412  0.000000      ...        \n",
       "2       8.800000       6.839000   72.758621  0.000000      ...        \n",
       "3       5.500000       6.987838   51.783784  0.000000      ...        \n",
       "4       4.600000       3.183548   34.642857  0.000000      ...        \n",
       "5       6.300000       5.634706   49.357143  0.000000      ...        \n",
       "6       4.700000       6.575946   52.162162  0.000000      ...        \n",
       "7       6.200000       5.998286   68.689655  0.000000      ...        \n",
       "8       7.700000       7.253684   65.052632  0.000000      ...        \n",
       "9       4.800000       7.146579   83.236842  0.000000      ...        \n",
       "10      7.100000       5.138333   23.928571  0.000000      ...        \n",
       "11      4.400000       4.295946   20.565217  0.000000      ...        \n",
       "12     10.600000       7.428077   42.538462  0.000000      ...        \n",
       "13      4.700000       6.817895   36.421053  3.459459      ...        \n",
       "14      5.000000       6.668421   37.837838  0.000000      ...        \n",
       "15      4.600000       7.084643   65.750000  0.000000      ...        \n",
       "16      5.300000       4.018846   30.312500  0.000000      ...        \n",
       "17      4.400000       4.664444   59.384615  0.000000      ...        \n",
       "18      4.700000       6.191765   44.903226  0.000000      ...        \n",
       "19      4.500000       6.368800   38.250000  3.478261      ...        \n",
       "20      8.300000       7.072222   56.285714  0.000000      ...        \n",
       "21      5.500000       7.499231   76.730769  0.000000      ...        \n",
       "22     11.100000       7.010833   33.750000  0.000000      ...        \n",
       "23      5.800000       7.021176   67.058824  0.000000      ...        \n",
       "24      5.900000       6.842778   70.800000  0.000000      ...        \n",
       "25      8.600000       6.723333   67.000000  0.000000      ...        \n",
       "26     10.600000       7.276667   66.757576  0.000000      ...        \n",
       "27      8.100000       7.105667   31.466667  0.000000      ...        \n",
       "28      5.100000       7.095455   64.060606  0.000000      ...        \n",
       "29      5.800000       6.679189   36.081081  2.906250      ...        \n",
       "...          ...            ...         ...       ...      ...        \n",
       "6254    4.780000       6.912950   33.604982  0.000000      ...        \n",
       "6255    4.950000       6.175602   49.436576  0.000000      ...        \n",
       "6256    5.111212       6.205986   53.670682  0.000000      ...        \n",
       "6257    5.477124       6.247411   33.560427  0.000000      ...        \n",
       "6258    4.600000       7.585571   25.592150  0.000000      ...        \n",
       "6259    5.257600       7.220694   43.813086  0.000000      ...        \n",
       "6260   11.920588       8.285222   50.733721  0.000000      ...        \n",
       "6261    5.070000       6.580920   41.017253  0.000000      ...        \n",
       "6262    5.000000       6.432299   29.777925  0.000000      ...        \n",
       "6263    6.341800       7.821894  116.530879  0.000000      ...        \n",
       "6264    9.220000       7.974378   41.410421  0.000000      ...        \n",
       "6265    4.300000       7.136066   67.623738  0.000000      ...        \n",
       "6266    9.169400       8.058750   61.493274  0.000000      ...        \n",
       "6267    4.315900       5.734267   30.366053  0.000000      ...        \n",
       "6268    6.969797       8.084258   41.325900  0.000000      ...        \n",
       "6269    4.284700       6.078425   46.330703  0.000000      ...        \n",
       "6270    6.474700       6.228400   27.846124  0.000000      ...        \n",
       "6271    5.574100       8.264825   52.030455  0.000000      ...        \n",
       "6272    5.520000       7.000838   70.138254  0.000000      ...        \n",
       "6273    4.300000       6.445820   68.587121  0.000000      ...        \n",
       "6274    8.000000       8.314319   73.804548  0.000000      ...        \n",
       "6275    5.800000       6.433354   33.564619  0.000000      ...        \n",
       "6276   10.800000       6.350573   33.391965  0.000000      ...        \n",
       "6277    5.800000       6.732687   44.610546  0.000000      ...        \n",
       "6278   11.444712       7.574495   82.684088  0.000000      ...        \n",
       "6279    4.600000       7.663458   60.436318  0.000000      ...        \n",
       "6280   10.865800       7.470642   22.455973  0.000000      ...        \n",
       "6281    4.500000       6.146364   19.293781  0.000000      ...        \n",
       "6282    8.503600       8.094137  120.452894  0.000000      ...        \n",
       "6283    4.270000       7.072728   42.853771  0.000000      ...        \n",
       "\n",
       "      six_yard_block  post_scoring_att  att_pen_target  penalty_save  \\\n",
       "0              0.000          0.000000             0.0           0.0   \n",
       "1              1.000          1.000000             0.0           0.0   \n",
       "2              0.000          1.000000             0.0           0.0   \n",
       "3              0.000          1.000000             0.0           0.0   \n",
       "4              1.000          0.000000             0.0           0.0   \n",
       "5              1.000          0.000000             0.0           0.0   \n",
       "6              1.000          0.000000             1.0           0.0   \n",
       "7              0.000          0.000000             0.0           0.0   \n",
       "8              0.000          0.000000             0.0           0.0   \n",
       "9              0.000          0.000000             0.0           0.0   \n",
       "10             0.000          0.000000             0.0           0.0   \n",
       "11             0.000          0.000000             0.0           0.0   \n",
       "12             1.000          1.000000             0.0           0.0   \n",
       "13             0.000          0.000000             0.0           1.0   \n",
       "14             1.000          1.000000             0.0           0.0   \n",
       "15             0.000          1.000000             0.0           0.0   \n",
       "16             1.000          0.000000             0.0           0.0   \n",
       "17             0.000          0.000000             0.0           0.0   \n",
       "18             1.000          1.000000             0.0           0.0   \n",
       "19             0.000          0.000000             0.0           0.0   \n",
       "20             1.000          2.000000             0.0           0.0   \n",
       "21             1.000          1.000000             0.0           0.0   \n",
       "22             1.000          1.000000             0.0           0.0   \n",
       "23             0.000          0.000000             0.0           0.0   \n",
       "24             0.000          0.000000             0.0           0.0   \n",
       "25             0.000          0.000000             1.0           0.0   \n",
       "26             1.000          1.000000             1.0           0.0   \n",
       "27             1.000          1.000000             0.0           0.0   \n",
       "28             0.000          0.000000             0.0           0.0   \n",
       "29             0.000          0.000000             0.0           1.0   \n",
       "...              ...               ...             ...           ...   \n",
       "6254           1.000          0.000000             0.0           0.0   \n",
       "6255           1.000          2.000000             0.0           0.0   \n",
       "6256           1.000          1.063000             0.0           0.0   \n",
       "6257           0.000          0.000000             0.0           0.0   \n",
       "6258           1.000          0.000000             0.0           0.0   \n",
       "6259           0.000          1.000000             0.0           0.0   \n",
       "6260           1.000          1.700000             1.0           0.0   \n",
       "6261           0.000          0.000000             0.0           0.0   \n",
       "6262           0.000          0.000000             0.0           0.0   \n",
       "6263           1.000          1.000000             0.0           0.0   \n",
       "6264           1.000          0.000000             1.0           0.0   \n",
       "6265           0.000          0.000000             0.0           0.0   \n",
       "6266           1.000          1.000000             0.0           0.0   \n",
       "6267           1.000          0.000000             0.0           0.0   \n",
       "6268           1.000          1.002430             0.0           0.0   \n",
       "6269           1.000          1.000000             0.0           0.0   \n",
       "6270           0.000          1.000000             0.0           0.0   \n",
       "6271           0.000          0.000000             0.0           0.0   \n",
       "6272           1.000          1.000000             0.0           0.0   \n",
       "6273           0.000          0.000000             0.0           0.0   \n",
       "6274           1.000          0.000000             0.0           0.0   \n",
       "6275           1.000          1.000000             0.0           0.0   \n",
       "6276           0.000          0.000000             1.0           0.0   \n",
       "6277           1.000          1.000000             0.0           0.0   \n",
       "6278           1.063          1.000000             1.0           0.0   \n",
       "6279           1.000          1.000000             0.0           0.0   \n",
       "6280           1.000          1.000153             1.0           0.0   \n",
       "6281           0.000          0.000000             0.0           0.0   \n",
       "6282           1.000          1.000000             0.0           0.0   \n",
       "6283           1.300          0.000000             0.0           0.0   \n",
       "\n",
       "      penalty_conceded  clearance_off_line  att_pen_goal  att_pen_miss  \\\n",
       "0                  1.0                 0.0      0.000000           0.0   \n",
       "1                  0.0                 0.0      0.000000           0.0   \n",
       "2                  0.0                 0.0      0.000000           0.0   \n",
       "3                  0.0                 0.0      0.000000           0.0   \n",
       "4                  0.0                 0.0      0.000000           0.0   \n",
       "5                  0.0                 0.0      0.000000           0.0   \n",
       "6                  1.0                 0.0      0.000000           0.0   \n",
       "7                  0.0                 1.0      0.000000           0.0   \n",
       "8                  0.0                 0.0      0.000000           0.0   \n",
       "9                  0.0                 1.0      0.000000           0.0   \n",
       "10                 0.0                 0.0      0.000000           0.0   \n",
       "11                 0.0                 0.0      0.000000           0.0   \n",
       "12                 0.0                 0.0      1.000000           0.0   \n",
       "13                 0.0                 0.0      0.000000           0.0   \n",
       "14                 0.0                 0.0      1.000000           0.0   \n",
       "15                 1.0                 1.0      0.000000           0.0   \n",
       "16                 0.0                 0.0      0.000000           0.0   \n",
       "17                 1.0                 0.0      0.000000           0.0   \n",
       "18                 0.0                 0.0      0.000000           0.0   \n",
       "19                 0.0                 0.0      0.000000           0.0   \n",
       "20                 0.0                 1.0      0.000000           0.0   \n",
       "21                 0.0                 0.0      0.000000           0.0   \n",
       "22                 0.0                 0.0      0.000000           0.0   \n",
       "23                 0.0                 1.0      0.000000           0.0   \n",
       "24                 0.0                 0.0      0.000000           0.0   \n",
       "25                 0.0                 0.0      1.333333           0.0   \n",
       "26                 0.0                 0.0      1.000000           0.0   \n",
       "27                 0.0                 0.0      1.000000           0.0   \n",
       "28                 0.0                 0.0      0.000000           0.0   \n",
       "29                 0.0                 0.0      0.000000           0.0   \n",
       "...                ...                 ...           ...           ...   \n",
       "6254               0.0                 0.0      0.000000           0.0   \n",
       "6255               1.0                 1.0      0.000000           0.0   \n",
       "6256               0.0                 0.0      0.000000           0.0   \n",
       "6257               0.0                 0.0      0.000000           0.0   \n",
       "6258               0.0                 0.0      0.000000           0.0   \n",
       "6259               0.0                 0.0      0.000000           0.0   \n",
       "6260               0.0                 0.0      1.000000           0.0   \n",
       "6261               0.0                 0.0      0.000000           0.0   \n",
       "6262               0.0                 0.0      0.000000           0.0   \n",
       "6263               1.0                 1.0      0.000000           0.0   \n",
       "6264               0.0                 0.0      1.000000           0.0   \n",
       "6265               0.0                 0.0      0.000000           0.0   \n",
       "6266               0.0                 1.0      1.000000           0.0   \n",
       "6267               1.0                 0.0      0.000000           0.0   \n",
       "6268               1.0                 0.0      1.000000           1.0   \n",
       "6269               1.0                 1.0      0.000000           0.0   \n",
       "6270               0.0                 0.0      0.000000           0.0   \n",
       "6271               0.0                 0.0      0.000000           0.0   \n",
       "6272               0.0                 1.0      0.000000           0.0   \n",
       "6273               0.0                 0.0      0.000000           0.0   \n",
       "6274               1.0                 0.0      0.000000           0.0   \n",
       "6275               0.0                 0.0      0.000000           0.0   \n",
       "6276               0.0                 0.0      1.000000           0.0   \n",
       "6277               0.0                 0.0      0.000000           0.0   \n",
       "6278               0.0                 0.0      1.000000           0.0   \n",
       "6279               0.0                 0.0      0.000000           0.0   \n",
       "6280               0.0                 0.0      1.000000           0.0   \n",
       "6281               0.0                 0.0      0.000000           0.0   \n",
       "6282               0.0                 0.0      0.000000           0.0   \n",
       "6283               1.0                 0.0      0.000000           0.0   \n",
       "\n",
       "      own_goals  att_pen_post  \n",
       "0           0.0           0.0  \n",
       "1           0.0           0.0  \n",
       "2           0.0           0.0  \n",
       "3           0.0           0.0  \n",
       "4           0.0           0.0  \n",
       "5           0.0           0.0  \n",
       "6           0.0           0.0  \n",
       "7           0.0           0.0  \n",
       "8           0.0           0.0  \n",
       "9           0.0           0.0  \n",
       "10          0.0           0.0  \n",
       "11          0.0           0.0  \n",
       "12          0.0           0.0  \n",
       "13          1.0           0.0  \n",
       "14          0.0           0.0  \n",
       "15          0.0           0.0  \n",
       "16          0.0           0.0  \n",
       "17          0.0           0.0  \n",
       "18          0.0           0.0  \n",
       "19          0.0           0.0  \n",
       "20          0.0           0.0  \n",
       "21          0.0           0.0  \n",
       "22          0.0           0.0  \n",
       "23          0.0           0.0  \n",
       "24          0.0           0.0  \n",
       "25          1.0           0.0  \n",
       "26          0.0           0.0  \n",
       "27          0.0           0.0  \n",
       "28          0.0           0.0  \n",
       "29          0.0           0.0  \n",
       "...         ...           ...  \n",
       "6254        0.0           0.0  \n",
       "6255        1.0           0.0  \n",
       "6256        0.0           0.0  \n",
       "6257        0.0           0.0  \n",
       "6258        0.0           0.0  \n",
       "6259        1.0           0.0  \n",
       "6260        0.0           1.0  \n",
       "6261        0.0           0.0  \n",
       "6262        0.0           0.0  \n",
       "6263        1.0           0.0  \n",
       "6264        0.0           0.0  \n",
       "6265        0.0           0.0  \n",
       "6266        0.0           0.0  \n",
       "6267        0.0           0.0  \n",
       "6268        0.0           0.0  \n",
       "6269        0.0           0.0  \n",
       "6270        0.0           0.0  \n",
       "6271        0.0           0.0  \n",
       "6272        0.0           0.0  \n",
       "6273        0.0           0.0  \n",
       "6274        0.0           0.0  \n",
       "6275        0.0           0.0  \n",
       "6276        0.0           0.0  \n",
       "6277        0.0           0.0  \n",
       "6278        0.0           0.0  \n",
       "6279        0.0           0.0  \n",
       "6280        1.0           0.0  \n",
       "6281        0.0           0.0  \n",
       "6282        0.0           0.0  \n",
       "6283        0.0           0.0  \n",
       "\n",
       "[6284 rows x 39 columns]"
      ]
     },
     "execution_count": 76,
     "metadata": {},
     "output_type": "execute_result"
    }
   ],
   "source": [
    "X_unp"
   ]
  },
  {
   "cell_type": "code",
   "execution_count": 53,
   "metadata": {},
   "outputs": [],
   "source": [
    "# X = X_unp"
   ]
  },
  {
   "cell_type": "code",
   "execution_count": 123,
   "metadata": {},
   "outputs": [
    {
     "data": {
      "text/plain": [
       "(6284, 19)"
      ]
     },
     "execution_count": 123,
     "metadata": {},
     "output_type": "execute_result"
    }
   ],
   "source": [
    "X = variance_threshold_selector(X_unp, 0.7)\n",
    "X.shape"
   ]
  },
  {
   "cell_type": "code",
   "execution_count": 114,
   "metadata": {},
   "outputs": [],
   "source": [
    "X = kBestSelector(X, y, score_func = chi2, k = 6)"
   ]
  },
  {
   "cell_type": "code",
   "execution_count": 115,
   "metadata": {},
   "outputs": [
    {
     "data": {
      "text/plain": [
       "Index(['fpl_minutes', 'fpl_goals', 'fpl_assits', 'fpl_points', 'fpl_bonus',\n",
       "       'formation_place'],\n",
       "      dtype='object')"
      ]
     },
     "execution_count": 115,
     "metadata": {},
     "output_type": "execute_result"
    }
   ],
   "source": [
    "X.columns"
   ]
  },
  {
   "cell_type": "code",
   "execution_count": 75,
   "metadata": {
    "scrolled": false
   },
   "outputs": [
    {
     "name": "stdout",
     "output_type": "stream",
     "text": [
      "34 0.7447476294912083\n"
     ]
    },
    {
     "data": {
      "image/png": "[encoded data removed]",
      "text/plain": [
       "<Figure size 864x648 with 1 Axes>"
      ]
     },
     "metadata": {
      "needs_background": "light"
     },
     "output_type": "display_data"
    },
    {
     "data": {
      "image/png": "[encoded data removed]",
      "text/plain": [
       "<Figure size 864x648 with 1 Axes>"
      ]
     },
     "metadata": {
      "needs_background": "light"
     },
     "output_type": "display_data"
    }
   ],
   "source": [
    "result_dict = {}\n",
    "for k_v in range(1, X_unp.shape[1]+1):\n",
    "    X = kBestSelector(X_unp, y, score_func = chi2, k = k_v)\n",
    "    X_train, X_test, y_train, y_test = train_test_split(X, y, test_size=0.25, random_state=20191027)\n",
    "    stdsc = StandardScaler()\n",
    "    X_train_std = stdsc.fit_transform(X_train.values)\n",
    "    X_test_std = stdsc.transform(X_test.values)\n",
    "    log_reg = LogisticRegression(penalty='l1', C=0.1, solver = 'saga', multi_class='ovr', verbose = 0, n_jobs=-1, max_iter = 80000, random_state=20191028)\n",
    "    log_reg.fit(X_train_std, y_train)\n",
    "    cv_scores = cross_val_score(log_reg, X_train_std, y_train, cv=8, n_jobs=-1)\n",
    "    result_dict[k_v] = (cv_scores, log_reg.score(X_train_std, y_train), np.mean(cv_scores), log_reg.score(X_test_std, y_test))\n",
    "max = float(\"-inf\")\n",
    "fn = 0\n",
    "for k,v in result_dict.items():\n",
    "#     print(v, v[0])\n",
    "    if v[2] > max:\n",
    "        fn = k\n",
    "        max = v[2]\n",
    "print(fn, max)\n",
    "\n",
    "x_ax = []\n",
    "y_ax = []\n",
    "test_pred = []\n",
    "for k,v in result_dict.items():\n",
    "    x_ax.append(k)\n",
    "    y_ax.append(v[2])\n",
    "    test_pred.append(v[3])\n",
    "plt.figure(figsize=(12,9))\n",
    "plt.title('CV Value against number of features')\n",
    "plt.ylabel('CV score')\n",
    "plt.xlabel('n features')\n",
    "plt.plot(x_ax, y_ax, color='orange')\n",
    "plt.show()\n",
    "\n",
    "plt.figure(figsize=(12,9))\n",
    "plt.title('TEST prediction accuracy against number of features')\n",
    "plt.ylabel('Test Prediction')\n",
    "plt.xlabel('n features')\n",
    "plt.plot(x_ax, test_pred, color='deepskyblue')\n",
    "plt.show()"
   ]
  },
  {
   "cell_type": "code",
   "execution_count": 116,
   "metadata": {},
   "outputs": [],
   "source": [
    "X_train, X_test, y_train, y_test = train_test_split(X, y, test_size=0.25, random_state=20191027)\n",
    "\n",
    "stdsc = StandardScaler()\n",
    "X_train_std = stdsc.fit_transform(X_train.values)\n",
    "X_test_std = stdsc.transform(X_test.values)\n",
    "\n",
    "rbsc = RobustScaler()\n",
    "X_train_rbs = rbsc.fit_transform(X_train.values)\n",
    "X_test_rbs = rbsc.transform(X_test.values)\n",
    "\n",
    "mm = MinMaxScaler()\n",
    "X_train_mm = mm.fit_transform(X_train.values)\n",
    "X_test_mm = mm.transform(X_test.values)"
   ]
  },
  {
   "cell_type": "code",
   "execution_count": 118,
   "metadata": {},
   "outputs": [
    {
     "name": "stderr",
     "output_type": "stream",
     "text": [
      "[Parallel(n_jobs=-1)]: Using backend LokyBackend with 4 concurrent workers.\n",
      "[Parallel(n_jobs=-1)]: Done   1 out of   1 | elapsed:    0.7s finished\n"
     ]
    },
    {
     "name": "stdout",
     "output_type": "stream",
     "text": [
      "CV SCORES: [0.73714286 0.75047619 0.73714286 0.7352381  0.73282443 0.73664122\n",
      " 0.6998088  0.73040153]\n",
      "TRAINING Accuracy: 0.737\n",
      "Average 8-Fold Training CV Score: 0.7324594967378454\n",
      "TEST Accuracy: 0.740\n"
     ]
    }
   ],
   "source": [
    "log_reg = LogisticRegression(penalty='l2', C=0.001, solver = 'lbfgs', multi_class='ovr', verbose = 1, n_jobs=-1, max_iter = 80000, random_state=20191028)\n",
    "log_reg.fit(X_train, y_train)\n",
    "cv_scores = cross_val_score(log_reg, X_train, y_train, cv=8, n_jobs=-1)\n",
    "print(\"CV SCORES:\", cv_scores)\n",
    "print('TRAINING Accuracy: %.3f' % log_reg.score(X_train, y_train))\n",
    "print(\"Average 8-Fold Training CV Score: {}\".format(np.mean(cv_scores)))\n",
    "print('TEST Accuracy: %.3f' % log_reg.score(X_test, y_test))"
   ]
  },
  {
   "cell_type": "code",
   "execution_count": 119,
   "metadata": {},
   "outputs": [
    {
     "name": "stdout",
     "output_type": "stream",
     "text": [
      "[LibLinear]"
     ]
    },
    {
     "name": "stderr",
     "output_type": "stream",
     "text": [
      "c:\\users\\deni susanto\\appdata\\local\\programs\\python\\python36\\lib\\site-packages\\sklearn\\linear_model\\logistic.py:1300: UserWarning: 'n_jobs' > 1 does not have any effect when 'solver' is set to 'liblinear'. Got 'n_jobs' = 4.\n",
      "  \" = {}.\".format(effective_n_jobs(self.n_jobs)))\n"
     ]
    },
    {
     "name": "stdout",
     "output_type": "stream",
     "text": [
      "CV SCORES: [0.74285714 0.74666667 0.73142857 0.74095238 0.73473282 0.72137405\n",
      " 0.70554493 0.72848948]\n",
      "TRAINING Accuracy: 0.735\n",
      "Average 8-Fold Training CV Score: 0.7315057561199717\n",
      "TEST Accuracy: 0.736\n"
     ]
    }
   ],
   "source": [
    "log_reg = LogisticRegression(penalty='l1', C=0.1, solver = 'liblinear', multi_class='ovr', verbose = 1, n_jobs=-1, max_iter = 80000, random_state=20191028)\n",
    "log_reg.fit(X_train, y_train)\n",
    "cv_scores = cross_val_score(log_reg, X_train, y_train, cv=8, n_jobs=-1)\n",
    "print(\"CV SCORES:\", cv_scores)\n",
    "print('TRAINING Accuracy: %.3f' % log_reg.score(X_train, y_train))\n",
    "print(\"Average 8-Fold Training CV Score: {}\".format(np.mean(cv_scores)))\n",
    "print('TEST Accuracy: %.3f' % log_reg.score(X_test, y_test))"
   ]
  },
  {
   "cell_type": "code",
   "execution_count": 120,
   "metadata": {},
   "outputs": [
    {
     "name": "stdout",
     "output_type": "stream",
     "text": [
      "[LibLinear]"
     ]
    },
    {
     "name": "stderr",
     "output_type": "stream",
     "text": [
      "c:\\users\\deni susanto\\appdata\\local\\programs\\python\\python36\\lib\\site-packages\\sklearn\\linear_model\\logistic.py:1300: UserWarning: 'n_jobs' > 1 does not have any effect when 'solver' is set to 'liblinear'. Got 'n_jobs' = 4.\n",
      "  \" = {}.\".format(effective_n_jobs(self.n_jobs)))\n"
     ]
    },
    {
     "name": "stdout",
     "output_type": "stream",
     "text": [
      "CV SCORES: [0.7447619  0.74857143 0.73142857 0.73714286 0.73091603 0.72137405\n",
      " 0.70172084 0.73422562]\n",
      "TRAINING Accuracy: 0.736\n",
      "Average 8-Fold Training CV Score: 0.7312676626194681\n",
      "TEST Accuracy: 0.735\n"
     ]
    }
   ],
   "source": [
    "log_reg = LogisticRegression(penalty='l2', C=0.1, solver = 'liblinear', multi_class='ovr', verbose = 1, n_jobs=-1, max_iter = 80000, random_state=20191028)\n",
    "log_reg.fit(X_train, y_train)\n",
    "cv_scores = cross_val_score(log_reg, X_train, y_train, cv=8, n_jobs=-1)\n",
    "print(\"CV SCORES:\", cv_scores)\n",
    "print('TRAINING Accuracy: %.3f' % log_reg.score(X_train, y_train))\n",
    "print(\"Average 8-Fold Training CV Score: {}\".format(np.mean(cv_scores)))\n",
    "print('TEST Accuracy: %.3f' % log_reg.score(X_test, y_test))"
   ]
  },
  {
   "cell_type": "code",
   "execution_count": 117,
   "metadata": {},
   "outputs": [
    {
     "name": "stderr",
     "output_type": "stream",
     "text": [
      "[Parallel(n_jobs=-1)]: Using backend ThreadingBackend with 4 concurrent workers.\n",
      "[Parallel(n_jobs=-1)]: Done   1 out of   1 | elapsed:    0.0s finished\n"
     ]
    },
    {
     "name": "stdout",
     "output_type": "stream",
     "text": [
      "convergence after 14 epochs took 0 seconds\n",
      "CV SCORES: [0.77848101 0.71111111 0.74522293 0.75159236 0.72292994 0.6910828\n",
      " 0.70700637 0.74203822 0.71656051 0.68789809 0.79617834 0.73248408\n",
      " 0.77388535 0.75477707 0.71019108]\n",
      "TRAINING Accuracy: 0.736\n",
      "Average 8-Fold Training CV Score: 0.7347626171684867\n",
      "TEST Accuracy: 0.761\n"
     ]
    }
   ],
   "source": [
    "log_reg = LogisticRegression(penalty='l1', C=0.1, solver = 'saga', multi_class='ovr', verbose = 1, n_jobs=-1, max_iter = 80000, random_state=20191028)\n",
    "log_reg.fit(X_train_std, y_train)\n",
    "cv_scores = cross_val_score(log_reg, X_train_std, y_train, cv=15, n_jobs=-1)\n",
    "print(\"CV SCORES:\", cv_scores)\n",
    "print('TRAINING Accuracy: %.3f' % log_reg.score(X_train_std, y_train))\n",
    "print(\"Average 8-Fold Training CV Score: {}\".format(np.mean(cv_scores)))\n",
    "print('TEST Accuracy: %.3f' % log_reg.score(X_test_std, y_test))"
   ]
  },
  {
   "cell_type": "code",
   "execution_count": 122,
   "metadata": {},
   "outputs": [
    {
     "name": "stderr",
     "output_type": "stream",
     "text": [
      "[Parallel(n_jobs=-1)]: Using backend ThreadingBackend with 4 concurrent workers.\n",
      "[Parallel(n_jobs=-1)]: Done   1 out of   1 | elapsed:    0.0s finished\n"
     ]
    },
    {
     "name": "stdout",
     "output_type": "stream",
     "text": [
      "convergence after 14 epochs took 0 seconds\n",
      "CV SCORES: [0.77848101 0.71111111 0.74522293 0.75159236 0.72292994 0.6910828\n",
      " 0.70700637 0.74203822 0.71656051 0.68789809 0.79617834 0.73248408\n",
      " 0.77388535 0.75477707 0.71019108]\n",
      "TRAINING Accuracy: 0.736\n",
      "Average 8-Fold Training CV Score: 0.7347626171684867\n",
      "TEST Accuracy: 0.761\n"
     ]
    }
   ],
   "source": [
    "f = selector.support_\n",
    "log_reg = LogisticRegression(penalty='l1', C=0.1, solver = 'saga', multi_class='ovr', verbose = 1, n_jobs=-1, max_iter = 80000, random_state=20191028)\n",
    "log_reg.fit(X_train_std[:,f], y_train)\n",
    "cv_scores = cross_val_score(log_reg, X_train_std[:,f], y_train, cv=15, n_jobs=-1)\n",
    "print(\"CV SCORES:\", cv_scores)\n",
    "print('TRAINING Accuracy: %.3f' % log_reg.score(X_train_std[:,f], y_train))\n",
    "print(\"Average 8-Fold Training CV Score: {}\".format(np.mean(cv_scores)))\n",
    "print('TEST Accuracy: %.3f' % log_reg.score(X_test_std[:,f], y_test))"
   ]
  },
  {
   "cell_type": "code",
   "execution_count": 67,
   "metadata": {},
   "outputs": [
    {
     "name": "stderr",
     "output_type": "stream",
     "text": [
      "[Parallel(n_jobs=-1)]: Using backend ThreadingBackend with 4 concurrent workers.\n"
     ]
    },
    {
     "name": "stdout",
     "output_type": "stream",
     "text": [
      "convergence after 22 epochs took 0 seconds\n",
      "convergence after 12 epochs took 0 seconds\n"
     ]
    },
    {
     "name": "stderr",
     "output_type": "stream",
     "text": [
      "[Parallel(n_jobs=-1)]: Done   1 out of   1 | elapsed:    0.3s finished\n",
      "[Parallel(n_jobs=-1)]: Using backend ThreadingBackend with 4 concurrent workers.\n",
      "[Parallel(n_jobs=-1)]: Done   1 out of   1 | elapsed:    0.0s finished\n",
      "[Parallel(n_jobs=-1)]: Using backend ThreadingBackend with 4 concurrent workers.\n"
     ]
    },
    {
     "name": "stdout",
     "output_type": "stream",
     "text": [
      "convergence after 15 epochs took 1 seconds\n",
      "convergence after 16 epochs took 0 seconds\n"
     ]
    },
    {
     "name": "stderr",
     "output_type": "stream",
     "text": [
      "[Parallel(n_jobs=-1)]: Done   1 out of   1 | elapsed:    0.2s finished\n",
      "[Parallel(n_jobs=-1)]: Using backend ThreadingBackend with 4 concurrent workers.\n",
      "[Parallel(n_jobs=-1)]: Done   1 out of   1 | elapsed:    0.0s finished\n",
      "[Parallel(n_jobs=-1)]: Using backend ThreadingBackend with 4 concurrent workers.\n"
     ]
    },
    {
     "name": "stdout",
     "output_type": "stream",
     "text": [
      "convergence after 10 epochs took 0 seconds\n"
     ]
    },
    {
     "name": "stderr",
     "output_type": "stream",
     "text": [
      "[Parallel(n_jobs=-1)]: Done   1 out of   1 | elapsed:    0.0s finished\n",
      "[Parallel(n_jobs=-1)]: Using backend ThreadingBackend with 4 concurrent workers.\n"
     ]
    },
    {
     "name": "stdout",
     "output_type": "stream",
     "text": [
      "convergence after 13 epochs took 0 seconds\n"
     ]
    },
    {
     "name": "stderr",
     "output_type": "stream",
     "text": [
      "[Parallel(n_jobs=-1)]: Done   1 out of   1 | elapsed:    0.1s finished\n",
      "[Parallel(n_jobs=-1)]: Using backend ThreadingBackend with 4 concurrent workers.\n"
     ]
    },
    {
     "name": "stdout",
     "output_type": "stream",
     "text": [
      "convergence after 13 epochs took 0 seconds\n",
      "convergence after 14 epochs took 0 seconds\n"
     ]
    },
    {
     "name": "stderr",
     "output_type": "stream",
     "text": [
      "[Parallel(n_jobs=-1)]: Done   1 out of   1 | elapsed:    0.1s finished\n",
      "[Parallel(n_jobs=-1)]: Using backend ThreadingBackend with 4 concurrent workers.\n",
      "[Parallel(n_jobs=-1)]: Done   1 out of   1 | elapsed:    0.0s finished\n",
      "[Parallel(n_jobs=-1)]: Using backend ThreadingBackend with 4 concurrent workers.\n"
     ]
    },
    {
     "name": "stdout",
     "output_type": "stream",
     "text": [
      "convergence after 17 epochs took 0 seconds\n",
      "convergence after 17 epochs took 0 seconds\n"
     ]
    },
    {
     "name": "stderr",
     "output_type": "stream",
     "text": [
      "[Parallel(n_jobs=-1)]: Done   1 out of   1 | elapsed:    0.0s finished\n",
      "[Parallel(n_jobs=-1)]: Using backend ThreadingBackend with 4 concurrent workers.\n",
      "[Parallel(n_jobs=-1)]: Done   1 out of   1 | elapsed:    0.0s finished\n",
      "[Parallel(n_jobs=-1)]: Using backend ThreadingBackend with 4 concurrent workers.\n"
     ]
    },
    {
     "name": "stdout",
     "output_type": "stream",
     "text": [
      "convergence after 18 epochs took 0 seconds\n",
      "convergence after 16 epochs took 0 seconds\n"
     ]
    },
    {
     "name": "stderr",
     "output_type": "stream",
     "text": [
      "[Parallel(n_jobs=-1)]: Done   1 out of   1 | elapsed:    0.1s finished\n",
      "[Parallel(n_jobs=-1)]: Using backend ThreadingBackend with 4 concurrent workers.\n",
      "[Parallel(n_jobs=-1)]: Done   1 out of   1 | elapsed:    0.0s finished\n",
      "[Parallel(n_jobs=-1)]: Using backend ThreadingBackend with 4 concurrent workers.\n"
     ]
    },
    {
     "name": "stdout",
     "output_type": "stream",
     "text": [
      "convergence after 15 epochs took 0 seconds\n",
      "convergence after 19 epochs took 1 seconds"
     ]
    },
    {
     "name": "stderr",
     "output_type": "stream",
     "text": [
      "[Parallel(n_jobs=-1)]: Done   1 out of   1 | elapsed:    0.0s finished\n",
      "[Parallel(n_jobs=-1)]: Using backend ThreadingBackend with 4 concurrent workers.\n"
     ]
    },
    {
     "name": "stdout",
     "output_type": "stream",
     "text": [
      "\n"
     ]
    },
    {
     "name": "stderr",
     "output_type": "stream",
     "text": [
      "[Parallel(n_jobs=-1)]: Done   1 out of   1 | elapsed:    0.1s finished\n",
      "[Parallel(n_jobs=-1)]: Using backend ThreadingBackend with 4 concurrent workers.\n"
     ]
    },
    {
     "name": "stdout",
     "output_type": "stream",
     "text": [
      "convergence after 17 epochs took 0 seconds\n",
      "convergence after 12 epochs took 0 seconds\n"
     ]
    },
    {
     "name": "stderr",
     "output_type": "stream",
     "text": [
      "[Parallel(n_jobs=-1)]: Done   1 out of   1 | elapsed:    0.1s finished\n",
      "[Parallel(n_jobs=-1)]: Using backend ThreadingBackend with 4 concurrent workers.\n",
      "[Parallel(n_jobs=-1)]: Done   1 out of   1 | elapsed:    0.0s finished\n",
      "[Parallel(n_jobs=-1)]: Using backend ThreadingBackend with 4 concurrent workers.\n"
     ]
    },
    {
     "name": "stdout",
     "output_type": "stream",
     "text": [
      "convergence after 12 epochs took 0 seconds\n"
     ]
    },
    {
     "name": "stderr",
     "output_type": "stream",
     "text": [
      "[Parallel(n_jobs=-1)]: Done   1 out of   1 | elapsed:    0.0s finished\n",
      "[Parallel(n_jobs=-1)]: Using backend ThreadingBackend with 4 concurrent workers.\n"
     ]
    },
    {
     "name": "stdout",
     "output_type": "stream",
     "text": [
      "convergence after 29 epochs took 1 seconds\n",
      "convergence after 13 epochs took 0 seconds\n",
      "convergence after 22 epochs took 0 seconds\n"
     ]
    },
    {
     "name": "stderr",
     "output_type": "stream",
     "text": [
      "[Parallel(n_jobs=-1)]: Done   1 out of   1 | elapsed:    0.3s finished\n",
      "[Parallel(n_jobs=-1)]: Using backend ThreadingBackend with 4 concurrent workers.\n",
      "[Parallel(n_jobs=-1)]: Done   1 out of   1 | elapsed:    0.0s finished\n",
      "[Parallel(n_jobs=-1)]: Using backend ThreadingBackend with 4 concurrent workers.\n",
      "[Parallel(n_jobs=-1)]: Done   1 out of   1 | elapsed:    0.0s finished\n",
      "[Parallel(n_jobs=-1)]: Using backend ThreadingBackend with 4 concurrent workers.\n",
      "[Parallel(n_jobs=-1)]: Done   1 out of   1 | elapsed:    0.0s finished\n",
      "[Parallel(n_jobs=-1)]: Using backend ThreadingBackend with 4 concurrent workers.\n"
     ]
    },
    {
     "name": "stdout",
     "output_type": "stream",
     "text": [
      "convergence after 10 epochs took 0 seconds\n",
      "convergence after 11 epochs took 0 seconds\n",
      "convergence after 12 epochs took 0 seconds\n"
     ]
    },
    {
     "name": "stderr",
     "output_type": "stream",
     "text": [
      "[Parallel(n_jobs=-1)]: Done   1 out of   1 | elapsed:    0.1s finished\n",
      "[Parallel(n_jobs=-1)]: Using backend ThreadingBackend with 4 concurrent workers.\n",
      "[Parallel(n_jobs=-1)]: Done   1 out of   1 | elapsed:    0.0s finished\n",
      "[Parallel(n_jobs=-1)]: Using backend ThreadingBackend with 4 concurrent workers.\n"
     ]
    },
    {
     "name": "stdout",
     "output_type": "stream",
     "text": [
      "convergence after 16 epochs took 0 seconds\n",
      "convergence after 16 epochs took 1 seconds\n"
     ]
    },
    {
     "name": "stderr",
     "output_type": "stream",
     "text": [
      "[Parallel(n_jobs=-1)]: Done   1 out of   1 | elapsed:    0.0s finished\n",
      "[Parallel(n_jobs=-1)]: Using backend ThreadingBackend with 4 concurrent workers.\n",
      "[Parallel(n_jobs=-1)]: Done   1 out of   1 | elapsed:    0.0s finished\n",
      "[Parallel(n_jobs=-1)]: Using backend ThreadingBackend with 4 concurrent workers.\n"
     ]
    },
    {
     "name": "stdout",
     "output_type": "stream",
     "text": [
      "convergence after 46 epochs took 0 seconds\n",
      "convergence after 7 epochs took 0 seconds\n"
     ]
    },
    {
     "name": "stderr",
     "output_type": "stream",
     "text": [
      "[Parallel(n_jobs=-1)]: Done   1 out of   1 | elapsed:    0.3s finished\n",
      "[Parallel(n_jobs=-1)]: Using backend ThreadingBackend with 4 concurrent workers.\n",
      "[Parallel(n_jobs=-1)]: Done   1 out of   1 | elapsed:    0.0s finished\n",
      "[Parallel(n_jobs=-1)]: Using backend ThreadingBackend with 4 concurrent workers.\n"
     ]
    },
    {
     "name": "stdout",
     "output_type": "stream",
     "text": [
      "convergence after 16 epochs took 0 seconds\n",
      "convergence after 12 epochs took 0 seconds\n"
     ]
    },
    {
     "name": "stderr",
     "output_type": "stream",
     "text": [
      "[Parallel(n_jobs=-1)]: Done   1 out of   1 | elapsed:    0.0s finished\n",
      "[Parallel(n_jobs=-1)]: Using backend ThreadingBackend with 4 concurrent workers.\n",
      "[Parallel(n_jobs=-1)]: Done   1 out of   1 | elapsed:    0.0s finished\n",
      "[Parallel(n_jobs=-1)]: Using backend ThreadingBackend with 4 concurrent workers.\n"
     ]
    },
    {
     "name": "stdout",
     "output_type": "stream",
     "text": [
      "convergence after 14 epochs took 1 seconds\n",
      "convergence after 13 epochs took 0 seconds\n",
      "convergence after 11 epochs took 0 seconds\n"
     ]
    },
    {
     "name": "stderr",
     "output_type": "stream",
     "text": [
      "[Parallel(n_jobs=-1)]: Done   1 out of   1 | elapsed:    0.1s finished\n",
      "[Parallel(n_jobs=-1)]: Using backend ThreadingBackend with 4 concurrent workers.\n",
      "[Parallel(n_jobs=-1)]: Done   1 out of   1 | elapsed:    0.0s finished\n",
      "[Parallel(n_jobs=-1)]: Using backend ThreadingBackend with 4 concurrent workers.\n",
      "[Parallel(n_jobs=-1)]: Done   1 out of   1 | elapsed:    0.0s finished\n",
      "[Parallel(n_jobs=-1)]: Using backend ThreadingBackend with 4 concurrent workers.\n",
      "[Parallel(n_jobs=-1)]: Done   1 out of   1 | elapsed:    0.0s finished\n",
      "[Parallel(n_jobs=-1)]: Using backend ThreadingBackend with 4 concurrent workers.\n"
     ]
    },
    {
     "name": "stdout",
     "output_type": "stream",
     "text": [
      "convergence after 11 epochs took 0 seconds\n",
      "convergence after 21 epochs took 0 seconds\n",
      "convergence after 19 epochs took 0 seconds\n"
     ]
    },
    {
     "name": "stderr",
     "output_type": "stream",
     "text": [
      "[Parallel(n_jobs=-1)]: Done   1 out of   1 | elapsed:    0.2s finished\n",
      "[Parallel(n_jobs=-1)]: Using backend ThreadingBackend with 4 concurrent workers.\n",
      "[Parallel(n_jobs=-1)]: Done   1 out of   1 | elapsed:    0.0s finished\n",
      "[Parallel(n_jobs=-1)]: Using backend ThreadingBackend with 4 concurrent workers.\n"
     ]
    },
    {
     "name": "stdout",
     "output_type": "stream",
     "text": [
      "convergence after 14 epochs took 0 seconds\n",
      "convergence after 25 epochs took 1 seconds\n"
     ]
    },
    {
     "name": "stderr",
     "output_type": "stream",
     "text": [
      "[Parallel(n_jobs=-1)]: Done   1 out of   1 | elapsed:    0.0s finished\n",
      "[Parallel(n_jobs=-1)]: Using backend ThreadingBackend with 4 concurrent workers.\n",
      "[Parallel(n_jobs=-1)]: Done   1 out of   1 | elapsed:    0.0s finished\n",
      "[Parallel(n_jobs=-1)]: Using backend ThreadingBackend with 4 concurrent workers.\n"
     ]
    },
    {
     "name": "stdout",
     "output_type": "stream",
     "text": [
      "convergence after 28 epochs took 0 seconds\n",
      "convergence after 25 epochs took 0 seconds\n"
     ]
    },
    {
     "name": "stderr",
     "output_type": "stream",
     "text": [
      "[Parallel(n_jobs=-1)]: Done   1 out of   1 | elapsed:    0.3s finished\n",
      "[Parallel(n_jobs=-1)]: Using backend ThreadingBackend with 4 concurrent workers.\n",
      "[Parallel(n_jobs=-1)]: Done   1 out of   1 | elapsed:    0.0s finished\n",
      "[Parallel(n_jobs=-1)]: Using backend ThreadingBackend with 4 concurrent workers.\n"
     ]
    },
    {
     "name": "stdout",
     "output_type": "stream",
     "text": [
      "convergence after 12 epochs took 0 seconds\n",
      "convergence after 13 epochs took 0 seconds"
     ]
    },
    {
     "name": "stderr",
     "output_type": "stream",
     "text": [
      "[Parallel(n_jobs=-1)]: Done   1 out of   1 | elapsed:    0.0s finished\n",
      "[Parallel(n_jobs=-1)]: Using backend ThreadingBackend with 4 concurrent workers.\n"
     ]
    },
    {
     "name": "stdout",
     "output_type": "stream",
     "text": [
      "\n",
      "convergence after 12 epochs took 0 seconds\n",
      "convergence after 12 epochs took 0 seconds\n"
     ]
    },
    {
     "name": "stderr",
     "output_type": "stream",
     "text": [
      "[Parallel(n_jobs=-1)]: Done   1 out of   1 | elapsed:    0.0s finished\n",
      "[Parallel(n_jobs=-1)]: Using backend ThreadingBackend with 4 concurrent workers.\n",
      "[Parallel(n_jobs=-1)]: Done   1 out of   1 | elapsed:    0.0s finished\n",
      "[Parallel(n_jobs=-1)]: Using backend ThreadingBackend with 4 concurrent workers.\n",
      "[Parallel(n_jobs=-1)]: Done   1 out of   1 | elapsed:    0.0s finished\n",
      "[Parallel(n_jobs=-1)]: Using backend ThreadingBackend with 4 concurrent workers.\n",
      "[Parallel(n_jobs=-1)]: Done   1 out of   1 | elapsed:    0.0s finished\n",
      "[Parallel(n_jobs=-1)]: Using backend ThreadingBackend with 4 concurrent workers.\n"
     ]
    },
    {
     "name": "stdout",
     "output_type": "stream",
     "text": [
      "convergence after 13 epochs took 0 seconds\n",
      "convergence after 13 epochs took 0 seconds\n"
     ]
    },
    {
     "name": "stderr",
     "output_type": "stream",
     "text": [
      "[Parallel(n_jobs=-1)]: Done   1 out of   1 | elapsed:    0.0s finished\n",
      "[Parallel(n_jobs=-1)]: Using backend ThreadingBackend with 4 concurrent workers.\n"
     ]
    },
    {
     "name": "stdout",
     "output_type": "stream",
     "text": [
      "convergence after 12 epochs took 0 seconds\n",
      "convergence after 12 epochs took 0 seconds\n"
     ]
    },
    {
     "name": "stderr",
     "output_type": "stream",
     "text": [
      "[Parallel(n_jobs=-1)]: Done   1 out of   1 | elapsed:    0.1s finished\n",
      "[Parallel(n_jobs=-1)]: Using backend ThreadingBackend with 4 concurrent workers.\n",
      "[Parallel(n_jobs=-1)]: Done   1 out of   1 | elapsed:    0.0s finished\n",
      "[Parallel(n_jobs=-1)]: Using backend ThreadingBackend with 4 concurrent workers.\n",
      "[Parallel(n_jobs=-1)]: Done   1 out of   1 | elapsed:    0.0s finished\n",
      "[Parallel(n_jobs=-1)]: Using backend ThreadingBackend with 4 concurrent workers.\n"
     ]
    },
    {
     "name": "stdout",
     "output_type": "stream",
     "text": [
      "convergence after 15 epochs took 0 seconds\n",
      "convergence after 13 epochs took 1 seconds\n",
      "convergence after 12 epochs took 0 seconds\n"
     ]
    },
    {
     "name": "stderr",
     "output_type": "stream",
     "text": [
      "[Parallel(n_jobs=-1)]: Done   1 out of   1 | elapsed:    0.0s finished\n",
      "[Parallel(n_jobs=-1)]: Using backend ThreadingBackend with 4 concurrent workers.\n",
      "[Parallel(n_jobs=-1)]: Done   1 out of   1 | elapsed:    0.0s finished\n",
      "[Parallel(n_jobs=-1)]: Using backend ThreadingBackend with 4 concurrent workers.\n"
     ]
    },
    {
     "name": "stdout",
     "output_type": "stream",
     "text": [
      "convergence after 14 epochs took 0 seconds\n",
      "convergence after 12 epochs took 0 seconds\n"
     ]
    },
    {
     "name": "stderr",
     "output_type": "stream",
     "text": [
      "[Parallel(n_jobs=-1)]: Done   1 out of   1 | elapsed:    0.0s finished\n",
      "[Parallel(n_jobs=-1)]: Using backend ThreadingBackend with 4 concurrent workers.\n",
      "[Parallel(n_jobs=-1)]: Done   1 out of   1 | elapsed:    0.0s finished\n",
      "[Parallel(n_jobs=-1)]: Using backend ThreadingBackend with 4 concurrent workers.\n"
     ]
    },
    {
     "name": "stdout",
     "output_type": "stream",
     "text": [
      "convergence after 13 epochs took 0 seconds\n",
      "convergence after 13 epochs took 0 seconds\n"
     ]
    },
    {
     "name": "stderr",
     "output_type": "stream",
     "text": [
      "[Parallel(n_jobs=-1)]: Done   1 out of   1 | elapsed:    0.0s finished\n",
      "[Parallel(n_jobs=-1)]: Using backend ThreadingBackend with 4 concurrent workers.\n",
      "[Parallel(n_jobs=-1)]: Done   1 out of   1 | elapsed:    0.0s finished\n",
      "[Parallel(n_jobs=-1)]: Using backend ThreadingBackend with 4 concurrent workers.\n",
      "[Parallel(n_jobs=-1)]: Done   1 out of   1 | elapsed:    0.0s finished\n",
      "[Parallel(n_jobs=-1)]: Using backend ThreadingBackend with 4 concurrent workers.\n",
      "[Parallel(n_jobs=-1)]: Done   1 out of   1 | elapsed:    0.0s finished\n"
     ]
    },
    {
     "name": "stdout",
     "output_type": "stream",
     "text": [
      "convergence after 10 epochs took 0 seconds\n",
      "convergence after 13 epochs took 0 seconds\n"
     ]
    },
    {
     "name": "stderr",
     "output_type": "stream",
     "text": [
      "[Parallel(n_jobs=-1)]: Using backend ThreadingBackend with 4 concurrent workers.\n",
      "[Parallel(n_jobs=-1)]: Done   1 out of   1 | elapsed:    0.1s finished\n"
     ]
    },
    {
     "name": "stdout",
     "output_type": "stream",
     "text": [
      "convergence after 13 epochs took 0 seconds\n",
      "convergence after 13 epochs took 0 seconds\n"
     ]
    },
    {
     "name": "stderr",
     "output_type": "stream",
     "text": [
      "[Parallel(n_jobs=-1)]: Using backend ThreadingBackend with 4 concurrent workers.\n",
      "[Parallel(n_jobs=-1)]: Done   1 out of   1 | elapsed:    0.0s finished\n",
      "[Parallel(n_jobs=-1)]: Using backend ThreadingBackend with 4 concurrent workers.\n"
     ]
    },
    {
     "name": "stdout",
     "output_type": "stream",
     "text": [
      "convergence after 13 epochs took 0 seconds\n",
      "convergence after 12 epochs took 0 seconds\n"
     ]
    },
    {
     "name": "stderr",
     "output_type": "stream",
     "text": [
      "[Parallel(n_jobs=-1)]: Done   1 out of   1 | elapsed:    0.0s finished\n",
      "[Parallel(n_jobs=-1)]: Using backend ThreadingBackend with 4 concurrent workers.\n",
      "[Parallel(n_jobs=-1)]: Done   1 out of   1 | elapsed:    0.0s finished\n",
      "[Parallel(n_jobs=-1)]: Using backend ThreadingBackend with 4 concurrent workers.\n"
     ]
    },
    {
     "name": "stdout",
     "output_type": "stream",
     "text": [
      "convergence after 13 epochs took 0 seconds\n",
      "convergence after 13 epochs took 0 seconds\n"
     ]
    },
    {
     "name": "stderr",
     "output_type": "stream",
     "text": [
      "[Parallel(n_jobs=-1)]: Done   1 out of   1 | elapsed:    0.1s finished\n",
      "[Parallel(n_jobs=-1)]: Using backend ThreadingBackend with 4 concurrent workers.\n",
      "[Parallel(n_jobs=-1)]: Done   1 out of   1 | elapsed:    0.0s finished\n",
      "[Parallel(n_jobs=-1)]: Using backend ThreadingBackend with 4 concurrent workers.\n"
     ]
    },
    {
     "name": "stdout",
     "output_type": "stream",
     "text": [
      "convergence after 16 epochs took 0 seconds\n",
      "convergence after 12 epochs took 0 seconds\n"
     ]
    },
    {
     "name": "stderr",
     "output_type": "stream",
     "text": [
      "[Parallel(n_jobs=-1)]: Done   1 out of   1 | elapsed:    0.0s finished\n",
      "[Parallel(n_jobs=-1)]: Using backend ThreadingBackend with 4 concurrent workers.\n",
      "[Parallel(n_jobs=-1)]: Done   1 out of   1 | elapsed:    0.0s finished\n",
      "[Parallel(n_jobs=-1)]: Using backend ThreadingBackend with 4 concurrent workers.\n"
     ]
    },
    {
     "name": "stdout",
     "output_type": "stream",
     "text": [
      "convergence after 12 epochs took 0 seconds\n",
      "convergence after 13 epochs took 0 seconds\n"
     ]
    },
    {
     "name": "stderr",
     "output_type": "stream",
     "text": [
      "[Parallel(n_jobs=-1)]: Done   1 out of   1 | elapsed:    0.1s finished\n",
      "[Parallel(n_jobs=-1)]: Using backend ThreadingBackend with 4 concurrent workers.\n",
      "[Parallel(n_jobs=-1)]: Done   1 out of   1 | elapsed:    0.0s finished\n",
      "[Parallel(n_jobs=-1)]: Using backend ThreadingBackend with 4 concurrent workers.\n"
     ]
    },
    {
     "name": "stdout",
     "output_type": "stream",
     "text": [
      "convergence after 13 epochs took 0 seconds\n",
      "convergence after 13 epochs took 0 seconds\n",
      "convergence after 13 epochs took 0 seconds"
     ]
    },
    {
     "name": "stderr",
     "output_type": "stream",
     "text": [
      "[Parallel(n_jobs=-1)]: Done   1 out of   1 | elapsed:    0.0s finished\n",
      "[Parallel(n_jobs=-1)]: Using backend ThreadingBackend with 4 concurrent workers.\n",
      "[Parallel(n_jobs=-1)]: Done   1 out of   1 | elapsed:    0.0s finished\n",
      "[Parallel(n_jobs=-1)]: Using backend ThreadingBackend with 4 concurrent workers.\n"
     ]
    },
    {
     "name": "stdout",
     "output_type": "stream",
     "text": [
      "\n",
      "convergence after 12 epochs took 1 seconds\n"
     ]
    },
    {
     "name": "stderr",
     "output_type": "stream",
     "text": [
      "[Parallel(n_jobs=-1)]: Done   1 out of   1 | elapsed:    0.0s finished\n",
      "[Parallel(n_jobs=-1)]: Using backend ThreadingBackend with 4 concurrent workers.\n",
      "[Parallel(n_jobs=-1)]: Done   1 out of   1 | elapsed:    0.0s finished\n",
      "[Parallel(n_jobs=-1)]: Using backend ThreadingBackend with 4 concurrent workers.\n"
     ]
    },
    {
     "name": "stdout",
     "output_type": "stream",
     "text": [
      "convergence after 11 epochs took 0 seconds\n",
      "convergence after 13 epochs took 0 seconds\n"
     ]
    },
    {
     "name": "stderr",
     "output_type": "stream",
     "text": [
      "[Parallel(n_jobs=-1)]: Done   1 out of   1 | elapsed:    0.0s finished\n",
      "[Parallel(n_jobs=-1)]: Using backend ThreadingBackend with 4 concurrent workers.\n",
      "[Parallel(n_jobs=-1)]: Done   1 out of   1 | elapsed:    0.0s finished\n",
      "[Parallel(n_jobs=-1)]: Using backend ThreadingBackend with 4 concurrent workers.\n"
     ]
    },
    {
     "name": "stdout",
     "output_type": "stream",
     "text": [
      "convergence after 14 epochs took 0 seconds\n",
      "convergence after 12 epochs took 0 seconds\n"
     ]
    },
    {
     "name": "stderr",
     "output_type": "stream",
     "text": [
      "[Parallel(n_jobs=-1)]: Done   1 out of   1 | elapsed:    0.1s finished\n",
      "[Parallel(n_jobs=-1)]: Using backend ThreadingBackend with 4 concurrent workers.\n",
      "[Parallel(n_jobs=-1)]: Done   1 out of   1 | elapsed:    0.0s finished\n",
      "[Parallel(n_jobs=-1)]: Using backend ThreadingBackend with 4 concurrent workers.\n"
     ]
    },
    {
     "name": "stdout",
     "output_type": "stream",
     "text": [
      "convergence after 16 epochs took 0 seconds\n",
      "convergence after 13 epochs took 1 seconds\n"
     ]
    },
    {
     "name": "stderr",
     "output_type": "stream",
     "text": [
      "[Parallel(n_jobs=-1)]: Done   1 out of   1 | elapsed:    0.0s finished\n",
      "[Parallel(n_jobs=-1)]: Using backend ThreadingBackend with 4 concurrent workers.\n",
      "[Parallel(n_jobs=-1)]: Done   1 out of   1 | elapsed:    0.0s finished\n",
      "[Parallel(n_jobs=-1)]: Using backend ThreadingBackend with 4 concurrent workers.\n"
     ]
    },
    {
     "name": "stdout",
     "output_type": "stream",
     "text": [
      "convergence after 10 epochs took 0 seconds\n"
     ]
    },
    {
     "name": "stderr",
     "output_type": "stream",
     "text": [
      "[Parallel(n_jobs=-1)]: Done   1 out of   1 | elapsed:    0.1s finished\n",
      "[Parallel(n_jobs=-1)]: Using backend ThreadingBackend with 4 concurrent workers.\n"
     ]
    },
    {
     "name": "stdout",
     "output_type": "stream",
     "text": [
      "convergence after 16 epochs took 0 seconds\n",
      "convergence after 13 epochs took 0 seconds\n",
      "convergence after 12 epochs took 0 seconds\n"
     ]
    },
    {
     "name": "stderr",
     "output_type": "stream",
     "text": [
      "[Parallel(n_jobs=-1)]: Done   1 out of   1 | elapsed:    0.0s finished\n",
      "[Parallel(n_jobs=-1)]: Using backend ThreadingBackend with 4 concurrent workers.\n",
      "[Parallel(n_jobs=-1)]: Done   1 out of   1 | elapsed:    0.0s finished\n",
      "[Parallel(n_jobs=-1)]: Using backend ThreadingBackend with 4 concurrent workers.\n",
      "[Parallel(n_jobs=-1)]: Done   1 out of   1 | elapsed:    0.0s finished\n",
      "[Parallel(n_jobs=-1)]: Using backend ThreadingBackend with 4 concurrent workers.\n"
     ]
    },
    {
     "name": "stdout",
     "output_type": "stream",
     "text": [
      "convergence after 13 epochs took 0 seconds\n",
      "convergence after 12 epochs took 0 seconds\n"
     ]
    },
    {
     "name": "stderr",
     "output_type": "stream",
     "text": [
      "[Parallel(n_jobs=-1)]: Done   1 out of   1 | elapsed:    0.1s finished\n",
      "[Parallel(n_jobs=-1)]: Using backend ThreadingBackend with 4 concurrent workers.\n",
      "[Parallel(n_jobs=-1)]: Done   1 out of   1 | elapsed:    0.0s finished\n",
      "[Parallel(n_jobs=-1)]: Using backend ThreadingBackend with 4 concurrent workers.\n",
      "[Parallel(n_jobs=-1)]: Done   1 out of   1 | elapsed:    0.0s finished\n",
      "[Parallel(n_jobs=-1)]: Using backend ThreadingBackend with 4 concurrent workers.\n"
     ]
    },
    {
     "name": "stdout",
     "output_type": "stream",
     "text": [
      "convergence after 12 epochs took 0 seconds\n",
      "convergence after 14 epochs took 0 seconds\n"
     ]
    },
    {
     "name": "stderr",
     "output_type": "stream",
     "text": [
      "[Parallel(n_jobs=-1)]: Done   1 out of   1 | elapsed:    0.0s finished\n",
      "[Parallel(n_jobs=-1)]: Using backend ThreadingBackend with 4 concurrent workers.\n"
     ]
    },
    {
     "name": "stdout",
     "output_type": "stream",
     "text": [
      "convergence after 13 epochs took 0 seconds\n",
      "convergence after 17 epochs took 0 seconds\n"
     ]
    },
    {
     "name": "stderr",
     "output_type": "stream",
     "text": [
      "[Parallel(n_jobs=-1)]: Done   1 out of   1 | elapsed:    0.1s finished\n",
      "[Parallel(n_jobs=-1)]: Using backend ThreadingBackend with 4 concurrent workers.\n",
      "[Parallel(n_jobs=-1)]: Done   1 out of   1 | elapsed:    0.0s finished\n",
      "[Parallel(n_jobs=-1)]: Using backend ThreadingBackend with 4 concurrent workers.\n"
     ]
    },
    {
     "name": "stdout",
     "output_type": "stream",
     "text": [
      "convergence after 16 epochs took 0 seconds\n",
      "convergence after 12 epochs took 0 seconds"
     ]
    },
    {
     "name": "stderr",
     "output_type": "stream",
     "text": [
      "[Parallel(n_jobs=-1)]: Done   1 out of   1 | elapsed:    0.0s finished\n",
      "[Parallel(n_jobs=-1)]: Using backend ThreadingBackend with 4 concurrent workers.\n",
      "[Parallel(n_jobs=-1)]: Done   1 out of   1 | elapsed:    0.0s finished\n",
      "[Parallel(n_jobs=-1)]: Using backend ThreadingBackend with 4 concurrent workers.\n"
     ]
    },
    {
     "name": "stdout",
     "output_type": "stream",
     "text": [
      "\n",
      "convergence after 16 epochs took 0 seconds\n"
     ]
    },
    {
     "name": "stderr",
     "output_type": "stream",
     "text": [
      "[Parallel(n_jobs=-1)]: Done   1 out of   1 | elapsed:    0.0s finished\n",
      "[Parallel(n_jobs=-1)]: Using backend ThreadingBackend with 4 concurrent workers.\n",
      "[Parallel(n_jobs=-1)]: Done   1 out of   1 | elapsed:    0.0s finished\n",
      "[Parallel(n_jobs=-1)]: Using backend ThreadingBackend with 4 concurrent workers.\n"
     ]
    },
    {
     "name": "stdout",
     "output_type": "stream",
     "text": [
      "convergence after 13 epochs took 0 seconds\n",
      "convergence after 13 epochs took 0 seconds\n",
      "convergence after 13 epochs took 0 seconds\n"
     ]
    },
    {
     "name": "stderr",
     "output_type": "stream",
     "text": [
      "[Parallel(n_jobs=-1)]: Done   1 out of   1 | elapsed:    0.1s finished\n",
      "[Parallel(n_jobs=-1)]: Using backend ThreadingBackend with 4 concurrent workers.\n",
      "[Parallel(n_jobs=-1)]: Done   1 out of   1 | elapsed:    0.0s finished\n",
      "[Parallel(n_jobs=-1)]: Using backend ThreadingBackend with 4 concurrent workers.\n"
     ]
    },
    {
     "name": "stdout",
     "output_type": "stream",
     "text": [
      "convergence after 10 epochs took 0 seconds\n",
      "convergence after 16 epochs took 0 seconds\n"
     ]
    },
    {
     "name": "stderr",
     "output_type": "stream",
     "text": [
      "[Parallel(n_jobs=-1)]: Done   1 out of   1 | elapsed:    0.0s finished\n",
      "[Parallel(n_jobs=-1)]: Using backend ThreadingBackend with 4 concurrent workers.\n",
      "[Parallel(n_jobs=-1)]: Done   1 out of   1 | elapsed:    0.0s finished\n",
      "[Parallel(n_jobs=-1)]: Using backend ThreadingBackend with 4 concurrent workers.\n",
      "[Parallel(n_jobs=-1)]: Done   1 out of   1 | elapsed:    0.0s finished\n",
      "[Parallel(n_jobs=-1)]: Using backend ThreadingBackend with 4 concurrent workers.\n"
     ]
    },
    {
     "name": "stdout",
     "output_type": "stream",
     "text": [
      "convergence after 12 epochs took 0 seconds\n",
      "convergence after 13 epochs took 0 seconds\n",
      "convergence after 13 epochs took 0 seconds\n"
     ]
    },
    {
     "name": "stderr",
     "output_type": "stream",
     "text": [
      "[Parallel(n_jobs=-1)]: Done   1 out of   1 | elapsed:    0.0s finished\n",
      "[Parallel(n_jobs=-1)]: Using backend ThreadingBackend with 4 concurrent workers.\n",
      "[Parallel(n_jobs=-1)]: Done   1 out of   1 | elapsed:    0.0s finished\n",
      "[Parallel(n_jobs=-1)]: Using backend ThreadingBackend with 4 concurrent workers.\n"
     ]
    },
    {
     "name": "stdout",
     "output_type": "stream",
     "text": [
      "convergence after 12 epochs took 0 seconds\n",
      "convergence after 13 epochs took 0 seconds\n"
     ]
    },
    {
     "name": "stderr",
     "output_type": "stream",
     "text": [
      "[Parallel(n_jobs=-1)]: Done   1 out of   1 | elapsed:    0.1s finished\n",
      "[Parallel(n_jobs=-1)]: Using backend ThreadingBackend with 4 concurrent workers.\n",
      "[Parallel(n_jobs=-1)]: Done   1 out of   1 | elapsed:    0.0s finished\n",
      "[Parallel(n_jobs=-1)]: Using backend ThreadingBackend with 4 concurrent workers.\n"
     ]
    },
    {
     "name": "stdout",
     "output_type": "stream",
     "text": [
      "convergence after 16 epochs took 0 seconds\n",
      "convergence after 16 epochs took 0 seconds"
     ]
    },
    {
     "name": "stderr",
     "output_type": "stream",
     "text": [
      "[Parallel(n_jobs=-1)]: Done   1 out of   1 | elapsed:    0.0s finished\n",
      "[Parallel(n_jobs=-1)]: Using backend ThreadingBackend with 4 concurrent workers.\n"
     ]
    },
    {
     "name": "stdout",
     "output_type": "stream",
     "text": [
      "\n"
     ]
    },
    {
     "name": "stderr",
     "output_type": "stream",
     "text": [
      "[Parallel(n_jobs=-1)]: Done   1 out of   1 | elapsed:    0.0s finished\n",
      "[Parallel(n_jobs=-1)]: Using backend ThreadingBackend with 4 concurrent workers.\n"
     ]
    },
    {
     "name": "stdout",
     "output_type": "stream",
     "text": [
      "convergence after 13 epochs took 0 seconds\n",
      "convergence after 16 epochs took 0 seconds\n"
     ]
    },
    {
     "name": "stderr",
     "output_type": "stream",
     "text": [
      "[Parallel(n_jobs=-1)]: Done   1 out of   1 | elapsed:    0.2s finished\n",
      "[Parallel(n_jobs=-1)]: Using backend ThreadingBackend with 4 concurrent workers.\n",
      "[Parallel(n_jobs=-1)]: Done   1 out of   1 | elapsed:    0.0s finished\n",
      "[Parallel(n_jobs=-1)]: Using backend ThreadingBackend with 4 concurrent workers.\n",
      "[Parallel(n_jobs=-1)]: Done   1 out of   1 | elapsed:    0.0s finished\n",
      "[Parallel(n_jobs=-1)]: Using backend ThreadingBackend with 4 concurrent workers.\n"
     ]
    },
    {
     "name": "stdout",
     "output_type": "stream",
     "text": [
      "convergence after 13 epochs took 0 seconds\n",
      "convergence after 13 epochs took 0 seconds\n"
     ]
    },
    {
     "name": "stderr",
     "output_type": "stream",
     "text": [
      "[Parallel(n_jobs=-1)]: Done   1 out of   1 | elapsed:    0.0s finished\n",
      "[Parallel(n_jobs=-1)]: Using backend ThreadingBackend with 4 concurrent workers.\n",
      "[Parallel(n_jobs=-1)]: Done   1 out of   1 | elapsed:    0.1s finished\n"
     ]
    },
    {
     "name": "stdout",
     "output_type": "stream",
     "text": [
      "convergence after 14 epochs took 1 seconds\n",
      "convergence after 13 epochs took 0 seconds\n"
     ]
    },
    {
     "name": "stderr",
     "output_type": "stream",
     "text": [
      "[Parallel(n_jobs=-1)]: Using backend ThreadingBackend with 4 concurrent workers.\n",
      "[Parallel(n_jobs=-1)]: Done   1 out of   1 | elapsed:    0.0s finished\n",
      "[Parallel(n_jobs=-1)]: Using backend ThreadingBackend with 4 concurrent workers.\n"
     ]
    },
    {
     "name": "stdout",
     "output_type": "stream",
     "text": [
      "convergence after 11 epochs took 0 seconds\n"
     ]
    },
    {
     "name": "stderr",
     "output_type": "stream",
     "text": [
      "[Parallel(n_jobs=-1)]: Done   1 out of   1 | elapsed:    0.0s finished\n",
      "[Parallel(n_jobs=-1)]: Using backend ThreadingBackend with 4 concurrent workers.\n"
     ]
    },
    {
     "name": "stdout",
     "output_type": "stream",
     "text": [
      "convergence after 16 epochs took 0 seconds\n",
      "convergence after 16 epochs took 0 seconds\n",
      "convergence after 13 epochs took 0 seconds\n"
     ]
    },
    {
     "name": "stderr",
     "output_type": "stream",
     "text": [
      "[Parallel(n_jobs=-1)]: Done   1 out of   1 | elapsed:    0.2s finished\n",
      "[Parallel(n_jobs=-1)]: Using backend ThreadingBackend with 4 concurrent workers.\n",
      "[Parallel(n_jobs=-1)]: Done   1 out of   1 | elapsed:    0.0s finished\n",
      "[Parallel(n_jobs=-1)]: Using backend ThreadingBackend with 4 concurrent workers.\n",
      "[Parallel(n_jobs=-1)]: Done   1 out of   1 | elapsed:    0.0s finished\n",
      "[Parallel(n_jobs=-1)]: Using backend ThreadingBackend with 4 concurrent workers.\n"
     ]
    },
    {
     "name": "stdout",
     "output_type": "stream",
     "text": [
      "convergence after 16 epochs took 1 seconds\n"
     ]
    },
    {
     "name": "stderr",
     "output_type": "stream",
     "text": [
      "[Parallel(n_jobs=-1)]: Done   1 out of   1 | elapsed:    0.1s finished\n",
      "[Parallel(n_jobs=-1)]: Using backend ThreadingBackend with 4 concurrent workers.\n"
     ]
    },
    {
     "name": "stdout",
     "output_type": "stream",
     "text": [
      "convergence after 13 epochs took 0 seconds\n",
      "convergence after 10 epochs took 0 seconds\n"
     ]
    },
    {
     "name": "stderr",
     "output_type": "stream",
     "text": [
      "[Parallel(n_jobs=-1)]: Done   1 out of   1 | elapsed:    0.3s finished\n",
      "[Parallel(n_jobs=-1)]: Using backend ThreadingBackend with 4 concurrent workers.\n",
      "[Parallel(n_jobs=-1)]: Done   1 out of   1 | elapsed:    0.0s finished\n",
      "[Parallel(n_jobs=-1)]: Using backend ThreadingBackend with 4 concurrent workers.\n"
     ]
    },
    {
     "name": "stdout",
     "output_type": "stream",
     "text": [
      "convergence after 16 epochs took 0 seconds\n",
      "convergence after 13 epochs took 0 seconds\n"
     ]
    },
    {
     "name": "stderr",
     "output_type": "stream",
     "text": [
      "[Parallel(n_jobs=-1)]: Done   1 out of   1 | elapsed:    0.1s finished\n",
      "[Parallel(n_jobs=-1)]: Using backend ThreadingBackend with 4 concurrent workers.\n",
      "[Parallel(n_jobs=-1)]: Done   1 out of   1 | elapsed:    0.0s finished\n",
      "[Parallel(n_jobs=-1)]: Using backend ThreadingBackend with 4 concurrent workers.\n"
     ]
    },
    {
     "name": "stdout",
     "output_type": "stream",
     "text": [
      "convergence after 16 epochs took 0 seconds\n",
      "convergence after 16 epochs took 0 seconds\n"
     ]
    },
    {
     "name": "stderr",
     "output_type": "stream",
     "text": [
      "[Parallel(n_jobs=-1)]: Done   1 out of   1 | elapsed:    0.0s finished\n",
      "[Parallel(n_jobs=-1)]: Using backend ThreadingBackend with 4 concurrent workers.\n",
      "[Parallel(n_jobs=-1)]: Done   1 out of   1 | elapsed:    0.0s finished\n",
      "[Parallel(n_jobs=-1)]: Using backend ThreadingBackend with 4 concurrent workers.\n"
     ]
    },
    {
     "name": "stdout",
     "output_type": "stream",
     "text": [
      "convergence after 14 epochs took 0 seconds\n",
      "convergence after 14 epochs took 0 seconds\n"
     ]
    },
    {
     "name": "stderr",
     "output_type": "stream",
     "text": [
      "[Parallel(n_jobs=-1)]: Done   1 out of   1 | elapsed:    0.2s finished\n",
      "[Parallel(n_jobs=-1)]: Using backend ThreadingBackend with 4 concurrent workers.\n",
      "[Parallel(n_jobs=-1)]: Done   1 out of   1 | elapsed:    0.0s finished\n",
      "[Parallel(n_jobs=-1)]: Using backend ThreadingBackend with 4 concurrent workers.\n"
     ]
    },
    {
     "name": "stdout",
     "output_type": "stream",
     "text": [
      "convergence after 13 epochs took 0 seconds\n"
     ]
    },
    {
     "name": "stderr",
     "output_type": "stream",
     "text": [
      "[Parallel(n_jobs=-1)]: Done   1 out of   1 | elapsed:    0.0s finished\n",
      "[Parallel(n_jobs=-1)]: Using backend ThreadingBackend with 4 concurrent workers.\n"
     ]
    },
    {
     "name": "stdout",
     "output_type": "stream",
     "text": [
      "convergence after 16 epochs took 1 seconds\n",
      "convergence after 17 epochs took 0 seconds\n"
     ]
    },
    {
     "name": "stderr",
     "output_type": "stream",
     "text": [
      "[Parallel(n_jobs=-1)]: Done   1 out of   1 | elapsed:    0.2s finished\n",
      "[Parallel(n_jobs=-1)]: Using backend ThreadingBackend with 4 concurrent workers.\n",
      "[Parallel(n_jobs=-1)]: Done   1 out of   1 | elapsed:    0.0s finished\n",
      "[Parallel(n_jobs=-1)]: Using backend ThreadingBackend with 4 concurrent workers.\n"
     ]
    },
    {
     "name": "stdout",
     "output_type": "stream",
     "text": [
      "convergence after 16 epochs took 0 seconds\n"
     ]
    },
    {
     "name": "stderr",
     "output_type": "stream",
     "text": [
      "[Parallel(n_jobs=-1)]: Done   1 out of   1 | elapsed:    0.0s finished\n",
      "[Parallel(n_jobs=-1)]: Using backend ThreadingBackend with 4 concurrent workers.\n"
     ]
    },
    {
     "name": "stdout",
     "output_type": "stream",
     "text": [
      "convergence after 13 epochs took 0 seconds\n",
      "convergence after 15 epochs took 0 seconds\n"
     ]
    },
    {
     "name": "stderr",
     "output_type": "stream",
     "text": [
      "[Parallel(n_jobs=-1)]: Done   1 out of   1 | elapsed:    0.2s finished\n",
      "[Parallel(n_jobs=-1)]: Using backend ThreadingBackend with 4 concurrent workers.\n",
      "[Parallel(n_jobs=-1)]: Done   1 out of   1 | elapsed:    0.0s finished\n",
      "[Parallel(n_jobs=-1)]: Using backend ThreadingBackend with 4 concurrent workers.\n"
     ]
    },
    {
     "name": "stdout",
     "output_type": "stream",
     "text": [
      "convergence after 13 epochs took 0 seconds\n",
      "convergence after 13 epochs took 0 seconds"
     ]
    },
    {
     "name": "stderr",
     "output_type": "stream",
     "text": [
      "[Parallel(n_jobs=-1)]: Done   1 out of   1 | elapsed:    0.0s finished\n",
      "[Parallel(n_jobs=-1)]: Using backend ThreadingBackend with 4 concurrent workers.\n"
     ]
    },
    {
     "name": "stdout",
     "output_type": "stream",
     "text": [
      "\n"
     ]
    },
    {
     "name": "stderr",
     "output_type": "stream",
     "text": [
      "[Parallel(n_jobs=-1)]: Done   1 out of   1 | elapsed:    0.0s finished\n",
      "[Parallel(n_jobs=-1)]: Using backend ThreadingBackend with 4 concurrent workers.\n"
     ]
    },
    {
     "name": "stdout",
     "output_type": "stream",
     "text": [
      "convergence after 13 epochs took 0 seconds\n",
      "convergence after 10 epochs took 0 seconds\n"
     ]
    },
    {
     "name": "stderr",
     "output_type": "stream",
     "text": [
      "[Parallel(n_jobs=-1)]: Done   1 out of   1 | elapsed:    0.1s finished\n",
      "[Parallel(n_jobs=-1)]: Using backend ThreadingBackend with 4 concurrent workers.\n",
      "[Parallel(n_jobs=-1)]: Done   1 out of   1 | elapsed:    0.0s finished\n",
      "[Parallel(n_jobs=-1)]: Using backend ThreadingBackend with 4 concurrent workers.\n"
     ]
    },
    {
     "name": "stdout",
     "output_type": "stream",
     "text": [
      "convergence after 14 epochs took 0 seconds\n",
      "convergence after 13 epochs took 1 seconds"
     ]
    },
    {
     "name": "stderr",
     "output_type": "stream",
     "text": [
      "[Parallel(n_jobs=-1)]: Done   1 out of   1 | elapsed:    0.0s finished\n",
      "[Parallel(n_jobs=-1)]: Using backend ThreadingBackend with 4 concurrent workers.\n"
     ]
    },
    {
     "name": "stdout",
     "output_type": "stream",
     "text": [
      "\n"
     ]
    },
    {
     "name": "stderr",
     "output_type": "stream",
     "text": [
      "[Parallel(n_jobs=-1)]: Done   1 out of   1 | elapsed:    0.1s finished\n",
      "[Parallel(n_jobs=-1)]: Using backend ThreadingBackend with 4 concurrent workers.\n"
     ]
    },
    {
     "name": "stdout",
     "output_type": "stream",
     "text": [
      "convergence after 14 epochs took 0 seconds\n"
     ]
    },
    {
     "name": "stderr",
     "output_type": "stream",
     "text": [
      "[Parallel(n_jobs=-1)]: Done   1 out of   1 | elapsed:    0.1s finished\n",
      "[Parallel(n_jobs=-1)]: Using backend ThreadingBackend with 4 concurrent workers.\n"
     ]
    },
    {
     "name": "stdout",
     "output_type": "stream",
     "text": [
      "convergence after 13 epochs took 0 seconds\n"
     ]
    },
    {
     "name": "stderr",
     "output_type": "stream",
     "text": [
      "[Parallel(n_jobs=-1)]: Done   1 out of   1 | elapsed:    0.0s finished\n",
      "[Parallel(n_jobs=-1)]: Using backend ThreadingBackend with 4 concurrent workers.\n"
     ]
    },
    {
     "name": "stdout",
     "output_type": "stream",
     "text": [
      "convergence after 13 epochs took 0 seconds\n",
      "convergence after 14 epochs took 0 seconds\n"
     ]
    },
    {
     "name": "stderr",
     "output_type": "stream",
     "text": [
      "[Parallel(n_jobs=-1)]: Done   1 out of   1 | elapsed:    0.0s finished\n",
      "[Parallel(n_jobs=-1)]: Using backend ThreadingBackend with 4 concurrent workers.\n",
      "[Parallel(n_jobs=-1)]: Done   1 out of   1 | elapsed:    0.0s finished\n",
      "[Parallel(n_jobs=-1)]: Using backend ThreadingBackend with 4 concurrent workers.\n"
     ]
    },
    {
     "name": "stdout",
     "output_type": "stream",
     "text": [
      "convergence after 16 epochs took 1 seconds\n",
      "convergence after 15 epochs took 0 seconds"
     ]
    },
    {
     "name": "stderr",
     "output_type": "stream",
     "text": [
      "[Parallel(n_jobs=-1)]: Done   1 out of   1 | elapsed:    0.1s finished\n",
      "[Parallel(n_jobs=-1)]: Using backend ThreadingBackend with 4 concurrent workers.\n"
     ]
    },
    {
     "name": "stdout",
     "output_type": "stream",
     "text": [
      "\n"
     ]
    },
    {
     "name": "stderr",
     "output_type": "stream",
     "text": [
      "[Parallel(n_jobs=-1)]: Done   1 out of   1 | elapsed:    0.0s finished\n",
      "[Parallel(n_jobs=-1)]: Using backend ThreadingBackend with 4 concurrent workers.\n"
     ]
    },
    {
     "name": "stdout",
     "output_type": "stream",
     "text": [
      "convergence after 16 epochs took 0 seconds\n"
     ]
    },
    {
     "name": "stderr",
     "output_type": "stream",
     "text": [
      "[Parallel(n_jobs=-1)]: Done   1 out of   1 | elapsed:    0.1s finished\n",
      "[Parallel(n_jobs=-1)]: Using backend ThreadingBackend with 4 concurrent workers.\n"
     ]
    },
    {
     "name": "stdout",
     "output_type": "stream",
     "text": [
      "convergence after 16 epochs took 0 seconds\n",
      "convergence after 15 epochs took 0 seconds\n"
     ]
    },
    {
     "name": "stderr",
     "output_type": "stream",
     "text": [
      "[Parallel(n_jobs=-1)]: Done   1 out of   1 | elapsed:    0.1s finished\n",
      "[Parallel(n_jobs=-1)]: Using backend ThreadingBackend with 4 concurrent workers.\n",
      "[Parallel(n_jobs=-1)]: Done   1 out of   1 | elapsed:    0.0s finished\n",
      "[Parallel(n_jobs=-1)]: Using backend ThreadingBackend with 4 concurrent workers.\n"
     ]
    },
    {
     "name": "stdout",
     "output_type": "stream",
     "text": [
      "convergence after 14 epochs took 0 seconds\n"
     ]
    },
    {
     "name": "stderr",
     "output_type": "stream",
     "text": [
      "[Parallel(n_jobs=-1)]: Done   1 out of   1 | elapsed:    0.0s finished\n",
      "[Parallel(n_jobs=-1)]: Using backend ThreadingBackend with 4 concurrent workers.\n"
     ]
    },
    {
     "name": "stdout",
     "output_type": "stream",
     "text": [
      "convergence after 14 epochs took 0 seconds\n",
      "convergence after 12 epochs took 0 seconds\n"
     ]
    },
    {
     "name": "stderr",
     "output_type": "stream",
     "text": [
      "[Parallel(n_jobs=-1)]: Done   1 out of   1 | elapsed:    0.1s finished\n",
      "[Parallel(n_jobs=-1)]: Using backend ThreadingBackend with 4 concurrent workers.\n",
      "[Parallel(n_jobs=-1)]: Done   1 out of   1 | elapsed:    0.0s finished\n",
      "[Parallel(n_jobs=-1)]: Using backend ThreadingBackend with 4 concurrent workers.\n",
      "[Parallel(n_jobs=-1)]: Done   1 out of   1 | elapsed:    0.0s finished\n",
      "[Parallel(n_jobs=-1)]: Using backend ThreadingBackend with 4 concurrent workers.\n",
      "[Parallel(n_jobs=-1)]: Done   1 out of   1 | elapsed:    0.0s finished\n"
     ]
    },
    {
     "name": "stdout",
     "output_type": "stream",
     "text": [
      "convergence after 16 epochs took 0 seconds\n",
      "convergence after 13 epochs took 0 seconds\n"
     ]
    },
    {
     "name": "stderr",
     "output_type": "stream",
     "text": [
      "[Parallel(n_jobs=-1)]: Using backend ThreadingBackend with 4 concurrent workers.\n",
      "[Parallel(n_jobs=-1)]: Done   1 out of   1 | elapsed:    0.0s finished\n"
     ]
    },
    {
     "name": "stdout",
     "output_type": "stream",
     "text": [
      "convergence after 14 epochs took 1 seconds\n",
      "convergence after 16 epochs took 0 seconds\n"
     ]
    },
    {
     "name": "stderr",
     "output_type": "stream",
     "text": [
      "[Parallel(n_jobs=-1)]: Using backend ThreadingBackend with 4 concurrent workers.\n",
      "[Parallel(n_jobs=-1)]: Done   1 out of   1 | elapsed:    0.0s finished\n",
      "[Parallel(n_jobs=-1)]: Using backend ThreadingBackend with 4 concurrent workers.\n"
     ]
    },
    {
     "name": "stdout",
     "output_type": "stream",
     "text": [
      "convergence after 15 epochs took 0 seconds\n",
      "convergence after 10 epochs took 0 seconds\n"
     ]
    },
    {
     "name": "stderr",
     "output_type": "stream",
     "text": [
      "[Parallel(n_jobs=-1)]: Done   1 out of   1 | elapsed:    0.0s finished\n",
      "[Parallel(n_jobs=-1)]: Using backend ThreadingBackend with 4 concurrent workers.\n",
      "[Parallel(n_jobs=-1)]: Done   1 out of   1 | elapsed:    0.0s finished\n",
      "[Parallel(n_jobs=-1)]: Using backend ThreadingBackend with 4 concurrent workers.\n"
     ]
    },
    {
     "name": "stdout",
     "output_type": "stream",
     "text": [
      "convergence after 17 epochs took 0 seconds\n",
      "convergence after 17 epochs took 0 seconds\n"
     ]
    },
    {
     "name": "stderr",
     "output_type": "stream",
     "text": [
      "[Parallel(n_jobs=-1)]: Done   1 out of   1 | elapsed:    0.2s finished\n",
      "[Parallel(n_jobs=-1)]: Using backend ThreadingBackend with 4 concurrent workers.\n",
      "[Parallel(n_jobs=-1)]: Done   1 out of   1 | elapsed:    0.0s finished\n",
      "[Parallel(n_jobs=-1)]: Using backend ThreadingBackend with 4 concurrent workers.\n"
     ]
    },
    {
     "name": "stdout",
     "output_type": "stream",
     "text": [
      "convergence after 17 epochs took 0 seconds\n",
      "convergence after 17 epochs took 0 seconds"
     ]
    },
    {
     "name": "stderr",
     "output_type": "stream",
     "text": [
      "[Parallel(n_jobs=-1)]: Done   1 out of   1 | elapsed:    0.1s finished\n",
      "[Parallel(n_jobs=-1)]: Using backend ThreadingBackend with 4 concurrent workers.\n"
     ]
    },
    {
     "name": "stdout",
     "output_type": "stream",
     "text": [
      "\n",
      "convergence after 15 epochs took 0 seconds\n"
     ]
    },
    {
     "name": "stderr",
     "output_type": "stream",
     "text": [
      "[Parallel(n_jobs=-1)]: Done   1 out of   1 | elapsed:    0.1s finished\n",
      "[Parallel(n_jobs=-1)]: Using backend ThreadingBackend with 4 concurrent workers.\n",
      "[Parallel(n_jobs=-1)]: Done   1 out of   1 | elapsed:    0.0s finished\n",
      "[Parallel(n_jobs=-1)]: Using backend ThreadingBackend with 4 concurrent workers.\n"
     ]
    },
    {
     "name": "stdout",
     "output_type": "stream",
     "text": [
      "convergence after 17 epochs took 0 seconds\n"
     ]
    },
    {
     "name": "stderr",
     "output_type": "stream",
     "text": [
      "[Parallel(n_jobs=-1)]: Done   1 out of   1 | elapsed:    0.0s finished\n",
      "[Parallel(n_jobs=-1)]: Using backend ThreadingBackend with 4 concurrent workers.\n"
     ]
    },
    {
     "name": "stdout",
     "output_type": "stream",
     "text": [
      "convergence after 16 epochs took 0 seconds\n",
      "convergence after 16 epochs took 0 seconds"
     ]
    },
    {
     "name": "stderr",
     "output_type": "stream",
     "text": [
      "[Parallel(n_jobs=-1)]: Done   1 out of   1 | elapsed:    0.1s finished\n",
      "[Parallel(n_jobs=-1)]: Using backend ThreadingBackend with 4 concurrent workers.\n"
     ]
    },
    {
     "name": "stdout",
     "output_type": "stream",
     "text": [
      "\n",
      "convergence after 15 epochs took 0 seconds\n"
     ]
    },
    {
     "name": "stderr",
     "output_type": "stream",
     "text": [
      "[Parallel(n_jobs=-1)]: Done   1 out of   1 | elapsed:    0.0s finished\n",
      "[Parallel(n_jobs=-1)]: Using backend ThreadingBackend with 4 concurrent workers.\n",
      "[Parallel(n_jobs=-1)]: Done   1 out of   1 | elapsed:    0.0s finished\n",
      "[Parallel(n_jobs=-1)]: Using backend ThreadingBackend with 4 concurrent workers.\n"
     ]
    },
    {
     "name": "stdout",
     "output_type": "stream",
     "text": [
      "convergence after 17 epochs took 0 seconds\n"
     ]
    },
    {
     "name": "stderr",
     "output_type": "stream",
     "text": [
      "[Parallel(n_jobs=-1)]: Done   1 out of   1 | elapsed:    0.1s finished\n",
      "[Parallel(n_jobs=-1)]: Using backend ThreadingBackend with 4 concurrent workers.\n"
     ]
    },
    {
     "name": "stdout",
     "output_type": "stream",
     "text": [
      "convergence after 17 epochs took 0 seconds\n",
      "convergence after 16 epochs took 0 seconds\n"
     ]
    },
    {
     "name": "stderr",
     "output_type": "stream",
     "text": [
      "[Parallel(n_jobs=-1)]: Done   1 out of   1 | elapsed:    0.1s finished\n",
      "[Parallel(n_jobs=-1)]: Using backend ThreadingBackend with 4 concurrent workers.\n",
      "[Parallel(n_jobs=-1)]: Done   1 out of   1 | elapsed:    0.0s finished\n",
      "[Parallel(n_jobs=-1)]: Using backend ThreadingBackend with 4 concurrent workers.\n"
     ]
    },
    {
     "name": "stdout",
     "output_type": "stream",
     "text": [
      "convergence after 16 epochs took 1 seconds\n",
      "convergence after 17 epochs took 0 seconds\n"
     ]
    },
    {
     "name": "stderr",
     "output_type": "stream",
     "text": [
      "[Parallel(n_jobs=-1)]: Done   1 out of   1 | elapsed:    0.2s finished\n",
      "[Parallel(n_jobs=-1)]: Using backend ThreadingBackend with 4 concurrent workers.\n",
      "[Parallel(n_jobs=-1)]: Done   1 out of   1 | elapsed:    0.0s finished\n",
      "[Parallel(n_jobs=-1)]: Using backend ThreadingBackend with 4 concurrent workers.\n"
     ]
    },
    {
     "name": "stdout",
     "output_type": "stream",
     "text": [
      "convergence after 20 epochs took 0 seconds\n",
      "convergence after 15 epochs took 0 seconds\n"
     ]
    },
    {
     "name": "stderr",
     "output_type": "stream",
     "text": [
      "[Parallel(n_jobs=-1)]: Done   1 out of   1 | elapsed:    0.1s finished\n",
      "[Parallel(n_jobs=-1)]: Using backend ThreadingBackend with 4 concurrent workers.\n",
      "[Parallel(n_jobs=-1)]: Done   1 out of   1 | elapsed:    0.0s finished\n",
      "[Parallel(n_jobs=-1)]: Using backend ThreadingBackend with 4 concurrent workers.\n"
     ]
    },
    {
     "name": "stdout",
     "output_type": "stream",
     "text": [
      "convergence after 15 epochs took 0 seconds\n",
      "convergence after 15 epochs took 1 seconds\n"
     ]
    },
    {
     "name": "stderr",
     "output_type": "stream",
     "text": [
      "[Parallel(n_jobs=-1)]: Done   1 out of   1 | elapsed:    0.0s finished\n",
      "[Parallel(n_jobs=-1)]: Using backend ThreadingBackend with 4 concurrent workers.\n",
      "[Parallel(n_jobs=-1)]: Done   1 out of   1 | elapsed:    0.0s finished\n",
      "[Parallel(n_jobs=-1)]: Using backend ThreadingBackend with 4 concurrent workers.\n",
      "[Parallel(n_jobs=-1)]: Done   1 out of   1 | elapsed:    0.0s finished\n"
     ]
    },
    {
     "name": "stdout",
     "output_type": "stream",
     "text": [
      "convergence after 15 epochs took 0 seconds\n",
      "convergence after 15 epochs took 0 seconds"
     ]
    },
    {
     "name": "stderr",
     "output_type": "stream",
     "text": [
      "[Parallel(n_jobs=-1)]: Using backend ThreadingBackend with 4 concurrent workers.\n",
      "[Parallel(n_jobs=-1)]: Done   1 out of   1 | elapsed:    0.0s finished\n",
      "[Parallel(n_jobs=-1)]: Using backend ThreadingBackend with 4 concurrent workers.\n"
     ]
    },
    {
     "name": "stdout",
     "output_type": "stream",
     "text": [
      "\n",
      "convergence after 15 epochs took 0 seconds\n"
     ]
    },
    {
     "name": "stderr",
     "output_type": "stream",
     "text": [
      "[Parallel(n_jobs=-1)]: Done   1 out of   1 | elapsed:    0.2s finished\n",
      "[Parallel(n_jobs=-1)]: Using backend ThreadingBackend with 4 concurrent workers.\n"
     ]
    },
    {
     "name": "stdout",
     "output_type": "stream",
     "text": [
      "convergence after 40 epochs took 1 seconds\n",
      "convergence after 17 epochs took 0 seconds\n"
     ]
    },
    {
     "name": "stderr",
     "output_type": "stream",
     "text": [
      "[Parallel(n_jobs=-1)]: Done   1 out of   1 | elapsed:    0.2s finished\n",
      "[Parallel(n_jobs=-1)]: Using backend ThreadingBackend with 4 concurrent workers.\n",
      "[Parallel(n_jobs=-1)]: Done   1 out of   1 | elapsed:    0.0s finished\n",
      "[Parallel(n_jobs=-1)]: Using backend ThreadingBackend with 4 concurrent workers.\n"
     ]
    },
    {
     "name": "stdout",
     "output_type": "stream",
     "text": [
      "convergence after 17 epochs took 0 seconds\n",
      "convergence after 17 epochs took 0 seconds\n"
     ]
    },
    {
     "name": "stderr",
     "output_type": "stream",
     "text": [
      "[Parallel(n_jobs=-1)]: Done   1 out of   1 | elapsed:    0.1s finished\n",
      "[Parallel(n_jobs=-1)]: Using backend ThreadingBackend with 4 concurrent workers.\n",
      "[Parallel(n_jobs=-1)]: Done   1 out of   1 | elapsed:    0.0s finished\n",
      "[Parallel(n_jobs=-1)]: Using backend ThreadingBackend with 4 concurrent workers.\n",
      "[Parallel(n_jobs=-1)]: Done   1 out of   1 | elapsed:    0.0s finished\n",
      "[Parallel(n_jobs=-1)]: Using backend ThreadingBackend with 4 concurrent workers.\n"
     ]
    },
    {
     "name": "stdout",
     "output_type": "stream",
     "text": [
      "convergence after 17 epochs took 0 seconds\n",
      "convergence after 15 epochs took 0 seconds\n"
     ]
    },
    {
     "name": "stderr",
     "output_type": "stream",
     "text": [
      "[Parallel(n_jobs=-1)]: Done   1 out of   1 | elapsed:    0.0s finished\n",
      "[Parallel(n_jobs=-1)]: Using backend ThreadingBackend with 4 concurrent workers.\n"
     ]
    },
    {
     "name": "stdout",
     "output_type": "stream",
     "text": [
      "convergence after 17 epochs took 0 seconds\n",
      "convergence after 29 epochs took 0 seconds\n"
     ]
    },
    {
     "name": "stderr",
     "output_type": "stream",
     "text": [
      "[Parallel(n_jobs=-1)]: Done   1 out of   1 | elapsed:    0.1s finished\n",
      "[Parallel(n_jobs=-1)]: Using backend ThreadingBackend with 4 concurrent workers.\n",
      "[Parallel(n_jobs=-1)]: Done   1 out of   1 | elapsed:    0.0s finished\n",
      "[Parallel(n_jobs=-1)]: Using backend ThreadingBackend with 4 concurrent workers.\n",
      "[Parallel(n_jobs=-1)]: Done   1 out of   1 | elapsed:    0.0s finished\n"
     ]
    },
    {
     "name": "stdout",
     "output_type": "stream",
     "text": [
      "convergence after 17 epochs took 0 seconds\n"
     ]
    },
    {
     "name": "stderr",
     "output_type": "stream",
     "text": [
      "[Parallel(n_jobs=-1)]: Using backend ThreadingBackend with 4 concurrent workers.\n"
     ]
    },
    {
     "name": "stdout",
     "output_type": "stream",
     "text": [
      "convergence after 17 epochs took 0 seconds\n",
      "convergence after 15 epochs took 0 seconds\n"
     ]
    },
    {
     "name": "stderr",
     "output_type": "stream",
     "text": [
      "[Parallel(n_jobs=-1)]: Done   1 out of   1 | elapsed:    0.2s finished\n",
      "[Parallel(n_jobs=-1)]: Using backend ThreadingBackend with 4 concurrent workers.\n",
      "[Parallel(n_jobs=-1)]: Done   1 out of   1 | elapsed:    0.0s finished\n",
      "[Parallel(n_jobs=-1)]: Using backend ThreadingBackend with 4 concurrent workers.\n"
     ]
    },
    {
     "name": "stdout",
     "output_type": "stream",
     "text": [
      "convergence after 17 epochs took 0 seconds\n"
     ]
    },
    {
     "name": "stderr",
     "output_type": "stream",
     "text": [
      "[Parallel(n_jobs=-1)]: Done   1 out of   1 | elapsed:    0.0s finished\n",
      "[Parallel(n_jobs=-1)]: Using backend ThreadingBackend with 4 concurrent workers.\n"
     ]
    },
    {
     "name": "stdout",
     "output_type": "stream",
     "text": [
      "convergence after 17 epochs took 0 seconds\n",
      "convergence after 17 epochs took 0 seconds\n"
     ]
    },
    {
     "name": "stderr",
     "output_type": "stream",
     "text": [
      "[Parallel(n_jobs=-1)]: Done   1 out of   1 | elapsed:    0.1s finished\n",
      "[Parallel(n_jobs=-1)]: Using backend ThreadingBackend with 4 concurrent workers.\n",
      "[Parallel(n_jobs=-1)]: Done   1 out of   1 | elapsed:    0.0s finished\n",
      "[Parallel(n_jobs=-1)]: Using backend ThreadingBackend with 4 concurrent workers.\n"
     ]
    },
    {
     "name": "stdout",
     "output_type": "stream",
     "text": [
      "convergence after 17 epochs took 0 seconds\n",
      "convergence after 17 epochs took 0 seconds\n"
     ]
    },
    {
     "name": "stderr",
     "output_type": "stream",
     "text": [
      "[Parallel(n_jobs=-1)]: Done   1 out of   1 | elapsed:    0.1s finished\n",
      "[Parallel(n_jobs=-1)]: Using backend ThreadingBackend with 4 concurrent workers.\n",
      "[Parallel(n_jobs=-1)]: Done   1 out of   1 | elapsed:    0.0s finished\n",
      "[Parallel(n_jobs=-1)]: Using backend ThreadingBackend with 4 concurrent workers.\n",
      "[Parallel(n_jobs=-1)]: Done   1 out of   1 | elapsed:    0.0s finished\n",
      "[Parallel(n_jobs=-1)]: Using backend ThreadingBackend with 4 concurrent workers.\n"
     ]
    },
    {
     "name": "stdout",
     "output_type": "stream",
     "text": [
      "convergence after 17 epochs took 0 seconds\n",
      "convergence after 15 epochs took 0 seconds\n"
     ]
    },
    {
     "name": "stderr",
     "output_type": "stream",
     "text": [
      "[Parallel(n_jobs=-1)]: Done   1 out of   1 | elapsed:    0.1s finished\n",
      "[Parallel(n_jobs=-1)]: Using backend ThreadingBackend with 4 concurrent workers.\n"
     ]
    },
    {
     "name": "stdout",
     "output_type": "stream",
     "text": [
      "convergence after 17 epochs took 0 seconds\n",
      "convergence after 16 epochs took 0 seconds\n"
     ]
    },
    {
     "name": "stderr",
     "output_type": "stream",
     "text": [
      "[Parallel(n_jobs=-1)]: Done   1 out of   1 | elapsed:    0.1s finished\n",
      "[Parallel(n_jobs=-1)]: Using backend ThreadingBackend with 4 concurrent workers.\n",
      "[Parallel(n_jobs=-1)]: Done   1 out of   1 | elapsed:    0.0s finished\n",
      "[Parallel(n_jobs=-1)]: Using backend ThreadingBackend with 4 concurrent workers.\n",
      "[Parallel(n_jobs=-1)]: Done   1 out of   1 | elapsed:    0.3s finished\n",
      "[Parallel(n_jobs=-1)]: Using backend ThreadingBackend with 4 concurrent workers.\n"
     ]
    },
    {
     "name": "stdout",
     "output_type": "stream",
     "text": [
      "convergence after 16 epochs took 0 seconds\n",
      "convergence after 15 epochs took 0 seconds"
     ]
    },
    {
     "name": "stderr",
     "output_type": "stream",
     "text": [
      "[Parallel(n_jobs=-1)]: Done   1 out of   1 | elapsed:    0.0s finished\n",
      "[Parallel(n_jobs=-1)]: Using backend ThreadingBackend with 4 concurrent workers.\n"
     ]
    },
    {
     "name": "stdout",
     "output_type": "stream",
     "text": [
      "\n",
      "convergence after 17 epochs took 1 seconds\n",
      "convergence after 17 epochs took 0 seconds\n"
     ]
    },
    {
     "name": "stderr",
     "output_type": "stream",
     "text": [
      "[Parallel(n_jobs=-1)]: Done   1 out of   1 | elapsed:    0.3s finished\n",
      "[Parallel(n_jobs=-1)]: Using backend ThreadingBackend with 4 concurrent workers.\n",
      "[Parallel(n_jobs=-1)]: Done   1 out of   1 | elapsed:    0.0s finished\n",
      "[Parallel(n_jobs=-1)]: Using backend ThreadingBackend with 4 concurrent workers.\n"
     ]
    },
    {
     "name": "stdout",
     "output_type": "stream",
     "text": [
      "convergence after 16 epochs took 0 seconds\n"
     ]
    },
    {
     "name": "stderr",
     "output_type": "stream",
     "text": [
      "[Parallel(n_jobs=-1)]: Done   1 out of   1 | elapsed:    0.3s finished\n",
      "[Parallel(n_jobs=-1)]: Using backend ThreadingBackend with 4 concurrent workers.\n"
     ]
    },
    {
     "name": "stdout",
     "output_type": "stream",
     "text": [
      "convergence after 16 epochs took 1 seconds\n"
     ]
    },
    {
     "name": "stderr",
     "output_type": "stream",
     "text": [
      "[Parallel(n_jobs=-1)]: Done   1 out of   1 | elapsed:    0.5s finished\n",
      "[Parallel(n_jobs=-1)]: Using backend ThreadingBackend with 4 concurrent workers.\n"
     ]
    },
    {
     "name": "stdout",
     "output_type": "stream",
     "text": [
      "convergence after 17 epochs took 0 seconds\n"
     ]
    },
    {
     "name": "stderr",
     "output_type": "stream",
     "text": [
      "[Parallel(n_jobs=-1)]: Done   1 out of   1 | elapsed:    0.4s finished\n",
      "[Parallel(n_jobs=-1)]: Using backend ThreadingBackend with 4 concurrent workers.\n"
     ]
    },
    {
     "name": "stdout",
     "output_type": "stream",
     "text": [
      "convergence after 19 epochs took 1 seconds\n"
     ]
    },
    {
     "name": "stderr",
     "output_type": "stream",
     "text": [
      "[Parallel(n_jobs=-1)]: Done   1 out of   1 | elapsed:    0.1s finished\n",
      "[Parallel(n_jobs=-1)]: Using backend ThreadingBackend with 4 concurrent workers.\n"
     ]
    },
    {
     "name": "stdout",
     "output_type": "stream",
     "text": [
      "convergence after 15 epochs took 0 seconds\n"
     ]
    },
    {
     "name": "stderr",
     "output_type": "stream",
     "text": [
      "[Parallel(n_jobs=-1)]: Done   1 out of   1 | elapsed:    0.4s finished\n",
      "[Parallel(n_jobs=-1)]: Using backend ThreadingBackend with 4 concurrent workers.\n"
     ]
    },
    {
     "name": "stdout",
     "output_type": "stream",
     "text": [
      "convergence after 15 epochs took 0 seconds\n"
     ]
    },
    {
     "name": "stderr",
     "output_type": "stream",
     "text": [
      "[Parallel(n_jobs=-1)]: Done   1 out of   1 | elapsed:    0.1s finished\n",
      "[Parallel(n_jobs=-1)]: Using backend ThreadingBackend with 4 concurrent workers.\n"
     ]
    },
    {
     "name": "stdout",
     "output_type": "stream",
     "text": [
      "convergence after 15 epochs took 0 seconds\n",
      "convergence after 15 epochs took 0 seconds"
     ]
    },
    {
     "name": "stderr",
     "output_type": "stream",
     "text": [
      "[Parallel(n_jobs=-1)]: Done   1 out of   1 | elapsed:    0.4s finished\n",
      "[Parallel(n_jobs=-1)]: Using backend ThreadingBackend with 4 concurrent workers.\n"
     ]
    },
    {
     "name": "stdout",
     "output_type": "stream",
     "text": [
      "\n"
     ]
    },
    {
     "name": "stderr",
     "output_type": "stream",
     "text": [
      "[Parallel(n_jobs=-1)]: Done   1 out of   1 | elapsed:    0.0s finished\n",
      "[Parallel(n_jobs=-1)]: Using backend ThreadingBackend with 4 concurrent workers.\n"
     ]
    },
    {
     "name": "stdout",
     "output_type": "stream",
     "text": [
      "convergence after 15 epochs took 0 seconds\n"
     ]
    },
    {
     "name": "stderr",
     "output_type": "stream",
     "text": [
      "[Parallel(n_jobs=-1)]: Done   1 out of   1 | elapsed:    0.1s finished\n",
      "[Parallel(n_jobs=-1)]: Using backend ThreadingBackend with 4 concurrent workers.\n"
     ]
    },
    {
     "name": "stdout",
     "output_type": "stream",
     "text": [
      "convergence after 15 epochs took 0 seconds\n"
     ]
    },
    {
     "name": "stderr",
     "output_type": "stream",
     "text": [
      "[Parallel(n_jobs=-1)]: Done   1 out of   1 | elapsed:    0.2s finished\n",
      "[Parallel(n_jobs=-1)]: Using backend ThreadingBackend with 4 concurrent workers.\n"
     ]
    },
    {
     "name": "stdout",
     "output_type": "stream",
     "text": [
      "convergence after 40 epochs took 1 seconds\n",
      "convergence after 17 epochs took 0 seconds\n"
     ]
    },
    {
     "name": "stderr",
     "output_type": "stream",
     "text": [
      "[Parallel(n_jobs=-1)]: Done   1 out of   1 | elapsed:    0.7s finished\n",
      "[Parallel(n_jobs=-1)]: Using backend ThreadingBackend with 4 concurrent workers.\n",
      "[Parallel(n_jobs=-1)]: Done   1 out of   1 | elapsed:    0.0s finished\n",
      "[Parallel(n_jobs=-1)]: Using backend ThreadingBackend with 4 concurrent workers.\n"
     ]
    },
    {
     "name": "stdout",
     "output_type": "stream",
     "text": [
      "convergence after 17 epochs took 0 seconds\n",
      "convergence after 17 epochs took 0 seconds\n"
     ]
    },
    {
     "name": "stderr",
     "output_type": "stream",
     "text": [
      "[Parallel(n_jobs=-1)]: Done   1 out of   1 | elapsed:    0.4s finished\n",
      "[Parallel(n_jobs=-1)]: Using backend ThreadingBackend with 4 concurrent workers.\n",
      "[Parallel(n_jobs=-1)]: Done   1 out of   1 | elapsed:    0.0s finished\n",
      "[Parallel(n_jobs=-1)]: Using backend ThreadingBackend with 4 concurrent workers.\n"
     ]
    },
    {
     "name": "stdout",
     "output_type": "stream",
     "text": [
      "convergence after 17 epochs took 0 seconds\n"
     ]
    },
    {
     "name": "stderr",
     "output_type": "stream",
     "text": [
      "[Parallel(n_jobs=-1)]: Done   1 out of   1 | elapsed:    0.1s finished\n",
      "[Parallel(n_jobs=-1)]: Using backend ThreadingBackend with 4 concurrent workers.\n"
     ]
    },
    {
     "name": "stdout",
     "output_type": "stream",
     "text": [
      "convergence after 15 epochs took 0 seconds\n"
     ]
    },
    {
     "name": "stderr",
     "output_type": "stream",
     "text": [
      "[Parallel(n_jobs=-1)]: Done   1 out of   1 | elapsed:    0.4s finished\n",
      "[Parallel(n_jobs=-1)]: Using backend ThreadingBackend with 4 concurrent workers.\n"
     ]
    },
    {
     "name": "stdout",
     "output_type": "stream",
     "text": [
      "convergence after 17 epochs took 1 seconds\n"
     ]
    },
    {
     "name": "stderr",
     "output_type": "stream",
     "text": [
      "[Parallel(n_jobs=-1)]: Done   1 out of   1 | elapsed:    0.1s finished\n",
      "[Parallel(n_jobs=-1)]: Using backend ThreadingBackend with 4 concurrent workers.\n"
     ]
    },
    {
     "name": "stdout",
     "output_type": "stream",
     "text": [
      "convergence after 29 epochs took 0 seconds\n"
     ]
    },
    {
     "name": "stderr",
     "output_type": "stream",
     "text": [
      "[Parallel(n_jobs=-1)]: Done   1 out of   1 | elapsed:    0.3s finished\n",
      "[Parallel(n_jobs=-1)]: Using backend ThreadingBackend with 4 concurrent workers.\n"
     ]
    },
    {
     "name": "stdout",
     "output_type": "stream",
     "text": [
      "convergence after 17 epochs took 1 seconds\n"
     ]
    },
    {
     "name": "stderr",
     "output_type": "stream",
     "text": [
      "[Parallel(n_jobs=-1)]: Done   1 out of   1 | elapsed:    0.1s finished\n",
      "[Parallel(n_jobs=-1)]: Using backend ThreadingBackend with 4 concurrent workers.\n"
     ]
    },
    {
     "name": "stdout",
     "output_type": "stream",
     "text": [
      "convergence after 15 epochs took 0 seconds\n"
     ]
    },
    {
     "name": "stderr",
     "output_type": "stream",
     "text": [
      "[Parallel(n_jobs=-1)]: Done   1 out of   1 | elapsed:    0.3s finished\n",
      "[Parallel(n_jobs=-1)]: Using backend ThreadingBackend with 4 concurrent workers.\n"
     ]
    },
    {
     "name": "stdout",
     "output_type": "stream",
     "text": [
      "convergence after 15 epochs took 1 seconds\n"
     ]
    },
    {
     "name": "stderr",
     "output_type": "stream",
     "text": [
      "[Parallel(n_jobs=-1)]: Done   1 out of   1 | elapsed:    0.4s finished\n",
      "[Parallel(n_jobs=-1)]: Using backend ThreadingBackend with 4 concurrent workers.\n"
     ]
    },
    {
     "name": "stdout",
     "output_type": "stream",
     "text": [
      "convergence after 17 epochs took 0 seconds\n",
      "convergence after 17 epochs took 0 seconds\n"
     ]
    },
    {
     "name": "stderr",
     "output_type": "stream",
     "text": [
      "[Parallel(n_jobs=-1)]: Done   1 out of   1 | elapsed:    0.4s finished\n",
      "[Parallel(n_jobs=-1)]: Using backend ThreadingBackend with 4 concurrent workers.\n",
      "[Parallel(n_jobs=-1)]: Done   1 out of   1 | elapsed:    0.0s finished\n",
      "[Parallel(n_jobs=-1)]: Using backend ThreadingBackend with 4 concurrent workers.\n"
     ]
    },
    {
     "name": "stdout",
     "output_type": "stream",
     "text": [
      "convergence after 17 epochs took 0 seconds\n"
     ]
    },
    {
     "name": "stderr",
     "output_type": "stream",
     "text": [
      "[Parallel(n_jobs=-1)]: Done   1 out of   1 | elapsed:    0.3s finished\n",
      "[Parallel(n_jobs=-1)]: Using backend ThreadingBackend with 4 concurrent workers.\n"
     ]
    },
    {
     "name": "stdout",
     "output_type": "stream",
     "text": [
      "convergence after 16 epochs took 0 seconds\n"
     ]
    },
    {
     "name": "stderr",
     "output_type": "stream",
     "text": [
      "[Parallel(n_jobs=-1)]: Done   1 out of   1 | elapsed:    0.1s finished\n",
      "[Parallel(n_jobs=-1)]: Using backend ThreadingBackend with 4 concurrent workers.\n"
     ]
    },
    {
     "name": "stdout",
     "output_type": "stream",
     "text": [
      "convergence after 17 epochs took 1 seconds\n"
     ]
    },
    {
     "name": "stderr",
     "output_type": "stream",
     "text": [
      "[Parallel(n_jobs=-1)]: Done   1 out of   1 | elapsed:    0.5s finished\n",
      "[Parallel(n_jobs=-1)]: Using backend ThreadingBackend with 4 concurrent workers.\n"
     ]
    },
    {
     "name": "stdout",
     "output_type": "stream",
     "text": [
      "convergence after 17 epochs took 0 seconds\n"
     ]
    },
    {
     "name": "stderr",
     "output_type": "stream",
     "text": [
      "[Parallel(n_jobs=-1)]: Done   1 out of   1 | elapsed:    0.1s finished\n",
      "[Parallel(n_jobs=-1)]: Using backend ThreadingBackend with 4 concurrent workers.\n"
     ]
    },
    {
     "name": "stdout",
     "output_type": "stream",
     "text": [
      "convergence after 16 epochs took 0 seconds\n",
      "convergence after 16 epochs took 0 seconds"
     ]
    },
    {
     "name": "stderr",
     "output_type": "stream",
     "text": [
      "[Parallel(n_jobs=-1)]: Done   1 out of   1 | elapsed:    0.4s finished\n",
      "[Parallel(n_jobs=-1)]: Using backend ThreadingBackend with 4 concurrent workers.\n",
      "[Parallel(n_jobs=-1)]: Done   1 out of   1 | elapsed:    0.0s finished\n",
      "[Parallel(n_jobs=-1)]: Using backend ThreadingBackend with 4 concurrent workers.\n"
     ]
    },
    {
     "name": "stdout",
     "output_type": "stream",
     "text": [
      "\n",
      "convergence after 16 epochs took 0 seconds\n"
     ]
    },
    {
     "name": "stderr",
     "output_type": "stream",
     "text": [
      "[Parallel(n_jobs=-1)]: Done   1 out of   1 | elapsed:    0.3s finished\n",
      "[Parallel(n_jobs=-1)]: Using backend ThreadingBackend with 4 concurrent workers.\n"
     ]
    },
    {
     "name": "stdout",
     "output_type": "stream",
     "text": [
      "convergence after 15 epochs took 0 seconds\n",
      "convergence after 15 epochs took 0 seconds"
     ]
    },
    {
     "name": "stderr",
     "output_type": "stream",
     "text": [
      "[Parallel(n_jobs=-1)]: Done   1 out of   1 | elapsed:    0.1s finished\n",
      "[Parallel(n_jobs=-1)]: Using backend ThreadingBackend with 4 concurrent workers.\n"
     ]
    },
    {
     "name": "stdout",
     "output_type": "stream",
     "text": [
      "\n"
     ]
    },
    {
     "name": "stderr",
     "output_type": "stream",
     "text": [
      "[Parallel(n_jobs=-1)]: Done   1 out of   1 | elapsed:    0.0s finished\n",
      "[Parallel(n_jobs=-1)]: Using backend ThreadingBackend with 4 concurrent workers.\n"
     ]
    },
    {
     "name": "stdout",
     "output_type": "stream",
     "text": [
      "convergence after 17 epochs took 0 seconds\n"
     ]
    },
    {
     "name": "stderr",
     "output_type": "stream",
     "text": [
      "[Parallel(n_jobs=-1)]: Done   1 out of   1 | elapsed:    0.4s finished\n",
      "[Parallel(n_jobs=-1)]: Using backend ThreadingBackend with 4 concurrent workers.\n"
     ]
    },
    {
     "name": "stdout",
     "output_type": "stream",
     "text": [
      "convergence after 15 epochs took 0 seconds\n"
     ]
    },
    {
     "name": "stderr",
     "output_type": "stream",
     "text": [
      "[Parallel(n_jobs=-1)]: Done   1 out of   1 | elapsed:    0.2s finished\n",
      "[Parallel(n_jobs=-1)]: Using backend ThreadingBackend with 4 concurrent workers.\n"
     ]
    },
    {
     "name": "stdout",
     "output_type": "stream",
     "text": [
      "convergence after 15 epochs took 0 seconds\n",
      "convergence after 17 epochs took 0 seconds\n"
     ]
    },
    {
     "name": "stderr",
     "output_type": "stream",
     "text": [
      "[Parallel(n_jobs=-1)]: Done   1 out of   1 | elapsed:    0.1s finished\n",
      "[Parallel(n_jobs=-1)]: Using backend ThreadingBackend with 4 concurrent workers.\n",
      "[Parallel(n_jobs=-1)]: Done   1 out of   1 | elapsed:    0.0s finished\n",
      "[Parallel(n_jobs=-1)]: Using backend ThreadingBackend with 4 concurrent workers.\n"
     ]
    },
    {
     "name": "stdout",
     "output_type": "stream",
     "text": [
      "convergence after 19 epochs took 0 seconds\n",
      "convergence after 15 epochs took 0 seconds\n"
     ]
    },
    {
     "name": "stderr",
     "output_type": "stream",
     "text": [
      "[Parallel(n_jobs=-1)]: Done   1 out of   1 | elapsed:    0.3s finished\n",
      "[Parallel(n_jobs=-1)]: Using backend ThreadingBackend with 4 concurrent workers.\n",
      "[Parallel(n_jobs=-1)]: Done   1 out of   1 | elapsed:    0.0s finished\n",
      "[Parallel(n_jobs=-1)]: Using backend ThreadingBackend with 4 concurrent workers.\n",
      "[Parallel(n_jobs=-1)]: Done   1 out of   1 | elapsed:    0.1s finished\n"
     ]
    },
    {
     "name": "stdout",
     "output_type": "stream",
     "text": [
      "convergence after 15 epochs took 0 seconds\n"
     ]
    },
    {
     "name": "stderr",
     "output_type": "stream",
     "text": [
      "[Parallel(n_jobs=-1)]: Using backend ThreadingBackend with 4 concurrent workers.\n"
     ]
    },
    {
     "name": "stdout",
     "output_type": "stream",
     "text": [
      "convergence after 15 epochs took 0 seconds\n",
      "convergence after 15 epochs took 0 seconds\n"
     ]
    },
    {
     "name": "stderr",
     "output_type": "stream",
     "text": [
      "[Parallel(n_jobs=-1)]: Done   1 out of   1 | elapsed:    0.1s finished\n",
      "[Parallel(n_jobs=-1)]: Using backend ThreadingBackend with 4 concurrent workers.\n",
      "[Parallel(n_jobs=-1)]: Done   1 out of   1 | elapsed:    0.0s finished\n",
      "[Parallel(n_jobs=-1)]: Using backend ThreadingBackend with 4 concurrent workers.\n"
     ]
    },
    {
     "name": "stdout",
     "output_type": "stream",
     "text": [
      "convergence after 15 epochs took 0 seconds\n",
      "convergence after 15 epochs took 0 seconds\n"
     ]
    },
    {
     "name": "stderr",
     "output_type": "stream",
     "text": [
      "[Parallel(n_jobs=-1)]: Done   1 out of   1 | elapsed:    0.0s finished\n",
      "[Parallel(n_jobs=-1)]: Using backend ThreadingBackend with 4 concurrent workers.\n",
      "[Parallel(n_jobs=-1)]: Done   1 out of   1 | elapsed:    0.0s finished\n",
      "[Parallel(n_jobs=-1)]: Using backend ThreadingBackend with 4 concurrent workers.\n"
     ]
    },
    {
     "name": "stdout",
     "output_type": "stream",
     "text": [
      "convergence after 41 epochs took 0 seconds\n",
      "convergence after 15 epochs took 0 seconds\n"
     ]
    },
    {
     "name": "stderr",
     "output_type": "stream",
     "text": [
      "[Parallel(n_jobs=-1)]: Done   1 out of   1 | elapsed:    0.2s finished\n",
      "[Parallel(n_jobs=-1)]: Using backend ThreadingBackend with 4 concurrent workers.\n",
      "[Parallel(n_jobs=-1)]: Done   1 out of   1 | elapsed:    0.0s finished\n",
      "[Parallel(n_jobs=-1)]: Using backend ThreadingBackend with 4 concurrent workers.\n"
     ]
    },
    {
     "name": "stdout",
     "output_type": "stream",
     "text": [
      "convergence after 17 epochs took 0 seconds\n"
     ]
    },
    {
     "name": "stderr",
     "output_type": "stream",
     "text": [
      "[Parallel(n_jobs=-1)]: Done   1 out of   1 | elapsed:    0.2s finished\n",
      "[Parallel(n_jobs=-1)]: Using backend ThreadingBackend with 4 concurrent workers.\n"
     ]
    },
    {
     "name": "stdout",
     "output_type": "stream",
     "text": [
      "convergence after 15 epochs took 1 seconds\n"
     ]
    },
    {
     "name": "stderr",
     "output_type": "stream",
     "text": [
      "[Parallel(n_jobs=-1)]: Done   1 out of   1 | elapsed:    0.0s finished\n",
      "[Parallel(n_jobs=-1)]: Using backend ThreadingBackend with 4 concurrent workers.\n"
     ]
    },
    {
     "name": "stdout",
     "output_type": "stream",
     "text": [
      "convergence after 15 epochs took 0 seconds\n",
      "convergence after 15 epochs took 0 seconds"
     ]
    },
    {
     "name": "stderr",
     "output_type": "stream",
     "text": [
      "[Parallel(n_jobs=-1)]: Done   1 out of   1 | elapsed:    0.2s finished\n",
      "[Parallel(n_jobs=-1)]: Using backend ThreadingBackend with 4 concurrent workers.\n"
     ]
    },
    {
     "name": "stdout",
     "output_type": "stream",
     "text": [
      "\n",
      "convergence after 15 epochs took 0 seconds\n"
     ]
    },
    {
     "name": "stderr",
     "output_type": "stream",
     "text": [
      "[Parallel(n_jobs=-1)]: Done   1 out of   1 | elapsed:    0.0s finished\n",
      "[Parallel(n_jobs=-1)]: Using backend ThreadingBackend with 4 concurrent workers.\n",
      "[Parallel(n_jobs=-1)]: Done   1 out of   1 | elapsed:    0.0s finished\n",
      "[Parallel(n_jobs=-1)]: Using backend ThreadingBackend with 4 concurrent workers.\n"
     ]
    },
    {
     "name": "stdout",
     "output_type": "stream",
     "text": [
      "convergence after 29 epochs took 0 seconds\n",
      "convergence after 15 epochs took 1 seconds\n"
     ]
    },
    {
     "name": "stderr",
     "output_type": "stream",
     "text": [
      "[Parallel(n_jobs=-1)]: Done   1 out of   1 | elapsed:    0.1s finished\n",
      "[Parallel(n_jobs=-1)]: Using backend ThreadingBackend with 4 concurrent workers.\n",
      "[Parallel(n_jobs=-1)]: Done   1 out of   1 | elapsed:    0.0s finished\n",
      "[Parallel(n_jobs=-1)]: Using backend ThreadingBackend with 4 concurrent workers.\n"
     ]
    },
    {
     "name": "stdout",
     "output_type": "stream",
     "text": [
      "convergence after 15 epochs took 0 seconds\n",
      "convergence after 15 epochs took 0 seconds"
     ]
    },
    {
     "name": "stderr",
     "output_type": "stream",
     "text": [
      "[Parallel(n_jobs=-1)]: Done   1 out of   1 | elapsed:    0.1s finished\n",
      "[Parallel(n_jobs=-1)]: Using backend ThreadingBackend with 4 concurrent workers.\n"
     ]
    },
    {
     "name": "stdout",
     "output_type": "stream",
     "text": [
      "\n",
      "convergence after 15 epochs took 0 seconds\n"
     ]
    },
    {
     "name": "stderr",
     "output_type": "stream",
     "text": [
      "[Parallel(n_jobs=-1)]: Done   1 out of   1 | elapsed:    0.0s finished\n",
      "[Parallel(n_jobs=-1)]: Using backend ThreadingBackend with 4 concurrent workers.\n",
      "[Parallel(n_jobs=-1)]: Done   1 out of   1 | elapsed:    0.1s finished\n",
      "[Parallel(n_jobs=-1)]: Using backend ThreadingBackend with 4 concurrent workers.\n"
     ]
    },
    {
     "name": "stdout",
     "output_type": "stream",
     "text": [
      "convergence after 17 epochs took 0 seconds\n",
      "convergence after 15 epochs took 0 seconds\n"
     ]
    },
    {
     "name": "stderr",
     "output_type": "stream",
     "text": [
      "[Parallel(n_jobs=-1)]: Done   1 out of   1 | elapsed:    0.3s finished\n",
      "[Parallel(n_jobs=-1)]: Using backend ThreadingBackend with 4 concurrent workers.\n",
      "[Parallel(n_jobs=-1)]: Done   1 out of   1 | elapsed:    0.0s finished\n",
      "[Parallel(n_jobs=-1)]: Using backend ThreadingBackend with 4 concurrent workers.\n"
     ]
    },
    {
     "name": "stdout",
     "output_type": "stream",
     "text": [
      "convergence after 16 epochs took 0 seconds\n",
      "convergence after 16 epochs took 0 seconds\n"
     ]
    },
    {
     "name": "stderr",
     "output_type": "stream",
     "text": [
      "[Parallel(n_jobs=-1)]: Done   1 out of   1 | elapsed:    0.1s finished\n",
      "[Parallel(n_jobs=-1)]: Using backend ThreadingBackend with 4 concurrent workers.\n",
      "[Parallel(n_jobs=-1)]: Done   1 out of   1 | elapsed:    0.1s finished\n",
      "[Parallel(n_jobs=-1)]: Using backend ThreadingBackend with 4 concurrent workers.\n",
      "[Parallel(n_jobs=-1)]: Done   1 out of   1 | elapsed:    0.0s finished\n",
      "[Parallel(n_jobs=-1)]: Using backend ThreadingBackend with 4 concurrent workers.\n"
     ]
    },
    {
     "name": "stdout",
     "output_type": "stream",
     "text": [
      "convergence after 17 epochs took 0 seconds\n",
      "convergence after 16 epochs took 1 seconds\n"
     ]
    },
    {
     "name": "stderr",
     "output_type": "stream",
     "text": [
      "[Parallel(n_jobs=-1)]: Done   1 out of   1 | elapsed:    0.1s finished\n",
      "[Parallel(n_jobs=-1)]: Using backend ThreadingBackend with 4 concurrent workers.\n"
     ]
    },
    {
     "name": "stdout",
     "output_type": "stream",
     "text": [
      "convergence after 16 epochs took 0 seconds\n",
      "convergence after 15 epochs took 0 seconds\n"
     ]
    },
    {
     "name": "stderr",
     "output_type": "stream",
     "text": [
      "[Parallel(n_jobs=-1)]: Done   1 out of   1 | elapsed:    0.1s finished\n",
      "[Parallel(n_jobs=-1)]: Using backend ThreadingBackend with 4 concurrent workers.\n",
      "[Parallel(n_jobs=-1)]: Done   1 out of   1 | elapsed:    0.0s finished\n",
      "[Parallel(n_jobs=-1)]: Using backend ThreadingBackend with 4 concurrent workers.\n"
     ]
    },
    {
     "name": "stdout",
     "output_type": "stream",
     "text": [
      "convergence after 15 epochs took 0 seconds\n",
      "convergence after 16 epochs took 0 seconds"
     ]
    },
    {
     "name": "stderr",
     "output_type": "stream",
     "text": [
      "[Parallel(n_jobs=-1)]: Done   1 out of   1 | elapsed:    0.1s finished\n",
      "[Parallel(n_jobs=-1)]: Using backend ThreadingBackend with 4 concurrent workers.\n"
     ]
    },
    {
     "name": "stdout",
     "output_type": "stream",
     "text": [
      "\n"
     ]
    },
    {
     "name": "stderr",
     "output_type": "stream",
     "text": [
      "[Parallel(n_jobs=-1)]: Done   1 out of   1 | elapsed:    0.0s finished\n",
      "[Parallel(n_jobs=-1)]: Using backend ThreadingBackend with 4 concurrent workers.\n"
     ]
    },
    {
     "name": "stdout",
     "output_type": "stream",
     "text": [
      "convergence after 15 epochs took 1 seconds\n",
      "convergence after 16 epochs took 0 seconds\n"
     ]
    },
    {
     "name": "stderr",
     "output_type": "stream",
     "text": [
      "[Parallel(n_jobs=-1)]: Done   1 out of   1 | elapsed:    0.2s finished\n",
      "[Parallel(n_jobs=-1)]: Using backend ThreadingBackend with 4 concurrent workers.\n",
      "[Parallel(n_jobs=-1)]: Done   1 out of   1 | elapsed:    0.0s finished\n",
      "[Parallel(n_jobs=-1)]: Using backend ThreadingBackend with 4 concurrent workers.\n"
     ]
    },
    {
     "name": "stdout",
     "output_type": "stream",
     "text": [
      "convergence after 16 epochs took 0 seconds\n"
     ]
    },
    {
     "name": "stderr",
     "output_type": "stream",
     "text": [
      "[Parallel(n_jobs=-1)]: Done   1 out of   1 | elapsed:    0.0s finished\n",
      "[Parallel(n_jobs=-1)]: Using backend ThreadingBackend with 4 concurrent workers.\n"
     ]
    },
    {
     "name": "stdout",
     "output_type": "stream",
     "text": [
      "convergence after 19 epochs took 1 seconds\n",
      "convergence after 15 epochs took 0 seconds\n"
     ]
    },
    {
     "name": "stderr",
     "output_type": "stream",
     "text": [
      "[Parallel(n_jobs=-1)]: Done   1 out of   1 | elapsed:    0.7s finished\n",
      "[Parallel(n_jobs=-1)]: Using backend ThreadingBackend with 4 concurrent workers.\n",
      "[Parallel(n_jobs=-1)]: Done   1 out of   1 | elapsed:    0.0s finished\n",
      "[Parallel(n_jobs=-1)]: Using backend ThreadingBackend with 4 concurrent workers.\n"
     ]
    },
    {
     "name": "stdout",
     "output_type": "stream",
     "text": [
      "convergence after 15 epochs took 0 seconds\n",
      "convergence after 15 epochs took 1 seconds"
     ]
    },
    {
     "name": "stderr",
     "output_type": "stream",
     "text": [
      "[Parallel(n_jobs=-1)]: Done   1 out of   1 | elapsed:    0.2s finished\n",
      "[Parallel(n_jobs=-1)]: Using backend ThreadingBackend with 4 concurrent workers.\n"
     ]
    },
    {
     "name": "stdout",
     "output_type": "stream",
     "text": [
      "\n"
     ]
    },
    {
     "name": "stderr",
     "output_type": "stream",
     "text": [
      "[Parallel(n_jobs=-1)]: Done   1 out of   1 | elapsed:    0.0s finished\n",
      "[Parallel(n_jobs=-1)]: Using backend ThreadingBackend with 4 concurrent workers.\n"
     ]
    },
    {
     "name": "stdout",
     "output_type": "stream",
     "text": [
      "convergence after 15 epochs took 0 seconds\n",
      "convergence after 15 epochs took 0 seconds"
     ]
    },
    {
     "name": "stderr",
     "output_type": "stream",
     "text": [
      "[Parallel(n_jobs=-1)]: Done   1 out of   1 | elapsed:    0.1s finished\n",
      "[Parallel(n_jobs=-1)]: Using backend ThreadingBackend with 4 concurrent workers.\n"
     ]
    },
    {
     "name": "stdout",
     "output_type": "stream",
     "text": [
      "\n",
      "convergence after 15 epochs took 0 seconds\n"
     ]
    },
    {
     "name": "stderr",
     "output_type": "stream",
     "text": [
      "[Parallel(n_jobs=-1)]: Done   1 out of   1 | elapsed:    0.1s finished\n",
      "[Parallel(n_jobs=-1)]: Using backend ThreadingBackend with 4 concurrent workers.\n",
      "[Parallel(n_jobs=-1)]: Done   1 out of   1 | elapsed:    0.0s finished\n",
      "[Parallel(n_jobs=-1)]: Using backend ThreadingBackend with 4 concurrent workers.\n"
     ]
    },
    {
     "name": "stdout",
     "output_type": "stream",
     "text": [
      "convergence after 40 epochs took 1 seconds\n",
      "convergence after 16 epochs took 0 seconds\n"
     ]
    },
    {
     "name": "stderr",
     "output_type": "stream",
     "text": [
      "[Parallel(n_jobs=-1)]: Done   1 out of   1 | elapsed:    0.4s finished\n",
      "[Parallel(n_jobs=-1)]: Using backend ThreadingBackend with 4 concurrent workers.\n",
      "[Parallel(n_jobs=-1)]: Done   1 out of   1 | elapsed:    0.0s finished\n",
      "[Parallel(n_jobs=-1)]: Using backend ThreadingBackend with 4 concurrent workers.\n"
     ]
    },
    {
     "name": "stdout",
     "output_type": "stream",
     "text": [
      "convergence after 16 epochs took 0 seconds\n",
      "convergence after 15 epochs took 0 seconds\n"
     ]
    },
    {
     "name": "stderr",
     "output_type": "stream",
     "text": [
      "[Parallel(n_jobs=-1)]: Done   1 out of   1 | elapsed:    0.3s finished\n",
      "[Parallel(n_jobs=-1)]: Using backend ThreadingBackend with 4 concurrent workers.\n",
      "[Parallel(n_jobs=-1)]: Done   1 out of   1 | elapsed:    0.1s finished\n",
      "[Parallel(n_jobs=-1)]: Using backend ThreadingBackend with 4 concurrent workers.\n"
     ]
    },
    {
     "name": "stdout",
     "output_type": "stream",
     "text": [
      "convergence after 16 epochs took 0 seconds\n"
     ]
    },
    {
     "name": "stderr",
     "output_type": "stream",
     "text": [
      "[Parallel(n_jobs=-1)]: Done   1 out of   1 | elapsed:    0.1s finished\n",
      "[Parallel(n_jobs=-1)]: Using backend ThreadingBackend with 4 concurrent workers.\n"
     ]
    },
    {
     "name": "stdout",
     "output_type": "stream",
     "text": [
      "convergence after 15 epochs took 0 seconds\n",
      "convergence after 16 epochs took 0 seconds\n"
     ]
    },
    {
     "name": "stderr",
     "output_type": "stream",
     "text": [
      "[Parallel(n_jobs=-1)]: Done   1 out of   1 | elapsed:    0.2s finished\n",
      "[Parallel(n_jobs=-1)]: Using backend ThreadingBackend with 4 concurrent workers.\n",
      "[Parallel(n_jobs=-1)]: Done   1 out of   1 | elapsed:    0.0s finished\n",
      "[Parallel(n_jobs=-1)]: Using backend ThreadingBackend with 4 concurrent workers.\n"
     ]
    },
    {
     "name": "stdout",
     "output_type": "stream",
     "text": [
      "convergence after 28 epochs took 1 seconds\n",
      "convergence after 15 epochs took 0 seconds"
     ]
    },
    {
     "name": "stderr",
     "output_type": "stream",
     "text": [
      "[Parallel(n_jobs=-1)]: Done   1 out of   1 | elapsed:    0.3s finished\n",
      "[Parallel(n_jobs=-1)]: Using backend ThreadingBackend with 4 concurrent workers.\n"
     ]
    },
    {
     "name": "stdout",
     "output_type": "stream",
     "text": [
      "\n"
     ]
    },
    {
     "name": "stderr",
     "output_type": "stream",
     "text": [
      "[Parallel(n_jobs=-1)]: Done   1 out of   1 | elapsed:    0.1s finished\n",
      "[Parallel(n_jobs=-1)]: Using backend ThreadingBackend with 4 concurrent workers.\n"
     ]
    },
    {
     "name": "stdout",
     "output_type": "stream",
     "text": [
      "convergence after 15 epochs took 0 seconds\n"
     ]
    },
    {
     "name": "stderr",
     "output_type": "stream",
     "text": [
      "[Parallel(n_jobs=-1)]: Done   1 out of   1 | elapsed:    0.1s finished\n",
      "[Parallel(n_jobs=-1)]: Using backend ThreadingBackend with 4 concurrent workers.\n"
     ]
    },
    {
     "name": "stdout",
     "output_type": "stream",
     "text": [
      "convergence after 15 epochs took 0 seconds\n",
      "convergence after 16 epochs took 1 seconds\n"
     ]
    },
    {
     "name": "stderr",
     "output_type": "stream",
     "text": [
      "[Parallel(n_jobs=-1)]: Done   1 out of   1 | elapsed:    0.1s finished\n",
      "[Parallel(n_jobs=-1)]: Using backend ThreadingBackend with 4 concurrent workers.\n",
      "[Parallel(n_jobs=-1)]: Done   1 out of   1 | elapsed:    0.0s finished\n",
      "[Parallel(n_jobs=-1)]: Using backend ThreadingBackend with 4 concurrent workers.\n"
     ]
    },
    {
     "name": "stdout",
     "output_type": "stream",
     "text": [
      "convergence after 16 epochs took 0 seconds\n"
     ]
    },
    {
     "name": "stderr",
     "output_type": "stream",
     "text": [
      "[Parallel(n_jobs=-1)]: Done   1 out of   1 | elapsed:    0.2s finished\n",
      "[Parallel(n_jobs=-1)]: Using backend ThreadingBackend with 4 concurrent workers.\n"
     ]
    },
    {
     "name": "stdout",
     "output_type": "stream",
     "text": [
      "convergence after 16 epochs took 0 seconds\n"
     ]
    },
    {
     "name": "stderr",
     "output_type": "stream",
     "text": [
      "[Parallel(n_jobs=-1)]: Done   1 out of   1 | elapsed:    0.1s finished\n",
      "[Parallel(n_jobs=-1)]: Using backend ThreadingBackend with 4 concurrent workers.\n"
     ]
    },
    {
     "name": "stdout",
     "output_type": "stream",
     "text": [
      "convergence after 16 epochs took 0 seconds\n"
     ]
    },
    {
     "name": "stderr",
     "output_type": "stream",
     "text": [
      "[Parallel(n_jobs=-1)]: Done   1 out of   1 | elapsed:    0.0s finished\n",
      "[Parallel(n_jobs=-1)]: Using backend ThreadingBackend with 4 concurrent workers.\n"
     ]
    },
    {
     "name": "stdout",
     "output_type": "stream",
     "text": [
      "convergence after 16 epochs took 0 seconds\n",
      "convergence after 16 epochs took 0 seconds"
     ]
    },
    {
     "name": "stderr",
     "output_type": "stream",
     "text": [
      "[Parallel(n_jobs=-1)]: Done   1 out of   1 | elapsed:    0.2s finished\n",
      "[Parallel(n_jobs=-1)]: Using backend ThreadingBackend with 4 concurrent workers.\n"
     ]
    },
    {
     "name": "stdout",
     "output_type": "stream",
     "text": [
      "\n"
     ]
    },
    {
     "name": "stderr",
     "output_type": "stream",
     "text": [
      "[Parallel(n_jobs=-1)]: Done   1 out of   1 | elapsed:    0.0s finished\n",
      "[Parallel(n_jobs=-1)]: Using backend ThreadingBackend with 4 concurrent workers.\n"
     ]
    },
    {
     "name": "stdout",
     "output_type": "stream",
     "text": [
      "convergence after 16 epochs took 0 seconds\n"
     ]
    },
    {
     "name": "stderr",
     "output_type": "stream",
     "text": [
      "[Parallel(n_jobs=-1)]: Done   1 out of   1 | elapsed:    0.1s finished\n",
      "[Parallel(n_jobs=-1)]: Using backend ThreadingBackend with 4 concurrent workers.\n"
     ]
    },
    {
     "name": "stdout",
     "output_type": "stream",
     "text": [
      "convergence after 16 epochs took 1 seconds\n",
      "convergence after 15 epochs took 0 seconds\n"
     ]
    },
    {
     "name": "stderr",
     "output_type": "stream",
     "text": [
      "[Parallel(n_jobs=-1)]: Done   1 out of   1 | elapsed:    0.1s finished\n",
      "[Parallel(n_jobs=-1)]: Using backend ThreadingBackend with 4 concurrent workers.\n",
      "[Parallel(n_jobs=-1)]: Done   1 out of   1 | elapsed:    0.0s finished\n",
      "[Parallel(n_jobs=-1)]: Using backend ThreadingBackend with 4 concurrent workers.\n"
     ]
    },
    {
     "name": "stdout",
     "output_type": "stream",
     "text": [
      "convergence after 15 epochs took 0 seconds\n"
     ]
    },
    {
     "name": "stderr",
     "output_type": "stream",
     "text": [
      "[Parallel(n_jobs=-1)]: Done   1 out of   1 | elapsed:    0.0s finished\n",
      "[Parallel(n_jobs=-1)]: Using backend ThreadingBackend with 4 concurrent workers.\n"
     ]
    },
    {
     "name": "stdout",
     "output_type": "stream",
     "text": [
      "convergence after 16 epochs took 0 seconds\n",
      "convergence after 15 epochs took 0 seconds\n"
     ]
    },
    {
     "name": "stderr",
     "output_type": "stream",
     "text": [
      "[Parallel(n_jobs=-1)]: Done   1 out of   1 | elapsed:    0.1s finished\n",
      "[Parallel(n_jobs=-1)]: Using backend ThreadingBackend with 4 concurrent workers.\n",
      "[Parallel(n_jobs=-1)]: Done   1 out of   1 | elapsed:    0.0s finished\n",
      "[Parallel(n_jobs=-1)]: Using backend ThreadingBackend with 4 concurrent workers.\n"
     ]
    },
    {
     "name": "stdout",
     "output_type": "stream",
     "text": [
      "convergence after 16 epochs took 1 seconds\n",
      "convergence after 16 epochs took 0 seconds\n"
     ]
    },
    {
     "name": "stderr",
     "output_type": "stream",
     "text": [
      "[Parallel(n_jobs=-1)]: Done   1 out of   1 | elapsed:    0.2s finished\n",
      "[Parallel(n_jobs=-1)]: Using backend ThreadingBackend with 4 concurrent workers.\n",
      "[Parallel(n_jobs=-1)]: Done   1 out of   1 | elapsed:    0.0s finished\n",
      "[Parallel(n_jobs=-1)]: Using backend ThreadingBackend with 4 concurrent workers.\n"
     ]
    },
    {
     "name": "stdout",
     "output_type": "stream",
     "text": [
      "convergence after 19 epochs took 0 seconds\n"
     ]
    },
    {
     "name": "stderr",
     "output_type": "stream",
     "text": [
      "[Parallel(n_jobs=-1)]: Done   1 out of   1 | elapsed:    0.0s finished\n",
      "[Parallel(n_jobs=-1)]: Using backend ThreadingBackend with 4 concurrent workers.\n"
     ]
    },
    {
     "name": "stdout",
     "output_type": "stream",
     "text": [
      "convergence after 15 epochs took 0 seconds\n",
      "convergence after 15 epochs took 0 seconds\n"
     ]
    },
    {
     "name": "stderr",
     "output_type": "stream",
     "text": [
      "[Parallel(n_jobs=-1)]: Done   1 out of   1 | elapsed:    0.1s finished\n",
      "[Parallel(n_jobs=-1)]: Using backend ThreadingBackend with 4 concurrent workers.\n",
      "[Parallel(n_jobs=-1)]: Done   1 out of   1 | elapsed:    0.0s finished\n",
      "[Parallel(n_jobs=-1)]: Using backend ThreadingBackend with 4 concurrent workers.\n"
     ]
    },
    {
     "name": "stdout",
     "output_type": "stream",
     "text": [
      "convergence after 15 epochs took 0 seconds\n",
      "convergence after 15 epochs took 0 seconds\n"
     ]
    },
    {
     "name": "stderr",
     "output_type": "stream",
     "text": [
      "[Parallel(n_jobs=-1)]: Done   1 out of   1 | elapsed:    0.3s finished\n",
      "[Parallel(n_jobs=-1)]: Using backend ThreadingBackend with 4 concurrent workers.\n",
      "[Parallel(n_jobs=-1)]: Done   1 out of   1 | elapsed:    0.0s finished\n",
      "[Parallel(n_jobs=-1)]: Using backend ThreadingBackend with 4 concurrent workers.\n"
     ]
    },
    {
     "name": "stdout",
     "output_type": "stream",
     "text": [
      "convergence after 15 epochs took 0 seconds\n",
      "convergence after 15 epochs took 0 seconds\n"
     ]
    },
    {
     "name": "stderr",
     "output_type": "stream",
     "text": [
      "[Parallel(n_jobs=-1)]: Done   1 out of   1 | elapsed:    0.1s finished\n",
      "[Parallel(n_jobs=-1)]: Using backend ThreadingBackend with 4 concurrent workers.\n",
      "[Parallel(n_jobs=-1)]: Done   1 out of   1 | elapsed:    0.0s finished\n",
      "[Parallel(n_jobs=-1)]: Using backend ThreadingBackend with 4 concurrent workers.\n"
     ]
    },
    {
     "name": "stdout",
     "output_type": "stream",
     "text": [
      "convergence after 41 epochs took 0 seconds\n"
     ]
    },
    {
     "name": "stderr",
     "output_type": "stream",
     "text": [
      "[Parallel(n_jobs=-1)]: Done   1 out of   1 | elapsed:    0.1s finished\n",
      "[Parallel(n_jobs=-1)]: Using backend ThreadingBackend with 4 concurrent workers.\n"
     ]
    },
    {
     "name": "stdout",
     "output_type": "stream",
     "text": [
      "convergence after 16 epochs took 0 seconds\n",
      "convergence after 15 epochs took 0 seconds\n"
     ]
    },
    {
     "name": "stderr",
     "output_type": "stream",
     "text": [
      "[Parallel(n_jobs=-1)]: Done   1 out of   1 | elapsed:    0.2s finished\n",
      "[Parallel(n_jobs=-1)]: Using backend ThreadingBackend with 4 concurrent workers.\n",
      "[Parallel(n_jobs=-1)]: Done   1 out of   1 | elapsed:    0.0s finished\n",
      "[Parallel(n_jobs=-1)]: Using backend ThreadingBackend with 4 concurrent workers.\n"
     ]
    },
    {
     "name": "stdout",
     "output_type": "stream",
     "text": [
      "convergence after 16 epochs took 0 seconds\n"
     ]
    },
    {
     "name": "stderr",
     "output_type": "stream",
     "text": [
      "[Parallel(n_jobs=-1)]: Done   1 out of   1 | elapsed:    0.0s finished\n",
      "[Parallel(n_jobs=-1)]: Using backend ThreadingBackend with 4 concurrent workers.\n"
     ]
    },
    {
     "name": "stdout",
     "output_type": "stream",
     "text": [
      "convergence after 15 epochs took 1 seconds\n",
      "convergence after 15 epochs took 0 seconds\n"
     ]
    },
    {
     "name": "stderr",
     "output_type": "stream",
     "text": [
      "[Parallel(n_jobs=-1)]: Done   1 out of   1 | elapsed:    0.2s finished\n",
      "[Parallel(n_jobs=-1)]: Using backend ThreadingBackend with 4 concurrent workers.\n",
      "[Parallel(n_jobs=-1)]: Done   1 out of   1 | elapsed:    0.0s finished\n",
      "[Parallel(n_jobs=-1)]: Using backend ThreadingBackend with 4 concurrent workers.\n"
     ]
    },
    {
     "name": "stdout",
     "output_type": "stream",
     "text": [
      "convergence after 28 epochs took 0 seconds\n",
      "convergence after 15 epochs took 0 seconds\n"
     ]
    },
    {
     "name": "stderr",
     "output_type": "stream",
     "text": [
      "[Parallel(n_jobs=-1)]: Done   1 out of   1 | elapsed:    0.3s finished\n",
      "[Parallel(n_jobs=-1)]: Using backend ThreadingBackend with 4 concurrent workers.\n",
      "[Parallel(n_jobs=-1)]: Done   1 out of   1 | elapsed:    0.0s finished\n",
      "[Parallel(n_jobs=-1)]: Using backend ThreadingBackend with 4 concurrent workers.\n",
      "[Parallel(n_jobs=-1)]: Done   1 out of   1 | elapsed:    0.0s finished\n"
     ]
    },
    {
     "name": "stdout",
     "output_type": "stream",
     "text": [
      "convergence after 15 epochs took 0 seconds\n"
     ]
    },
    {
     "name": "stderr",
     "output_type": "stream",
     "text": [
      "[Parallel(n_jobs=-1)]: Using backend ThreadingBackend with 4 concurrent workers.\n",
      "[Parallel(n_jobs=-1)]: Done   1 out of   1 | elapsed:    0.1s finished\n"
     ]
    },
    {
     "name": "stdout",
     "output_type": "stream",
     "text": [
      "convergence after 15 epochs took 0 seconds\n",
      "convergence after 16 epochs took 0 seconds\n"
     ]
    },
    {
     "name": "stderr",
     "output_type": "stream",
     "text": [
      "[Parallel(n_jobs=-1)]: Using backend ThreadingBackend with 4 concurrent workers.\n",
      "[Parallel(n_jobs=-1)]: Done   1 out of   1 | elapsed:    0.0s finished\n",
      "[Parallel(n_jobs=-1)]: Using backend ThreadingBackend with 4 concurrent workers.\n"
     ]
    },
    {
     "name": "stdout",
     "output_type": "stream",
     "text": [
      "convergence after 16 epochs took 0 seconds\n",
      "convergence after 15 epochs took 1 seconds\n"
     ]
    },
    {
     "name": "stderr",
     "output_type": "stream",
     "text": [
      "[Parallel(n_jobs=-1)]: Done   1 out of   1 | elapsed:    0.2s finished\n",
      "[Parallel(n_jobs=-1)]: Using backend ThreadingBackend with 4 concurrent workers.\n",
      "[Parallel(n_jobs=-1)]: Done   1 out of   1 | elapsed:    0.0s finished\n",
      "[Parallel(n_jobs=-1)]: Using backend ThreadingBackend with 4 concurrent workers.\n"
     ]
    },
    {
     "name": "stdout",
     "output_type": "stream",
     "text": [
      "convergence after 16 epochs took 0 seconds\n",
      "convergence after 16 epochs took 0 seconds\n"
     ]
    },
    {
     "name": "stderr",
     "output_type": "stream",
     "text": [
      "[Parallel(n_jobs=-1)]: Done   1 out of   1 | elapsed:    0.0s finished\n",
      "[Parallel(n_jobs=-1)]: Using backend ThreadingBackend with 4 concurrent workers.\n",
      "[Parallel(n_jobs=-1)]: Done   1 out of   1 | elapsed:    0.0s finished\n",
      "[Parallel(n_jobs=-1)]: Using backend ThreadingBackend with 4 concurrent workers.\n",
      "[Parallel(n_jobs=-1)]: Done   1 out of   1 | elapsed:    0.1s finished\n"
     ]
    },
    {
     "name": "stdout",
     "output_type": "stream",
     "text": [
      "convergence after 16 epochs took 0 seconds\n",
      "convergence after 16 epochs took 0 seconds\n"
     ]
    },
    {
     "name": "stderr",
     "output_type": "stream",
     "text": [
      "[Parallel(n_jobs=-1)]: Using backend ThreadingBackend with 4 concurrent workers.\n",
      "[Parallel(n_jobs=-1)]: Done   1 out of   1 | elapsed:    0.0s finished\n",
      "[Parallel(n_jobs=-1)]: Using backend ThreadingBackend with 4 concurrent workers.\n"
     ]
    },
    {
     "name": "stdout",
     "output_type": "stream",
     "text": [
      "convergence after 16 epochs took 1 seconds\n"
     ]
    },
    {
     "name": "stderr",
     "output_type": "stream",
     "text": [
      "[Parallel(n_jobs=-1)]: Done   1 out of   1 | elapsed:    0.2s finished\n",
      "[Parallel(n_jobs=-1)]: Using backend ThreadingBackend with 4 concurrent workers.\n"
     ]
    },
    {
     "name": "stdout",
     "output_type": "stream",
     "text": [
      "convergence after 16 epochs took 0 seconds\n"
     ]
    },
    {
     "name": "stderr",
     "output_type": "stream",
     "text": [
      "[Parallel(n_jobs=-1)]: Done   1 out of   1 | elapsed:    0.0s finished\n",
      "[Parallel(n_jobs=-1)]: Using backend ThreadingBackend with 4 concurrent workers.\n"
     ]
    },
    {
     "name": "stdout",
     "output_type": "stream",
     "text": [
      "convergence after 16 epochs took 0 seconds\n",
      "convergence after 16 epochs took 0 seconds"
     ]
    },
    {
     "name": "stderr",
     "output_type": "stream",
     "text": [
      "[Parallel(n_jobs=-1)]: Done   1 out of   1 | elapsed:    0.2s finished\n",
      "[Parallel(n_jobs=-1)]: Using backend ThreadingBackend with 4 concurrent workers.\n"
     ]
    },
    {
     "name": "stdout",
     "output_type": "stream",
     "text": [
      "\n"
     ]
    },
    {
     "name": "stderr",
     "output_type": "stream",
     "text": [
      "[Parallel(n_jobs=-1)]: Done   1 out of   1 | elapsed:    0.0s finished\n",
      "[Parallel(n_jobs=-1)]: Using backend ThreadingBackend with 4 concurrent workers.\n"
     ]
    },
    {
     "name": "stdout",
     "output_type": "stream",
     "text": [
      "convergence after 16 epochs took 1 seconds\n",
      "convergence after 16 epochs took 0 seconds\n"
     ]
    },
    {
     "name": "stderr",
     "output_type": "stream",
     "text": [
      "[Parallel(n_jobs=-1)]: Done   1 out of   1 | elapsed:    0.2s finished\n",
      "[Parallel(n_jobs=-1)]: Using backend ThreadingBackend with 4 concurrent workers.\n",
      "[Parallel(n_jobs=-1)]: Done   1 out of   1 | elapsed:    0.0s finished\n",
      "[Parallel(n_jobs=-1)]: Using backend ThreadingBackend with 4 concurrent workers.\n"
     ]
    },
    {
     "name": "stdout",
     "output_type": "stream",
     "text": [
      "convergence after 20 epochs took 0 seconds\n"
     ]
    },
    {
     "name": "stderr",
     "output_type": "stream",
     "text": [
      "[Parallel(n_jobs=-1)]: Done   1 out of   1 | elapsed:    0.0s finished\n",
      "[Parallel(n_jobs=-1)]: Using backend ThreadingBackend with 4 concurrent workers.\n"
     ]
    },
    {
     "name": "stdout",
     "output_type": "stream",
     "text": [
      "convergence after 15 epochs took 0 seconds\n",
      "convergence after 16 epochs took 0 seconds\n"
     ]
    },
    {
     "name": "stderr",
     "output_type": "stream",
     "text": [
      "[Parallel(n_jobs=-1)]: Done   1 out of   1 | elapsed:    0.2s finished\n",
      "[Parallel(n_jobs=-1)]: Using backend ThreadingBackend with 4 concurrent workers.\n",
      "[Parallel(n_jobs=-1)]: Done   1 out of   1 | elapsed:    0.0s finished\n",
      "[Parallel(n_jobs=-1)]: Using backend ThreadingBackend with 4 concurrent workers.\n"
     ]
    },
    {
     "name": "stdout",
     "output_type": "stream",
     "text": [
      "convergence after 16 epochs took 0 seconds\n",
      "convergence after 16 epochs took 0 seconds\n"
     ]
    },
    {
     "name": "stderr",
     "output_type": "stream",
     "text": [
      "[Parallel(n_jobs=-1)]: Done   1 out of   1 | elapsed:    0.2s finished\n",
      "[Parallel(n_jobs=-1)]: Using backend ThreadingBackend with 4 concurrent workers.\n",
      "[Parallel(n_jobs=-1)]: Done   1 out of   1 | elapsed:    0.0s finished\n",
      "[Parallel(n_jobs=-1)]: Using backend ThreadingBackend with 4 concurrent workers.\n"
     ]
    },
    {
     "name": "stdout",
     "output_type": "stream",
     "text": [
      "convergence after 15 epochs took 0 seconds\n"
     ]
    },
    {
     "name": "stderr",
     "output_type": "stream",
     "text": [
      "[Parallel(n_jobs=-1)]: Done   1 out of   1 | elapsed:    0.0s finished\n",
      "[Parallel(n_jobs=-1)]: Using backend ThreadingBackend with 4 concurrent workers.\n"
     ]
    },
    {
     "name": "stdout",
     "output_type": "stream",
     "text": [
      "convergence after 16 epochs took 0 seconds\n"
     ]
    },
    {
     "name": "stderr",
     "output_type": "stream",
     "text": [
      "[Parallel(n_jobs=-1)]: Done   1 out of   1 | elapsed:    0.1s finished\n",
      "[Parallel(n_jobs=-1)]: Using backend ThreadingBackend with 4 concurrent workers.\n"
     ]
    },
    {
     "name": "stdout",
     "output_type": "stream",
     "text": [
      "convergence after 41 epochs took 1 seconds\n"
     ]
    },
    {
     "name": "stderr",
     "output_type": "stream",
     "text": [
      "[Parallel(n_jobs=-1)]: Done   1 out of   1 | elapsed:    0.3s finished\n",
      "[Parallel(n_jobs=-1)]: Using backend ThreadingBackend with 4 concurrent workers.\n"
     ]
    },
    {
     "name": "stdout",
     "output_type": "stream",
     "text": [
      "convergence after 16 epochs took 0 seconds\n",
      "convergence after 16 epochs took 0 seconds\n"
     ]
    },
    {
     "name": "stderr",
     "output_type": "stream",
     "text": [
      "[Parallel(n_jobs=-1)]: Done   1 out of   1 | elapsed:    0.2s finished\n",
      "[Parallel(n_jobs=-1)]: Using backend ThreadingBackend with 4 concurrent workers.\n",
      "[Parallel(n_jobs=-1)]: Done   1 out of   1 | elapsed:    0.0s finished\n",
      "[Parallel(n_jobs=-1)]: Using backend ThreadingBackend with 4 concurrent workers.\n",
      "[Parallel(n_jobs=-1)]: Done   1 out of   1 | elapsed:    0.0s finished\n",
      "[Parallel(n_jobs=-1)]: Using backend ThreadingBackend with 4 concurrent workers.\n"
     ]
    },
    {
     "name": "stdout",
     "output_type": "stream",
     "text": [
      "convergence after 16 epochs took 0 seconds\n",
      "convergence after 15 epochs took 0 seconds\n",
      "convergence after 16 epochs took 0 seconds\n"
     ]
    },
    {
     "name": "stderr",
     "output_type": "stream",
     "text": [
      "[Parallel(n_jobs=-1)]: Done   1 out of   1 | elapsed:    0.1s finished\n",
      "[Parallel(n_jobs=-1)]: Using backend ThreadingBackend with 4 concurrent workers.\n",
      "[Parallel(n_jobs=-1)]: Done   1 out of   1 | elapsed:    0.0s finished\n",
      "[Parallel(n_jobs=-1)]: Using backend ThreadingBackend with 4 concurrent workers.\n"
     ]
    },
    {
     "name": "stdout",
     "output_type": "stream",
     "text": [
      "convergence after 29 epochs took 0 seconds\n",
      "convergence after 16 epochs took 0 seconds\n"
     ]
    },
    {
     "name": "stderr",
     "output_type": "stream",
     "text": [
      "[Parallel(n_jobs=-1)]: Done   1 out of   1 | elapsed:    0.3s finished\n",
      "[Parallel(n_jobs=-1)]: Using backend ThreadingBackend with 4 concurrent workers.\n",
      "[Parallel(n_jobs=-1)]: Done   1 out of   1 | elapsed:    0.0s finished\n",
      "[Parallel(n_jobs=-1)]: Using backend ThreadingBackend with 4 concurrent workers.\n"
     ]
    },
    {
     "name": "stdout",
     "output_type": "stream",
     "text": [
      "convergence after 16 epochs took 0 seconds\n",
      "convergence after 16 epochs took 0 seconds\n"
     ]
    },
    {
     "name": "stderr",
     "output_type": "stream",
     "text": [
      "[Parallel(n_jobs=-1)]: Done   1 out of   1 | elapsed:    0.2s finished\n",
      "[Parallel(n_jobs=-1)]: Using backend ThreadingBackend with 4 concurrent workers.\n",
      "[Parallel(n_jobs=-1)]: Done   1 out of   1 | elapsed:    0.0s finished\n",
      "[Parallel(n_jobs=-1)]: Using backend ThreadingBackend with 4 concurrent workers.\n"
     ]
    },
    {
     "name": "stdout",
     "output_type": "stream",
     "text": [
      "convergence after 16 epochs took 0 seconds\n",
      "convergence after 16 epochs took 1 seconds"
     ]
    },
    {
     "name": "stderr",
     "output_type": "stream",
     "text": [
      "[Parallel(n_jobs=-1)]: Done   1 out of   1 | elapsed:    0.2s finished\n",
      "[Parallel(n_jobs=-1)]: Using backend ThreadingBackend with 4 concurrent workers.\n"
     ]
    },
    {
     "name": "stdout",
     "output_type": "stream",
     "text": [
      "\n",
      "convergence after 16 epochs took 0 seconds\n"
     ]
    },
    {
     "name": "stderr",
     "output_type": "stream",
     "text": [
      "[Parallel(n_jobs=-1)]: Done   1 out of   1 | elapsed:    0.0s finished\n",
      "[Parallel(n_jobs=-1)]: Using backend ThreadingBackend with 4 concurrent workers.\n",
      "[Parallel(n_jobs=-1)]: Done   1 out of   1 | elapsed:    0.0s finished\n",
      "[Parallel(n_jobs=-1)]: Using backend ThreadingBackend with 4 concurrent workers.\n"
     ]
    },
    {
     "name": "stdout",
     "output_type": "stream",
     "text": [
      "convergence after 16 epochs took 0 seconds\n",
      "convergence after 16 epochs took 0 seconds\n"
     ]
    },
    {
     "name": "stderr",
     "output_type": "stream",
     "text": [
      "[Parallel(n_jobs=-1)]: Done   1 out of   1 | elapsed:    0.1s finished\n",
      "[Parallel(n_jobs=-1)]: Using backend ThreadingBackend with 4 concurrent workers.\n",
      "[Parallel(n_jobs=-1)]: Done   1 out of   1 | elapsed:    0.0s finished\n",
      "[Parallel(n_jobs=-1)]: Using backend ThreadingBackend with 4 concurrent workers.\n"
     ]
    },
    {
     "name": "stdout",
     "output_type": "stream",
     "text": [
      "convergence after 16 epochs took 1 seconds\n"
     ]
    },
    {
     "name": "stderr",
     "output_type": "stream",
     "text": [
      "[Parallel(n_jobs=-1)]: Done   1 out of   1 | elapsed:    0.2s finished\n",
      "[Parallel(n_jobs=-1)]: Using backend ThreadingBackend with 4 concurrent workers.\n"
     ]
    },
    {
     "name": "stdout",
     "output_type": "stream",
     "text": [
      "convergence after 16 epochs took 0 seconds\n"
     ]
    },
    {
     "name": "stderr",
     "output_type": "stream",
     "text": [
      "[Parallel(n_jobs=-1)]: Done   1 out of   1 | elapsed:    0.0s finished\n",
      "[Parallel(n_jobs=-1)]: Using backend ThreadingBackend with 4 concurrent workers.\n"
     ]
    },
    {
     "name": "stdout",
     "output_type": "stream",
     "text": [
      "convergence after 16 epochs took 0 seconds\n",
      "convergence after 16 epochs took 0 seconds\n"
     ]
    },
    {
     "name": "stderr",
     "output_type": "stream",
     "text": [
      "[Parallel(n_jobs=-1)]: Done   1 out of   1 | elapsed:    0.2s finished\n",
      "[Parallel(n_jobs=-1)]: Using backend ThreadingBackend with 4 concurrent workers.\n",
      "[Parallel(n_jobs=-1)]: Done   1 out of   1 | elapsed:    0.0s finished\n",
      "[Parallel(n_jobs=-1)]: Using backend ThreadingBackend with 4 concurrent workers.\n"
     ]
    },
    {
     "name": "stdout",
     "output_type": "stream",
     "text": [
      "convergence after 16 epochs took 1 seconds\n"
     ]
    },
    {
     "name": "stderr",
     "output_type": "stream",
     "text": [
      "[Parallel(n_jobs=-1)]: Done   1 out of   1 | elapsed:    0.1s finished\n",
      "[Parallel(n_jobs=-1)]: Using backend ThreadingBackend with 4 concurrent workers.\n"
     ]
    },
    {
     "name": "stdout",
     "output_type": "stream",
     "text": [
      "convergence after 16 epochs took 0 seconds\n",
      "convergence after 16 epochs took 0 seconds\n"
     ]
    },
    {
     "name": "stderr",
     "output_type": "stream",
     "text": [
      "[Parallel(n_jobs=-1)]: Done   1 out of   1 | elapsed:    0.2s finished\n",
      "[Parallel(n_jobs=-1)]: Using backend ThreadingBackend with 4 concurrent workers.\n",
      "[Parallel(n_jobs=-1)]: Done   1 out of   1 | elapsed:    0.0s finished\n",
      "[Parallel(n_jobs=-1)]: Using backend ThreadingBackend with 4 concurrent workers.\n"
     ]
    },
    {
     "name": "stdout",
     "output_type": "stream",
     "text": [
      "convergence after 20 epochs took 0 seconds\n",
      "convergence after 16 epochs took 0 seconds"
     ]
    },
    {
     "name": "stderr",
     "output_type": "stream",
     "text": [
      "[Parallel(n_jobs=-1)]: Done   1 out of   1 | elapsed:    0.2s finished\n",
      "[Parallel(n_jobs=-1)]: Using backend ThreadingBackend with 4 concurrent workers.\n",
      "[Parallel(n_jobs=-1)]: Done   1 out of   1 | elapsed:    0.0s finished\n",
      "[Parallel(n_jobs=-1)]: Using backend ThreadingBackend with 4 concurrent workers.\n"
     ]
    },
    {
     "name": "stdout",
     "output_type": "stream",
     "text": [
      "\n",
      "convergence after 16 epochs took 0 seconds\n"
     ]
    },
    {
     "name": "stderr",
     "output_type": "stream",
     "text": [
      "[Parallel(n_jobs=-1)]: Done   1 out of   1 | elapsed:    0.0s finished\n",
      "[Parallel(n_jobs=-1)]: Using backend ThreadingBackend with 4 concurrent workers.\n"
     ]
    },
    {
     "name": "stdout",
     "output_type": "stream",
     "text": [
      "convergence after 16 epochs took 0 seconds\n"
     ]
    },
    {
     "name": "stderr",
     "output_type": "stream",
     "text": [
      "[Parallel(n_jobs=-1)]: Done   1 out of   1 | elapsed:    0.1s finished\n",
      "[Parallel(n_jobs=-1)]: Using backend ThreadingBackend with 4 concurrent workers.\n"
     ]
    },
    {
     "name": "stdout",
     "output_type": "stream",
     "text": [
      "convergence after 16 epochs took 0 seconds\n",
      "convergence after 16 epochs took 0 seconds\n"
     ]
    },
    {
     "name": "stderr",
     "output_type": "stream",
     "text": [
      "[Parallel(n_jobs=-1)]: Done   1 out of   1 | elapsed:    0.1s finished\n",
      "[Parallel(n_jobs=-1)]: Using backend ThreadingBackend with 4 concurrent workers.\n",
      "[Parallel(n_jobs=-1)]: Done   1 out of   1 | elapsed:    0.0s finished\n",
      "[Parallel(n_jobs=-1)]: Using backend ThreadingBackend with 4 concurrent workers.\n"
     ]
    },
    {
     "name": "stdout",
     "output_type": "stream",
     "text": [
      "convergence after 16 epochs took 0 seconds\n"
     ]
    },
    {
     "name": "stderr",
     "output_type": "stream",
     "text": [
      "[Parallel(n_jobs=-1)]: Done   1 out of   1 | elapsed:    0.0s finished\n",
      "[Parallel(n_jobs=-1)]: Using backend ThreadingBackend with 4 concurrent workers.\n"
     ]
    },
    {
     "name": "stdout",
     "output_type": "stream",
     "text": [
      "convergence after 40 epochs took 0 seconds\n"
     ]
    },
    {
     "name": "stderr",
     "output_type": "stream",
     "text": [
      "[Parallel(n_jobs=-1)]: Done   1 out of   1 | elapsed:    0.4s finished\n",
      "[Parallel(n_jobs=-1)]: Using backend ThreadingBackend with 4 concurrent workers.\n"
     ]
    },
    {
     "name": "stdout",
     "output_type": "stream",
     "text": [
      "convergence after 16 epochs took 0 seconds\n"
     ]
    },
    {
     "name": "stderr",
     "output_type": "stream",
     "text": [
      "[Parallel(n_jobs=-1)]: Done   1 out of   1 | elapsed:    0.2s finished\n",
      "[Parallel(n_jobs=-1)]: Using backend ThreadingBackend with 4 concurrent workers.\n"
     ]
    },
    {
     "name": "stdout",
     "output_type": "stream",
     "text": [
      "convergence after 16 epochs took 1 seconds\n"
     ]
    },
    {
     "name": "stderr",
     "output_type": "stream",
     "text": [
      "[Parallel(n_jobs=-1)]: Done   1 out of   1 | elapsed:    0.1s finished\n",
      "[Parallel(n_jobs=-1)]: Using backend ThreadingBackend with 4 concurrent workers.\n"
     ]
    },
    {
     "name": "stdout",
     "output_type": "stream",
     "text": [
      "convergence after 16 epochs took 0 seconds\n"
     ]
    },
    {
     "name": "stderr",
     "output_type": "stream",
     "text": [
      "[Parallel(n_jobs=-1)]: Done   1 out of   1 | elapsed:    0.3s finished\n",
      "[Parallel(n_jobs=-1)]: Using backend ThreadingBackend with 4 concurrent workers.\n"
     ]
    },
    {
     "name": "stdout",
     "output_type": "stream",
     "text": [
      "convergence after 16 epochs took 0 seconds\n",
      "convergence after 16 epochs took 0 seconds\n"
     ]
    },
    {
     "name": "stderr",
     "output_type": "stream",
     "text": [
      "[Parallel(n_jobs=-1)]: Done   1 out of   1 | elapsed:    0.0s finished\n",
      "[Parallel(n_jobs=-1)]: Using backend ThreadingBackend with 4 concurrent workers.\n",
      "[Parallel(n_jobs=-1)]: Done   1 out of   1 | elapsed:    0.0s finished\n",
      "[Parallel(n_jobs=-1)]: Using backend ThreadingBackend with 4 concurrent workers.\n"
     ]
    },
    {
     "name": "stdout",
     "output_type": "stream",
     "text": [
      "convergence after 28 epochs took 1 seconds\n",
      "convergence after 16 epochs took 0 seconds\n"
     ]
    },
    {
     "name": "stderr",
     "output_type": "stream",
     "text": [
      "[Parallel(n_jobs=-1)]: Done   1 out of   1 | elapsed:    0.3s finished\n",
      "[Parallel(n_jobs=-1)]: Using backend ThreadingBackend with 4 concurrent workers.\n",
      "[Parallel(n_jobs=-1)]: Done   1 out of   1 | elapsed:    0.0s finished\n",
      "[Parallel(n_jobs=-1)]: Using backend ThreadingBackend with 4 concurrent workers.\n",
      "[Parallel(n_jobs=-1)]: Done   1 out of   1 | elapsed:    0.0s finished\n"
     ]
    },
    {
     "name": "stdout",
     "output_type": "stream",
     "text": [
      "convergence after 16 epochs took 0 seconds\n"
     ]
    },
    {
     "name": "stderr",
     "output_type": "stream",
     "text": [
      "[Parallel(n_jobs=-1)]: Using backend ThreadingBackend with 4 concurrent workers.\n"
     ]
    },
    {
     "name": "stdout",
     "output_type": "stream",
     "text": [
      "convergence after 16 epochs took 1 seconds\n",
      "convergence after 16 epochs took 0 seconds\n"
     ]
    },
    {
     "name": "stderr",
     "output_type": "stream",
     "text": [
      "[Parallel(n_jobs=-1)]: Done   1 out of   1 | elapsed:    0.2s finished\n",
      "[Parallel(n_jobs=-1)]: Using backend ThreadingBackend with 4 concurrent workers.\n",
      "[Parallel(n_jobs=-1)]: Done   1 out of   1 | elapsed:    0.0s finished\n",
      "[Parallel(n_jobs=-1)]: Using backend ThreadingBackend with 4 concurrent workers.\n"
     ]
    },
    {
     "name": "stdout",
     "output_type": "stream",
     "text": [
      "convergence after 16 epochs took 0 seconds\n",
      "convergence after 16 epochs took 0 seconds\n"
     ]
    },
    {
     "name": "stderr",
     "output_type": "stream",
     "text": [
      "[Parallel(n_jobs=-1)]: Done   1 out of   1 | elapsed:    0.2s finished\n",
      "[Parallel(n_jobs=-1)]: Using backend ThreadingBackend with 4 concurrent workers.\n",
      "[Parallel(n_jobs=-1)]: Done   1 out of   1 | elapsed:    0.0s finished\n",
      "[Parallel(n_jobs=-1)]: Using backend ThreadingBackend with 4 concurrent workers.\n"
     ]
    },
    {
     "name": "stdout",
     "output_type": "stream",
     "text": [
      "convergence after 16 epochs took 0 seconds\n",
      "convergence after 16 epochs took 0 seconds\n"
     ]
    },
    {
     "name": "stderr",
     "output_type": "stream",
     "text": [
      "[Parallel(n_jobs=-1)]: Done   1 out of   1 | elapsed:    0.0s finished\n",
      "[Parallel(n_jobs=-1)]: Using backend ThreadingBackend with 4 concurrent workers.\n",
      "[Parallel(n_jobs=-1)]: Done   1 out of   1 | elapsed:    0.0s finished\n",
      "[Parallel(n_jobs=-1)]: Using backend ThreadingBackend with 4 concurrent workers.\n"
     ]
    },
    {
     "name": "stdout",
     "output_type": "stream",
     "text": [
      "convergence after 16 epochs took 1 seconds\n",
      "convergence after 16 epochs took 0 seconds\n"
     ]
    },
    {
     "name": "stderr",
     "output_type": "stream",
     "text": [
      "[Parallel(n_jobs=-1)]: Done   1 out of   1 | elapsed:    0.2s finished\n",
      "[Parallel(n_jobs=-1)]: Using backend ThreadingBackend with 4 concurrent workers.\n",
      "[Parallel(n_jobs=-1)]: Done   1 out of   1 | elapsed:    0.0s finished\n",
      "[Parallel(n_jobs=-1)]: Using backend ThreadingBackend with 4 concurrent workers.\n"
     ]
    },
    {
     "name": "stdout",
     "output_type": "stream",
     "text": [
      "convergence after 16 epochs took 0 seconds\n"
     ]
    },
    {
     "name": "stderr",
     "output_type": "stream",
     "text": [
      "[Parallel(n_jobs=-1)]: Done   1 out of   1 | elapsed:    0.2s finished\n",
      "[Parallel(n_jobs=-1)]: Using backend ThreadingBackend with 4 concurrent workers.\n"
     ]
    },
    {
     "name": "stdout",
     "output_type": "stream",
     "text": [
      "convergence after 16 epochs took 0 seconds\n"
     ]
    },
    {
     "name": "stderr",
     "output_type": "stream",
     "text": [
      "[Parallel(n_jobs=-1)]: Done   1 out of   1 | elapsed:    0.1s finished\n",
      "[Parallel(n_jobs=-1)]: Using backend ThreadingBackend with 4 concurrent workers.\n"
     ]
    },
    {
     "name": "stdout",
     "output_type": "stream",
     "text": [
      "convergence after 17 epochs took 1 seconds\n"
     ]
    },
    {
     "name": "stderr",
     "output_type": "stream",
     "text": [
      "[Parallel(n_jobs=-1)]: Done   1 out of   1 | elapsed:    0.1s finished\n",
      "[Parallel(n_jobs=-1)]: Using backend ThreadingBackend with 4 concurrent workers.\n"
     ]
    },
    {
     "name": "stdout",
     "output_type": "stream",
     "text": [
      "convergence after 16 epochs took 0 seconds\n",
      "convergence after 20 epochs took 0 seconds"
     ]
    },
    {
     "name": "stderr",
     "output_type": "stream",
     "text": [
      "[Parallel(n_jobs=-1)]: Done   1 out of   1 | elapsed:    0.1s finished\n",
      "[Parallel(n_jobs=-1)]: Using backend ThreadingBackend with 4 concurrent workers.\n"
     ]
    },
    {
     "name": "stdout",
     "output_type": "stream",
     "text": [
      "\n"
     ]
    },
    {
     "name": "stderr",
     "output_type": "stream",
     "text": [
      "[Parallel(n_jobs=-1)]: Done   1 out of   1 | elapsed:    0.0s finished\n",
      "[Parallel(n_jobs=-1)]: Using backend ThreadingBackend with 4 concurrent workers.\n"
     ]
    },
    {
     "name": "stdout",
     "output_type": "stream",
     "text": [
      "convergence after 16 epochs took 0 seconds\n",
      "convergence after 16 epochs took 0 seconds"
     ]
    },
    {
     "name": "stderr",
     "output_type": "stream",
     "text": [
      "[Parallel(n_jobs=-1)]: Done   1 out of   1 | elapsed:    0.2s finished\n",
      "[Parallel(n_jobs=-1)]: Using backend ThreadingBackend with 4 concurrent workers.\n"
     ]
    },
    {
     "name": "stdout",
     "output_type": "stream",
     "text": [
      "\n"
     ]
    },
    {
     "name": "stderr",
     "output_type": "stream",
     "text": [
      "[Parallel(n_jobs=-1)]: Done   1 out of   1 | elapsed:    0.0s finished\n",
      "[Parallel(n_jobs=-1)]: Using backend ThreadingBackend with 4 concurrent workers.\n"
     ]
    },
    {
     "name": "stdout",
     "output_type": "stream",
     "text": [
      "convergence after 16 epochs took 0 seconds\n",
      "convergence after 16 epochs took 0 seconds\n"
     ]
    },
    {
     "name": "stderr",
     "output_type": "stream",
     "text": [
      "[Parallel(n_jobs=-1)]: Done   1 out of   1 | elapsed:    0.2s finished\n",
      "[Parallel(n_jobs=-1)]: Using backend ThreadingBackend with 4 concurrent workers.\n",
      "[Parallel(n_jobs=-1)]: Done   1 out of   1 | elapsed:    0.0s finished\n",
      "[Parallel(n_jobs=-1)]: Using backend ThreadingBackend with 4 concurrent workers.\n"
     ]
    },
    {
     "name": "stdout",
     "output_type": "stream",
     "text": [
      "convergence after 16 epochs took 1 seconds\n",
      "convergence after 16 epochs took 0 seconds\n"
     ]
    },
    {
     "name": "stderr",
     "output_type": "stream",
     "text": [
      "[Parallel(n_jobs=-1)]: Done   1 out of   1 | elapsed:    0.1s finished\n",
      "[Parallel(n_jobs=-1)]: Using backend ThreadingBackend with 4 concurrent workers.\n",
      "[Parallel(n_jobs=-1)]: Done   1 out of   1 | elapsed:    0.0s finished\n",
      "[Parallel(n_jobs=-1)]: Using backend ThreadingBackend with 4 concurrent workers.\n"
     ]
    },
    {
     "name": "stdout",
     "output_type": "stream",
     "text": [
      "convergence after 40 epochs took 0 seconds\n"
     ]
    },
    {
     "name": "stderr",
     "output_type": "stream",
     "text": [
      "[Parallel(n_jobs=-1)]: Done   1 out of   1 | elapsed:    0.1s finished\n",
      "[Parallel(n_jobs=-1)]: Using backend ThreadingBackend with 4 concurrent workers.\n"
     ]
    },
    {
     "name": "stdout",
     "output_type": "stream",
     "text": [
      "convergence after 16 epochs took 0 seconds\n",
      "convergence after 16 epochs took 0 seconds\n"
     ]
    },
    {
     "name": "stderr",
     "output_type": "stream",
     "text": [
      "[Parallel(n_jobs=-1)]: Done   1 out of   1 | elapsed:    0.2s finished\n",
      "[Parallel(n_jobs=-1)]: Using backend ThreadingBackend with 4 concurrent workers.\n",
      "[Parallel(n_jobs=-1)]: Done   1 out of   1 | elapsed:    0.0s finished\n",
      "[Parallel(n_jobs=-1)]: Using backend ThreadingBackend with 4 concurrent workers.\n"
     ]
    },
    {
     "name": "stdout",
     "output_type": "stream",
     "text": [
      "convergence after 16 epochs took 0 seconds\n",
      "convergence after 16 epochs took 0 seconds\n"
     ]
    },
    {
     "name": "stderr",
     "output_type": "stream",
     "text": [
      "[Parallel(n_jobs=-1)]: Done   1 out of   1 | elapsed:    0.2s finished\n",
      "[Parallel(n_jobs=-1)]: Using backend ThreadingBackend with 4 concurrent workers.\n",
      "[Parallel(n_jobs=-1)]: Done   1 out of   1 | elapsed:    0.0s finished\n",
      "[Parallel(n_jobs=-1)]: Using backend ThreadingBackend with 4 concurrent workers.\n"
     ]
    },
    {
     "name": "stdout",
     "output_type": "stream",
     "text": [
      "convergence after 16 epochs took 0 seconds\n"
     ]
    },
    {
     "name": "stderr",
     "output_type": "stream",
     "text": [
      "[Parallel(n_jobs=-1)]: Done   1 out of   1 | elapsed:    0.2s finished\n",
      "[Parallel(n_jobs=-1)]: Using backend ThreadingBackend with 4 concurrent workers.\n"
     ]
    },
    {
     "name": "stdout",
     "output_type": "stream",
     "text": [
      "convergence after 27 epochs took 0 seconds\n"
     ]
    },
    {
     "name": "stderr",
     "output_type": "stream",
     "text": [
      "[Parallel(n_jobs=-1)]: Done   1 out of   1 | elapsed:    0.0s finished\n",
      "[Parallel(n_jobs=-1)]: Using backend ThreadingBackend with 4 concurrent workers.\n"
     ]
    },
    {
     "name": "stdout",
     "output_type": "stream",
     "text": [
      "convergence after 16 epochs took 0 seconds\n",
      "convergence after 17 epochs took 0 seconds\n"
     ]
    },
    {
     "name": "stderr",
     "output_type": "stream",
     "text": [
      "[Parallel(n_jobs=-1)]: Done   1 out of   1 | elapsed:    0.1s finished\n",
      "[Parallel(n_jobs=-1)]: Using backend ThreadingBackend with 4 concurrent workers.\n",
      "[Parallel(n_jobs=-1)]: Done   1 out of   1 | elapsed:    0.0s finished\n",
      "[Parallel(n_jobs=-1)]: Using backend ThreadingBackend with 4 concurrent workers.\n"
     ]
    },
    {
     "name": "stdout",
     "output_type": "stream",
     "text": [
      "convergence after 16 epochs took 0 seconds\n"
     ]
    },
    {
     "name": "stderr",
     "output_type": "stream",
     "text": [
      "[Parallel(n_jobs=-1)]: Done   1 out of   1 | elapsed:    0.0s finished\n",
      "[Parallel(n_jobs=-1)]: Using backend ThreadingBackend with 4 concurrent workers.\n"
     ]
    },
    {
     "name": "stdout",
     "output_type": "stream",
     "text": [
      "convergence after 16 epochs took 1 seconds\n"
     ]
    },
    {
     "name": "stderr",
     "output_type": "stream",
     "text": [
      "[Parallel(n_jobs=-1)]: Done   1 out of   1 | elapsed:    0.2s finished\n",
      "[Parallel(n_jobs=-1)]: Using backend ThreadingBackend with 4 concurrent workers.\n"
     ]
    },
    {
     "name": "stdout",
     "output_type": "stream",
     "text": [
      "convergence after 16 epochs took 0 seconds\n",
      "convergence after 16 epochs took 0 seconds\n"
     ]
    },
    {
     "name": "stderr",
     "output_type": "stream",
     "text": [
      "[Parallel(n_jobs=-1)]: Done   1 out of   1 | elapsed:    0.2s finished\n",
      "[Parallel(n_jobs=-1)]: Using backend ThreadingBackend with 4 concurrent workers.\n",
      "[Parallel(n_jobs=-1)]: Done   1 out of   1 | elapsed:    0.0s finished\n",
      "[Parallel(n_jobs=-1)]: Using backend ThreadingBackend with 4 concurrent workers.\n"
     ]
    },
    {
     "name": "stdout",
     "output_type": "stream",
     "text": [
      "convergence after 16 epochs took 0 seconds\n"
     ]
    },
    {
     "name": "stderr",
     "output_type": "stream",
     "text": [
      "[Parallel(n_jobs=-1)]: Done   1 out of   1 | elapsed:    0.0s finished\n",
      "[Parallel(n_jobs=-1)]: Using backend ThreadingBackend with 4 concurrent workers.\n"
     ]
    },
    {
     "name": "stdout",
     "output_type": "stream",
     "text": [
      "convergence after 16 epochs took 1 seconds\n",
      "convergence after 16 epochs took 0 seconds\n"
     ]
    },
    {
     "name": "stderr",
     "output_type": "stream",
     "text": [
      "[Parallel(n_jobs=-1)]: Done   1 out of   1 | elapsed:    0.3s finished\n",
      "[Parallel(n_jobs=-1)]: Using backend ThreadingBackend with 4 concurrent workers.\n",
      "[Parallel(n_jobs=-1)]: Done   1 out of   1 | elapsed:    0.0s finished\n",
      "[Parallel(n_jobs=-1)]: Using backend ThreadingBackend with 4 concurrent workers.\n"
     ]
    },
    {
     "name": "stdout",
     "output_type": "stream",
     "text": [
      "convergence after 16 epochs took 0 seconds\n",
      "convergence after 16 epochs took 0 seconds\n"
     ]
    },
    {
     "name": "stderr",
     "output_type": "stream",
     "text": [
      "[Parallel(n_jobs=-1)]: Done   1 out of   1 | elapsed:    0.3s finished\n",
      "[Parallel(n_jobs=-1)]: Using backend ThreadingBackend with 4 concurrent workers.\n",
      "[Parallel(n_jobs=-1)]: Done   1 out of   1 | elapsed:    0.0s finished\n",
      "[Parallel(n_jobs=-1)]: Using backend ThreadingBackend with 4 concurrent workers.\n",
      "[Parallel(n_jobs=-1)]: Done   1 out of   1 | elapsed:    0.0s finished\n"
     ]
    },
    {
     "name": "stdout",
     "output_type": "stream",
     "text": [
      "convergence after 16 epochs took 1 seconds\n"
     ]
    },
    {
     "name": "stderr",
     "output_type": "stream",
     "text": [
      "[Parallel(n_jobs=-1)]: Using backend ThreadingBackend with 4 concurrent workers.\n"
     ]
    },
    {
     "name": "stdout",
     "output_type": "stream",
     "text": [
      "convergence after 17 epochs took 0 seconds\n",
      "convergence after 16 epochs took 0 seconds\n"
     ]
    },
    {
     "name": "stderr",
     "output_type": "stream",
     "text": [
      "[Parallel(n_jobs=-1)]: Done   1 out of   1 | elapsed:    0.2s finished\n",
      "[Parallel(n_jobs=-1)]: Using backend ThreadingBackend with 4 concurrent workers.\n",
      "[Parallel(n_jobs=-1)]: Done   1 out of   1 | elapsed:    0.0s finished\n",
      "[Parallel(n_jobs=-1)]: Using backend ThreadingBackend with 4 concurrent workers.\n"
     ]
    },
    {
     "name": "stdout",
     "output_type": "stream",
     "text": [
      "convergence after 19 epochs took 0 seconds\n",
      "convergence after 16 epochs took 0 seconds\n"
     ]
    },
    {
     "name": "stderr",
     "output_type": "stream",
     "text": [
      "[Parallel(n_jobs=-1)]: Done   1 out of   1 | elapsed:    0.2s finished\n",
      "[Parallel(n_jobs=-1)]: Using backend ThreadingBackend with 4 concurrent workers.\n",
      "[Parallel(n_jobs=-1)]: Done   1 out of   1 | elapsed:    0.0s finished\n",
      "[Parallel(n_jobs=-1)]: Using backend ThreadingBackend with 4 concurrent workers.\n"
     ]
    },
    {
     "name": "stdout",
     "output_type": "stream",
     "text": [
      "convergence after 16 epochs took 0 seconds\n"
     ]
    },
    {
     "name": "stderr",
     "output_type": "stream",
     "text": [
      "[Parallel(n_jobs=-1)]: Done   1 out of   1 | elapsed:    0.0s finished\n",
      "[Parallel(n_jobs=-1)]: Using backend ThreadingBackend with 4 concurrent workers.\n"
     ]
    },
    {
     "name": "stdout",
     "output_type": "stream",
     "text": [
      "convergence after 16 epochs took 0 seconds\n",
      "convergence after 16 epochs took 0 seconds\n"
     ]
    },
    {
     "name": "stderr",
     "output_type": "stream",
     "text": [
      "[Parallel(n_jobs=-1)]: Done   1 out of   1 | elapsed:    0.1s finished\n",
      "[Parallel(n_jobs=-1)]: Using backend ThreadingBackend with 4 concurrent workers.\n",
      "[Parallel(n_jobs=-1)]: Done   1 out of   1 | elapsed:    0.0s finished\n",
      "[Parallel(n_jobs=-1)]: Using backend ThreadingBackend with 4 concurrent workers.\n"
     ]
    },
    {
     "name": "stdout",
     "output_type": "stream",
     "text": [
      "convergence after 16 epochs took 0 seconds\n"
     ]
    },
    {
     "name": "stderr",
     "output_type": "stream",
     "text": [
      "[Parallel(n_jobs=-1)]: Done   1 out of   1 | elapsed:    0.0s finished\n",
      "[Parallel(n_jobs=-1)]: Using backend ThreadingBackend with 4 concurrent workers.\n"
     ]
    },
    {
     "name": "stdout",
     "output_type": "stream",
     "text": [
      "convergence after 38 epochs took 1 seconds\n"
     ]
    },
    {
     "name": "stderr",
     "output_type": "stream",
     "text": [
      "[Parallel(n_jobs=-1)]: Done   1 out of   1 | elapsed:    0.3s finished\n",
      "[Parallel(n_jobs=-1)]: Using backend ThreadingBackend with 4 concurrent workers.\n"
     ]
    },
    {
     "name": "stdout",
     "output_type": "stream",
     "text": [
      "convergence after 16 epochs took 0 seconds\n",
      "convergence after 16 epochs took 0 seconds\n"
     ]
    },
    {
     "name": "stderr",
     "output_type": "stream",
     "text": [
      "[Parallel(n_jobs=-1)]: Done   1 out of   1 | elapsed:    0.3s finished\n",
      "[Parallel(n_jobs=-1)]: Using backend ThreadingBackend with 4 concurrent workers.\n",
      "[Parallel(n_jobs=-1)]: Done   1 out of   1 | elapsed:    0.0s finished\n",
      "[Parallel(n_jobs=-1)]: Using backend ThreadingBackend with 4 concurrent workers.\n"
     ]
    },
    {
     "name": "stdout",
     "output_type": "stream",
     "text": [
      "convergence after 16 epochs took 1 seconds\n"
     ]
    },
    {
     "name": "stderr",
     "output_type": "stream",
     "text": [
      "[Parallel(n_jobs=-1)]: Done   1 out of   1 | elapsed:    0.1s finished\n",
      "[Parallel(n_jobs=-1)]: Using backend ThreadingBackend with 4 concurrent workers.\n"
     ]
    },
    {
     "name": "stdout",
     "output_type": "stream",
     "text": [
      "convergence after 16 epochs took 0 seconds\n"
     ]
    },
    {
     "name": "stderr",
     "output_type": "stream",
     "text": [
      "[Parallel(n_jobs=-1)]: Done   1 out of   1 | elapsed:    0.0s finished\n",
      "[Parallel(n_jobs=-1)]: Using backend ThreadingBackend with 4 concurrent workers.\n"
     ]
    },
    {
     "name": "stdout",
     "output_type": "stream",
     "text": [
      "convergence after 16 epochs took 0 seconds\n"
     ]
    },
    {
     "name": "stderr",
     "output_type": "stream",
     "text": [
      "[Parallel(n_jobs=-1)]: Done   1 out of   1 | elapsed:    0.1s finished\n",
      "[Parallel(n_jobs=-1)]: Using backend ThreadingBackend with 4 concurrent workers.\n"
     ]
    },
    {
     "name": "stdout",
     "output_type": "stream",
     "text": [
      "convergence after 24 epochs took 1 seconds\n"
     ]
    },
    {
     "name": "stderr",
     "output_type": "stream",
     "text": [
      "[Parallel(n_jobs=-1)]: Done   1 out of   1 | elapsed:    0.2s finished\n",
      "[Parallel(n_jobs=-1)]: Using backend ThreadingBackend with 4 concurrent workers.\n"
     ]
    },
    {
     "name": "stdout",
     "output_type": "stream",
     "text": [
      "convergence after 16 epochs took 0 seconds\n",
      "convergence after 17 epochs took 0 seconds\n"
     ]
    },
    {
     "name": "stderr",
     "output_type": "stream",
     "text": [
      "[Parallel(n_jobs=-1)]: Done   1 out of   1 | elapsed:    0.2s finished\n",
      "[Parallel(n_jobs=-1)]: Using backend ThreadingBackend with 4 concurrent workers.\n",
      "[Parallel(n_jobs=-1)]: Done   1 out of   1 | elapsed:    0.0s finished\n",
      "[Parallel(n_jobs=-1)]: Using backend ThreadingBackend with 4 concurrent workers.\n",
      "[Parallel(n_jobs=-1)]: Done   1 out of   1 | elapsed:    0.0s finished\n"
     ]
    },
    {
     "name": "stdout",
     "output_type": "stream",
     "text": [
      "convergence after 16 epochs took 0 seconds\n"
     ]
    },
    {
     "name": "stderr",
     "output_type": "stream",
     "text": [
      "[Parallel(n_jobs=-1)]: Using backend ThreadingBackend with 4 concurrent workers.\n"
     ]
    },
    {
     "name": "stdout",
     "output_type": "stream",
     "text": [
      "convergence after 16 epochs took 0 seconds\n",
      "convergence after 16 epochs took 0 seconds\n"
     ]
    },
    {
     "name": "stderr",
     "output_type": "stream",
     "text": [
      "[Parallel(n_jobs=-1)]: Done   1 out of   1 | elapsed:    0.2s finished\n",
      "[Parallel(n_jobs=-1)]: Using backend ThreadingBackend with 4 concurrent workers.\n",
      "[Parallel(n_jobs=-1)]: Done   1 out of   1 | elapsed:    0.0s finished\n",
      "[Parallel(n_jobs=-1)]: Using backend ThreadingBackend with 4 concurrent workers.\n",
      "[Parallel(n_jobs=-1)]: Done   1 out of   1 | elapsed:    0.0s finished\n"
     ]
    },
    {
     "name": "stdout",
     "output_type": "stream",
     "text": [
      "convergence after 16 epochs took 0 seconds\n"
     ]
    },
    {
     "name": "stderr",
     "output_type": "stream",
     "text": [
      "[Parallel(n_jobs=-1)]: Using backend ThreadingBackend with 4 concurrent workers.\n"
     ]
    },
    {
     "name": "stdout",
     "output_type": "stream",
     "text": [
      "convergence after 43 epochs took 0 seconds\n"
     ]
    },
    {
     "name": "stderr",
     "output_type": "stream",
     "text": [
      "[Parallel(n_jobs=-1)]: Done   1 out of   1 | elapsed:    0.3s finished\n",
      "[Parallel(n_jobs=-1)]: Using backend ThreadingBackend with 4 concurrent workers.\n"
     ]
    },
    {
     "name": "stdout",
     "output_type": "stream",
     "text": [
      "convergence after 37 epochs took 0 seconds\n"
     ]
    },
    {
     "name": "stderr",
     "output_type": "stream",
     "text": [
      "[Parallel(n_jobs=-1)]: Done   1 out of   1 | elapsed:    0.3s finished\n",
      "[Parallel(n_jobs=-1)]: Using backend ThreadingBackend with 4 concurrent workers.\n"
     ]
    },
    {
     "name": "stdout",
     "output_type": "stream",
     "text": [
      "convergence after 40 epochs took 1 seconds\n"
     ]
    },
    {
     "name": "stderr",
     "output_type": "stream",
     "text": [
      "[Parallel(n_jobs=-1)]: Done   1 out of   1 | elapsed:    0.4s finished\n",
      "[Parallel(n_jobs=-1)]: Using backend ThreadingBackend with 4 concurrent workers.\n"
     ]
    },
    {
     "name": "stdout",
     "output_type": "stream",
     "text": [
      "convergence after 36 epochs took 0 seconds\n"
     ]
    },
    {
     "name": "stderr",
     "output_type": "stream",
     "text": [
      "[Parallel(n_jobs=-1)]: Done   1 out of   1 | elapsed:    0.5s finished\n",
      "[Parallel(n_jobs=-1)]: Using backend ThreadingBackend with 4 concurrent workers.\n"
     ]
    },
    {
     "name": "stdout",
     "output_type": "stream",
     "text": [
      "convergence after 37 epochs took 0 seconds\n"
     ]
    },
    {
     "name": "stderr",
     "output_type": "stream",
     "text": [
      "[Parallel(n_jobs=-1)]: Done   1 out of   1 | elapsed:    0.2s finished\n",
      "[Parallel(n_jobs=-1)]: Using backend ThreadingBackend with 4 concurrent workers.\n"
     ]
    },
    {
     "name": "stdout",
     "output_type": "stream",
     "text": [
      "convergence after 38 epochs took 0 seconds\n"
     ]
    },
    {
     "name": "stderr",
     "output_type": "stream",
     "text": [
      "[Parallel(n_jobs=-1)]: Done   1 out of   1 | elapsed:    0.4s finished\n",
      "[Parallel(n_jobs=-1)]: Using backend ThreadingBackend with 4 concurrent workers.\n"
     ]
    },
    {
     "name": "stdout",
     "output_type": "stream",
     "text": [
      "convergence after 38 epochs took 1 seconds\n"
     ]
    },
    {
     "name": "stderr",
     "output_type": "stream",
     "text": [
      "[Parallel(n_jobs=-1)]: Done   1 out of   1 | elapsed:    0.4s finished\n",
      "[Parallel(n_jobs=-1)]: Using backend ThreadingBackend with 4 concurrent workers.\n"
     ]
    },
    {
     "name": "stdout",
     "output_type": "stream",
     "text": [
      "convergence after 38 epochs took 0 seconds\n"
     ]
    },
    {
     "name": "stderr",
     "output_type": "stream",
     "text": [
      "[Parallel(n_jobs=-1)]: Done   1 out of   1 | elapsed:    0.2s finished\n",
      "[Parallel(n_jobs=-1)]: Using backend ThreadingBackend with 4 concurrent workers.\n"
     ]
    },
    {
     "name": "stdout",
     "output_type": "stream",
     "text": [
      "convergence after 40 epochs took 0 seconds\n"
     ]
    },
    {
     "name": "stderr",
     "output_type": "stream",
     "text": [
      "[Parallel(n_jobs=-1)]: Done   1 out of   1 | elapsed:    0.3s finished\n",
      "[Parallel(n_jobs=-1)]: Using backend ThreadingBackend with 4 concurrent workers.\n"
     ]
    },
    {
     "name": "stdout",
     "output_type": "stream",
     "text": [
      "convergence after 25 epochs took 1 seconds\n"
     ]
    },
    {
     "name": "stderr",
     "output_type": "stream",
     "text": [
      "[Parallel(n_jobs=-1)]: Done   1 out of   1 | elapsed:    0.3s finished\n",
      "[Parallel(n_jobs=-1)]: Using backend ThreadingBackend with 4 concurrent workers.\n"
     ]
    },
    {
     "name": "stdout",
     "output_type": "stream",
     "text": [
      "convergence after 38 epochs took 0 seconds\n"
     ]
    },
    {
     "name": "stderr",
     "output_type": "stream",
     "text": [
      "[Parallel(n_jobs=-1)]: Done   1 out of   1 | elapsed:    0.4s finished\n",
      "[Parallel(n_jobs=-1)]: Using backend ThreadingBackend with 4 concurrent workers.\n"
     ]
    },
    {
     "name": "stdout",
     "output_type": "stream",
     "text": [
      "convergence after 37 epochs took 1 seconds\n"
     ]
    },
    {
     "name": "stderr",
     "output_type": "stream",
     "text": [
      "[Parallel(n_jobs=-1)]: Done   1 out of   1 | elapsed:    0.3s finished\n",
      "[Parallel(n_jobs=-1)]: Using backend ThreadingBackend with 4 concurrent workers.\n"
     ]
    },
    {
     "name": "stdout",
     "output_type": "stream",
     "text": [
      "convergence after 38 epochs took 0 seconds\n"
     ]
    },
    {
     "name": "stderr",
     "output_type": "stream",
     "text": [
      "[Parallel(n_jobs=-1)]: Done   1 out of   1 | elapsed:    0.3s finished\n",
      "[Parallel(n_jobs=-1)]: Using backend ThreadingBackend with 4 concurrent workers.\n"
     ]
    },
    {
     "name": "stdout",
     "output_type": "stream",
     "text": [
      "convergence after 36 epochs took 1 seconds\n"
     ]
    },
    {
     "name": "stderr",
     "output_type": "stream",
     "text": [
      "[Parallel(n_jobs=-1)]: Done   1 out of   1 | elapsed:    0.3s finished\n",
      "[Parallel(n_jobs=-1)]: Using backend ThreadingBackend with 4 concurrent workers.\n"
     ]
    },
    {
     "name": "stdout",
     "output_type": "stream",
     "text": [
      "convergence after 38 epochs took 0 seconds\n"
     ]
    },
    {
     "name": "stderr",
     "output_type": "stream",
     "text": [
      "[Parallel(n_jobs=-1)]: Done   1 out of   1 | elapsed:    0.4s finished\n",
      "[Parallel(n_jobs=-1)]: Using backend ThreadingBackend with 4 concurrent workers.\n"
     ]
    },
    {
     "name": "stdout",
     "output_type": "stream",
     "text": [
      "convergence after 36 epochs took 1 seconds\n"
     ]
    },
    {
     "name": "stderr",
     "output_type": "stream",
     "text": [
      "[Parallel(n_jobs=-1)]: Done   1 out of   1 | elapsed:    0.4s finished\n",
      "[Parallel(n_jobs=-1)]: Using backend ThreadingBackend with 4 concurrent workers.\n"
     ]
    },
    {
     "name": "stdout",
     "output_type": "stream",
     "text": [
      "convergence after 38 epochs took 0 seconds\n"
     ]
    },
    {
     "name": "stderr",
     "output_type": "stream",
     "text": [
      "[Parallel(n_jobs=-1)]: Done   1 out of   1 | elapsed:    0.4s finished\n",
      "[Parallel(n_jobs=-1)]: Using backend ThreadingBackend with 4 concurrent workers.\n"
     ]
    },
    {
     "name": "stdout",
     "output_type": "stream",
     "text": [
      "convergence after 35 epochs took 1 seconds\n"
     ]
    },
    {
     "name": "stderr",
     "output_type": "stream",
     "text": [
      "[Parallel(n_jobs=-1)]: Done   1 out of   1 | elapsed:    0.5s finished\n",
      "[Parallel(n_jobs=-1)]: Using backend ThreadingBackend with 4 concurrent workers.\n"
     ]
    },
    {
     "name": "stdout",
     "output_type": "stream",
     "text": [
      "convergence after 37 epochs took 1 seconds\n"
     ]
    },
    {
     "name": "stderr",
     "output_type": "stream",
     "text": [
      "[Parallel(n_jobs=-1)]: Done   1 out of   1 | elapsed:    0.5s finished\n",
      "[Parallel(n_jobs=-1)]: Using backend ThreadingBackend with 4 concurrent workers.\n"
     ]
    },
    {
     "name": "stdout",
     "output_type": "stream",
     "text": [
      "convergence after 36 epochs took 0 seconds\n"
     ]
    },
    {
     "name": "stderr",
     "output_type": "stream",
     "text": [
      "[Parallel(n_jobs=-1)]: Done   1 out of   1 | elapsed:    0.4s finished\n",
      "[Parallel(n_jobs=-1)]: Using backend ThreadingBackend with 4 concurrent workers.\n"
     ]
    },
    {
     "name": "stdout",
     "output_type": "stream",
     "text": [
      "convergence after 40 epochs took 1 seconds\n"
     ]
    },
    {
     "name": "stderr",
     "output_type": "stream",
     "text": [
      "[Parallel(n_jobs=-1)]: Done   1 out of   1 | elapsed:    0.4s finished\n",
      "[Parallel(n_jobs=-1)]: Using backend ThreadingBackend with 4 concurrent workers.\n"
     ]
    },
    {
     "name": "stdout",
     "output_type": "stream",
     "text": [
      "convergence after 37 epochs took 0 seconds\n"
     ]
    },
    {
     "name": "stderr",
     "output_type": "stream",
     "text": [
      "[Parallel(n_jobs=-1)]: Done   1 out of   1 | elapsed:    0.1s finished\n",
      "[Parallel(n_jobs=-1)]: Using backend ThreadingBackend with 4 concurrent workers.\n"
     ]
    },
    {
     "name": "stdout",
     "output_type": "stream",
     "text": [
      "convergence after 37 epochs took 1 seconds\n"
     ]
    },
    {
     "name": "stderr",
     "output_type": "stream",
     "text": [
      "[Parallel(n_jobs=-1)]: Done   1 out of   1 | elapsed:    0.4s finished\n",
      "[Parallel(n_jobs=-1)]: Using backend ThreadingBackend with 4 concurrent workers.\n"
     ]
    },
    {
     "name": "stdout",
     "output_type": "stream",
     "text": [
      "convergence after 38 epochs took 0 seconds\n"
     ]
    },
    {
     "name": "stderr",
     "output_type": "stream",
     "text": [
      "[Parallel(n_jobs=-1)]: Done   1 out of   1 | elapsed:    0.5s finished\n",
      "[Parallel(n_jobs=-1)]: Using backend ThreadingBackend with 4 concurrent workers.\n"
     ]
    },
    {
     "name": "stdout",
     "output_type": "stream",
     "text": [
      "convergence after 40 epochs took 1 seconds\n"
     ]
    },
    {
     "name": "stderr",
     "output_type": "stream",
     "text": [
      "[Parallel(n_jobs=-1)]: Done   1 out of   1 | elapsed:    0.4s finished\n",
      "[Parallel(n_jobs=-1)]: Using backend ThreadingBackend with 4 concurrent workers.\n"
     ]
    },
    {
     "name": "stdout",
     "output_type": "stream",
     "text": [
      "convergence after 38 epochs took 0 seconds\n"
     ]
    },
    {
     "name": "stderr",
     "output_type": "stream",
     "text": [
      "[Parallel(n_jobs=-1)]: Done   1 out of   1 | elapsed:    0.2s finished\n",
      "[Parallel(n_jobs=-1)]: Using backend ThreadingBackend with 4 concurrent workers.\n"
     ]
    },
    {
     "name": "stdout",
     "output_type": "stream",
     "text": [
      "convergence after 42 epochs took 1 seconds\n"
     ]
    },
    {
     "name": "stderr",
     "output_type": "stream",
     "text": [
      "[Parallel(n_jobs=-1)]: Done   1 out of   1 | elapsed:    0.3s finished\n",
      "[Parallel(n_jobs=-1)]: Using backend ThreadingBackend with 4 concurrent workers.\n"
     ]
    },
    {
     "name": "stdout",
     "output_type": "stream",
     "text": [
      "convergence after 37 epochs took 0 seconds\n"
     ]
    },
    {
     "name": "stderr",
     "output_type": "stream",
     "text": [
      "[Parallel(n_jobs=-1)]: Done   1 out of   1 | elapsed:    0.4s finished\n",
      "[Parallel(n_jobs=-1)]: Using backend ThreadingBackend with 4 concurrent workers.\n"
     ]
    },
    {
     "name": "stdout",
     "output_type": "stream",
     "text": [
      "convergence after 40 epochs took 1 seconds\n"
     ]
    },
    {
     "name": "stderr",
     "output_type": "stream",
     "text": [
      "[Parallel(n_jobs=-1)]: Done   1 out of   1 | elapsed:    0.4s finished\n",
      "[Parallel(n_jobs=-1)]: Using backend ThreadingBackend with 4 concurrent workers.\n"
     ]
    },
    {
     "name": "stdout",
     "output_type": "stream",
     "text": [
      "convergence after 37 epochs took 0 seconds\n"
     ]
    },
    {
     "name": "stderr",
     "output_type": "stream",
     "text": [
      "[Parallel(n_jobs=-1)]: Done   1 out of   1 | elapsed:    0.3s finished\n",
      "[Parallel(n_jobs=-1)]: Using backend ThreadingBackend with 4 concurrent workers.\n"
     ]
    },
    {
     "name": "stdout",
     "output_type": "stream",
     "text": [
      "convergence after 38 epochs took 1 seconds\n"
     ]
    },
    {
     "name": "stderr",
     "output_type": "stream",
     "text": [
      "[Parallel(n_jobs=-1)]: Done   1 out of   1 | elapsed:    0.4s finished\n",
      "[Parallel(n_jobs=-1)]: Using backend ThreadingBackend with 4 concurrent workers.\n"
     ]
    },
    {
     "name": "stdout",
     "output_type": "stream",
     "text": [
      "convergence after 38 epochs took 0 seconds\n"
     ]
    },
    {
     "name": "stderr",
     "output_type": "stream",
     "text": [
      "[Parallel(n_jobs=-1)]: Done   1 out of   1 | elapsed:    0.3s finished\n",
      "[Parallel(n_jobs=-1)]: Using backend ThreadingBackend with 4 concurrent workers.\n"
     ]
    },
    {
     "name": "stdout",
     "output_type": "stream",
     "text": [
      "convergence after 38 epochs took 1 seconds\n"
     ]
    },
    {
     "name": "stderr",
     "output_type": "stream",
     "text": [
      "[Parallel(n_jobs=-1)]: Done   1 out of   1 | elapsed:    0.4s finished\n",
      "[Parallel(n_jobs=-1)]: Using backend ThreadingBackend with 4 concurrent workers.\n"
     ]
    },
    {
     "name": "stdout",
     "output_type": "stream",
     "text": [
      "convergence after 38 epochs took 0 seconds\n"
     ]
    },
    {
     "name": "stderr",
     "output_type": "stream",
     "text": [
      "[Parallel(n_jobs=-1)]: Done   1 out of   1 | elapsed:    0.5s finished\n",
      "[Parallel(n_jobs=-1)]: Using backend ThreadingBackend with 4 concurrent workers.\n"
     ]
    },
    {
     "name": "stdout",
     "output_type": "stream",
     "text": [
      "convergence after 40 epochs took 1 seconds\n"
     ]
    },
    {
     "name": "stderr",
     "output_type": "stream",
     "text": [
      "[Parallel(n_jobs=-1)]: Done   1 out of   1 | elapsed:    0.4s finished\n",
      "[Parallel(n_jobs=-1)]: Using backend ThreadingBackend with 4 concurrent workers.\n"
     ]
    },
    {
     "name": "stdout",
     "output_type": "stream",
     "text": [
      "convergence after 23 epochs took 0 seconds\n"
     ]
    },
    {
     "name": "stderr",
     "output_type": "stream",
     "text": [
      "[Parallel(n_jobs=-1)]: Done   1 out of   1 | elapsed:    0.2s finished\n",
      "[Parallel(n_jobs=-1)]: Using backend ThreadingBackend with 4 concurrent workers.\n"
     ]
    },
    {
     "name": "stdout",
     "output_type": "stream",
     "text": [
      "convergence after 38 epochs took 1 seconds\n"
     ]
    },
    {
     "name": "stderr",
     "output_type": "stream",
     "text": [
      "[Parallel(n_jobs=-1)]: Done   1 out of   1 | elapsed:    0.4s finished\n",
      "[Parallel(n_jobs=-1)]: Using backend ThreadingBackend with 4 concurrent workers.\n"
     ]
    },
    {
     "name": "stdout",
     "output_type": "stream",
     "text": [
      "convergence after 37 epochs took 0 seconds\n"
     ]
    },
    {
     "name": "stderr",
     "output_type": "stream",
     "text": [
      "[Parallel(n_jobs=-1)]: Done   1 out of   1 | elapsed:    0.3s finished\n",
      "[Parallel(n_jobs=-1)]: Using backend ThreadingBackend with 4 concurrent workers.\n"
     ]
    },
    {
     "name": "stdout",
     "output_type": "stream",
     "text": [
      "convergence after 38 epochs took 1 seconds\n"
     ]
    },
    {
     "name": "stderr",
     "output_type": "stream",
     "text": [
      "[Parallel(n_jobs=-1)]: Done   1 out of   1 | elapsed:    0.3s finished\n",
      "[Parallel(n_jobs=-1)]: Using backend ThreadingBackend with 4 concurrent workers.\n"
     ]
    },
    {
     "name": "stdout",
     "output_type": "stream",
     "text": [
      "convergence after 37 epochs took 0 seconds\n"
     ]
    },
    {
     "name": "stderr",
     "output_type": "stream",
     "text": [
      "[Parallel(n_jobs=-1)]: Done   1 out of   1 | elapsed:    0.4s finished\n",
      "[Parallel(n_jobs=-1)]: Using backend ThreadingBackend with 4 concurrent workers.\n"
     ]
    },
    {
     "name": "stdout",
     "output_type": "stream",
     "text": [
      "convergence after 36 epochs took 1 seconds\n"
     ]
    },
    {
     "name": "stderr",
     "output_type": "stream",
     "text": [
      "[Parallel(n_jobs=-1)]: Done   1 out of   1 | elapsed:    0.2s finished\n",
      "[Parallel(n_jobs=-1)]: Using backend ThreadingBackend with 4 concurrent workers.\n"
     ]
    },
    {
     "name": "stdout",
     "output_type": "stream",
     "text": [
      "convergence after 38 epochs took 0 seconds\n"
     ]
    },
    {
     "name": "stderr",
     "output_type": "stream",
     "text": [
      "[Parallel(n_jobs=-1)]: Done   1 out of   1 | elapsed:    0.4s finished\n",
      "[Parallel(n_jobs=-1)]: Using backend ThreadingBackend with 4 concurrent workers.\n"
     ]
    },
    {
     "name": "stdout",
     "output_type": "stream",
     "text": [
      "convergence after 36 epochs took 1 seconds\n"
     ]
    },
    {
     "name": "stderr",
     "output_type": "stream",
     "text": [
      "[Parallel(n_jobs=-1)]: Done   1 out of   1 | elapsed:    0.4s finished\n",
      "[Parallel(n_jobs=-1)]: Using backend ThreadingBackend with 4 concurrent workers.\n"
     ]
    },
    {
     "name": "stdout",
     "output_type": "stream",
     "text": [
      "convergence after 38 epochs took 0 seconds\n"
     ]
    },
    {
     "name": "stderr",
     "output_type": "stream",
     "text": [
      "[Parallel(n_jobs=-1)]: Done   1 out of   1 | elapsed:    0.3s finished\n",
      "[Parallel(n_jobs=-1)]: Using backend ThreadingBackend with 4 concurrent workers.\n"
     ]
    },
    {
     "name": "stdout",
     "output_type": "stream",
     "text": [
      "convergence after 37 epochs took 1 seconds\n"
     ]
    },
    {
     "name": "stderr",
     "output_type": "stream",
     "text": [
      "[Parallel(n_jobs=-1)]: Done   1 out of   1 | elapsed:    0.4s finished\n",
      "[Parallel(n_jobs=-1)]: Using backend ThreadingBackend with 4 concurrent workers.\n"
     ]
    },
    {
     "name": "stdout",
     "output_type": "stream",
     "text": [
      "convergence after 40 epochs took 0 seconds\n"
     ]
    },
    {
     "name": "stderr",
     "output_type": "stream",
     "text": [
      "[Parallel(n_jobs=-1)]: Done   1 out of   1 | elapsed:    0.2s finished\n",
      "[Parallel(n_jobs=-1)]: Using backend ThreadingBackend with 4 concurrent workers.\n"
     ]
    },
    {
     "name": "stdout",
     "output_type": "stream",
     "text": [
      "convergence after 38 epochs took 1 seconds\n"
     ]
    },
    {
     "name": "stderr",
     "output_type": "stream",
     "text": [
      "[Parallel(n_jobs=-1)]: Done   1 out of   1 | elapsed:    0.3s finished\n",
      "[Parallel(n_jobs=-1)]: Using backend ThreadingBackend with 4 concurrent workers.\n"
     ]
    },
    {
     "name": "stdout",
     "output_type": "stream",
     "text": [
      "convergence after 38 epochs took 0 seconds\n"
     ]
    },
    {
     "name": "stderr",
     "output_type": "stream",
     "text": [
      "[Parallel(n_jobs=-1)]: Done   1 out of   1 | elapsed:    0.4s finished\n",
      "[Parallel(n_jobs=-1)]: Using backend ThreadingBackend with 4 concurrent workers.\n"
     ]
    },
    {
     "name": "stdout",
     "output_type": "stream",
     "text": [
      "convergence after 38 epochs took 1 seconds\n"
     ]
    },
    {
     "name": "stderr",
     "output_type": "stream",
     "text": [
      "[Parallel(n_jobs=-1)]: Done   1 out of   1 | elapsed:    0.4s finished\n",
      "[Parallel(n_jobs=-1)]: Using backend ThreadingBackend with 4 concurrent workers.\n"
     ]
    },
    {
     "name": "stdout",
     "output_type": "stream",
     "text": [
      "convergence after 40 epochs took 0 seconds\n"
     ]
    },
    {
     "name": "stderr",
     "output_type": "stream",
     "text": [
      "[Parallel(n_jobs=-1)]: Done   1 out of   1 | elapsed:    0.6s finished\n",
      "[Parallel(n_jobs=-1)]: Using backend ThreadingBackend with 4 concurrent workers.\n"
     ]
    },
    {
     "name": "stdout",
     "output_type": "stream",
     "text": [
      "convergence after 38 epochs took 0 seconds\n"
     ]
    },
    {
     "name": "stderr",
     "output_type": "stream",
     "text": [
      "[Parallel(n_jobs=-1)]: Done   1 out of   1 | elapsed:    0.7s finished\n",
      "[Parallel(n_jobs=-1)]: Using backend ThreadingBackend with 4 concurrent workers.\n"
     ]
    },
    {
     "name": "stdout",
     "output_type": "stream",
     "text": [
      "convergence after 42 epochs took 1 seconds\n"
     ]
    },
    {
     "name": "stderr",
     "output_type": "stream",
     "text": [
      "[Parallel(n_jobs=-1)]: Done   1 out of   1 | elapsed:    0.6s finished\n",
      "[Parallel(n_jobs=-1)]: Using backend ThreadingBackend with 4 concurrent workers.\n"
     ]
    },
    {
     "name": "stdout",
     "output_type": "stream",
     "text": [
      "convergence after 37 epochs took 1 seconds\n"
     ]
    },
    {
     "name": "stderr",
     "output_type": "stream",
     "text": [
      "[Parallel(n_jobs=-1)]: Done   1 out of   1 | elapsed:    0.4s finished\n",
      "[Parallel(n_jobs=-1)]: Using backend ThreadingBackend with 4 concurrent workers.\n"
     ]
    },
    {
     "name": "stdout",
     "output_type": "stream",
     "text": [
      "convergence after 40 epochs took 0 seconds\n"
     ]
    },
    {
     "name": "stderr",
     "output_type": "stream",
     "text": [
      "[Parallel(n_jobs=-1)]: Done   1 out of   1 | elapsed:    0.3s finished\n",
      "[Parallel(n_jobs=-1)]: Using backend ThreadingBackend with 4 concurrent workers.\n"
     ]
    },
    {
     "name": "stdout",
     "output_type": "stream",
     "text": [
      "convergence after 36 epochs took 1 seconds\n"
     ]
    },
    {
     "name": "stderr",
     "output_type": "stream",
     "text": [
      "[Parallel(n_jobs=-1)]: Done   1 out of   1 | elapsed:    0.3s finished\n",
      "[Parallel(n_jobs=-1)]: Using backend ThreadingBackend with 4 concurrent workers.\n"
     ]
    },
    {
     "name": "stdout",
     "output_type": "stream",
     "text": [
      "convergence after 38 epochs took 0 seconds\n"
     ]
    },
    {
     "name": "stderr",
     "output_type": "stream",
     "text": [
      "[Parallel(n_jobs=-1)]: Done   1 out of   1 | elapsed:    0.5s finished\n",
      "[Parallel(n_jobs=-1)]: Using backend ThreadingBackend with 4 concurrent workers.\n"
     ]
    },
    {
     "name": "stdout",
     "output_type": "stream",
     "text": [
      "convergence after 38 epochs took 1 seconds\n"
     ]
    },
    {
     "name": "stderr",
     "output_type": "stream",
     "text": [
      "[Parallel(n_jobs=-1)]: Done   1 out of   1 | elapsed:    0.5s finished\n",
      "[Parallel(n_jobs=-1)]: Using backend ThreadingBackend with 4 concurrent workers.\n"
     ]
    },
    {
     "name": "stdout",
     "output_type": "stream",
     "text": [
      "convergence after 38 epochs took 1 seconds\n"
     ]
    },
    {
     "name": "stderr",
     "output_type": "stream",
     "text": [
      "[Parallel(n_jobs=-1)]: Done   1 out of   1 | elapsed:    0.5s finished\n",
      "[Parallel(n_jobs=-1)]: Using backend ThreadingBackend with 4 concurrent workers.\n"
     ]
    },
    {
     "name": "stdout",
     "output_type": "stream",
     "text": [
      "convergence after 38 epochs took 0 seconds\n"
     ]
    },
    {
     "name": "stderr",
     "output_type": "stream",
     "text": [
      "[Parallel(n_jobs=-1)]: Done   1 out of   1 | elapsed:    0.6s finished\n",
      "[Parallel(n_jobs=-1)]: Using backend ThreadingBackend with 4 concurrent workers.\n"
     ]
    },
    {
     "name": "stdout",
     "output_type": "stream",
     "text": [
      "convergence after 40 epochs took 1 seconds\n"
     ]
    },
    {
     "name": "stderr",
     "output_type": "stream",
     "text": [
      "[Parallel(n_jobs=-1)]: Done   1 out of   1 | elapsed:    0.5s finished\n",
      "[Parallel(n_jobs=-1)]: Using backend ThreadingBackend with 4 concurrent workers.\n"
     ]
    },
    {
     "name": "stdout",
     "output_type": "stream",
     "text": [
      "convergence after 23 epochs took 0 seconds\n"
     ]
    },
    {
     "name": "stderr",
     "output_type": "stream",
     "text": [
      "[Parallel(n_jobs=-1)]: Done   1 out of   1 | elapsed:    0.1s finished\n",
      "[Parallel(n_jobs=-1)]: Using backend ThreadingBackend with 4 concurrent workers.\n"
     ]
    },
    {
     "name": "stdout",
     "output_type": "stream",
     "text": [
      "convergence after 38 epochs took 1 seconds\n"
     ]
    },
    {
     "name": "stderr",
     "output_type": "stream",
     "text": [
      "[Parallel(n_jobs=-1)]: Done   1 out of   1 | elapsed:    0.5s finished\n",
      "[Parallel(n_jobs=-1)]: Using backend ThreadingBackend with 4 concurrent workers.\n"
     ]
    },
    {
     "name": "stdout",
     "output_type": "stream",
     "text": [
      "convergence after 37 epochs took 0 seconds\n"
     ]
    },
    {
     "name": "stderr",
     "output_type": "stream",
     "text": [
      "[Parallel(n_jobs=-1)]: Done   1 out of   1 | elapsed:    0.5s finished\n",
      "[Parallel(n_jobs=-1)]: Using backend ThreadingBackend with 4 concurrent workers.\n"
     ]
    },
    {
     "name": "stdout",
     "output_type": "stream",
     "text": [
      "convergence after 38 epochs took 0 seconds\n"
     ]
    },
    {
     "name": "stderr",
     "output_type": "stream",
     "text": [
      "[Parallel(n_jobs=-1)]: Done   1 out of   1 | elapsed:    0.5s finished\n",
      "[Parallel(n_jobs=-1)]: Using backend ThreadingBackend with 4 concurrent workers.\n"
     ]
    },
    {
     "name": "stdout",
     "output_type": "stream",
     "text": [
      "convergence after 36 epochs took 1 seconds\n"
     ]
    },
    {
     "name": "stderr",
     "output_type": "stream",
     "text": [
      "[Parallel(n_jobs=-1)]: Done   1 out of   1 | elapsed:    0.5s finished\n",
      "[Parallel(n_jobs=-1)]: Using backend ThreadingBackend with 4 concurrent workers.\n"
     ]
    },
    {
     "name": "stdout",
     "output_type": "stream",
     "text": [
      "convergence after 36 epochs took 0 seconds\n"
     ]
    },
    {
     "name": "stderr",
     "output_type": "stream",
     "text": [
      "[Parallel(n_jobs=-1)]: Done   1 out of   1 | elapsed:    0.4s finished\n",
      "[Parallel(n_jobs=-1)]: Using backend ThreadingBackend with 4 concurrent workers.\n"
     ]
    },
    {
     "name": "stdout",
     "output_type": "stream",
     "text": [
      "convergence after 38 epochs took 1 seconds\n"
     ]
    },
    {
     "name": "stderr",
     "output_type": "stream",
     "text": [
      "[Parallel(n_jobs=-1)]: Done   1 out of   1 | elapsed:    0.3s finished\n",
      "[Parallel(n_jobs=-1)]: Using backend ThreadingBackend with 4 concurrent workers.\n"
     ]
    },
    {
     "name": "stdout",
     "output_type": "stream",
     "text": [
      "convergence after 35 epochs took 0 seconds\n"
     ]
    },
    {
     "name": "stderr",
     "output_type": "stream",
     "text": [
      "[Parallel(n_jobs=-1)]: Done   1 out of   1 | elapsed:    0.4s finished\n",
      "[Parallel(n_jobs=-1)]: Using backend ThreadingBackend with 4 concurrent workers.\n"
     ]
    },
    {
     "name": "stdout",
     "output_type": "stream",
     "text": [
      "convergence after 37 epochs took 1 seconds\n"
     ]
    },
    {
     "name": "stderr",
     "output_type": "stream",
     "text": [
      "[Parallel(n_jobs=-1)]: Done   1 out of   1 | elapsed:    0.5s finished\n",
      "[Parallel(n_jobs=-1)]: Using backend ThreadingBackend with 4 concurrent workers.\n"
     ]
    },
    {
     "name": "stdout",
     "output_type": "stream",
     "text": [
      "convergence after 40 epochs took 1 seconds\n"
     ]
    },
    {
     "name": "stderr",
     "output_type": "stream",
     "text": [
      "[Parallel(n_jobs=-1)]: Done   1 out of   1 | elapsed:    0.5s finished\n",
      "[Parallel(n_jobs=-1)]: Using backend ThreadingBackend with 4 concurrent workers.\n"
     ]
    },
    {
     "name": "stdout",
     "output_type": "stream",
     "text": [
      "convergence after 37 epochs took 0 seconds\n"
     ]
    },
    {
     "name": "stderr",
     "output_type": "stream",
     "text": [
      "[Parallel(n_jobs=-1)]: Done   1 out of   1 | elapsed:    0.3s finished\n",
      "[Parallel(n_jobs=-1)]: Using backend ThreadingBackend with 4 concurrent workers.\n"
     ]
    },
    {
     "name": "stdout",
     "output_type": "stream",
     "text": [
      "convergence after 38 epochs took 1 seconds\n"
     ]
    },
    {
     "name": "stderr",
     "output_type": "stream",
     "text": [
      "[Parallel(n_jobs=-1)]: Done   1 out of   1 | elapsed:    0.3s finished\n",
      "[Parallel(n_jobs=-1)]: Using backend ThreadingBackend with 4 concurrent workers.\n"
     ]
    },
    {
     "name": "stdout",
     "output_type": "stream",
     "text": [
      "convergence after 37 epochs took 0 seconds\n"
     ]
    },
    {
     "name": "stderr",
     "output_type": "stream",
     "text": [
      "[Parallel(n_jobs=-1)]: Done   1 out of   1 | elapsed:    0.5s finished\n",
      "[Parallel(n_jobs=-1)]: Using backend ThreadingBackend with 4 concurrent workers.\n"
     ]
    },
    {
     "name": "stdout",
     "output_type": "stream",
     "text": [
      "convergence after 40 epochs took 1 seconds\n"
     ]
    },
    {
     "name": "stderr",
     "output_type": "stream",
     "text": [
      "[Parallel(n_jobs=-1)]: Done   1 out of   1 | elapsed:    0.4s finished\n",
      "[Parallel(n_jobs=-1)]: Using backend ThreadingBackend with 4 concurrent workers.\n"
     ]
    },
    {
     "name": "stdout",
     "output_type": "stream",
     "text": [
      "convergence after 38 epochs took 0 seconds\n"
     ]
    },
    {
     "name": "stderr",
     "output_type": "stream",
     "text": [
      "[Parallel(n_jobs=-1)]: Done   1 out of   1 | elapsed:    0.4s finished\n",
      "[Parallel(n_jobs=-1)]: Using backend ThreadingBackend with 4 concurrent workers.\n"
     ]
    },
    {
     "name": "stdout",
     "output_type": "stream",
     "text": [
      "convergence after 41 epochs took 1 seconds\n"
     ]
    },
    {
     "name": "stderr",
     "output_type": "stream",
     "text": [
      "[Parallel(n_jobs=-1)]: Done   1 out of   1 | elapsed:    0.5s finished\n",
      "[Parallel(n_jobs=-1)]: Using backend ThreadingBackend with 4 concurrent workers.\n"
     ]
    },
    {
     "name": "stdout",
     "output_type": "stream",
     "text": [
      "convergence after 35 epochs took 0 seconds\n"
     ]
    },
    {
     "name": "stderr",
     "output_type": "stream",
     "text": [
      "[Parallel(n_jobs=-1)]: Done   1 out of   1 | elapsed:    0.4s finished\n",
      "[Parallel(n_jobs=-1)]: Using backend ThreadingBackend with 4 concurrent workers.\n"
     ]
    },
    {
     "name": "stdout",
     "output_type": "stream",
     "text": [
      "convergence after 40 epochs took 0 seconds\n"
     ]
    },
    {
     "name": "stderr",
     "output_type": "stream",
     "text": [
      "[Parallel(n_jobs=-1)]: Done   1 out of   1 | elapsed:    0.8s finished\n",
      "[Parallel(n_jobs=-1)]: Using backend ThreadingBackend with 4 concurrent workers.\n"
     ]
    },
    {
     "name": "stdout",
     "output_type": "stream",
     "text": [
      "convergence after 35 epochs took 1 seconds\n"
     ]
    },
    {
     "name": "stderr",
     "output_type": "stream",
     "text": [
      "[Parallel(n_jobs=-1)]: Done   1 out of   1 | elapsed:    0.5s finished\n",
      "[Parallel(n_jobs=-1)]: Using backend ThreadingBackend with 4 concurrent workers.\n"
     ]
    },
    {
     "name": "stdout",
     "output_type": "stream",
     "text": [
      "convergence after 37 epochs took 0 seconds\n"
     ]
    },
    {
     "name": "stderr",
     "output_type": "stream",
     "text": [
      "[Parallel(n_jobs=-1)]: Done   1 out of   1 | elapsed:    0.3s finished\n",
      "[Parallel(n_jobs=-1)]: Using backend ThreadingBackend with 4 concurrent workers.\n"
     ]
    },
    {
     "name": "stdout",
     "output_type": "stream",
     "text": [
      "convergence after 38 epochs took 0 seconds\n"
     ]
    },
    {
     "name": "stderr",
     "output_type": "stream",
     "text": [
      "[Parallel(n_jobs=-1)]: Done   1 out of   1 | elapsed:    0.5s finished\n",
      "[Parallel(n_jobs=-1)]: Using backend ThreadingBackend with 4 concurrent workers.\n"
     ]
    },
    {
     "name": "stdout",
     "output_type": "stream",
     "text": [
      "convergence after 38 epochs took 1 seconds\n"
     ]
    },
    {
     "name": "stderr",
     "output_type": "stream",
     "text": [
      "[Parallel(n_jobs=-1)]: Done   1 out of   1 | elapsed:    0.4s finished\n",
      "[Parallel(n_jobs=-1)]: Using backend ThreadingBackend with 4 concurrent workers.\n"
     ]
    },
    {
     "name": "stdout",
     "output_type": "stream",
     "text": [
      "convergence after 37 epochs took 0 seconds\n"
     ]
    },
    {
     "name": "stderr",
     "output_type": "stream",
     "text": [
      "[Parallel(n_jobs=-1)]: Done   1 out of   1 | elapsed:    0.5s finished\n",
      "[Parallel(n_jobs=-1)]: Using backend ThreadingBackend with 4 concurrent workers.\n"
     ]
    },
    {
     "name": "stdout",
     "output_type": "stream",
     "text": [
      "convergence after 40 epochs took 1 seconds\n"
     ]
    },
    {
     "name": "stderr",
     "output_type": "stream",
     "text": [
      "[Parallel(n_jobs=-1)]: Done   1 out of   1 | elapsed:    0.5s finished\n",
      "[Parallel(n_jobs=-1)]: Using backend ThreadingBackend with 4 concurrent workers.\n"
     ]
    },
    {
     "name": "stdout",
     "output_type": "stream",
     "text": [
      "convergence after 23 epochs took 0 seconds\n"
     ]
    },
    {
     "name": "stderr",
     "output_type": "stream",
     "text": [
      "[Parallel(n_jobs=-1)]: Done   1 out of   1 | elapsed:    0.1s finished\n",
      "[Parallel(n_jobs=-1)]: Using backend ThreadingBackend with 4 concurrent workers.\n"
     ]
    },
    {
     "name": "stdout",
     "output_type": "stream",
     "text": [
      "convergence after 37 epochs took 1 seconds\n"
     ]
    },
    {
     "name": "stderr",
     "output_type": "stream",
     "text": [
      "[Parallel(n_jobs=-1)]: Done   1 out of   1 | elapsed:    0.5s finished\n",
      "[Parallel(n_jobs=-1)]: Using backend ThreadingBackend with 4 concurrent workers.\n"
     ]
    },
    {
     "name": "stdout",
     "output_type": "stream",
     "text": [
      "convergence after 36 epochs took 0 seconds\n"
     ]
    },
    {
     "name": "stderr",
     "output_type": "stream",
     "text": [
      "[Parallel(n_jobs=-1)]: Done   1 out of   1 | elapsed:    0.4s finished\n",
      "[Parallel(n_jobs=-1)]: Using backend ThreadingBackend with 4 concurrent workers.\n"
     ]
    },
    {
     "name": "stdout",
     "output_type": "stream",
     "text": [
      "convergence after 36 epochs took 1 seconds\n"
     ]
    },
    {
     "name": "stderr",
     "output_type": "stream",
     "text": [
      "[Parallel(n_jobs=-1)]: Done   1 out of   1 | elapsed:    0.3s finished\n",
      "[Parallel(n_jobs=-1)]: Using backend ThreadingBackend with 4 concurrent workers.\n"
     ]
    },
    {
     "name": "stdout",
     "output_type": "stream",
     "text": [
      "convergence after 36 epochs took 0 seconds\n"
     ]
    },
    {
     "name": "stderr",
     "output_type": "stream",
     "text": [
      "[Parallel(n_jobs=-1)]: Done   1 out of   1 | elapsed:    0.2s finished\n",
      "[Parallel(n_jobs=-1)]: Using backend ThreadingBackend with 4 concurrent workers.\n"
     ]
    },
    {
     "name": "stdout",
     "output_type": "stream",
     "text": [
      "convergence after 34 epochs took 1 seconds\n"
     ]
    },
    {
     "name": "stderr",
     "output_type": "stream",
     "text": [
      "[Parallel(n_jobs=-1)]: Done   1 out of   1 | elapsed:    0.4s finished\n",
      "[Parallel(n_jobs=-1)]: Using backend ThreadingBackend with 4 concurrent workers.\n"
     ]
    },
    {
     "name": "stdout",
     "output_type": "stream",
     "text": [
      "convergence after 38 epochs took 1 seconds\n"
     ]
    },
    {
     "name": "stderr",
     "output_type": "stream",
     "text": [
      "[Parallel(n_jobs=-1)]: Done   1 out of   1 | elapsed:    0.6s finished\n",
      "[Parallel(n_jobs=-1)]: Using backend ThreadingBackend with 4 concurrent workers.\n"
     ]
    },
    {
     "name": "stdout",
     "output_type": "stream",
     "text": [
      "convergence after 34 epochs took 0 seconds\n"
     ]
    },
    {
     "name": "stderr",
     "output_type": "stream",
     "text": [
      "[Parallel(n_jobs=-1)]: Done   1 out of   1 | elapsed:    0.3s finished\n",
      "[Parallel(n_jobs=-1)]: Using backend ThreadingBackend with 4 concurrent workers.\n"
     ]
    },
    {
     "name": "stdout",
     "output_type": "stream",
     "text": [
      "convergence after 40 epochs took 0 seconds\n"
     ]
    },
    {
     "name": "stderr",
     "output_type": "stream",
     "text": [
      "[Parallel(n_jobs=-1)]: Done   1 out of   1 | elapsed:    0.3s finished\n",
      "[Parallel(n_jobs=-1)]: Using backend ThreadingBackend with 4 concurrent workers.\n"
     ]
    },
    {
     "name": "stdout",
     "output_type": "stream",
     "text": [
      "convergence after 37 epochs took 1 seconds\n"
     ]
    },
    {
     "name": "stderr",
     "output_type": "stream",
     "text": [
      "[Parallel(n_jobs=-1)]: Done   1 out of   1 | elapsed:    0.3s finished\n",
      "[Parallel(n_jobs=-1)]: Using backend ThreadingBackend with 4 concurrent workers.\n"
     ]
    },
    {
     "name": "stdout",
     "output_type": "stream",
     "text": [
      "convergence after 37 epochs took 0 seconds\n"
     ]
    },
    {
     "name": "stderr",
     "output_type": "stream",
     "text": [
      "[Parallel(n_jobs=-1)]: Done   1 out of   1 | elapsed:    0.4s finished\n",
      "[Parallel(n_jobs=-1)]: Using backend ThreadingBackend with 4 concurrent workers.\n"
     ]
    },
    {
     "name": "stdout",
     "output_type": "stream",
     "text": [
      "convergence after 37 epochs took 0 seconds\n"
     ]
    },
    {
     "name": "stderr",
     "output_type": "stream",
     "text": [
      "[Parallel(n_jobs=-1)]: Done   1 out of   1 | elapsed:    0.1s finished\n",
      "[Parallel(n_jobs=-1)]: Using backend ThreadingBackend with 4 concurrent workers.\n"
     ]
    },
    {
     "name": "stdout",
     "output_type": "stream",
     "text": [
      "convergence after 38 epochs took 0 seconds\n"
     ]
    },
    {
     "name": "stderr",
     "output_type": "stream",
     "text": [
      "[Parallel(n_jobs=-1)]: Done   1 out of   1 | elapsed:    0.4s finished\n",
      "[Parallel(n_jobs=-1)]: Using backend ThreadingBackend with 4 concurrent workers.\n"
     ]
    },
    {
     "name": "stdout",
     "output_type": "stream",
     "text": [
      "convergence after 37 epochs took 1 seconds\n"
     ]
    },
    {
     "name": "stderr",
     "output_type": "stream",
     "text": [
      "[Parallel(n_jobs=-1)]: Done   1 out of   1 | elapsed:    0.5s finished\n",
      "[Parallel(n_jobs=-1)]: Using backend ThreadingBackend with 4 concurrent workers.\n"
     ]
    },
    {
     "name": "stdout",
     "output_type": "stream",
     "text": [
      "convergence after 41 epochs took 1 seconds\n"
     ]
    },
    {
     "name": "stderr",
     "output_type": "stream",
     "text": [
      "[Parallel(n_jobs=-1)]: Done   1 out of   1 | elapsed:    0.4s finished\n",
      "[Parallel(n_jobs=-1)]: Using backend ThreadingBackend with 4 concurrent workers.\n"
     ]
    },
    {
     "name": "stdout",
     "output_type": "stream",
     "text": [
      "convergence after 36 epochs took 0 seconds\n"
     ]
    },
    {
     "name": "stderr",
     "output_type": "stream",
     "text": [
      "[Parallel(n_jobs=-1)]: Done   1 out of   1 | elapsed:    0.4s finished\n",
      "[Parallel(n_jobs=-1)]: Using backend ThreadingBackend with 4 concurrent workers.\n"
     ]
    },
    {
     "name": "stdout",
     "output_type": "stream",
     "text": [
      "convergence after 40 epochs took 1 seconds\n"
     ]
    },
    {
     "name": "stderr",
     "output_type": "stream",
     "text": [
      "[Parallel(n_jobs=-1)]: Done   1 out of   1 | elapsed:    0.4s finished\n",
      "[Parallel(n_jobs=-1)]: Using backend ThreadingBackend with 4 concurrent workers.\n"
     ]
    },
    {
     "name": "stdout",
     "output_type": "stream",
     "text": [
      "convergence after 35 epochs took 0 seconds\n"
     ]
    },
    {
     "name": "stderr",
     "output_type": "stream",
     "text": [
      "[Parallel(n_jobs=-1)]: Done   1 out of   1 | elapsed:    0.4s finished\n",
      "[Parallel(n_jobs=-1)]: Using backend ThreadingBackend with 4 concurrent workers.\n"
     ]
    },
    {
     "name": "stdout",
     "output_type": "stream",
     "text": [
      "convergence after 37 epochs took 1 seconds\n"
     ]
    },
    {
     "name": "stderr",
     "output_type": "stream",
     "text": [
      "[Parallel(n_jobs=-1)]: Done   1 out of   1 | elapsed:    0.4s finished\n",
      "[Parallel(n_jobs=-1)]: Using backend ThreadingBackend with 4 concurrent workers.\n"
     ]
    },
    {
     "name": "stdout",
     "output_type": "stream",
     "text": [
      "convergence after 38 epochs took 1 seconds\n"
     ]
    },
    {
     "name": "stderr",
     "output_type": "stream",
     "text": [
      "[Parallel(n_jobs=-1)]: Done   1 out of   1 | elapsed:    0.5s finished\n",
      "[Parallel(n_jobs=-1)]: Using backend ThreadingBackend with 4 concurrent workers.\n"
     ]
    },
    {
     "name": "stdout",
     "output_type": "stream",
     "text": [
      "convergence after 38 epochs took 0 seconds\n"
     ]
    },
    {
     "name": "stderr",
     "output_type": "stream",
     "text": [
      "[Parallel(n_jobs=-1)]: Done   1 out of   1 | elapsed:    0.4s finished\n",
      "[Parallel(n_jobs=-1)]: Using backend ThreadingBackend with 4 concurrent workers.\n"
     ]
    },
    {
     "name": "stdout",
     "output_type": "stream",
     "text": [
      "convergence after 37 epochs took 1 seconds\n"
     ]
    },
    {
     "name": "stderr",
     "output_type": "stream",
     "text": [
      "[Parallel(n_jobs=-1)]: Done   1 out of   1 | elapsed:    0.5s finished\n",
      "[Parallel(n_jobs=-1)]: Using backend ThreadingBackend with 4 concurrent workers.\n"
     ]
    },
    {
     "name": "stdout",
     "output_type": "stream",
     "text": [
      "convergence after 40 epochs took 0 seconds\n"
     ]
    },
    {
     "name": "stderr",
     "output_type": "stream",
     "text": [
      "[Parallel(n_jobs=-1)]: Done   1 out of   1 | elapsed:    0.6s finished\n",
      "[Parallel(n_jobs=-1)]: Using backend ThreadingBackend with 4 concurrent workers.\n"
     ]
    },
    {
     "name": "stdout",
     "output_type": "stream",
     "text": [
      "convergence after 23 epochs took 0 seconds\n"
     ]
    },
    {
     "name": "stderr",
     "output_type": "stream",
     "text": [
      "[Parallel(n_jobs=-1)]: Done   1 out of   1 | elapsed:    0.4s finished\n",
      "[Parallel(n_jobs=-1)]: Using backend ThreadingBackend with 4 concurrent workers.\n"
     ]
    },
    {
     "name": "stdout",
     "output_type": "stream",
     "text": [
      "convergence after 37 epochs took 1 seconds\n"
     ]
    },
    {
     "name": "stderr",
     "output_type": "stream",
     "text": [
      "[Parallel(n_jobs=-1)]: Done   1 out of   1 | elapsed:    0.5s finished\n",
      "[Parallel(n_jobs=-1)]: Using backend ThreadingBackend with 4 concurrent workers.\n"
     ]
    },
    {
     "name": "stdout",
     "output_type": "stream",
     "text": [
      "convergence after 36 epochs took 0 seconds\n"
     ]
    },
    {
     "name": "stderr",
     "output_type": "stream",
     "text": [
      "[Parallel(n_jobs=-1)]: Done   1 out of   1 | elapsed:    0.3s finished\n",
      "[Parallel(n_jobs=-1)]: Using backend ThreadingBackend with 4 concurrent workers.\n"
     ]
    },
    {
     "name": "stdout",
     "output_type": "stream",
     "text": [
      "convergence after 35 epochs took 1 seconds\n"
     ]
    },
    {
     "name": "stderr",
     "output_type": "stream",
     "text": [
      "[Parallel(n_jobs=-1)]: Done   1 out of   1 | elapsed:    0.3s finished\n",
      "[Parallel(n_jobs=-1)]: Using backend ThreadingBackend with 4 concurrent workers.\n"
     ]
    },
    {
     "name": "stdout",
     "output_type": "stream",
     "text": [
      "convergence after 35 epochs took 0 seconds\n"
     ]
    },
    {
     "name": "stderr",
     "output_type": "stream",
     "text": [
      "[Parallel(n_jobs=-1)]: Done   1 out of   1 | elapsed:    0.4s finished\n",
      "[Parallel(n_jobs=-1)]: Using backend ThreadingBackend with 4 concurrent workers.\n"
     ]
    },
    {
     "name": "stdout",
     "output_type": "stream",
     "text": [
      "convergence after 34 epochs took 1 seconds\n"
     ]
    },
    {
     "name": "stderr",
     "output_type": "stream",
     "text": [
      "[Parallel(n_jobs=-1)]: Done   1 out of   1 | elapsed:    0.5s finished\n",
      "[Parallel(n_jobs=-1)]: Using backend ThreadingBackend with 4 concurrent workers.\n"
     ]
    },
    {
     "name": "stdout",
     "output_type": "stream",
     "text": [
      "convergence after 38 epochs took 0 seconds\n"
     ]
    },
    {
     "name": "stderr",
     "output_type": "stream",
     "text": [
      "[Parallel(n_jobs=-1)]: Done   1 out of   1 | elapsed:    0.4s finished\n",
      "[Parallel(n_jobs=-1)]: Using backend ThreadingBackend with 4 concurrent workers.\n"
     ]
    },
    {
     "name": "stdout",
     "output_type": "stream",
     "text": [
      "convergence after 34 epochs took 1 seconds\n"
     ]
    },
    {
     "name": "stderr",
     "output_type": "stream",
     "text": [
      "[Parallel(n_jobs=-1)]: Done   1 out of   1 | elapsed:    0.2s finished\n",
      "[Parallel(n_jobs=-1)]: Using backend ThreadingBackend with 4 concurrent workers.\n"
     ]
    },
    {
     "name": "stdout",
     "output_type": "stream",
     "text": [
      "convergence after 40 epochs took 0 seconds\n"
     ]
    },
    {
     "name": "stderr",
     "output_type": "stream",
     "text": [
      "[Parallel(n_jobs=-1)]: Done   1 out of   1 | elapsed:    0.4s finished\n",
      "[Parallel(n_jobs=-1)]: Using backend ThreadingBackend with 4 concurrent workers.\n"
     ]
    },
    {
     "name": "stdout",
     "output_type": "stream",
     "text": [
      "convergence after 37 epochs took 1 seconds\n"
     ]
    },
    {
     "name": "stderr",
     "output_type": "stream",
     "text": [
      "[Parallel(n_jobs=-1)]: Done   1 out of   1 | elapsed:    0.4s finished\n",
      "[Parallel(n_jobs=-1)]: Using backend ThreadingBackend with 4 concurrent workers.\n"
     ]
    },
    {
     "name": "stdout",
     "output_type": "stream",
     "text": [
      "convergence after 37 epochs took 0 seconds\n"
     ]
    },
    {
     "name": "stderr",
     "output_type": "stream",
     "text": [
      "[Parallel(n_jobs=-1)]: Done   1 out of   1 | elapsed:    0.4s finished\n",
      "[Parallel(n_jobs=-1)]: Using backend ThreadingBackend with 4 concurrent workers.\n"
     ]
    },
    {
     "name": "stdout",
     "output_type": "stream",
     "text": [
      "convergence after 38 epochs took 0 seconds\n"
     ]
    },
    {
     "name": "stderr",
     "output_type": "stream",
     "text": [
      "[Parallel(n_jobs=-1)]: Done   1 out of   1 | elapsed:    0.4s finished\n",
      "[Parallel(n_jobs=-1)]: Using backend ThreadingBackend with 4 concurrent workers.\n"
     ]
    },
    {
     "name": "stdout",
     "output_type": "stream",
     "text": [
      "convergence after 37 epochs took 0 seconds\n"
     ]
    },
    {
     "name": "stderr",
     "output_type": "stream",
     "text": [
      "[Parallel(n_jobs=-1)]: Done   1 out of   1 | elapsed:    0.2s finished\n",
      "[Parallel(n_jobs=-1)]: Using backend ThreadingBackend with 4 concurrent workers.\n"
     ]
    },
    {
     "name": "stdout",
     "output_type": "stream",
     "text": [
      "convergence after 41 epochs took 1 seconds\n"
     ]
    },
    {
     "name": "stderr",
     "output_type": "stream",
     "text": [
      "[Parallel(n_jobs=-1)]: Done   1 out of   1 | elapsed:    0.4s finished\n",
      "[Parallel(n_jobs=-1)]: Using backend ThreadingBackend with 4 concurrent workers.\n"
     ]
    },
    {
     "name": "stdout",
     "output_type": "stream",
     "text": [
      "convergence after 36 epochs took 0 seconds\n"
     ]
    },
    {
     "name": "stderr",
     "output_type": "stream",
     "text": [
      "[Parallel(n_jobs=-1)]: Done   1 out of   1 | elapsed:    0.4s finished\n",
      "[Parallel(n_jobs=-1)]: Using backend ThreadingBackend with 4 concurrent workers.\n"
     ]
    },
    {
     "name": "stdout",
     "output_type": "stream",
     "text": [
      "convergence after 40 epochs took 0 seconds\n"
     ]
    },
    {
     "name": "stderr",
     "output_type": "stream",
     "text": [
      "[Parallel(n_jobs=-1)]: Done   1 out of   1 | elapsed:    0.5s finished\n",
      "[Parallel(n_jobs=-1)]: Using backend ThreadingBackend with 4 concurrent workers.\n"
     ]
    },
    {
     "name": "stdout",
     "output_type": "stream",
     "text": [
      "convergence after 35 epochs took 1 seconds\n"
     ]
    },
    {
     "name": "stderr",
     "output_type": "stream",
     "text": [
      "[Parallel(n_jobs=-1)]: Done   1 out of   1 | elapsed:    0.4s finished\n",
      "[Parallel(n_jobs=-1)]: Using backend ThreadingBackend with 4 concurrent workers.\n"
     ]
    },
    {
     "name": "stdout",
     "output_type": "stream",
     "text": [
      "convergence after 37 epochs took 0 seconds\n"
     ]
    },
    {
     "name": "stderr",
     "output_type": "stream",
     "text": [
      "[Parallel(n_jobs=-1)]: Done   1 out of   1 | elapsed:    0.5s finished\n",
      "[Parallel(n_jobs=-1)]: Using backend ThreadingBackend with 4 concurrent workers.\n"
     ]
    },
    {
     "name": "stdout",
     "output_type": "stream",
     "text": [
      "convergence after 38 epochs took 0 seconds\n"
     ]
    },
    {
     "name": "stderr",
     "output_type": "stream",
     "text": [
      "[Parallel(n_jobs=-1)]: Done   1 out of   1 | elapsed:    0.5s finished\n",
      "[Parallel(n_jobs=-1)]: Using backend ThreadingBackend with 4 concurrent workers.\n"
     ]
    },
    {
     "name": "stdout",
     "output_type": "stream",
     "text": [
      "convergence after 38 epochs took 1 seconds\n"
     ]
    },
    {
     "name": "stderr",
     "output_type": "stream",
     "text": [
      "[Parallel(n_jobs=-1)]: Done   1 out of   1 | elapsed:    0.4s finished\n",
      "[Parallel(n_jobs=-1)]: Using backend ThreadingBackend with 4 concurrent workers.\n"
     ]
    },
    {
     "name": "stdout",
     "output_type": "stream",
     "text": [
      "convergence after 37 epochs took 0 seconds\n"
     ]
    },
    {
     "name": "stderr",
     "output_type": "stream",
     "text": [
      "[Parallel(n_jobs=-1)]: Done   1 out of   1 | elapsed:    0.3s finished\n",
      "[Parallel(n_jobs=-1)]: Using backend ThreadingBackend with 4 concurrent workers.\n"
     ]
    },
    {
     "name": "stdout",
     "output_type": "stream",
     "text": [
      "convergence after 40 epochs took 0 seconds\n"
     ]
    },
    {
     "name": "stderr",
     "output_type": "stream",
     "text": [
      "[Parallel(n_jobs=-1)]: Done   1 out of   1 | elapsed:    0.3s finished\n",
      "[Parallel(n_jobs=-1)]: Using backend ThreadingBackend with 4 concurrent workers.\n"
     ]
    },
    {
     "name": "stdout",
     "output_type": "stream",
     "text": [
      "convergence after 24 epochs took 0 seconds\n"
     ]
    },
    {
     "name": "stderr",
     "output_type": "stream",
     "text": [
      "[Parallel(n_jobs=-1)]: Done   1 out of   1 | elapsed:    0.4s finished\n",
      "[Parallel(n_jobs=-1)]: Using backend ThreadingBackend with 4 concurrent workers.\n"
     ]
    },
    {
     "name": "stdout",
     "output_type": "stream",
     "text": [
      "convergence after 37 epochs took 1 seconds\n"
     ]
    },
    {
     "name": "stderr",
     "output_type": "stream",
     "text": [
      "[Parallel(n_jobs=-1)]: Done   1 out of   1 | elapsed:    0.5s finished\n",
      "[Parallel(n_jobs=-1)]: Using backend ThreadingBackend with 4 concurrent workers.\n"
     ]
    },
    {
     "name": "stdout",
     "output_type": "stream",
     "text": [
      "convergence after 36 epochs took 1 seconds\n"
     ]
    },
    {
     "name": "stderr",
     "output_type": "stream",
     "text": [
      "[Parallel(n_jobs=-1)]: Done   1 out of   1 | elapsed:    0.8s finished\n",
      "[Parallel(n_jobs=-1)]: Using backend ThreadingBackend with 4 concurrent workers.\n"
     ]
    },
    {
     "name": "stdout",
     "output_type": "stream",
     "text": [
      "convergence after 36 epochs took 0 seconds\n"
     ]
    },
    {
     "name": "stderr",
     "output_type": "stream",
     "text": [
      "[Parallel(n_jobs=-1)]: Done   1 out of   1 | elapsed:    0.3s finished\n",
      "[Parallel(n_jobs=-1)]: Using backend ThreadingBackend with 4 concurrent workers.\n"
     ]
    },
    {
     "name": "stdout",
     "output_type": "stream",
     "text": [
      "convergence after 36 epochs took 1 seconds\n"
     ]
    },
    {
     "name": "stderr",
     "output_type": "stream",
     "text": [
      "[Parallel(n_jobs=-1)]: Done   1 out of   1 | elapsed:    0.2s finished\n",
      "[Parallel(n_jobs=-1)]: Using backend ThreadingBackend with 4 concurrent workers.\n"
     ]
    },
    {
     "name": "stdout",
     "output_type": "stream",
     "text": [
      "convergence after 34 epochs took 0 seconds\n"
     ]
    },
    {
     "name": "stderr",
     "output_type": "stream",
     "text": [
      "[Parallel(n_jobs=-1)]: Done   1 out of   1 | elapsed:    0.4s finished\n",
      "[Parallel(n_jobs=-1)]: Using backend ThreadingBackend with 4 concurrent workers.\n"
     ]
    },
    {
     "name": "stdout",
     "output_type": "stream",
     "text": [
      "convergence after 38 epochs took 1 seconds\n"
     ]
    },
    {
     "name": "stderr",
     "output_type": "stream",
     "text": [
      "[Parallel(n_jobs=-1)]: Done   1 out of   1 | elapsed:    0.5s finished\n",
      "[Parallel(n_jobs=-1)]: Using backend ThreadingBackend with 4 concurrent workers.\n"
     ]
    },
    {
     "name": "stdout",
     "output_type": "stream",
     "text": [
      "convergence after 34 epochs took 0 seconds\n"
     ]
    },
    {
     "name": "stderr",
     "output_type": "stream",
     "text": [
      "[Parallel(n_jobs=-1)]: Done   1 out of   1 | elapsed:    0.5s finished\n",
      "[Parallel(n_jobs=-1)]: Using backend ThreadingBackend with 4 concurrent workers.\n"
     ]
    },
    {
     "name": "stdout",
     "output_type": "stream",
     "text": [
      "convergence after 40 epochs took 1 seconds\n"
     ]
    },
    {
     "name": "stderr",
     "output_type": "stream",
     "text": [
      "[Parallel(n_jobs=-1)]: Done   1 out of   1 | elapsed:    0.6s finished\n",
      "[Parallel(n_jobs=-1)]: Using backend ThreadingBackend with 4 concurrent workers.\n"
     ]
    },
    {
     "name": "stdout",
     "output_type": "stream",
     "text": [
      "convergence after 37 epochs took 1 seconds\n"
     ]
    },
    {
     "name": "stderr",
     "output_type": "stream",
     "text": [
      "[Parallel(n_jobs=-1)]: Done   1 out of   1 | elapsed:    0.6s finished\n",
      "[Parallel(n_jobs=-1)]: Using backend ThreadingBackend with 4 concurrent workers.\n"
     ]
    },
    {
     "name": "stdout",
     "output_type": "stream",
     "text": [
      "convergence after 37 epochs took 1 seconds\n"
     ]
    },
    {
     "name": "stderr",
     "output_type": "stream",
     "text": [
      "[Parallel(n_jobs=-1)]: Done   1 out of   1 | elapsed:    0.5s finished\n",
      "[Parallel(n_jobs=-1)]: Using backend ThreadingBackend with 4 concurrent workers.\n"
     ]
    },
    {
     "name": "stdout",
     "output_type": "stream",
     "text": [
      "convergence after 38 epochs took 0 seconds\n"
     ]
    },
    {
     "name": "stderr",
     "output_type": "stream",
     "text": [
      "[Parallel(n_jobs=-1)]: Done   1 out of   1 | elapsed:    0.5s finished\n",
      "[Parallel(n_jobs=-1)]: Using backend ThreadingBackend with 4 concurrent workers.\n"
     ]
    },
    {
     "name": "stdout",
     "output_type": "stream",
     "text": [
      "convergence after 42 epochs took 1 seconds\n"
     ]
    },
    {
     "name": "stderr",
     "output_type": "stream",
     "text": [
      "[Parallel(n_jobs=-1)]: Done   1 out of   1 | elapsed:    0.6s finished\n",
      "[Parallel(n_jobs=-1)]: Using backend ThreadingBackend with 4 concurrent workers.\n"
     ]
    },
    {
     "name": "stdout",
     "output_type": "stream",
     "text": [
      "convergence after 37 epochs took 1 seconds\n"
     ]
    },
    {
     "name": "stderr",
     "output_type": "stream",
     "text": [
      "[Parallel(n_jobs=-1)]: Done   1 out of   1 | elapsed:    0.5s finished\n",
      "[Parallel(n_jobs=-1)]: Using backend ThreadingBackend with 4 concurrent workers.\n"
     ]
    },
    {
     "name": "stdout",
     "output_type": "stream",
     "text": [
      "convergence after 40 epochs took 0 seconds\n"
     ]
    },
    {
     "name": "stderr",
     "output_type": "stream",
     "text": [
      "[Parallel(n_jobs=-1)]: Done   1 out of   1 | elapsed:    0.5s finished\n",
      "[Parallel(n_jobs=-1)]: Using backend ThreadingBackend with 4 concurrent workers.\n"
     ]
    },
    {
     "name": "stdout",
     "output_type": "stream",
     "text": [
      "convergence after 36 epochs took 1 seconds\n"
     ]
    },
    {
     "name": "stderr",
     "output_type": "stream",
     "text": [
      "[Parallel(n_jobs=-1)]: Done   1 out of   1 | elapsed:    0.4s finished\n",
      "[Parallel(n_jobs=-1)]: Using backend ThreadingBackend with 4 concurrent workers.\n"
     ]
    },
    {
     "name": "stdout",
     "output_type": "stream",
     "text": [
      "convergence after 38 epochs took 0 seconds\n"
     ]
    },
    {
     "name": "stderr",
     "output_type": "stream",
     "text": [
      "[Parallel(n_jobs=-1)]: Done   1 out of   1 | elapsed:    0.4s finished\n",
      "[Parallel(n_jobs=-1)]: Using backend ThreadingBackend with 4 concurrent workers.\n"
     ]
    },
    {
     "name": "stdout",
     "output_type": "stream",
     "text": [
      "convergence after 38 epochs took 1 seconds\n"
     ]
    },
    {
     "name": "stderr",
     "output_type": "stream",
     "text": [
      "[Parallel(n_jobs=-1)]: Done   1 out of   1 | elapsed:    0.3s finished\n",
      "[Parallel(n_jobs=-1)]: Using backend ThreadingBackend with 4 concurrent workers.\n"
     ]
    },
    {
     "name": "stdout",
     "output_type": "stream",
     "text": [
      "convergence after 38 epochs took 0 seconds\n"
     ]
    },
    {
     "name": "stderr",
     "output_type": "stream",
     "text": [
      "[Parallel(n_jobs=-1)]: Done   1 out of   1 | elapsed:    0.5s finished\n",
      "[Parallel(n_jobs=-1)]: Using backend ThreadingBackend with 4 concurrent workers.\n"
     ]
    },
    {
     "name": "stdout",
     "output_type": "stream",
     "text": [
      "convergence after 37 epochs took 1 seconds\n"
     ]
    },
    {
     "name": "stderr",
     "output_type": "stream",
     "text": [
      "[Parallel(n_jobs=-1)]: Done   1 out of   1 | elapsed:    0.5s finished\n",
      "[Parallel(n_jobs=-1)]: Using backend ThreadingBackend with 4 concurrent workers.\n"
     ]
    },
    {
     "name": "stdout",
     "output_type": "stream",
     "text": [
      "convergence after 40 epochs took 1 seconds\n",
      "convergence after 25 epochs took 0 seconds"
     ]
    },
    {
     "name": "stderr",
     "output_type": "stream",
     "text": [
      "[Parallel(n_jobs=-1)]: Done   1 out of   1 | elapsed:    0.4s finished\n",
      "[Parallel(n_jobs=-1)]: Using backend ThreadingBackend with 4 concurrent workers.\n"
     ]
    },
    {
     "name": "stdout",
     "output_type": "stream",
     "text": [
      "\n"
     ]
    },
    {
     "name": "stderr",
     "output_type": "stream",
     "text": [
      "[Parallel(n_jobs=-1)]: Done   1 out of   1 | elapsed:    0.1s finished\n",
      "[Parallel(n_jobs=-1)]: Using backend ThreadingBackend with 4 concurrent workers.\n"
     ]
    },
    {
     "name": "stdout",
     "output_type": "stream",
     "text": [
      "convergence after 37 epochs took 0 seconds\n"
     ]
    },
    {
     "name": "stderr",
     "output_type": "stream",
     "text": [
      "[Parallel(n_jobs=-1)]: Done   1 out of   1 | elapsed:    0.5s finished\n",
      "[Parallel(n_jobs=-1)]: Using backend ThreadingBackend with 4 concurrent workers.\n"
     ]
    },
    {
     "name": "stdout",
     "output_type": "stream",
     "text": [
      "convergence after 36 epochs took 1 seconds\n"
     ]
    },
    {
     "name": "stderr",
     "output_type": "stream",
     "text": [
      "[Parallel(n_jobs=-1)]: Done   1 out of   1 | elapsed:    0.4s finished\n",
      "[Parallel(n_jobs=-1)]: Using backend ThreadingBackend with 4 concurrent workers.\n"
     ]
    },
    {
     "name": "stdout",
     "output_type": "stream",
     "text": [
      "convergence after 36 epochs took 1 seconds\n"
     ]
    },
    {
     "name": "stderr",
     "output_type": "stream",
     "text": [
      "[Parallel(n_jobs=-1)]: Done   1 out of   1 | elapsed:    0.4s finished\n",
      "[Parallel(n_jobs=-1)]: Using backend ThreadingBackend with 4 concurrent workers.\n"
     ]
    },
    {
     "name": "stdout",
     "output_type": "stream",
     "text": [
      "convergence after 35 epochs took 0 seconds\n"
     ]
    },
    {
     "name": "stderr",
     "output_type": "stream",
     "text": [
      "[Parallel(n_jobs=-1)]: Done   1 out of   1 | elapsed:    0.4s finished\n",
      "[Parallel(n_jobs=-1)]: Using backend ThreadingBackend with 4 concurrent workers.\n"
     ]
    },
    {
     "name": "stdout",
     "output_type": "stream",
     "text": [
      "convergence after 38 epochs took 1 seconds\n"
     ]
    },
    {
     "name": "stderr",
     "output_type": "stream",
     "text": [
      "[Parallel(n_jobs=-1)]: Done   1 out of   1 | elapsed:    0.3s finished\n",
      "[Parallel(n_jobs=-1)]: Using backend ThreadingBackend with 4 concurrent workers.\n"
     ]
    },
    {
     "name": "stdout",
     "output_type": "stream",
     "text": [
      "convergence after 34 epochs took 0 seconds\n"
     ]
    },
    {
     "name": "stderr",
     "output_type": "stream",
     "text": [
      "[Parallel(n_jobs=-1)]: Done   1 out of   1 | elapsed:    0.3s finished\n",
      "[Parallel(n_jobs=-1)]: Using backend ThreadingBackend with 4 concurrent workers.\n"
     ]
    },
    {
     "name": "stdout",
     "output_type": "stream",
     "text": [
      "convergence after 40 epochs took 1 seconds\n"
     ]
    },
    {
     "name": "stderr",
     "output_type": "stream",
     "text": [
      "[Parallel(n_jobs=-1)]: Done   1 out of   1 | elapsed:    0.6s finished\n",
      "[Parallel(n_jobs=-1)]: Using backend ThreadingBackend with 4 concurrent workers.\n"
     ]
    },
    {
     "name": "stdout",
     "output_type": "stream",
     "text": [
      "convergence after 37 epochs took 0 seconds\n"
     ]
    },
    {
     "name": "stderr",
     "output_type": "stream",
     "text": [
      "[Parallel(n_jobs=-1)]: Done   1 out of   1 | elapsed:    0.4s finished\n",
      "[Parallel(n_jobs=-1)]: Using backend ThreadingBackend with 4 concurrent workers.\n"
     ]
    },
    {
     "name": "stdout",
     "output_type": "stream",
     "text": [
      "convergence after 37 epochs took 1 seconds\n"
     ]
    },
    {
     "name": "stderr",
     "output_type": "stream",
     "text": [
      "[Parallel(n_jobs=-1)]: Done   1 out of   1 | elapsed:    0.4s finished\n",
      "[Parallel(n_jobs=-1)]: Using backend ThreadingBackend with 4 concurrent workers.\n"
     ]
    },
    {
     "name": "stdout",
     "output_type": "stream",
     "text": [
      "convergence after 38 epochs took 1 seconds\n"
     ]
    },
    {
     "name": "stderr",
     "output_type": "stream",
     "text": [
      "[Parallel(n_jobs=-1)]: Done   1 out of   1 | elapsed:    0.4s finished\n",
      "[Parallel(n_jobs=-1)]: Using backend ThreadingBackend with 4 concurrent workers.\n"
     ]
    },
    {
     "name": "stdout",
     "output_type": "stream",
     "text": [
      "convergence after 43 epochs took 0 seconds\n"
     ]
    },
    {
     "name": "stderr",
     "output_type": "stream",
     "text": [
      "[Parallel(n_jobs=-1)]: Done   1 out of   1 | elapsed:    0.5s finished\n",
      "[Parallel(n_jobs=-1)]: Using backend ThreadingBackend with 4 concurrent workers.\n"
     ]
    },
    {
     "name": "stdout",
     "output_type": "stream",
     "text": [
      "convergence after 38 epochs took 1 seconds\n"
     ]
    },
    {
     "name": "stderr",
     "output_type": "stream",
     "text": [
      "[Parallel(n_jobs=-1)]: Done   1 out of   1 | elapsed:    0.4s finished\n",
      "[Parallel(n_jobs=-1)]: Using backend ThreadingBackend with 4 concurrent workers.\n"
     ]
    },
    {
     "name": "stdout",
     "output_type": "stream",
     "text": [
      "convergence after 42 epochs took 0 seconds\n"
     ]
    },
    {
     "name": "stderr",
     "output_type": "stream",
     "text": [
      "[Parallel(n_jobs=-1)]: Done   1 out of   1 | elapsed:    0.4s finished\n",
      "[Parallel(n_jobs=-1)]: Using backend ThreadingBackend with 4 concurrent workers.\n"
     ]
    },
    {
     "name": "stdout",
     "output_type": "stream",
     "text": [
      "convergence after 38 epochs took 1 seconds\n"
     ]
    },
    {
     "name": "stderr",
     "output_type": "stream",
     "text": [
      "[Parallel(n_jobs=-1)]: Done   1 out of   1 | elapsed:    0.4s finished\n",
      "[Parallel(n_jobs=-1)]: Using backend ThreadingBackend with 4 concurrent workers.\n"
     ]
    },
    {
     "name": "stdout",
     "output_type": "stream",
     "text": [
      "convergence after 40 epochs took 0 seconds\n"
     ]
    },
    {
     "name": "stderr",
     "output_type": "stream",
     "text": [
      "[Parallel(n_jobs=-1)]: Done   1 out of   1 | elapsed:    0.4s finished\n",
      "[Parallel(n_jobs=-1)]: Using backend ThreadingBackend with 4 concurrent workers.\n"
     ]
    },
    {
     "name": "stdout",
     "output_type": "stream",
     "text": [
      "convergence after 40 epochs took 0 seconds\n"
     ]
    },
    {
     "name": "stderr",
     "output_type": "stream",
     "text": [
      "[Parallel(n_jobs=-1)]: Done   1 out of   1 | elapsed:    0.5s finished\n",
      "[Parallel(n_jobs=-1)]: Using backend ThreadingBackend with 4 concurrent workers.\n"
     ]
    },
    {
     "name": "stdout",
     "output_type": "stream",
     "text": [
      "convergence after 41 epochs took 1 seconds\n"
     ]
    },
    {
     "name": "stderr",
     "output_type": "stream",
     "text": [
      "[Parallel(n_jobs=-1)]: Done   1 out of   1 | elapsed:    0.6s finished\n",
      "[Parallel(n_jobs=-1)]: Using backend ThreadingBackend with 4 concurrent workers.\n"
     ]
    },
    {
     "name": "stdout",
     "output_type": "stream",
     "text": [
      "convergence after 40 epochs took 1 seconds\n"
     ]
    },
    {
     "name": "stderr",
     "output_type": "stream",
     "text": [
      "[Parallel(n_jobs=-1)]: Done   1 out of   1 | elapsed:    0.6s finished\n",
      "[Parallel(n_jobs=-1)]: Using backend ThreadingBackend with 4 concurrent workers.\n"
     ]
    },
    {
     "name": "stdout",
     "output_type": "stream",
     "text": [
      "convergence after 42 epochs took 0 seconds\n"
     ]
    },
    {
     "name": "stderr",
     "output_type": "stream",
     "text": [
      "[Parallel(n_jobs=-1)]: Done   1 out of   1 | elapsed:    0.7s finished\n",
      "[Parallel(n_jobs=-1)]: Using backend ThreadingBackend with 4 concurrent workers.\n"
     ]
    },
    {
     "name": "stdout",
     "output_type": "stream",
     "text": [
      "convergence after 29 epochs took 0 seconds\n"
     ]
    },
    {
     "name": "stderr",
     "output_type": "stream",
     "text": [
      "[Parallel(n_jobs=-1)]: Done   1 out of   1 | elapsed:    0.3s finished\n",
      "[Parallel(n_jobs=-1)]: Using backend ThreadingBackend with 4 concurrent workers.\n"
     ]
    },
    {
     "name": "stdout",
     "output_type": "stream",
     "text": [
      "convergence after 40 epochs took 1 seconds\n"
     ]
    },
    {
     "name": "stderr",
     "output_type": "stream",
     "text": [
      "[Parallel(n_jobs=-1)]: Done   1 out of   1 | elapsed:    0.5s finished\n",
      "[Parallel(n_jobs=-1)]: Using backend ThreadingBackend with 4 concurrent workers.\n"
     ]
    },
    {
     "name": "stdout",
     "output_type": "stream",
     "text": [
      "convergence after 38 epochs took 0 seconds\n"
     ]
    },
    {
     "name": "stderr",
     "output_type": "stream",
     "text": [
      "[Parallel(n_jobs=-1)]: Done   1 out of   1 | elapsed:    0.4s finished\n",
      "[Parallel(n_jobs=-1)]: Using backend ThreadingBackend with 4 concurrent workers.\n"
     ]
    },
    {
     "name": "stdout",
     "output_type": "stream",
     "text": [
      "convergence after 38 epochs took 1 seconds\n"
     ]
    },
    {
     "name": "stderr",
     "output_type": "stream",
     "text": [
      "[Parallel(n_jobs=-1)]: Done   1 out of   1 | elapsed:    0.5s finished\n",
      "[Parallel(n_jobs=-1)]: Using backend ThreadingBackend with 4 concurrent workers.\n"
     ]
    },
    {
     "name": "stdout",
     "output_type": "stream",
     "text": [
      "convergence after 38 epochs took 0 seconds\n"
     ]
    },
    {
     "name": "stderr",
     "output_type": "stream",
     "text": [
      "[Parallel(n_jobs=-1)]: Done   1 out of   1 | elapsed:    0.5s finished\n",
      "[Parallel(n_jobs=-1)]: Using backend ThreadingBackend with 4 concurrent workers.\n"
     ]
    },
    {
     "name": "stdout",
     "output_type": "stream",
     "text": [
      "convergence after 40 epochs took 1 seconds\n"
     ]
    },
    {
     "name": "stderr",
     "output_type": "stream",
     "text": [
      "[Parallel(n_jobs=-1)]: Done   1 out of   1 | elapsed:    0.6s finished\n",
      "[Parallel(n_jobs=-1)]: Using backend ThreadingBackend with 4 concurrent workers.\n"
     ]
    },
    {
     "name": "stdout",
     "output_type": "stream",
     "text": [
      "convergence after 37 epochs took 1 seconds\n"
     ]
    },
    {
     "name": "stderr",
     "output_type": "stream",
     "text": [
      "[Parallel(n_jobs=-1)]: Done   1 out of   1 | elapsed:    0.4s finished\n",
      "[Parallel(n_jobs=-1)]: Using backend ThreadingBackend with 4 concurrent workers.\n"
     ]
    },
    {
     "name": "stdout",
     "output_type": "stream",
     "text": [
      "convergence after 39 epochs took 0 seconds\n"
     ]
    },
    {
     "name": "stderr",
     "output_type": "stream",
     "text": [
      "[Parallel(n_jobs=-1)]: Done   1 out of   1 | elapsed:    0.4s finished\n",
      "[Parallel(n_jobs=-1)]: Using backend ThreadingBackend with 4 concurrent workers.\n"
     ]
    },
    {
     "name": "stdout",
     "output_type": "stream",
     "text": [
      "convergence after 40 epochs took 1 seconds\n"
     ]
    },
    {
     "name": "stderr",
     "output_type": "stream",
     "text": [
      "[Parallel(n_jobs=-1)]: Done   1 out of   1 | elapsed:    0.3s finished\n",
      "[Parallel(n_jobs=-1)]: Using backend ThreadingBackend with 4 concurrent workers.\n"
     ]
    },
    {
     "name": "stdout",
     "output_type": "stream",
     "text": [
      "convergence after 41 epochs took 1 seconds\n"
     ]
    },
    {
     "name": "stderr",
     "output_type": "stream",
     "text": [
      "[Parallel(n_jobs=-1)]: Done   1 out of   1 | elapsed:    0.6s finished\n",
      "[Parallel(n_jobs=-1)]: Using backend ThreadingBackend with 4 concurrent workers.\n"
     ]
    },
    {
     "name": "stdout",
     "output_type": "stream",
     "text": [
      "convergence after 42 epochs took 0 seconds\n"
     ]
    },
    {
     "name": "stderr",
     "output_type": "stream",
     "text": [
      "[Parallel(n_jobs=-1)]: Done   1 out of   1 | elapsed:    0.4s finished\n",
      "[Parallel(n_jobs=-1)]: Using backend ThreadingBackend with 4 concurrent workers.\n",
      "[Parallel(n_jobs=-1)]: Done   1 out of   1 | elapsed:    0.3s finished\n",
      "[Parallel(n_jobs=-1)]: Using backend ThreadingBackend with 4 concurrent workers.\n"
     ]
    },
    {
     "name": "stdout",
     "output_type": "stream",
     "text": [
      "convergence after 38 epochs took 1 seconds\n",
      "convergence after 41 epochs took 0 seconds\n"
     ]
    },
    {
     "name": "stderr",
     "output_type": "stream",
     "text": [
      "[Parallel(n_jobs=-1)]: Done   1 out of   1 | elapsed:    0.5s finished\n",
      "[Parallel(n_jobs=-1)]: Using backend ThreadingBackend with 4 concurrent workers.\n"
     ]
    },
    {
     "name": "stdout",
     "output_type": "stream",
     "text": [
      "convergence after 39 epochs took 1 seconds\n"
     ]
    },
    {
     "name": "stderr",
     "output_type": "stream",
     "text": [
      "[Parallel(n_jobs=-1)]: Done   1 out of   1 | elapsed:    0.6s finished\n",
      "[Parallel(n_jobs=-1)]: Using backend ThreadingBackend with 4 concurrent workers.\n"
     ]
    },
    {
     "name": "stdout",
     "output_type": "stream",
     "text": [
      "convergence after 38 epochs took 1 seconds\n"
     ]
    },
    {
     "name": "stderr",
     "output_type": "stream",
     "text": [
      "[Parallel(n_jobs=-1)]: Done   1 out of   1 | elapsed:    0.5s finished\n",
      "[Parallel(n_jobs=-1)]: Using backend ThreadingBackend with 4 concurrent workers.\n"
     ]
    },
    {
     "name": "stdout",
     "output_type": "stream",
     "text": [
      "convergence after 40 epochs took 0 seconds\n"
     ]
    },
    {
     "name": "stderr",
     "output_type": "stream",
     "text": [
      "[Parallel(n_jobs=-1)]: Done   1 out of   1 | elapsed:    0.4s finished\n",
      "[Parallel(n_jobs=-1)]: Using backend ThreadingBackend with 4 concurrent workers.\n"
     ]
    },
    {
     "name": "stdout",
     "output_type": "stream",
     "text": [
      "convergence after 38 epochs took 1 seconds\n"
     ]
    },
    {
     "name": "stderr",
     "output_type": "stream",
     "text": [
      "[Parallel(n_jobs=-1)]: Done   1 out of   1 | elapsed:    0.5s finished\n",
      "[Parallel(n_jobs=-1)]: Using backend ThreadingBackend with 4 concurrent workers.\n"
     ]
    },
    {
     "name": "stdout",
     "output_type": "stream",
     "text": [
      "convergence after 40 epochs took 0 seconds\n"
     ]
    },
    {
     "name": "stderr",
     "output_type": "stream",
     "text": [
      "[Parallel(n_jobs=-1)]: Done   1 out of   1 | elapsed:    0.5s finished\n",
      "[Parallel(n_jobs=-1)]: Using backend ThreadingBackend with 4 concurrent workers.\n"
     ]
    },
    {
     "name": "stdout",
     "output_type": "stream",
     "text": [
      "convergence after 27 epochs took 0 seconds\n"
     ]
    },
    {
     "name": "stderr",
     "output_type": "stream",
     "text": [
      "[Parallel(n_jobs=-1)]: Done   1 out of   1 | elapsed:    0.4s finished\n",
      "[Parallel(n_jobs=-1)]: Using backend ThreadingBackend with 4 concurrent workers.\n"
     ]
    },
    {
     "name": "stdout",
     "output_type": "stream",
     "text": [
      "convergence after 38 epochs took 1 seconds\n"
     ]
    },
    {
     "name": "stderr",
     "output_type": "stream",
     "text": [
      "[Parallel(n_jobs=-1)]: Done   1 out of   1 | elapsed:    0.9s finished\n",
      "[Parallel(n_jobs=-1)]: Using backend ThreadingBackend with 4 concurrent workers.\n"
     ]
    },
    {
     "name": "stdout",
     "output_type": "stream",
     "text": [
      "convergence after 37 epochs took 1 seconds\n"
     ]
    },
    {
     "name": "stderr",
     "output_type": "stream",
     "text": [
      "[Parallel(n_jobs=-1)]: Done   1 out of   1 | elapsed:    0.5s finished\n",
      "[Parallel(n_jobs=-1)]: Using backend ThreadingBackend with 4 concurrent workers.\n"
     ]
    },
    {
     "name": "stdout",
     "output_type": "stream",
     "text": [
      "convergence after 37 epochs took 0 seconds\n"
     ]
    },
    {
     "name": "stderr",
     "output_type": "stream",
     "text": [
      "[Parallel(n_jobs=-1)]: Done   1 out of   1 | elapsed:    0.5s finished\n",
      "[Parallel(n_jobs=-1)]: Using backend ThreadingBackend with 4 concurrent workers.\n"
     ]
    },
    {
     "name": "stdout",
     "output_type": "stream",
     "text": [
      "convergence after 37 epochs took 0 seconds\n"
     ]
    },
    {
     "name": "stderr",
     "output_type": "stream",
     "text": [
      "[Parallel(n_jobs=-1)]: Done   1 out of   1 | elapsed:    0.4s finished\n",
      "[Parallel(n_jobs=-1)]: Using backend ThreadingBackend with 4 concurrent workers.\n"
     ]
    },
    {
     "name": "stdout",
     "output_type": "stream",
     "text": [
      "convergence after 40 epochs took 0 seconds\n"
     ]
    },
    {
     "name": "stderr",
     "output_type": "stream",
     "text": [
      "[Parallel(n_jobs=-1)]: Done   1 out of   1 | elapsed:    0.3s finished\n",
      "[Parallel(n_jobs=-1)]: Using backend ThreadingBackend with 4 concurrent workers.\n"
     ]
    },
    {
     "name": "stdout",
     "output_type": "stream",
     "text": [
      "convergence after 36 epochs took 0 seconds\n"
     ]
    },
    {
     "name": "stderr",
     "output_type": "stream",
     "text": [
      "[Parallel(n_jobs=-1)]: Done   1 out of   1 | elapsed:    0.5s finished\n",
      "[Parallel(n_jobs=-1)]: Using backend ThreadingBackend with 4 concurrent workers.\n"
     ]
    },
    {
     "name": "stdout",
     "output_type": "stream",
     "text": [
      "convergence after 38 epochs took 1 seconds\n"
     ]
    },
    {
     "name": "stderr",
     "output_type": "stream",
     "text": [
      "[Parallel(n_jobs=-1)]: Done   1 out of   1 | elapsed:    0.4s finished\n",
      "[Parallel(n_jobs=-1)]: Using backend ThreadingBackend with 4 concurrent workers.\n"
     ]
    },
    {
     "name": "stdout",
     "output_type": "stream",
     "text": [
      "convergence after 38 epochs took 0 seconds\n"
     ]
    },
    {
     "name": "stderr",
     "output_type": "stream",
     "text": [
      "[Parallel(n_jobs=-1)]: Done   1 out of   1 | elapsed:    0.4s finished\n",
      "[Parallel(n_jobs=-1)]: Using backend ThreadingBackend with 4 concurrent workers.\n"
     ]
    },
    {
     "name": "stdout",
     "output_type": "stream",
     "text": [
      "convergence after 40 epochs took 1 seconds\n"
     ]
    },
    {
     "name": "stderr",
     "output_type": "stream",
     "text": [
      "[Parallel(n_jobs=-1)]: Done   1 out of   1 | elapsed:    0.5s finished\n",
      "[Parallel(n_jobs=-1)]: Using backend ThreadingBackend with 4 concurrent workers.\n"
     ]
    },
    {
     "name": "stdout",
     "output_type": "stream",
     "text": [
      "convergence after 42 epochs took 1 seconds\n"
     ]
    },
    {
     "name": "stderr",
     "output_type": "stream",
     "text": [
      "[Parallel(n_jobs=-1)]: Done   1 out of   1 | elapsed:    0.4s finished\n",
      "[Parallel(n_jobs=-1)]: Using backend ThreadingBackend with 4 concurrent workers.\n"
     ]
    },
    {
     "name": "stdout",
     "output_type": "stream",
     "text": [
      "convergence after 37 epochs took 0 seconds\n"
     ]
    },
    {
     "name": "stderr",
     "output_type": "stream",
     "text": [
      "[Parallel(n_jobs=-1)]: Done   1 out of   1 | elapsed:    0.4s finished\n",
      "[Parallel(n_jobs=-1)]: Using backend ThreadingBackend with 4 concurrent workers.\n"
     ]
    },
    {
     "name": "stdout",
     "output_type": "stream",
     "text": [
      "convergence after 41 epochs took 1 seconds\n"
     ]
    },
    {
     "name": "stderr",
     "output_type": "stream",
     "text": [
      "[Parallel(n_jobs=-1)]: Done   1 out of   1 | elapsed:    0.7s finished\n",
      "[Parallel(n_jobs=-1)]: Using backend ThreadingBackend with 4 concurrent workers.\n"
     ]
    },
    {
     "name": "stdout",
     "output_type": "stream",
     "text": [
      "convergence after 38 epochs took 1 seconds\n"
     ]
    },
    {
     "name": "stderr",
     "output_type": "stream",
     "text": [
      "[Parallel(n_jobs=-1)]: Done   1 out of   1 | elapsed:    0.6s finished\n",
      "[Parallel(n_jobs=-1)]: Using backend ThreadingBackend with 4 concurrent workers.\n"
     ]
    },
    {
     "name": "stdout",
     "output_type": "stream",
     "text": [
      "convergence after 38 epochs took 0 seconds\n"
     ]
    },
    {
     "name": "stderr",
     "output_type": "stream",
     "text": [
      "[Parallel(n_jobs=-1)]: Done   1 out of   1 | elapsed:    0.4s finished\n",
      "[Parallel(n_jobs=-1)]: Using backend ThreadingBackend with 4 concurrent workers.\n"
     ]
    },
    {
     "name": "stdout",
     "output_type": "stream",
     "text": [
      "convergence after 39 epochs took 1 seconds\n"
     ]
    },
    {
     "name": "stderr",
     "output_type": "stream",
     "text": [
      "[Parallel(n_jobs=-1)]: Done   1 out of   1 | elapsed:    0.4s finished\n",
      "[Parallel(n_jobs=-1)]: Using backend ThreadingBackend with 4 concurrent workers.\n"
     ]
    },
    {
     "name": "stdout",
     "output_type": "stream",
     "text": [
      "convergence after 37 epochs took 1 seconds\n"
     ]
    },
    {
     "name": "stderr",
     "output_type": "stream",
     "text": [
      "[Parallel(n_jobs=-1)]: Done   1 out of   1 | elapsed:    0.5s finished\n",
      "[Parallel(n_jobs=-1)]: Using backend ThreadingBackend with 4 concurrent workers.\n"
     ]
    },
    {
     "name": "stdout",
     "output_type": "stream",
     "text": [
      "convergence after 40 epochs took 0 seconds\n"
     ]
    },
    {
     "name": "stderr",
     "output_type": "stream",
     "text": [
      "[Parallel(n_jobs=-1)]: Done   1 out of   1 | elapsed:    0.6s finished\n",
      "[Parallel(n_jobs=-1)]: Using backend ThreadingBackend with 4 concurrent workers.\n"
     ]
    },
    {
     "name": "stdout",
     "output_type": "stream",
     "text": [
      "convergence after 26 epochs took 1 seconds\n"
     ]
    },
    {
     "name": "stderr",
     "output_type": "stream",
     "text": [
      "[Parallel(n_jobs=-1)]: Done   1 out of   1 | elapsed:    0.3s finished\n",
      "[Parallel(n_jobs=-1)]: Using backend ThreadingBackend with 4 concurrent workers.\n"
     ]
    },
    {
     "name": "stdout",
     "output_type": "stream",
     "text": [
      "convergence after 37 epochs took 0 seconds\n"
     ]
    },
    {
     "name": "stderr",
     "output_type": "stream",
     "text": [
      "[Parallel(n_jobs=-1)]: Done   1 out of   1 | elapsed:    0.4s finished\n",
      "[Parallel(n_jobs=-1)]: Using backend ThreadingBackend with 4 concurrent workers.\n"
     ]
    },
    {
     "name": "stdout",
     "output_type": "stream",
     "text": [
      "convergence after 35 epochs took 1 seconds\n"
     ]
    },
    {
     "name": "stderr",
     "output_type": "stream",
     "text": [
      "[Parallel(n_jobs=-1)]: Done   1 out of   1 | elapsed:    0.4s finished\n",
      "[Parallel(n_jobs=-1)]: Using backend ThreadingBackend with 4 concurrent workers.\n"
     ]
    },
    {
     "name": "stdout",
     "output_type": "stream",
     "text": [
      "convergence after 35 epochs took 1 seconds\n"
     ]
    },
    {
     "name": "stderr",
     "output_type": "stream",
     "text": [
      "[Parallel(n_jobs=-1)]: Done   1 out of   1 | elapsed:    0.5s finished\n",
      "[Parallel(n_jobs=-1)]: Using backend ThreadingBackend with 4 concurrent workers.\n"
     ]
    },
    {
     "name": "stdout",
     "output_type": "stream",
     "text": [
      "convergence after 38 epochs took 0 seconds\n"
     ]
    },
    {
     "name": "stderr",
     "output_type": "stream",
     "text": [
      "[Parallel(n_jobs=-1)]: Done   1 out of   1 | elapsed:    0.5s finished\n",
      "[Parallel(n_jobs=-1)]: Using backend ThreadingBackend with 4 concurrent workers.\n"
     ]
    },
    {
     "name": "stdout",
     "output_type": "stream",
     "text": [
      "convergence after 34 epochs took 1 seconds\n"
     ]
    },
    {
     "name": "stderr",
     "output_type": "stream",
     "text": [
      "[Parallel(n_jobs=-1)]: Done   1 out of   1 | elapsed:    0.5s finished\n",
      "[Parallel(n_jobs=-1)]: Using backend ThreadingBackend with 4 concurrent workers.\n"
     ]
    },
    {
     "name": "stdout",
     "output_type": "stream",
     "text": [
      "convergence after 37 epochs took 1 seconds\n"
     ]
    },
    {
     "name": "stderr",
     "output_type": "stream",
     "text": [
      "[Parallel(n_jobs=-1)]: Done   1 out of   1 | elapsed:    0.6s finished\n",
      "[Parallel(n_jobs=-1)]: Using backend ThreadingBackend with 4 concurrent workers.\n"
     ]
    },
    {
     "name": "stdout",
     "output_type": "stream",
     "text": [
      "convergence after 37 epochs took 1 seconds\n"
     ]
    },
    {
     "name": "stderr",
     "output_type": "stream",
     "text": [
      "[Parallel(n_jobs=-1)]: Done   1 out of   1 | elapsed:    0.9s finished\n",
      "[Parallel(n_jobs=-1)]: Using backend ThreadingBackend with 4 concurrent workers.\n"
     ]
    },
    {
     "name": "stdout",
     "output_type": "stream",
     "text": [
      "convergence after 40 epochs took 1 seconds\n"
     ]
    },
    {
     "name": "stderr",
     "output_type": "stream",
     "text": [
      "[Parallel(n_jobs=-1)]: Done   1 out of   1 | elapsed:    0.8s finished\n",
      "[Parallel(n_jobs=-1)]: Using backend ThreadingBackend with 4 concurrent workers.\n"
     ]
    },
    {
     "name": "stdout",
     "output_type": "stream",
     "text": [
      "convergence after 43 epochs took 1 seconds\n"
     ]
    },
    {
     "name": "stderr",
     "output_type": "stream",
     "text": [
      "[Parallel(n_jobs=-1)]: Done   1 out of   1 | elapsed:    1.0s finished\n",
      "[Parallel(n_jobs=-1)]: Using backend ThreadingBackend with 4 concurrent workers.\n"
     ]
    },
    {
     "name": "stdout",
     "output_type": "stream",
     "text": [
      "convergence after 40 epochs took 1 seconds\n"
     ]
    },
    {
     "name": "stderr",
     "output_type": "stream",
     "text": [
      "[Parallel(n_jobs=-1)]: Done   1 out of   1 | elapsed:    1.1s finished\n",
      "[Parallel(n_jobs=-1)]: Using backend ThreadingBackend with 4 concurrent workers.\n"
     ]
    },
    {
     "name": "stdout",
     "output_type": "stream",
     "text": [
      "convergence after 42 epochs took 1 seconds\n"
     ]
    },
    {
     "name": "stderr",
     "output_type": "stream",
     "text": [
      "[Parallel(n_jobs=-1)]: Done   1 out of   1 | elapsed:    0.9s finished\n",
      "[Parallel(n_jobs=-1)]: Using backend ThreadingBackend with 4 concurrent workers.\n"
     ]
    },
    {
     "name": "stdout",
     "output_type": "stream",
     "text": [
      "convergence after 40 epochs took 1 seconds\n"
     ]
    },
    {
     "name": "stderr",
     "output_type": "stream",
     "text": [
      "[Parallel(n_jobs=-1)]: Done   1 out of   1 | elapsed:    0.7s finished\n",
      "[Parallel(n_jobs=-1)]: Using backend ThreadingBackend with 4 concurrent workers.\n"
     ]
    },
    {
     "name": "stdout",
     "output_type": "stream",
     "text": [
      "convergence after 40 epochs took 1 seconds\n"
     ]
    },
    {
     "name": "stderr",
     "output_type": "stream",
     "text": [
      "[Parallel(n_jobs=-1)]: Done   1 out of   1 | elapsed:    0.6s finished\n",
      "[Parallel(n_jobs=-1)]: Using backend ThreadingBackend with 4 concurrent workers.\n"
     ]
    },
    {
     "name": "stdout",
     "output_type": "stream",
     "text": [
      "convergence after 41 epochs took 1 seconds\n"
     ]
    },
    {
     "name": "stderr",
     "output_type": "stream",
     "text": [
      "[Parallel(n_jobs=-1)]: Done   1 out of   1 | elapsed:    0.7s finished\n",
      "[Parallel(n_jobs=-1)]: Using backend ThreadingBackend with 4 concurrent workers.\n"
     ]
    },
    {
     "name": "stdout",
     "output_type": "stream",
     "text": [
      "convergence after 40 epochs took 0 seconds\n"
     ]
    },
    {
     "name": "stderr",
     "output_type": "stream",
     "text": [
      "[Parallel(n_jobs=-1)]: Done   1 out of   1 | elapsed:    0.6s finished\n",
      "[Parallel(n_jobs=-1)]: Using backend ThreadingBackend with 4 concurrent workers.\n"
     ]
    },
    {
     "name": "stdout",
     "output_type": "stream",
     "text": [
      "convergence after 41 epochs took 1 seconds\n"
     ]
    },
    {
     "name": "stderr",
     "output_type": "stream",
     "text": [
      "[Parallel(n_jobs=-1)]: Done   1 out of   1 | elapsed:    0.8s finished\n",
      "[Parallel(n_jobs=-1)]: Using backend ThreadingBackend with 4 concurrent workers.\n"
     ]
    },
    {
     "name": "stdout",
     "output_type": "stream",
     "text": [
      "convergence after 30 epochs took 1 seconds\n"
     ]
    },
    {
     "name": "stderr",
     "output_type": "stream",
     "text": [
      "[Parallel(n_jobs=-1)]: Done   1 out of   1 | elapsed:    0.3s finished\n",
      "[Parallel(n_jobs=-1)]: Using backend ThreadingBackend with 4 concurrent workers.\n"
     ]
    },
    {
     "name": "stdout",
     "output_type": "stream",
     "text": [
      "convergence after 38 epochs took 0 seconds\n"
     ]
    },
    {
     "name": "stderr",
     "output_type": "stream",
     "text": [
      "[Parallel(n_jobs=-1)]: Done   1 out of   1 | elapsed:    0.5s finished\n",
      "[Parallel(n_jobs=-1)]: Using backend ThreadingBackend with 4 concurrent workers.\n"
     ]
    },
    {
     "name": "stdout",
     "output_type": "stream",
     "text": [
      "convergence after 38 epochs took 1 seconds\n"
     ]
    },
    {
     "name": "stderr",
     "output_type": "stream",
     "text": [
      "[Parallel(n_jobs=-1)]: Done   1 out of   1 | elapsed:    0.4s finished\n",
      "[Parallel(n_jobs=-1)]: Using backend ThreadingBackend with 4 concurrent workers.\n"
     ]
    },
    {
     "name": "stdout",
     "output_type": "stream",
     "text": [
      "convergence after 37 epochs took 1 seconds\n"
     ]
    },
    {
     "name": "stderr",
     "output_type": "stream",
     "text": [
      "[Parallel(n_jobs=-1)]: Done   1 out of   1 | elapsed:    0.4s finished\n",
      "[Parallel(n_jobs=-1)]: Using backend ThreadingBackend with 4 concurrent workers.\n"
     ]
    },
    {
     "name": "stdout",
     "output_type": "stream",
     "text": [
      "convergence after 40 epochs took 0 seconds\n"
     ]
    },
    {
     "name": "stderr",
     "output_type": "stream",
     "text": [
      "[Parallel(n_jobs=-1)]: Done   1 out of   1 | elapsed:    0.5s finished\n",
      "[Parallel(n_jobs=-1)]: Using backend ThreadingBackend with 4 concurrent workers.\n"
     ]
    },
    {
     "name": "stdout",
     "output_type": "stream",
     "text": [
      "convergence after 37 epochs took 1 seconds\n"
     ]
    },
    {
     "name": "stderr",
     "output_type": "stream",
     "text": [
      "[Parallel(n_jobs=-1)]: Done   1 out of   1 | elapsed:    0.6s finished\n",
      "[Parallel(n_jobs=-1)]: Using backend ThreadingBackend with 4 concurrent workers.\n"
     ]
    },
    {
     "name": "stdout",
     "output_type": "stream",
     "text": [
      "convergence after 39 epochs took 1 seconds\n"
     ]
    },
    {
     "name": "stderr",
     "output_type": "stream",
     "text": [
      "[Parallel(n_jobs=-1)]: Done   1 out of   1 | elapsed:    0.6s finished\n",
      "[Parallel(n_jobs=-1)]: Using backend ThreadingBackend with 4 concurrent workers.\n"
     ]
    },
    {
     "name": "stdout",
     "output_type": "stream",
     "text": [
      "convergence after 39 epochs took 0 seconds\n"
     ]
    },
    {
     "name": "stderr",
     "output_type": "stream",
     "text": [
      "[Parallel(n_jobs=-1)]: Done   1 out of   1 | elapsed:    0.5s finished\n",
      "[Parallel(n_jobs=-1)]: Using backend ThreadingBackend with 4 concurrent workers.\n"
     ]
    },
    {
     "name": "stdout",
     "output_type": "stream",
     "text": [
      "convergence after 41 epochs took 1 seconds\n"
     ]
    },
    {
     "name": "stderr",
     "output_type": "stream",
     "text": [
      "[Parallel(n_jobs=-1)]: Done   1 out of   1 | elapsed:    0.6s finished\n",
      "[Parallel(n_jobs=-1)]: Using backend ThreadingBackend with 4 concurrent workers.\n"
     ]
    },
    {
     "name": "stdout",
     "output_type": "stream",
     "text": [
      "convergence after 29 epochs took 0 seconds\n"
     ]
    },
    {
     "name": "stderr",
     "output_type": "stream",
     "text": [
      "[Parallel(n_jobs=-1)]: Done   1 out of   1 | elapsed:    0.3s finished\n",
      "[Parallel(n_jobs=-1)]: Using backend ThreadingBackend with 4 concurrent workers.\n"
     ]
    },
    {
     "name": "stdout",
     "output_type": "stream",
     "text": [
      "convergence after 37 epochs took 1 seconds\n"
     ]
    },
    {
     "name": "stderr",
     "output_type": "stream",
     "text": [
      "[Parallel(n_jobs=-1)]: Done   1 out of   1 | elapsed:    0.6s finished\n",
      "[Parallel(n_jobs=-1)]: Using backend ThreadingBackend with 4 concurrent workers.\n"
     ]
    },
    {
     "name": "stdout",
     "output_type": "stream",
     "text": [
      "convergence after 30 epochs took 1 seconds\n"
     ]
    },
    {
     "name": "stderr",
     "output_type": "stream",
     "text": [
      "[Parallel(n_jobs=-1)]: Done   1 out of   1 | elapsed:    0.6s finished\n",
      "[Parallel(n_jobs=-1)]: Using backend ThreadingBackend with 4 concurrent workers.\n"
     ]
    },
    {
     "name": "stdout",
     "output_type": "stream",
     "text": [
      "convergence after 30 epochs took 0 seconds\n"
     ]
    },
    {
     "name": "stderr",
     "output_type": "stream",
     "text": [
      "[Parallel(n_jobs=-1)]: Done   1 out of   1 | elapsed:    0.5s finished\n",
      "[Parallel(n_jobs=-1)]: Using backend ThreadingBackend with 4 concurrent workers.\n"
     ]
    },
    {
     "name": "stdout",
     "output_type": "stream",
     "text": [
      "convergence after 33 epochs took 0 seconds\n"
     ]
    },
    {
     "name": "stderr",
     "output_type": "stream",
     "text": [
      "[Parallel(n_jobs=-1)]: Done   1 out of   1 | elapsed:    0.5s finished\n",
      "[Parallel(n_jobs=-1)]: Using backend ThreadingBackend with 4 concurrent workers.\n"
     ]
    },
    {
     "name": "stdout",
     "output_type": "stream",
     "text": [
      "convergence after 29 epochs took 1 seconds\n"
     ]
    },
    {
     "name": "stderr",
     "output_type": "stream",
     "text": [
      "[Parallel(n_jobs=-1)]: Done   1 out of   1 | elapsed:    0.2s finished\n",
      "[Parallel(n_jobs=-1)]: Using backend ThreadingBackend with 4 concurrent workers.\n"
     ]
    },
    {
     "name": "stdout",
     "output_type": "stream",
     "text": [
      "convergence after 32 epochs took 0 seconds\n"
     ]
    },
    {
     "name": "stderr",
     "output_type": "stream",
     "text": [
      "[Parallel(n_jobs=-1)]: Done   1 out of   1 | elapsed:    0.4s finished\n",
      "[Parallel(n_jobs=-1)]: Using backend ThreadingBackend with 4 concurrent workers.\n"
     ]
    },
    {
     "name": "stdout",
     "output_type": "stream",
     "text": [
      "convergence after 28 epochs took 1 seconds\n"
     ]
    },
    {
     "name": "stderr",
     "output_type": "stream",
     "text": [
      "[Parallel(n_jobs=-1)]: Done   1 out of   1 | elapsed:    0.4s finished\n",
      "[Parallel(n_jobs=-1)]: Using backend ThreadingBackend with 4 concurrent workers.\n"
     ]
    },
    {
     "name": "stdout",
     "output_type": "stream",
     "text": [
      "convergence after 28 epochs took 0 seconds\n"
     ]
    },
    {
     "name": "stderr",
     "output_type": "stream",
     "text": [
      "[Parallel(n_jobs=-1)]: Done   1 out of   1 | elapsed:    0.4s finished\n",
      "[Parallel(n_jobs=-1)]: Using backend ThreadingBackend with 4 concurrent workers.\n"
     ]
    },
    {
     "name": "stdout",
     "output_type": "stream",
     "text": [
      "convergence after 27 epochs took 1 seconds\n"
     ]
    },
    {
     "name": "stderr",
     "output_type": "stream",
     "text": [
      "[Parallel(n_jobs=-1)]: Done   1 out of   1 | elapsed:    0.5s finished\n",
      "[Parallel(n_jobs=-1)]: Using backend ThreadingBackend with 4 concurrent workers.\n"
     ]
    },
    {
     "name": "stdout",
     "output_type": "stream",
     "text": [
      "convergence after 30 epochs took 1 seconds\n"
     ]
    },
    {
     "name": "stderr",
     "output_type": "stream",
     "text": [
      "[Parallel(n_jobs=-1)]: Done   1 out of   1 | elapsed:    0.5s finished\n",
      "[Parallel(n_jobs=-1)]: Using backend ThreadingBackend with 4 concurrent workers.\n"
     ]
    },
    {
     "name": "stdout",
     "output_type": "stream",
     "text": [
      "convergence after 26 epochs took 0 seconds\n"
     ]
    },
    {
     "name": "stderr",
     "output_type": "stream",
     "text": [
      "[Parallel(n_jobs=-1)]: Done   1 out of   1 | elapsed:    0.6s finished\n",
      "[Parallel(n_jobs=-1)]: Using backend ThreadingBackend with 4 concurrent workers.\n"
     ]
    },
    {
     "name": "stdout",
     "output_type": "stream",
     "text": [
      "convergence after 29 epochs took 0 seconds\n"
     ]
    },
    {
     "name": "stderr",
     "output_type": "stream",
     "text": [
      "[Parallel(n_jobs=-1)]: Done   1 out of   1 | elapsed:    0.6s finished\n",
      "[Parallel(n_jobs=-1)]: Using backend ThreadingBackend with 4 concurrent workers.\n"
     ]
    },
    {
     "name": "stdout",
     "output_type": "stream",
     "text": [
      "convergence after 29 epochs took 1 seconds\n"
     ]
    },
    {
     "name": "stderr",
     "output_type": "stream",
     "text": [
      "[Parallel(n_jobs=-1)]: Done   1 out of   1 | elapsed:    0.3s finished\n",
      "[Parallel(n_jobs=-1)]: Using backend ThreadingBackend with 4 concurrent workers.\n"
     ]
    },
    {
     "name": "stdout",
     "output_type": "stream",
     "text": [
      "convergence after 40 epochs took 1 seconds\n"
     ]
    },
    {
     "name": "stderr",
     "output_type": "stream",
     "text": [
      "[Parallel(n_jobs=-1)]: Done   1 out of   1 | elapsed:    0.7s finished\n",
      "[Parallel(n_jobs=-1)]: Using backend ThreadingBackend with 4 concurrent workers.\n"
     ]
    },
    {
     "name": "stdout",
     "output_type": "stream",
     "text": [
      "convergence after 26 epochs took 0 seconds\n"
     ]
    },
    {
     "name": "stderr",
     "output_type": "stream",
     "text": [
      "[Parallel(n_jobs=-1)]: Done   1 out of   1 | elapsed:    0.4s finished\n",
      "[Parallel(n_jobs=-1)]: Using backend ThreadingBackend with 4 concurrent workers.\n"
     ]
    },
    {
     "name": "stdout",
     "output_type": "stream",
     "text": [
      "convergence after 33 epochs took 1 seconds\n"
     ]
    },
    {
     "name": "stderr",
     "output_type": "stream",
     "text": [
      "[Parallel(n_jobs=-1)]: Done   1 out of   1 | elapsed:    0.7s finished\n",
      "[Parallel(n_jobs=-1)]: Using backend ThreadingBackend with 4 concurrent workers.\n"
     ]
    },
    {
     "name": "stdout",
     "output_type": "stream",
     "text": [
      "convergence after 28 epochs took 1 seconds\n"
     ]
    },
    {
     "name": "stderr",
     "output_type": "stream",
     "text": [
      "[Parallel(n_jobs=-1)]: Done   1 out of   1 | elapsed:    0.4s finished\n",
      "[Parallel(n_jobs=-1)]: Using backend ThreadingBackend with 4 concurrent workers.\n"
     ]
    },
    {
     "name": "stdout",
     "output_type": "stream",
     "text": [
      "convergence after 26 epochs took 0 seconds\n"
     ]
    },
    {
     "name": "stderr",
     "output_type": "stream",
     "text": [
      "[Parallel(n_jobs=-1)]: Done   1 out of   1 | elapsed:    0.5s finished\n",
      "[Parallel(n_jobs=-1)]: Using backend ThreadingBackend with 4 concurrent workers.\n"
     ]
    },
    {
     "name": "stdout",
     "output_type": "stream",
     "text": [
      "convergence after 30 epochs took 1 seconds\n"
     ]
    },
    {
     "name": "stderr",
     "output_type": "stream",
     "text": [
      "[Parallel(n_jobs=-1)]: Done   1 out of   1 | elapsed:    0.5s finished\n",
      "[Parallel(n_jobs=-1)]: Using backend ThreadingBackend with 4 concurrent workers.\n"
     ]
    },
    {
     "name": "stdout",
     "output_type": "stream",
     "text": [
      "convergence after 26 epochs took 0 seconds\n"
     ]
    },
    {
     "name": "stderr",
     "output_type": "stream",
     "text": [
      "[Parallel(n_jobs=-1)]: Done   1 out of   1 | elapsed:    0.3s finished\n",
      "[Parallel(n_jobs=-1)]: Using backend ThreadingBackend with 4 concurrent workers.\n"
     ]
    },
    {
     "name": "stdout",
     "output_type": "stream",
     "text": [
      "convergence after 29 epochs took 0 seconds\n"
     ]
    },
    {
     "name": "stderr",
     "output_type": "stream",
     "text": [
      "[Parallel(n_jobs=-1)]: Done   1 out of   1 | elapsed:    0.3s finished\n",
      "[Parallel(n_jobs=-1)]: Using backend ThreadingBackend with 4 concurrent workers.\n"
     ]
    },
    {
     "name": "stdout",
     "output_type": "stream",
     "text": [
      "convergence after 25 epochs took 0 seconds\n"
     ]
    },
    {
     "name": "stderr",
     "output_type": "stream",
     "text": [
      "[Parallel(n_jobs=-1)]: Done   1 out of   1 | elapsed:    0.4s finished\n",
      "[Parallel(n_jobs=-1)]: Using backend ThreadingBackend with 4 concurrent workers.\n"
     ]
    },
    {
     "name": "stdout",
     "output_type": "stream",
     "text": [
      "convergence after 23 epochs took 0 seconds\n"
     ]
    },
    {
     "name": "stderr",
     "output_type": "stream",
     "text": [
      "[Parallel(n_jobs=-1)]: Done   1 out of   1 | elapsed:    0.4s finished\n",
      "[Parallel(n_jobs=-1)]: Using backend ThreadingBackend with 4 concurrent workers.\n"
     ]
    },
    {
     "name": "stdout",
     "output_type": "stream",
     "text": [
      "convergence after 24 epochs took 1 seconds\n"
     ]
    },
    {
     "name": "stderr",
     "output_type": "stream",
     "text": [
      "[Parallel(n_jobs=-1)]: Done   1 out of   1 | elapsed:    0.4s finished\n",
      "[Parallel(n_jobs=-1)]: Using backend ThreadingBackend with 4 concurrent workers.\n"
     ]
    },
    {
     "name": "stdout",
     "output_type": "stream",
     "text": [
      "convergence after 26 epochs took 0 seconds\n"
     ]
    },
    {
     "name": "stderr",
     "output_type": "stream",
     "text": [
      "[Parallel(n_jobs=-1)]: Done   1 out of   1 | elapsed:    0.3s finished\n",
      "[Parallel(n_jobs=-1)]: Using backend ThreadingBackend with 4 concurrent workers.\n",
      "[Parallel(n_jobs=-1)]: Done   1 out of   1 | elapsed:    0.5s finished\n",
      "[Parallel(n_jobs=-1)]: Using backend ThreadingBackend with 4 concurrent workers.\n"
     ]
    },
    {
     "name": "stdout",
     "output_type": "stream",
     "text": [
      "convergence after 26 epochs took 1 seconds\n",
      "convergence after 26 epochs took 0 seconds\n"
     ]
    },
    {
     "name": "stderr",
     "output_type": "stream",
     "text": [
      "[Parallel(n_jobs=-1)]: Done   1 out of   1 | elapsed:    0.5s finished\n",
      "[Parallel(n_jobs=-1)]: Using backend ThreadingBackend with 4 concurrent workers.\n"
     ]
    },
    {
     "name": "stdout",
     "output_type": "stream",
     "text": [
      "convergence after 40 epochs took 1 seconds\n"
     ]
    },
    {
     "name": "stderr",
     "output_type": "stream",
     "text": [
      "[Parallel(n_jobs=-1)]: Done   1 out of   1 | elapsed:    0.6s finished\n",
      "[Parallel(n_jobs=-1)]: Using backend ThreadingBackend with 4 concurrent workers.\n"
     ]
    },
    {
     "name": "stdout",
     "output_type": "stream",
     "text": [
      "convergence after 33 epochs took 1 seconds\n"
     ]
    },
    {
     "name": "stderr",
     "output_type": "stream",
     "text": [
      "[Parallel(n_jobs=-1)]: Done   1 out of   1 | elapsed:    0.6s finished\n",
      "[Parallel(n_jobs=-1)]: Using backend ThreadingBackend with 4 concurrent workers.\n"
     ]
    },
    {
     "name": "stdout",
     "output_type": "stream",
     "text": [
      "convergence after 34 epochs took 1 seconds\n"
     ]
    },
    {
     "name": "stderr",
     "output_type": "stream",
     "text": [
      "[Parallel(n_jobs=-1)]: Done   1 out of   1 | elapsed:    0.6s finished\n",
      "[Parallel(n_jobs=-1)]: Using backend ThreadingBackend with 4 concurrent workers.\n"
     ]
    },
    {
     "name": "stdout",
     "output_type": "stream",
     "text": [
      "convergence after 29 epochs took 0 seconds\n"
     ]
    },
    {
     "name": "stderr",
     "output_type": "stream",
     "text": [
      "[Parallel(n_jobs=-1)]: Done   1 out of   1 | elapsed:    0.4s finished\n",
      "[Parallel(n_jobs=-1)]: Using backend ThreadingBackend with 4 concurrent workers.\n"
     ]
    },
    {
     "name": "stdout",
     "output_type": "stream",
     "text": [
      "convergence after 36 epochs took 1 seconds\n"
     ]
    },
    {
     "name": "stderr",
     "output_type": "stream",
     "text": [
      "[Parallel(n_jobs=-1)]: Done   1 out of   1 | elapsed:    0.7s finished\n",
      "[Parallel(n_jobs=-1)]: Using backend ThreadingBackend with 4 concurrent workers.\n"
     ]
    },
    {
     "name": "stdout",
     "output_type": "stream",
     "text": [
      "convergence after 33 epochs took 1 seconds\n"
     ]
    },
    {
     "name": "stderr",
     "output_type": "stream",
     "text": [
      "[Parallel(n_jobs=-1)]: Done   1 out of   1 | elapsed:    0.9s finished\n",
      "[Parallel(n_jobs=-1)]: Using backend ThreadingBackend with 4 concurrent workers.\n"
     ]
    },
    {
     "name": "stdout",
     "output_type": "stream",
     "text": [
      "convergence after 35 epochs took 1 seconds\n"
     ]
    },
    {
     "name": "stderr",
     "output_type": "stream",
     "text": [
      "[Parallel(n_jobs=-1)]: Done   1 out of   1 | elapsed:    0.5s finished\n",
      "[Parallel(n_jobs=-1)]: Using backend ThreadingBackend with 4 concurrent workers.\n"
     ]
    },
    {
     "name": "stdout",
     "output_type": "stream",
     "text": [
      "convergence after 34 epochs took 1 seconds\n"
     ]
    },
    {
     "name": "stderr",
     "output_type": "stream",
     "text": [
      "[Parallel(n_jobs=-1)]: Done   1 out of   1 | elapsed:    0.8s finished\n",
      "[Parallel(n_jobs=-1)]: Using backend ThreadingBackend with 4 concurrent workers.\n"
     ]
    },
    {
     "name": "stdout",
     "output_type": "stream",
     "text": [
      "convergence after 35 epochs took 1 seconds\n"
     ]
    },
    {
     "name": "stderr",
     "output_type": "stream",
     "text": [
      "[Parallel(n_jobs=-1)]: Done   1 out of   1 | elapsed:    0.7s finished\n",
      "[Parallel(n_jobs=-1)]: Using backend ThreadingBackend with 4 concurrent workers.\n"
     ]
    },
    {
     "name": "stdout",
     "output_type": "stream",
     "text": [
      "convergence after 32 epochs took 0 seconds\n"
     ]
    },
    {
     "name": "stderr",
     "output_type": "stream",
     "text": [
      "[Parallel(n_jobs=-1)]: Done   1 out of   1 | elapsed:    0.6s finished\n",
      "[Parallel(n_jobs=-1)]: Using backend ThreadingBackend with 4 concurrent workers.\n"
     ]
    },
    {
     "name": "stdout",
     "output_type": "stream",
     "text": [
      "convergence after 34 epochs took 1 seconds\n"
     ]
    },
    {
     "name": "stderr",
     "output_type": "stream",
     "text": [
      "[Parallel(n_jobs=-1)]: Done   1 out of   1 | elapsed:    0.8s finished\n",
      "[Parallel(n_jobs=-1)]: Using backend ThreadingBackend with 4 concurrent workers.\n"
     ]
    },
    {
     "name": "stdout",
     "output_type": "stream",
     "text": [
      "convergence after 33 epochs took 1 seconds\n"
     ]
    },
    {
     "name": "stderr",
     "output_type": "stream",
     "text": [
      "[Parallel(n_jobs=-1)]: Done   1 out of   1 | elapsed:    0.7s finished\n",
      "[Parallel(n_jobs=-1)]: Using backend ThreadingBackend with 4 concurrent workers.\n"
     ]
    },
    {
     "name": "stdout",
     "output_type": "stream",
     "text": [
      "convergence after 33 epochs took 1 seconds\n"
     ]
    },
    {
     "name": "stderr",
     "output_type": "stream",
     "text": [
      "[Parallel(n_jobs=-1)]: Done   1 out of   1 | elapsed:    0.6s finished\n",
      "[Parallel(n_jobs=-1)]: Using backend ThreadingBackend with 4 concurrent workers.\n"
     ]
    },
    {
     "name": "stdout",
     "output_type": "stream",
     "text": [
      "convergence after 43 epochs took 1 seconds\n"
     ]
    },
    {
     "name": "stderr",
     "output_type": "stream",
     "text": [
      "[Parallel(n_jobs=-1)]: Done   1 out of   1 | elapsed:    0.6s finished\n",
      "[Parallel(n_jobs=-1)]: Using backend ThreadingBackend with 4 concurrent workers.\n"
     ]
    },
    {
     "name": "stdout",
     "output_type": "stream",
     "text": [
      "convergence after 33 epochs took 0 seconds\n"
     ]
    },
    {
     "name": "stderr",
     "output_type": "stream",
     "text": [
      "[Parallel(n_jobs=-1)]: Done   1 out of   1 | elapsed:    0.6s finished\n",
      "[Parallel(n_jobs=-1)]: Using backend ThreadingBackend with 4 concurrent workers.\n"
     ]
    },
    {
     "name": "stdout",
     "output_type": "stream",
     "text": [
      "convergence after 28 epochs took 0 seconds\n"
     ]
    },
    {
     "name": "stderr",
     "output_type": "stream",
     "text": [
      "[Parallel(n_jobs=-1)]: Done   1 out of   1 | elapsed:    0.5s finished\n",
      "[Parallel(n_jobs=-1)]: Using backend ThreadingBackend with 4 concurrent workers.\n"
     ]
    },
    {
     "name": "stdout",
     "output_type": "stream",
     "text": [
      "convergence after 35 epochs took 1 seconds\n"
     ]
    },
    {
     "name": "stderr",
     "output_type": "stream",
     "text": [
      "[Parallel(n_jobs=-1)]: Done   1 out of   1 | elapsed:    0.8s finished\n",
      "[Parallel(n_jobs=-1)]: Using backend ThreadingBackend with 4 concurrent workers.\n"
     ]
    },
    {
     "name": "stdout",
     "output_type": "stream",
     "text": [
      "convergence after 33 epochs took 1 seconds\n"
     ]
    },
    {
     "name": "stderr",
     "output_type": "stream",
     "text": [
      "[Parallel(n_jobs=-1)]: Done   1 out of   1 | elapsed:    0.3s finished\n",
      "[Parallel(n_jobs=-1)]: Using backend ThreadingBackend with 4 concurrent workers.\n"
     ]
    },
    {
     "name": "stdout",
     "output_type": "stream",
     "text": [
      "convergence after 34 epochs took 0 seconds\n"
     ]
    },
    {
     "name": "stderr",
     "output_type": "stream",
     "text": [
      "[Parallel(n_jobs=-1)]: Done   1 out of   1 | elapsed:    0.5s finished\n",
      "[Parallel(n_jobs=-1)]: Using backend ThreadingBackend with 4 concurrent workers.\n"
     ]
    },
    {
     "name": "stdout",
     "output_type": "stream",
     "text": [
      "convergence after 33 epochs took 1 seconds\n"
     ]
    },
    {
     "name": "stderr",
     "output_type": "stream",
     "text": [
      "[Parallel(n_jobs=-1)]: Done   1 out of   1 | elapsed:    0.6s finished\n",
      "[Parallel(n_jobs=-1)]: Using backend ThreadingBackend with 4 concurrent workers.\n"
     ]
    },
    {
     "name": "stdout",
     "output_type": "stream",
     "text": [
      "convergence after 34 epochs took 1 seconds\n"
     ]
    },
    {
     "name": "stderr",
     "output_type": "stream",
     "text": [
      "[Parallel(n_jobs=-1)]: Done   1 out of   1 | elapsed:    0.5s finished\n",
      "[Parallel(n_jobs=-1)]: Using backend ThreadingBackend with 4 concurrent workers.\n"
     ]
    },
    {
     "name": "stdout",
     "output_type": "stream",
     "text": [
      "convergence after 30 epochs took 0 seconds\n"
     ]
    },
    {
     "name": "stderr",
     "output_type": "stream",
     "text": [
      "[Parallel(n_jobs=-1)]: Done   1 out of   1 | elapsed:    0.4s finished\n",
      "[Parallel(n_jobs=-1)]: Using backend ThreadingBackend with 4 concurrent workers.\n"
     ]
    },
    {
     "name": "stdout",
     "output_type": "stream",
     "text": [
      "convergence after 33 epochs took 1 seconds\n"
     ]
    },
    {
     "name": "stderr",
     "output_type": "stream",
     "text": [
      "[Parallel(n_jobs=-1)]: Done   1 out of   1 | elapsed:    0.5s finished\n",
      "[Parallel(n_jobs=-1)]: Using backend ThreadingBackend with 4 concurrent workers.\n"
     ]
    },
    {
     "name": "stdout",
     "output_type": "stream",
     "text": [
      "convergence after 33 epochs took 1 seconds\n"
     ]
    },
    {
     "name": "stderr",
     "output_type": "stream",
     "text": [
      "[Parallel(n_jobs=-1)]: Done   1 out of   1 | elapsed:    0.5s finished\n",
      "[Parallel(n_jobs=-1)]: Using backend ThreadingBackend with 4 concurrent workers.\n"
     ]
    },
    {
     "name": "stdout",
     "output_type": "stream",
     "text": [
      "convergence after 32 epochs took 0 seconds\n"
     ]
    },
    {
     "name": "stderr",
     "output_type": "stream",
     "text": [
      "[Parallel(n_jobs=-1)]: Done   1 out of   1 | elapsed:    0.5s finished\n",
      "[Parallel(n_jobs=-1)]: Using backend ThreadingBackend with 4 concurrent workers.\n"
     ]
    },
    {
     "name": "stdout",
     "output_type": "stream",
     "text": [
      "convergence after 42 epochs took 1 seconds\n"
     ]
    },
    {
     "name": "stderr",
     "output_type": "stream",
     "text": [
      "[Parallel(n_jobs=-1)]: Done   1 out of   1 | elapsed:    0.6s finished\n",
      "[Parallel(n_jobs=-1)]: Using backend ThreadingBackend with 4 concurrent workers.\n"
     ]
    },
    {
     "name": "stdout",
     "output_type": "stream",
     "text": [
      "convergence after 29 epochs took 1 seconds\n"
     ]
    },
    {
     "name": "stderr",
     "output_type": "stream",
     "text": [
      "[Parallel(n_jobs=-1)]: Done   1 out of   1 | elapsed:    0.6s finished\n",
      "[Parallel(n_jobs=-1)]: Using backend ThreadingBackend with 4 concurrent workers.\n"
     ]
    },
    {
     "name": "stdout",
     "output_type": "stream",
     "text": [
      "convergence after 36 epochs took 0 seconds\n"
     ]
    },
    {
     "name": "stderr",
     "output_type": "stream",
     "text": [
      "[Parallel(n_jobs=-1)]: Done   1 out of   1 | elapsed:    0.5s finished\n",
      "[Parallel(n_jobs=-1)]: Using backend ThreadingBackend with 4 concurrent workers.\n"
     ]
    },
    {
     "name": "stdout",
     "output_type": "stream",
     "text": [
      "convergence after 33 epochs took 1 seconds\n"
     ]
    },
    {
     "name": "stderr",
     "output_type": "stream",
     "text": [
      "[Parallel(n_jobs=-1)]: Done   1 out of   1 | elapsed:    0.5s finished\n",
      "[Parallel(n_jobs=-1)]: Using backend ThreadingBackend with 4 concurrent workers.\n"
     ]
    },
    {
     "name": "stdout",
     "output_type": "stream",
     "text": [
      "convergence after 34 epochs took 1 seconds\n"
     ]
    },
    {
     "name": "stderr",
     "output_type": "stream",
     "text": [
      "[Parallel(n_jobs=-1)]: Done   1 out of   1 | elapsed:    0.6s finished\n",
      "[Parallel(n_jobs=-1)]: Using backend ThreadingBackend with 4 concurrent workers.\n"
     ]
    },
    {
     "name": "stdout",
     "output_type": "stream",
     "text": [
      "convergence after 33 epochs took 1 seconds\n"
     ]
    },
    {
     "name": "stderr",
     "output_type": "stream",
     "text": [
      "[Parallel(n_jobs=-1)]: Done   1 out of   1 | elapsed:    0.6s finished\n",
      "[Parallel(n_jobs=-1)]: Using backend ThreadingBackend with 4 concurrent workers.\n"
     ]
    },
    {
     "name": "stdout",
     "output_type": "stream",
     "text": [
      "convergence after 35 epochs took 0 seconds\n"
     ]
    },
    {
     "name": "stderr",
     "output_type": "stream",
     "text": [
      "[Parallel(n_jobs=-1)]: Done   1 out of   1 | elapsed:    0.6s finished\n",
      "[Parallel(n_jobs=-1)]: Using backend ThreadingBackend with 4 concurrent workers.\n"
     ]
    },
    {
     "name": "stdout",
     "output_type": "stream",
     "text": [
      "convergence after 30 epochs took 0 seconds\n"
     ]
    },
    {
     "name": "stderr",
     "output_type": "stream",
     "text": [
      "[Parallel(n_jobs=-1)]: Done   1 out of   1 | elapsed:    0.9s finished\n",
      "[Parallel(n_jobs=-1)]: Using backend ThreadingBackend with 4 concurrent workers.\n"
     ]
    },
    {
     "name": "stdout",
     "output_type": "stream",
     "text": [
      "convergence after 34 epochs took 1 seconds\n"
     ]
    },
    {
     "name": "stderr",
     "output_type": "stream",
     "text": [
      "[Parallel(n_jobs=-1)]: Done   1 out of   1 | elapsed:    0.9s finished\n",
      "[Parallel(n_jobs=-1)]: Using backend ThreadingBackend with 4 concurrent workers.\n"
     ]
    },
    {
     "name": "stdout",
     "output_type": "stream",
     "text": [
      "convergence after 33 epochs took 0 seconds\n"
     ]
    },
    {
     "name": "stderr",
     "output_type": "stream",
     "text": [
      "[Parallel(n_jobs=-1)]: Done   1 out of   1 | elapsed:    0.7s finished\n",
      "[Parallel(n_jobs=-1)]: Using backend ThreadingBackend with 4 concurrent workers.\n"
     ]
    },
    {
     "name": "stdout",
     "output_type": "stream",
     "text": [
      "convergence after 33 epochs took 1 seconds\n"
     ]
    },
    {
     "name": "stderr",
     "output_type": "stream",
     "text": [
      "[Parallel(n_jobs=-1)]: Done   1 out of   1 | elapsed:    0.7s finished\n",
      "[Parallel(n_jobs=-1)]: Using backend ThreadingBackend with 4 concurrent workers.\n"
     ]
    },
    {
     "name": "stdout",
     "output_type": "stream",
     "text": [
      "convergence after 40 epochs took 1 seconds\n"
     ]
    },
    {
     "name": "stderr",
     "output_type": "stream",
     "text": [
      "[Parallel(n_jobs=-1)]: Done   1 out of   1 | elapsed:    0.7s finished\n",
      "[Parallel(n_jobs=-1)]: Using backend ThreadingBackend with 4 concurrent workers.\n"
     ]
    },
    {
     "name": "stdout",
     "output_type": "stream",
     "text": [
      "convergence after 42 epochs took 1 seconds\n"
     ]
    },
    {
     "name": "stderr",
     "output_type": "stream",
     "text": [
      "[Parallel(n_jobs=-1)]: Done   1 out of   1 | elapsed:    0.7s finished\n",
      "[Parallel(n_jobs=-1)]: Using backend ThreadingBackend with 4 concurrent workers.\n"
     ]
    },
    {
     "name": "stdout",
     "output_type": "stream",
     "text": [
      "convergence after 42 epochs took 1 seconds\n"
     ]
    },
    {
     "name": "stderr",
     "output_type": "stream",
     "text": [
      "[Parallel(n_jobs=-1)]: Done   1 out of   1 | elapsed:    0.8s finished\n",
      "[Parallel(n_jobs=-1)]: Using backend ThreadingBackend with 4 concurrent workers.\n"
     ]
    },
    {
     "name": "stdout",
     "output_type": "stream",
     "text": [
      "convergence after 42 epochs took 1 seconds\n"
     ]
    },
    {
     "name": "stderr",
     "output_type": "stream",
     "text": [
      "[Parallel(n_jobs=-1)]: Done   1 out of   1 | elapsed:    0.6s finished\n",
      "[Parallel(n_jobs=-1)]: Using backend ThreadingBackend with 4 concurrent workers.\n"
     ]
    },
    {
     "name": "stdout",
     "output_type": "stream",
     "text": [
      "convergence after 41 epochs took 0 seconds\n"
     ]
    },
    {
     "name": "stderr",
     "output_type": "stream",
     "text": [
      "[Parallel(n_jobs=-1)]: Done   1 out of   1 | elapsed:    0.7s finished\n",
      "[Parallel(n_jobs=-1)]: Using backend ThreadingBackend with 4 concurrent workers.\n"
     ]
    },
    {
     "name": "stdout",
     "output_type": "stream",
     "text": [
      "convergence after 42 epochs took 0 seconds\n"
     ]
    },
    {
     "name": "stderr",
     "output_type": "stream",
     "text": [
      "[Parallel(n_jobs=-1)]: Done   1 out of   1 | elapsed:    0.7s finished\n",
      "[Parallel(n_jobs=-1)]: Using backend ThreadingBackend with 4 concurrent workers.\n"
     ]
    },
    {
     "name": "stdout",
     "output_type": "stream",
     "text": [
      "convergence after 42 epochs took 1 seconds\n"
     ]
    },
    {
     "name": "stderr",
     "output_type": "stream",
     "text": [
      "[Parallel(n_jobs=-1)]: Done   1 out of   1 | elapsed:    0.6s finished\n",
      "[Parallel(n_jobs=-1)]: Using backend ThreadingBackend with 4 concurrent workers.\n"
     ]
    },
    {
     "name": "stdout",
     "output_type": "stream",
     "text": [
      "convergence after 42 epochs took 1 seconds\n"
     ]
    },
    {
     "name": "stderr",
     "output_type": "stream",
     "text": [
      "[Parallel(n_jobs=-1)]: Done   1 out of   1 | elapsed:    0.8s finished\n",
      "[Parallel(n_jobs=-1)]: Using backend ThreadingBackend with 4 concurrent workers.\n"
     ]
    },
    {
     "name": "stdout",
     "output_type": "stream",
     "text": [
      "convergence after 42 epochs took 1 seconds\n"
     ]
    },
    {
     "name": "stderr",
     "output_type": "stream",
     "text": [
      "[Parallel(n_jobs=-1)]: Done   1 out of   1 | elapsed:    0.9s finished\n",
      "[Parallel(n_jobs=-1)]: Using backend ThreadingBackend with 4 concurrent workers.\n"
     ]
    },
    {
     "name": "stdout",
     "output_type": "stream",
     "text": [
      "convergence after 42 epochs took 1 seconds\n"
     ]
    },
    {
     "name": "stderr",
     "output_type": "stream",
     "text": [
      "[Parallel(n_jobs=-1)]: Done   1 out of   1 | elapsed:    0.6s finished\n",
      "[Parallel(n_jobs=-1)]: Using backend ThreadingBackend with 4 concurrent workers.\n"
     ]
    },
    {
     "name": "stdout",
     "output_type": "stream",
     "text": [
      "convergence after 38 epochs took 1 seconds\n"
     ]
    },
    {
     "name": "stderr",
     "output_type": "stream",
     "text": [
      "[Parallel(n_jobs=-1)]: Done   1 out of   1 | elapsed:    0.7s finished\n",
      "[Parallel(n_jobs=-1)]: Using backend ThreadingBackend with 4 concurrent workers.\n"
     ]
    },
    {
     "name": "stdout",
     "output_type": "stream",
     "text": [
      "convergence after 42 epochs took 1 seconds\n"
     ]
    },
    {
     "name": "stderr",
     "output_type": "stream",
     "text": [
      "[Parallel(n_jobs=-1)]: Done   1 out of   1 | elapsed:    0.6s finished\n",
      "[Parallel(n_jobs=-1)]: Using backend ThreadingBackend with 4 concurrent workers.\n"
     ]
    },
    {
     "name": "stdout",
     "output_type": "stream",
     "text": [
      "convergence after 43 epochs took 0 seconds\n"
     ]
    },
    {
     "name": "stderr",
     "output_type": "stream",
     "text": [
      "[Parallel(n_jobs=-1)]: Done   1 out of   1 | elapsed:    0.7s finished\n",
      "[Parallel(n_jobs=-1)]: Using backend ThreadingBackend with 4 concurrent workers.\n"
     ]
    },
    {
     "name": "stdout",
     "output_type": "stream",
     "text": [
      "convergence after 41 epochs took 1 seconds\n"
     ]
    },
    {
     "name": "stderr",
     "output_type": "stream",
     "text": [
      "[Parallel(n_jobs=-1)]: Done   1 out of   1 | elapsed:    0.6s finished\n",
      "[Parallel(n_jobs=-1)]: Using backend ThreadingBackend with 4 concurrent workers.\n"
     ]
    },
    {
     "name": "stdout",
     "output_type": "stream",
     "text": [
      "convergence after 43 epochs took 1 seconds\n"
     ]
    },
    {
     "name": "stderr",
     "output_type": "stream",
     "text": [
      "[Parallel(n_jobs=-1)]: Done   1 out of   1 | elapsed:    0.8s finished\n",
      "[Parallel(n_jobs=-1)]: Using backend ThreadingBackend with 4 concurrent workers.\n"
     ]
    },
    {
     "name": "stdout",
     "output_type": "stream",
     "text": [
      "convergence after 41 epochs took 1 seconds\n"
     ]
    },
    {
     "name": "stderr",
     "output_type": "stream",
     "text": [
      "[Parallel(n_jobs=-1)]: Done   1 out of   1 | elapsed:    0.6s finished\n",
      "[Parallel(n_jobs=-1)]: Using backend ThreadingBackend with 4 concurrent workers.\n"
     ]
    },
    {
     "name": "stdout",
     "output_type": "stream",
     "text": [
      "convergence after 42 epochs took 1 seconds\n"
     ]
    },
    {
     "name": "stderr",
     "output_type": "stream",
     "text": [
      "[Parallel(n_jobs=-1)]: Done   1 out of   1 | elapsed:    0.7s finished\n",
      "[Parallel(n_jobs=-1)]: Using backend ThreadingBackend with 4 concurrent workers.\n"
     ]
    },
    {
     "name": "stdout",
     "output_type": "stream",
     "text": [
      "convergence after 42 epochs took 0 seconds\n"
     ]
    },
    {
     "name": "stderr",
     "output_type": "stream",
     "text": [
      "[Parallel(n_jobs=-1)]: Done   1 out of   1 | elapsed:    0.6s finished\n",
      "[Parallel(n_jobs=-1)]: Using backend ThreadingBackend with 4 concurrent workers.\n"
     ]
    },
    {
     "name": "stdout",
     "output_type": "stream",
     "text": [
      "convergence after 42 epochs took 0 seconds\n"
     ]
    },
    {
     "name": "stderr",
     "output_type": "stream",
     "text": [
      "[Parallel(n_jobs=-1)]: Done   1 out of   1 | elapsed:    0.7s finished\n",
      "[Parallel(n_jobs=-1)]: Using backend ThreadingBackend with 4 concurrent workers.\n"
     ]
    },
    {
     "name": "stdout",
     "output_type": "stream",
     "text": [
      "convergence after 38 epochs took 1 seconds\n"
     ]
    },
    {
     "name": "stderr",
     "output_type": "stream",
     "text": [
      "[Parallel(n_jobs=-1)]: Done   1 out of   1 | elapsed:    0.5s finished\n",
      "[Parallel(n_jobs=-1)]: Using backend ThreadingBackend with 4 concurrent workers.\n"
     ]
    },
    {
     "name": "stdout",
     "output_type": "stream",
     "text": [
      "convergence after 41 epochs took 1 seconds\n"
     ]
    },
    {
     "name": "stderr",
     "output_type": "stream",
     "text": [
      "[Parallel(n_jobs=-1)]: Done   1 out of   1 | elapsed:    1.2s finished\n",
      "[Parallel(n_jobs=-1)]: Using backend ThreadingBackend with 4 concurrent workers.\n"
     ]
    },
    {
     "name": "stdout",
     "output_type": "stream",
     "text": [
      "convergence after 41 epochs took 1 seconds\n"
     ]
    },
    {
     "name": "stderr",
     "output_type": "stream",
     "text": [
      "[Parallel(n_jobs=-1)]: Done   1 out of   1 | elapsed:    0.7s finished\n",
      "[Parallel(n_jobs=-1)]: Using backend ThreadingBackend with 4 concurrent workers.\n"
     ]
    },
    {
     "name": "stdout",
     "output_type": "stream",
     "text": [
      "convergence after 42 epochs took 1 seconds\n"
     ]
    },
    {
     "name": "stderr",
     "output_type": "stream",
     "text": [
      "[Parallel(n_jobs=-1)]: Done   1 out of   1 | elapsed:    0.8s finished\n",
      "[Parallel(n_jobs=-1)]: Using backend ThreadingBackend with 4 concurrent workers.\n"
     ]
    },
    {
     "name": "stdout",
     "output_type": "stream",
     "text": [
      "convergence after 40 epochs took 1 seconds\n"
     ]
    },
    {
     "name": "stderr",
     "output_type": "stream",
     "text": [
      "[Parallel(n_jobs=-1)]: Done   1 out of   1 | elapsed:    0.7s finished\n",
      "[Parallel(n_jobs=-1)]: Using backend ThreadingBackend with 4 concurrent workers.\n"
     ]
    },
    {
     "name": "stdout",
     "output_type": "stream",
     "text": [
      "convergence after 41 epochs took 1 seconds\n"
     ]
    },
    {
     "name": "stderr",
     "output_type": "stream",
     "text": [
      "[Parallel(n_jobs=-1)]: Done   1 out of   1 | elapsed:    0.6s finished\n",
      "[Parallel(n_jobs=-1)]: Using backend ThreadingBackend with 4 concurrent workers.\n"
     ]
    },
    {
     "name": "stdout",
     "output_type": "stream",
     "text": [
      "convergence after 41 epochs took 1 seconds\n"
     ]
    },
    {
     "name": "stderr",
     "output_type": "stream",
     "text": [
      "[Parallel(n_jobs=-1)]: Done   1 out of   1 | elapsed:    0.8s finished\n",
      "[Parallel(n_jobs=-1)]: Using backend ThreadingBackend with 4 concurrent workers.\n"
     ]
    },
    {
     "name": "stdout",
     "output_type": "stream",
     "text": [
      "convergence after 41 epochs took 1 seconds\n"
     ]
    },
    {
     "name": "stderr",
     "output_type": "stream",
     "text": [
      "[Parallel(n_jobs=-1)]: Done   1 out of   1 | elapsed:    0.7s finished\n",
      "[Parallel(n_jobs=-1)]: Using backend ThreadingBackend with 4 concurrent workers.\n"
     ]
    },
    {
     "name": "stdout",
     "output_type": "stream",
     "text": [
      "convergence after 37 epochs took 0 seconds\n"
     ]
    },
    {
     "name": "stderr",
     "output_type": "stream",
     "text": [
      "[Parallel(n_jobs=-1)]: Done   1 out of   1 | elapsed:    0.5s finished\n",
      "[Parallel(n_jobs=-1)]: Using backend ThreadingBackend with 4 concurrent workers.\n"
     ]
    },
    {
     "name": "stdout",
     "output_type": "stream",
     "text": [
      "convergence after 40 epochs took 1 seconds\n"
     ]
    },
    {
     "name": "stderr",
     "output_type": "stream",
     "text": [
      "[Parallel(n_jobs=-1)]: Done   1 out of   1 | elapsed:    0.9s finished\n",
      "[Parallel(n_jobs=-1)]: Using backend ThreadingBackend with 4 concurrent workers.\n"
     ]
    },
    {
     "name": "stdout",
     "output_type": "stream",
     "text": [
      "convergence after 41 epochs took 0 seconds\n"
     ]
    },
    {
     "name": "stderr",
     "output_type": "stream",
     "text": [
      "[Parallel(n_jobs=-1)]: Done   1 out of   1 | elapsed:    0.7s finished\n",
      "[Parallel(n_jobs=-1)]: Using backend ThreadingBackend with 4 concurrent workers.\n"
     ]
    },
    {
     "name": "stdout",
     "output_type": "stream",
     "text": [
      "convergence after 42 epochs took 1 seconds\n"
     ]
    },
    {
     "name": "stderr",
     "output_type": "stream",
     "text": [
      "[Parallel(n_jobs=-1)]: Done   1 out of   1 | elapsed:    0.9s finished\n",
      "[Parallel(n_jobs=-1)]: Using backend ThreadingBackend with 4 concurrent workers.\n"
     ]
    },
    {
     "name": "stdout",
     "output_type": "stream",
     "text": [
      "convergence after 40 epochs took 0 seconds\n"
     ]
    },
    {
     "name": "stderr",
     "output_type": "stream",
     "text": [
      "[Parallel(n_jobs=-1)]: Done   1 out of   1 | elapsed:    0.5s finished\n",
      "[Parallel(n_jobs=-1)]: Using backend ThreadingBackend with 4 concurrent workers.\n"
     ]
    },
    {
     "name": "stdout",
     "output_type": "stream",
     "text": [
      "convergence after 41 epochs took 1 seconds\n"
     ]
    },
    {
     "name": "stderr",
     "output_type": "stream",
     "text": [
      "[Parallel(n_jobs=-1)]: Done   1 out of   1 | elapsed:    0.9s finished\n",
      "[Parallel(n_jobs=-1)]: Using backend ThreadingBackend with 4 concurrent workers.\n"
     ]
    },
    {
     "name": "stdout",
     "output_type": "stream",
     "text": [
      "convergence after 40 epochs took 1 seconds\n"
     ]
    },
    {
     "name": "stderr",
     "output_type": "stream",
     "text": [
      "[Parallel(n_jobs=-1)]: Done   1 out of   1 | elapsed:    0.6s finished\n",
      "[Parallel(n_jobs=-1)]: Using backend ThreadingBackend with 4 concurrent workers.\n"
     ]
    },
    {
     "name": "stdout",
     "output_type": "stream",
     "text": [
      "convergence after 38 epochs took 1 seconds\n"
     ]
    },
    {
     "name": "stderr",
     "output_type": "stream",
     "text": [
      "[Parallel(n_jobs=-1)]: Done   1 out of   1 | elapsed:    0.5s finished\n",
      "[Parallel(n_jobs=-1)]: Using backend ThreadingBackend with 4 concurrent workers.\n"
     ]
    },
    {
     "name": "stdout",
     "output_type": "stream",
     "text": [
      "convergence after 38 epochs took 0 seconds\n"
     ]
    },
    {
     "name": "stderr",
     "output_type": "stream",
     "text": [
      "[Parallel(n_jobs=-1)]: Done   1 out of   1 | elapsed:    0.6s finished\n",
      "[Parallel(n_jobs=-1)]: Using backend ThreadingBackend with 4 concurrent workers.\n"
     ]
    },
    {
     "name": "stdout",
     "output_type": "stream",
     "text": [
      "convergence after 42 epochs took 1 seconds\n"
     ]
    },
    {
     "name": "stderr",
     "output_type": "stream",
     "text": [
      "[Parallel(n_jobs=-1)]: Done   1 out of   1 | elapsed:    0.8s finished\n",
      "[Parallel(n_jobs=-1)]: Using backend ThreadingBackend with 4 concurrent workers.\n"
     ]
    },
    {
     "name": "stdout",
     "output_type": "stream",
     "text": [
      "convergence after 35 epochs took 1 seconds\n"
     ]
    },
    {
     "name": "stderr",
     "output_type": "stream",
     "text": [
      "[Parallel(n_jobs=-1)]: Done   1 out of   1 | elapsed:    0.5s finished\n",
      "[Parallel(n_jobs=-1)]: Using backend ThreadingBackend with 4 concurrent workers.\n"
     ]
    },
    {
     "name": "stdout",
     "output_type": "stream",
     "text": [
      "convergence after 38 epochs took 0 seconds\n"
     ]
    },
    {
     "name": "stderr",
     "output_type": "stream",
     "text": [
      "[Parallel(n_jobs=-1)]: Done   1 out of   1 | elapsed:    0.4s finished\n",
      "[Parallel(n_jobs=-1)]: Using backend ThreadingBackend with 4 concurrent workers.\n"
     ]
    },
    {
     "name": "stdout",
     "output_type": "stream",
     "text": [
      "convergence after 38 epochs took 0 seconds\n"
     ]
    },
    {
     "name": "stderr",
     "output_type": "stream",
     "text": [
      "[Parallel(n_jobs=-1)]: Done   1 out of   1 | elapsed:    0.6s finished\n",
      "[Parallel(n_jobs=-1)]: Using backend ThreadingBackend with 4 concurrent workers.\n"
     ]
    },
    {
     "name": "stdout",
     "output_type": "stream",
     "text": [
      "convergence after 38 epochs took 1 seconds\n"
     ]
    },
    {
     "name": "stderr",
     "output_type": "stream",
     "text": [
      "[Parallel(n_jobs=-1)]: Done   1 out of   1 | elapsed:    0.8s finished\n",
      "[Parallel(n_jobs=-1)]: Using backend ThreadingBackend with 4 concurrent workers.\n"
     ]
    },
    {
     "name": "stdout",
     "output_type": "stream",
     "text": [
      "convergence after 43 epochs took 1 seconds\n"
     ]
    },
    {
     "name": "stderr",
     "output_type": "stream",
     "text": [
      "[Parallel(n_jobs=-1)]: Done   1 out of   1 | elapsed:    0.6s finished\n",
      "[Parallel(n_jobs=-1)]: Using backend ThreadingBackend with 4 concurrent workers.\n"
     ]
    },
    {
     "name": "stdout",
     "output_type": "stream",
     "text": [
      "convergence after 36 epochs took 1 seconds\n"
     ]
    },
    {
     "name": "stderr",
     "output_type": "stream",
     "text": [
      "[Parallel(n_jobs=-1)]: Done   1 out of   1 | elapsed:    0.6s finished\n",
      "[Parallel(n_jobs=-1)]: Using backend ThreadingBackend with 4 concurrent workers.\n"
     ]
    },
    {
     "name": "stdout",
     "output_type": "stream",
     "text": [
      "convergence after 40 epochs took 1 seconds\n"
     ]
    },
    {
     "name": "stderr",
     "output_type": "stream",
     "text": [
      "[Parallel(n_jobs=-1)]: Done   1 out of   1 | elapsed:    0.9s finished\n",
      "[Parallel(n_jobs=-1)]: Using backend ThreadingBackend with 4 concurrent workers.\n"
     ]
    },
    {
     "name": "stdout",
     "output_type": "stream",
     "text": [
      "convergence after 38 epochs took 1 seconds\n"
     ]
    },
    {
     "name": "stderr",
     "output_type": "stream",
     "text": [
      "[Parallel(n_jobs=-1)]: Done   1 out of   1 | elapsed:    0.6s finished\n",
      "[Parallel(n_jobs=-1)]: Using backend ThreadingBackend with 4 concurrent workers.\n"
     ]
    },
    {
     "name": "stdout",
     "output_type": "stream",
     "text": [
      "convergence after 43 epochs took 0 seconds\n"
     ]
    },
    {
     "name": "stderr",
     "output_type": "stream",
     "text": [
      "[Parallel(n_jobs=-1)]: Done   1 out of   1 | elapsed:    0.7s finished\n",
      "[Parallel(n_jobs=-1)]: Using backend ThreadingBackend with 4 concurrent workers.\n"
     ]
    },
    {
     "name": "stdout",
     "output_type": "stream",
     "text": [
      "convergence after 37 epochs took 0 seconds\n"
     ]
    },
    {
     "name": "stderr",
     "output_type": "stream",
     "text": [
      "[Parallel(n_jobs=-1)]: Done   1 out of   1 | elapsed:    0.7s finished\n",
      "[Parallel(n_jobs=-1)]: Using backend ThreadingBackend with 4 concurrent workers.\n",
      "[Parallel(n_jobs=-1)]: Done   1 out of   1 | elapsed:    1.4s finished\n",
      "[Parallel(n_jobs=-1)]: Using backend ThreadingBackend with 4 concurrent workers.\n"
     ]
    },
    {
     "name": "stdout",
     "output_type": "stream",
     "text": [
      "convergence after 40 epochs took 2 seconds\n",
      "convergence after 38 epochs took 1 seconds\n"
     ]
    },
    {
     "name": "stderr",
     "output_type": "stream",
     "text": [
      "[Parallel(n_jobs=-1)]: Done   1 out of   1 | elapsed:    1.1s finished\n",
      "[Parallel(n_jobs=-1)]: Using backend ThreadingBackend with 4 concurrent workers.\n"
     ]
    },
    {
     "name": "stdout",
     "output_type": "stream",
     "text": [
      "convergence after 41 epochs took 1 seconds\n"
     ]
    },
    {
     "name": "stderr",
     "output_type": "stream",
     "text": [
      "[Parallel(n_jobs=-1)]: Done   1 out of   1 | elapsed:    0.8s finished\n",
      "[Parallel(n_jobs=-1)]: Using backend ThreadingBackend with 4 concurrent workers.\n"
     ]
    },
    {
     "name": "stdout",
     "output_type": "stream",
     "text": [
      "convergence after 38 epochs took 1 seconds\n"
     ]
    },
    {
     "name": "stderr",
     "output_type": "stream",
     "text": [
      "[Parallel(n_jobs=-1)]: Done   1 out of   1 | elapsed:    0.8s finished\n",
      "[Parallel(n_jobs=-1)]: Using backend ThreadingBackend with 4 concurrent workers.\n"
     ]
    },
    {
     "name": "stdout",
     "output_type": "stream",
     "text": [
      "convergence after 37 epochs took 1 seconds\n"
     ]
    },
    {
     "name": "stderr",
     "output_type": "stream",
     "text": [
      "[Parallel(n_jobs=-1)]: Done   1 out of   1 | elapsed:    0.7s finished\n",
      "[Parallel(n_jobs=-1)]: Using backend ThreadingBackend with 4 concurrent workers.\n"
     ]
    },
    {
     "name": "stdout",
     "output_type": "stream",
     "text": [
      "convergence after 42 epochs took 1 seconds\n"
     ]
    },
    {
     "name": "stderr",
     "output_type": "stream",
     "text": [
      "[Parallel(n_jobs=-1)]: Done   1 out of   1 | elapsed:    0.7s finished\n",
      "[Parallel(n_jobs=-1)]: Using backend ThreadingBackend with 4 concurrent workers.\n"
     ]
    },
    {
     "name": "stdout",
     "output_type": "stream",
     "text": [
      "convergence after 38 epochs took 1 seconds\n"
     ]
    },
    {
     "name": "stderr",
     "output_type": "stream",
     "text": [
      "[Parallel(n_jobs=-1)]: Done   1 out of   1 | elapsed:    0.6s finished\n"
     ]
    },
    {
     "data": {
      "image/png": "[encoded data removed]",
      "text/plain": [
       "<Figure size 648x432 with 1 Axes>"
      ]
     },
     "metadata": {
      "needs_background": "light"
     },
     "output_type": "display_data"
    },
    {
     "name": "stdout",
     "output_type": "stream",
     "text": [
      "1 feature(s): [1]  Score: 0.7319762510602206\n",
      "2 feature(s): [1, 23]  Score: 0.7421543681085666\n",
      "3 feature(s): [1, 23, 27]  Score: 0.7455470737913485\n",
      "4 feature(s): [1, 9, 23, 27]  Score: 0.7489397794741306\n",
      "5 feature(s): [1, 2, 9, 23, 27]  Score: 0.7489397794741306\n",
      "6 feature(s): [1, 2, 5, 9, 23, 27]  Score: 0.7489397794741306\n",
      "7 feature(s): [1, 2, 5, 8, 9, 23, 27]  Score: 0.7489397794741306\n",
      "8 feature(s): [1, 2, 5, 8, 9, 23, 25, 27]  Score: 0.7497879558948262\n",
      "9 feature(s): [1, 2, 5, 6, 8, 9, 23, 25, 27]  Score: 0.7506361323155216\n",
      "10 feature(s): [1, 2, 5, 6, 7, 8, 9, 23, 25, 27]  Score: 0.7506361323155216\n",
      "11 feature(s): [1, 2, 5, 6, 7, 8, 9, 14, 23, 25, 27]  Score: 0.7506361323155216\n",
      "12 feature(s): [1, 2, 5, 6, 7, 8, 9, 14, 21, 23, 25, 27]  Score: 0.7506361323155216\n",
      "13 feature(s): [1, 2, 5, 6, 7, 8, 9, 14, 21, 23, 24, 25, 27]  Score: 0.7506361323155216\n",
      "14 feature(s): [1, 2, 5, 6, 7, 8, 9, 14, 21, 23, 24, 25, 26, 27]  Score: 0.7506361323155216\n",
      "15 feature(s): [1, 2, 5, 6, 7, 8, 9, 14, 21, 23, 24, 25, 26, 27, 31]  Score: 0.7506361323155216\n",
      "16 feature(s): [1, 2, 5, 6, 7, 8, 9, 14, 21, 23, 24, 25, 26, 27, 31, 32]  Score: 0.7506361323155216\n",
      "17 feature(s): [1, 2, 5, 6, 7, 8, 9, 14, 21, 23, 24, 25, 26, 27, 31, 32, 35]  Score: 0.7506361323155216\n",
      "18 feature(s): [1, 2, 5, 6, 7, 8, 9, 14, 21, 23, 24, 25, 26, 27, 31, 32, 35, 38]  Score: 0.7506361323155216\n",
      "19 feature(s): [1, 2, 5, 6, 7, 8, 9, 14, 18, 21, 23, 24, 25, 26, 27, 31, 32, 35, 38]  Score: 0.7497879558948262\n",
      "20 feature(s): [1, 2, 5, 6, 7, 8, 9, 14, 18, 21, 23, 24, 25, 26, 27, 31, 32, 33, 35, 38]  Score: 0.7489397794741306\n",
      "21 feature(s): [1, 2, 5, 6, 7, 8, 9, 10, 14, 18, 21, 23, 24, 25, 26, 27, 31, 32, 33, 35, 38]  Score: 0.7472434266327396\n",
      "22 feature(s): [1, 2, 5, 6, 7, 8, 9, 10, 14, 18, 21, 23, 24, 25, 26, 27, 28, 31, 32, 33, 35, 38]  Score: 0.7480916030534351\n",
      "23 feature(s): [1, 2, 5, 6, 7, 8, 9, 10, 14, 18, 21, 23, 24, 25, 26, 27, 28, 31, 32, 33, 35, 37, 38]  Score: 0.7463952502120441\n",
      "24 feature(s): [1, 2, 5, 6, 7, 8, 9, 10, 14, 17, 18, 21, 23, 24, 25, 26, 27, 28, 31, 32, 33, 35, 37, 38]  Score: 0.7455470737913485\n",
      "25 feature(s): [1, 2, 5, 6, 7, 8, 9, 10, 14, 17, 18, 21, 23, 24, 25, 26, 27, 28, 30, 31, 32, 33, 35, 37, 38]  Score: 0.7455470737913485\n",
      "26 feature(s): [1, 2, 4, 5, 6, 7, 8, 9, 10, 14, 17, 18, 21, 23, 24, 25, 26, 27, 28, 30, 31, 32, 33, 35, 37, 38]  Score: 0.7472434266327396\n",
      "27 feature(s): [1, 2, 3, 4, 5, 6, 7, 8, 9, 10, 14, 17, 18, 21, 23, 24, 25, 26, 27, 28, 30, 31, 32, 33, 35, 37, 38]  Score: 0.7472434266327396\n",
      "28 feature(s): [1, 2, 3, 4, 5, 6, 7, 8, 9, 10, 11, 14, 17, 18, 21, 23, 24, 25, 26, 27, 28, 30, 31, 32, 33, 35, 37, 38]  Score: 0.7446988973706531\n",
      "29 feature(s): [0, 1, 2, 3, 4, 5, 6, 7, 8, 9, 10, 11, 14, 17, 18, 21, 23, 24, 25, 26, 27, 28, 30, 31, 32, 33, 35, 37, 38]  Score: 0.7455470737913485\n",
      "30 feature(s): [0, 1, 2, 3, 4, 5, 6, 7, 8, 9, 10, 11, 14, 16, 17, 18, 21, 23, 24, 25, 26, 27, 28, 30, 31, 32, 33, 35, 37, 38]  Score: 0.7497879558948262\n",
      "31 feature(s): [0, 1, 2, 3, 4, 5, 6, 7, 8, 9, 10, 11, 14, 16, 17, 18, 19, 21, 23, 24, 25, 26, 27, 28, 30, 31, 32, 33, 35, 37, 38]  Score: 0.7514843087362172\n",
      "32 feature(s): [0, 1, 2, 3, 4, 5, 6, 7, 8, 9, 10, 11, 14, 16, 17, 18, 19, 21, 23, 24, 25, 26, 27, 28, 30, 31, 32, 33, 34, 35, 37, 38]  Score: 0.7514843087362172\n",
      "33 feature(s): [0, 1, 2, 3, 4, 5, 6, 7, 8, 9, 10, 11, 12, 14, 16, 17, 18, 19, 21, 23, 24, 25, 26, 27, 28, 30, 31, 32, 33, 34, 35, 37, 38]  Score: 0.7497879558948262\n",
      "34 feature(s): [0, 1, 2, 3, 4, 5, 6, 7, 8, 9, 10, 11, 12, 13, 14, 16, 17, 18, 19, 21, 23, 24, 25, 26, 27, 28, 30, 31, 32, 33, 34, 35, 37, 38]  Score: 0.7497879558948262\n",
      "35 feature(s): [0, 1, 2, 3, 4, 5, 6, 7, 8, 9, 10, 11, 12, 13, 14, 15, 16, 17, 18, 19, 21, 23, 24, 25, 26, 27, 28, 30, 31, 32, 33, 34, 35, 37, 38]  Score: 0.7489397794741306\n",
      "36 feature(s): [0, 1, 2, 3, 4, 5, 6, 7, 8, 9, 10, 11, 12, 13, 14, 15, 16, 17, 18, 19, 21, 22, 23, 24, 25, 26, 27, 28, 30, 31, 32, 33, 34, 35, 37, 38]  Score: 0.7480916030534351\n",
      "37 feature(s): [0, 1, 2, 3, 4, 5, 6, 7, 8, 9, 10, 11, 12, 13, 14, 15, 16, 17, 18, 19, 21, 22, 23, 24, 25, 26, 27, 28, 29, 30, 31, 32, 33, 34, 35, 37, 38]  Score: 0.7446988973706531\n",
      "38 feature(s): [0, 1, 2, 3, 4, 5, 6, 7, 8, 9, 10, 11, 12, 13, 14, 15, 16, 17, 18, 19, 21, 22, 23, 24, 25, 26, 27, 28, 29, 30, 31, 32, 33, 34, 35, 36, 37, 38]  Score: 0.7421543681085666\n"
     ]
    }
   ],
   "source": [
    "LogisticRegression(penalty='l1', C=0.1, solver = 'saga', multi_class='ovr', verbose = 1, n_jobs=-1, max_iter = 80000, random_state=20191028)\n",
    "sfs = SFS(log_reg, k_features=39)\n",
    "sfs.fit(X_train_std, y_train)\n",
    "plotSFS(sfs)"
   ]
  },
  {
   "cell_type": "code",
   "execution_count": 119,
   "metadata": {
    "scrolled": true
   },
   "outputs": [
    {
     "name": "stdout",
     "output_type": "stream",
     "text": [
      "Fitting estimator with 6 features.\n",
      "Fitting estimator with 5 features.\n",
      "Fitting estimator with 4 features.\n",
      "Fitting estimator with 3 features.\n",
      "Fitting estimator with 2 features.\n",
      "Fitting estimator with 6 features.\n",
      "Fitting estimator with 5 features.\n",
      "Fitting estimator with 4 features.\n",
      "Fitting estimator with 3 features.\n",
      "Fitting estimator with 2 features.\n",
      "Fitting estimator with 6 features.\n",
      "Fitting estimator with 5 features.\n",
      "Fitting estimator with 4 features.\n",
      "Fitting estimator with 3 features.\n",
      "Fitting estimator with 2 features.\n",
      "Fitting estimator with 6 features.\n",
      "Fitting estimator with 5 features.\n",
      "Fitting estimator with 4 features.\n",
      "Fitting estimator with 3 features.\n",
      "Fitting estimator with 2 features.\n",
      "Fitting estimator with 6 features.\n",
      "Fitting estimator with 5 features.\n",
      "Fitting estimator with 4 features.\n",
      "Fitting estimator with 3 features.\n",
      "Fitting estimator with 2 features.\n",
      "Fitting estimator with 6 features.\n",
      "Fitting estimator with 5 features.\n"
     ]
    },
    {
     "data": {
      "text/plain": [
       "array([1, 1, 3, 1, 2, 1])"
      ]
     },
     "execution_count": 119,
     "metadata": {},
     "output_type": "execute_result"
    }
   ],
   "source": [
    "estimator = LogisticRegression(penalty='l1', C=0.1, solver = 'saga', multi_class='ovr', n_jobs=-1, max_iter = 80000, random_state=20191028)\n",
    "selector = RFECV(estimator, step=1, cv=5, verbose = 1)\n",
    "selector = selector.fit(X_train_std, y_train)\n",
    "selector.support_\n",
    "selector.ranking_"
   ]
  },
  {
   "cell_type": "code",
   "execution_count": 120,
   "metadata": {
    "scrolled": true
   },
   "outputs": [
    {
     "data": {
      "text/html": [
       "<div>\n",
       "<style scoped>\n",
       "    .dataframe tbody tr th:only-of-type {\n",
       "        vertical-align: middle;\n",
       "    }\n",
       "\n",
       "    .dataframe tbody tr th {\n",
       "        vertical-align: top;\n",
       "    }\n",
       "\n",
       "    .dataframe thead th {\n",
       "        text-align: right;\n",
       "    }\n",
       "</style>\n",
       "<table border=\"1\" class=\"dataframe\">\n",
       "  <thead>\n",
       "    <tr style=\"text-align: right;\">\n",
       "      <th></th>\n",
       "      <th>fpl_minutes</th>\n",
       "      <th>fpl_goals</th>\n",
       "      <th>fpl_points</th>\n",
       "      <th>formation_place</th>\n",
       "    </tr>\n",
       "  </thead>\n",
       "  <tbody>\n",
       "    <tr>\n",
       "      <th>1630</th>\n",
       "      <td>1134.70000</td>\n",
       "      <td>4.90000</td>\n",
       "      <td>65.60000</td>\n",
       "      <td>7.851394</td>\n",
       "    </tr>\n",
       "    <tr>\n",
       "      <th>3999</th>\n",
       "      <td>2872.00000</td>\n",
       "      <td>9.00000</td>\n",
       "      <td>130.00000</td>\n",
       "      <td>9.000000</td>\n",
       "    </tr>\n",
       "    <tr>\n",
       "      <th>1521</th>\n",
       "      <td>3015.00000</td>\n",
       "      <td>1.00000</td>\n",
       "      <td>74.00000</td>\n",
       "      <td>6.000000</td>\n",
       "    </tr>\n",
       "    <tr>\n",
       "      <th>2644</th>\n",
       "      <td>2002.00000</td>\n",
       "      <td>7.00000</td>\n",
       "      <td>131.00000</td>\n",
       "      <td>7.938898</td>\n",
       "    </tr>\n",
       "    <tr>\n",
       "      <th>2388</th>\n",
       "      <td>1941.20000</td>\n",
       "      <td>8.50000</td>\n",
       "      <td>103.00000</td>\n",
       "      <td>9.228873</td>\n",
       "    </tr>\n",
       "    <tr>\n",
       "      <th>4911</th>\n",
       "      <td>2048.49495</td>\n",
       "      <td>0.00000</td>\n",
       "      <td>83.31802</td>\n",
       "      <td>1.000000</td>\n",
       "    </tr>\n",
       "    <tr>\n",
       "      <th>3794</th>\n",
       "      <td>2735.30000</td>\n",
       "      <td>10.70000</td>\n",
       "      <td>172.50000</td>\n",
       "      <td>9.126100</td>\n",
       "    </tr>\n",
       "    <tr>\n",
       "      <th>5510</th>\n",
       "      <td>1272.44942</td>\n",
       "      <td>2.55300</td>\n",
       "      <td>50.22309</td>\n",
       "      <td>7.977297</td>\n",
       "    </tr>\n",
       "    <tr>\n",
       "      <th>63</th>\n",
       "      <td>2400.00000</td>\n",
       "      <td>2.00000</td>\n",
       "      <td>79.00000</td>\n",
       "      <td>8.000000</td>\n",
       "    </tr>\n",
       "    <tr>\n",
       "      <th>8</th>\n",
       "      <td>3420.00000</td>\n",
       "      <td>4.00000</td>\n",
       "      <td>179.00000</td>\n",
       "      <td>2.000000</td>\n",
       "    </tr>\n",
       "    <tr>\n",
       "      <th>4313</th>\n",
       "      <td>2377.47300</td>\n",
       "      <td>1.40000</td>\n",
       "      <td>94.58800</td>\n",
       "      <td>5.001767</td>\n",
       "    </tr>\n",
       "    <tr>\n",
       "      <th>202</th>\n",
       "      <td>1641.00000</td>\n",
       "      <td>3.00000</td>\n",
       "      <td>107.00000</td>\n",
       "      <td>10.100000</td>\n",
       "    </tr>\n",
       "    <tr>\n",
       "      <th>3036</th>\n",
       "      <td>2349.70000</td>\n",
       "      <td>4.10000</td>\n",
       "      <td>114.00000</td>\n",
       "      <td>9.898298</td>\n",
       "    </tr>\n",
       "    <tr>\n",
       "      <th>2101</th>\n",
       "      <td>3034.00000</td>\n",
       "      <td>1.00000</td>\n",
       "      <td>96.00000</td>\n",
       "      <td>5.062999</td>\n",
       "    </tr>\n",
       "    <tr>\n",
       "      <th>1401</th>\n",
       "      <td>3052.00000</td>\n",
       "      <td>3.00000</td>\n",
       "      <td>105.00000</td>\n",
       "      <td>7.089016</td>\n",
       "    </tr>\n",
       "    <tr>\n",
       "      <th>4593</th>\n",
       "      <td>3231.00000</td>\n",
       "      <td>0.00000</td>\n",
       "      <td>149.30000</td>\n",
       "      <td>1.000000</td>\n",
       "    </tr>\n",
       "    <tr>\n",
       "      <th>5665</th>\n",
       "      <td>2791.16460</td>\n",
       "      <td>0.00000</td>\n",
       "      <td>116.79388</td>\n",
       "      <td>1.000000</td>\n",
       "    </tr>\n",
       "    <tr>\n",
       "      <th>5222</th>\n",
       "      <td>2435.50000</td>\n",
       "      <td>2.00000</td>\n",
       "      <td>82.30000</td>\n",
       "      <td>9.873956</td>\n",
       "    </tr>\n",
       "    <tr>\n",
       "      <th>1219</th>\n",
       "      <td>822.00000</td>\n",
       "      <td>0.00000</td>\n",
       "      <td>31.00000</td>\n",
       "      <td>11.000000</td>\n",
       "    </tr>\n",
       "    <tr>\n",
       "      <th>5051</th>\n",
       "      <td>1029.78400</td>\n",
       "      <td>0.00000</td>\n",
       "      <td>33.83800</td>\n",
       "      <td>2.000078</td>\n",
       "    </tr>\n",
       "    <tr>\n",
       "      <th>4618</th>\n",
       "      <td>1781.00000</td>\n",
       "      <td>5.00000</td>\n",
       "      <td>105.00000</td>\n",
       "      <td>10.999944</td>\n",
       "    </tr>\n",
       "    <tr>\n",
       "      <th>1128</th>\n",
       "      <td>2678.00000</td>\n",
       "      <td>3.00000</td>\n",
       "      <td>99.00000</td>\n",
       "      <td>7.265498</td>\n",
       "    </tr>\n",
       "    <tr>\n",
       "      <th>2395</th>\n",
       "      <td>1924.30000</td>\n",
       "      <td>0.00000</td>\n",
       "      <td>70.30000</td>\n",
       "      <td>1.000000</td>\n",
       "    </tr>\n",
       "    <tr>\n",
       "      <th>1166</th>\n",
       "      <td>1598.00000</td>\n",
       "      <td>11.00000</td>\n",
       "      <td>108.00000</td>\n",
       "      <td>9.700000</td>\n",
       "    </tr>\n",
       "    <tr>\n",
       "      <th>3705</th>\n",
       "      <td>706.46600</td>\n",
       "      <td>0.15300</td>\n",
       "      <td>31.60200</td>\n",
       "      <td>11.000000</td>\n",
       "    </tr>\n",
       "    <tr>\n",
       "      <th>171</th>\n",
       "      <td>1146.00000</td>\n",
       "      <td>1.00000</td>\n",
       "      <td>49.00000</td>\n",
       "      <td>2.451613</td>\n",
       "    </tr>\n",
       "    <tr>\n",
       "      <th>4444</th>\n",
       "      <td>3051.73700</td>\n",
       "      <td>4.64700</td>\n",
       "      <td>152.28100</td>\n",
       "      <td>4.000000</td>\n",
       "    </tr>\n",
       "    <tr>\n",
       "      <th>2260</th>\n",
       "      <td>2002.00000</td>\n",
       "      <td>7.00000</td>\n",
       "      <td>131.00000</td>\n",
       "      <td>7.081339</td>\n",
       "    </tr>\n",
       "    <tr>\n",
       "      <th>5189</th>\n",
       "      <td>2346.72629</td>\n",
       "      <td>0.00000</td>\n",
       "      <td>61.94215</td>\n",
       "      <td>2.000000</td>\n",
       "    </tr>\n",
       "    <tr>\n",
       "      <th>1747</th>\n",
       "      <td>1470.00000</td>\n",
       "      <td>1.40000</td>\n",
       "      <td>58.80000</td>\n",
       "      <td>2.000000</td>\n",
       "    </tr>\n",
       "    <tr>\n",
       "      <th>...</th>\n",
       "      <td>...</td>\n",
       "      <td>...</td>\n",
       "      <td>...</td>\n",
       "      <td>...</td>\n",
       "    </tr>\n",
       "    <tr>\n",
       "      <th>1066</th>\n",
       "      <td>2407.00000</td>\n",
       "      <td>11.00000</td>\n",
       "      <td>160.00000</td>\n",
       "      <td>11.000000</td>\n",
       "    </tr>\n",
       "    <tr>\n",
       "      <th>4719</th>\n",
       "      <td>3420.00000</td>\n",
       "      <td>0.00000</td>\n",
       "      <td>107.00000</td>\n",
       "      <td>5.131579</td>\n",
       "    </tr>\n",
       "    <tr>\n",
       "      <th>3465</th>\n",
       "      <td>2001.98000</td>\n",
       "      <td>5.62400</td>\n",
       "      <td>111.03500</td>\n",
       "      <td>10.001294</td>\n",
       "    </tr>\n",
       "    <tr>\n",
       "      <th>1456</th>\n",
       "      <td>2581.00000</td>\n",
       "      <td>21.00000</td>\n",
       "      <td>191.00000</td>\n",
       "      <td>9.000000</td>\n",
       "    </tr>\n",
       "    <tr>\n",
       "      <th>4157</th>\n",
       "      <td>2836.24500</td>\n",
       "      <td>3.40600</td>\n",
       "      <td>93.01300</td>\n",
       "      <td>7.853962</td>\n",
       "    </tr>\n",
       "    <tr>\n",
       "      <th>4972</th>\n",
       "      <td>2683.98300</td>\n",
       "      <td>13.64700</td>\n",
       "      <td>176.87500</td>\n",
       "      <td>9.011342</td>\n",
       "    </tr>\n",
       "    <tr>\n",
       "      <th>477</th>\n",
       "      <td>1587.00000</td>\n",
       "      <td>1.00000</td>\n",
       "      <td>57.00000</td>\n",
       "      <td>7.000179</td>\n",
       "    </tr>\n",
       "    <tr>\n",
       "      <th>2741</th>\n",
       "      <td>1928.40000</td>\n",
       "      <td>0.30000</td>\n",
       "      <td>81.50000</td>\n",
       "      <td>2.000000</td>\n",
       "    </tr>\n",
       "    <tr>\n",
       "      <th>3715</th>\n",
       "      <td>999.00000</td>\n",
       "      <td>1.00000</td>\n",
       "      <td>47.00000</td>\n",
       "      <td>7.002916</td>\n",
       "    </tr>\n",
       "    <tr>\n",
       "      <th>5060</th>\n",
       "      <td>2817.00000</td>\n",
       "      <td>5.00000</td>\n",
       "      <td>125.00000</td>\n",
       "      <td>11.000000</td>\n",
       "    </tr>\n",
       "    <tr>\n",
       "      <th>5739</th>\n",
       "      <td>1943.16400</td>\n",
       "      <td>4.81800</td>\n",
       "      <td>93.14600</td>\n",
       "      <td>9.810875</td>\n",
       "    </tr>\n",
       "    <tr>\n",
       "      <th>5326</th>\n",
       "      <td>2639.55631</td>\n",
       "      <td>5.55288</td>\n",
       "      <td>122.17580</td>\n",
       "      <td>9.177480</td>\n",
       "    </tr>\n",
       "    <tr>\n",
       "      <th>3646</th>\n",
       "      <td>2614.98200</td>\n",
       "      <td>2.00000</td>\n",
       "      <td>125.61600</td>\n",
       "      <td>3.000000</td>\n",
       "    </tr>\n",
       "    <tr>\n",
       "      <th>3722</th>\n",
       "      <td>2073.00000</td>\n",
       "      <td>3.70000</td>\n",
       "      <td>107.20000</td>\n",
       "      <td>10.892000</td>\n",
       "    </tr>\n",
       "    <tr>\n",
       "      <th>1323</th>\n",
       "      <td>3146.00000</td>\n",
       "      <td>2.00000</td>\n",
       "      <td>142.00000</td>\n",
       "      <td>2.000000</td>\n",
       "    </tr>\n",
       "    <tr>\n",
       "      <th>4123</th>\n",
       "      <td>1121.12400</td>\n",
       "      <td>1.00000</td>\n",
       "      <td>34.82000</td>\n",
       "      <td>7.545475</td>\n",
       "    </tr>\n",
       "    <tr>\n",
       "      <th>5476</th>\n",
       "      <td>2880.32500</td>\n",
       "      <td>7.55300</td>\n",
       "      <td>195.59600</td>\n",
       "      <td>7.000000</td>\n",
       "    </tr>\n",
       "    <tr>\n",
       "      <th>5378</th>\n",
       "      <td>2303.73168</td>\n",
       "      <td>5.65821</td>\n",
       "      <td>91.88280</td>\n",
       "      <td>3.612301</td>\n",
       "    </tr>\n",
       "    <tr>\n",
       "      <th>5743</th>\n",
       "      <td>2725.97300</td>\n",
       "      <td>1.00000</td>\n",
       "      <td>66.24500</td>\n",
       "      <td>7.281222</td>\n",
       "    </tr>\n",
       "    <tr>\n",
       "      <th>5812</th>\n",
       "      <td>2751.99800</td>\n",
       "      <td>7.45300</td>\n",
       "      <td>107.04100</td>\n",
       "      <td>9.000158</td>\n",
       "    </tr>\n",
       "    <tr>\n",
       "      <th>6096</th>\n",
       "      <td>1277.10000</td>\n",
       "      <td>1.40000</td>\n",
       "      <td>57.30000</td>\n",
       "      <td>8.197928</td>\n",
       "    </tr>\n",
       "    <tr>\n",
       "      <th>793</th>\n",
       "      <td>2888.00000</td>\n",
       "      <td>2.00000</td>\n",
       "      <td>93.00000</td>\n",
       "      <td>3.000000</td>\n",
       "    </tr>\n",
       "    <tr>\n",
       "      <th>3479</th>\n",
       "      <td>2676.51400</td>\n",
       "      <td>2.15300</td>\n",
       "      <td>82.36500</td>\n",
       "      <td>6.805483</td>\n",
       "    </tr>\n",
       "    <tr>\n",
       "      <th>3874</th>\n",
       "      <td>651.00000</td>\n",
       "      <td>7.00000</td>\n",
       "      <td>67.00000</td>\n",
       "      <td>7.000000</td>\n",
       "    </tr>\n",
       "    <tr>\n",
       "      <th>41</th>\n",
       "      <td>2590.00000</td>\n",
       "      <td>2.00000</td>\n",
       "      <td>99.00000</td>\n",
       "      <td>2.810811</td>\n",
       "    </tr>\n",
       "    <tr>\n",
       "      <th>3668</th>\n",
       "      <td>1236.99900</td>\n",
       "      <td>1.55300</td>\n",
       "      <td>49.06700</td>\n",
       "      <td>10.928901</td>\n",
       "    </tr>\n",
       "    <tr>\n",
       "      <th>3337</th>\n",
       "      <td>2479.40000</td>\n",
       "      <td>0.99400</td>\n",
       "      <td>85.14800</td>\n",
       "      <td>2.000007</td>\n",
       "    </tr>\n",
       "    <tr>\n",
       "      <th>4367</th>\n",
       "      <td>2698.50000</td>\n",
       "      <td>1.40000</td>\n",
       "      <td>91.10000</td>\n",
       "      <td>5.000000</td>\n",
       "    </tr>\n",
       "    <tr>\n",
       "      <th>5502</th>\n",
       "      <td>2568.88367</td>\n",
       "      <td>7.79106</td>\n",
       "      <td>130.57618</td>\n",
       "      <td>9.011784</td>\n",
       "    </tr>\n",
       "    <tr>\n",
       "      <th>2496</th>\n",
       "      <td>2626.40000</td>\n",
       "      <td>1.70000</td>\n",
       "      <td>85.10000</td>\n",
       "      <td>4.000000</td>\n",
       "    </tr>\n",
       "  </tbody>\n",
       "</table>\n",
       "<p>4713 rows × 4 columns</p>\n",
       "</div>"
      ],
      "text/plain": [
       "      fpl_minutes  fpl_goals  fpl_points  formation_place\n",
       "1630   1134.70000    4.90000    65.60000         7.851394\n",
       "3999   2872.00000    9.00000   130.00000         9.000000\n",
       "1521   3015.00000    1.00000    74.00000         6.000000\n",
       "2644   2002.00000    7.00000   131.00000         7.938898\n",
       "2388   1941.20000    8.50000   103.00000         9.228873\n",
       "4911   2048.49495    0.00000    83.31802         1.000000\n",
       "3794   2735.30000   10.70000   172.50000         9.126100\n",
       "5510   1272.44942    2.55300    50.22309         7.977297\n",
       "63     2400.00000    2.00000    79.00000         8.000000\n",
       "8      3420.00000    4.00000   179.00000         2.000000\n",
       "4313   2377.47300    1.40000    94.58800         5.001767\n",
       "202    1641.00000    3.00000   107.00000        10.100000\n",
       "3036   2349.70000    4.10000   114.00000         9.898298\n",
       "2101   3034.00000    1.00000    96.00000         5.062999\n",
       "1401   3052.00000    3.00000   105.00000         7.089016\n",
       "4593   3231.00000    0.00000   149.30000         1.000000\n",
       "5665   2791.16460    0.00000   116.79388         1.000000\n",
       "5222   2435.50000    2.00000    82.30000         9.873956\n",
       "1219    822.00000    0.00000    31.00000        11.000000\n",
       "5051   1029.78400    0.00000    33.83800         2.000078\n",
       "4618   1781.00000    5.00000   105.00000        10.999944\n",
       "1128   2678.00000    3.00000    99.00000         7.265498\n",
       "2395   1924.30000    0.00000    70.30000         1.000000\n",
       "1166   1598.00000   11.00000   108.00000         9.700000\n",
       "3705    706.46600    0.15300    31.60200        11.000000\n",
       "171    1146.00000    1.00000    49.00000         2.451613\n",
       "4444   3051.73700    4.64700   152.28100         4.000000\n",
       "2260   2002.00000    7.00000   131.00000         7.081339\n",
       "5189   2346.72629    0.00000    61.94215         2.000000\n",
       "1747   1470.00000    1.40000    58.80000         2.000000\n",
       "...           ...        ...         ...              ...\n",
       "1066   2407.00000   11.00000   160.00000        11.000000\n",
       "4719   3420.00000    0.00000   107.00000         5.131579\n",
       "3465   2001.98000    5.62400   111.03500        10.001294\n",
       "1456   2581.00000   21.00000   191.00000         9.000000\n",
       "4157   2836.24500    3.40600    93.01300         7.853962\n",
       "4972   2683.98300   13.64700   176.87500         9.011342\n",
       "477    1587.00000    1.00000    57.00000         7.000179\n",
       "2741   1928.40000    0.30000    81.50000         2.000000\n",
       "3715    999.00000    1.00000    47.00000         7.002916\n",
       "5060   2817.00000    5.00000   125.00000        11.000000\n",
       "5739   1943.16400    4.81800    93.14600         9.810875\n",
       "5326   2639.55631    5.55288   122.17580         9.177480\n",
       "3646   2614.98200    2.00000   125.61600         3.000000\n",
       "3722   2073.00000    3.70000   107.20000        10.892000\n",
       "1323   3146.00000    2.00000   142.00000         2.000000\n",
       "4123   1121.12400    1.00000    34.82000         7.545475\n",
       "5476   2880.32500    7.55300   195.59600         7.000000\n",
       "5378   2303.73168    5.65821    91.88280         3.612301\n",
       "5743   2725.97300    1.00000    66.24500         7.281222\n",
       "5812   2751.99800    7.45300   107.04100         9.000158\n",
       "6096   1277.10000    1.40000    57.30000         8.197928\n",
       "793    2888.00000    2.00000    93.00000         3.000000\n",
       "3479   2676.51400    2.15300    82.36500         6.805483\n",
       "3874    651.00000    7.00000    67.00000         7.000000\n",
       "41     2590.00000    2.00000    99.00000         2.810811\n",
       "3668   1236.99900    1.55300    49.06700        10.928901\n",
       "3337   2479.40000    0.99400    85.14800         2.000007\n",
       "4367   2698.50000    1.40000    91.10000         5.000000\n",
       "5502   2568.88367    7.79106   130.57618         9.011784\n",
       "2496   2626.40000    1.70000    85.10000         4.000000\n",
       "\n",
       "[4713 rows x 4 columns]"
      ]
     },
     "execution_count": 120,
     "metadata": {},
     "output_type": "execute_result"
    }
   ],
   "source": [
    "X_train.loc[:,selector.support_]"
   ]
  },
  {
   "cell_type": "code",
   "execution_count": 66,
   "metadata": {
    "scrolled": true
   },
   "outputs": [
    {
     "data": {
      "image/png": "[encoded data removed]",
      "text/plain": [
       "<Figure size 648x432 with 1 Axes>"
      ]
     },
     "metadata": {
      "needs_background": "light"
     },
     "output_type": "display_data"
    },
    {
     "name": "stdout",
     "output_type": "stream",
     "text": [
      "1 feature(s): [1]  Score: 0.7280717711593093\n",
      "2 feature(s): [1, 27]  Score: 0.7376946840778776\n",
      "3 feature(s): [1, 4, 27]  Score: 0.7396764848479992\n",
      "4 feature(s): [1, 4, 27, 36]  Score: 0.741373396748821\n",
      "5 feature(s): [1, 4, 6, 27, 36]  Score: 0.7419391676116216\n",
      "6 feature(s): [1, 3, 4, 6, 27, 36]  Score: 0.7419391676116216\n",
      "7 feature(s): [1, 3, 4, 5, 6, 27, 36]  Score: 0.7419391676116216\n",
      "8 feature(s): [1, 3, 4, 5, 6, 7, 27, 36]  Score: 0.7419391676116216\n",
      "9 feature(s): [1, 3, 4, 5, 6, 7, 25, 27, 36]  Score: 0.7422220530430217\n",
      "10 feature(s): [1, 3, 4, 5, 6, 7, 21, 25, 27, 36]  Score: 0.7422220530430217\n",
      "11 feature(s): [1, 3, 4, 5, 6, 7, 21, 25, 27, 34, 36]  Score: 0.7422220530430217\n",
      "12 feature(s): [1, 3, 4, 5, 6, 7, 21, 25, 27, 34, 35, 36]  Score: 0.7422220530430217\n",
      "13 feature(s): [1, 3, 4, 5, 6, 7, 21, 25, 27, 29, 34, 35, 36]  Score: 0.7422208509802821\n",
      "14 feature(s): [1, 3, 4, 5, 6, 7, 14, 21, 25, 27, 29, 34, 35, 36]  Score: 0.7425029350365226\n",
      "15 feature(s): [1, 3, 4, 5, 6, 7, 10, 14, 21, 25, 27, 29, 34, 35, 36]  Score: 0.743069907962063\n",
      "16 feature(s): [1, 3, 4, 5, 6, 7, 10, 14, 21, 25, 27, 29, 33, 34, 35, 36]  Score: 0.7439193656314235\n",
      "17 feature(s): [1, 3, 4, 5, 6, 7, 8, 10, 14, 21, 25, 27, 29, 33, 34, 35, 36]  Score: 0.7439193656314235\n",
      "18 feature(s): [1, 3, 4, 5, 6, 7, 8, 10, 14, 17, 21, 25, 27, 29, 33, 34, 35, 36]  Score: 0.7436364802000232\n",
      "19 feature(s): [1, 3, 4, 5, 6, 7, 8, 10, 14, 17, 21, 25, 27, 29, 33, 34, 35, 36, 38]  Score: 0.7430707093372226\n",
      "20 feature(s): [1, 3, 4, 5, 6, 7, 8, 10, 14, 17, 21, 25, 27, 29, 31, 33, 34, 35, 36, 38]  Score: 0.7425049384744221\n",
      "21 feature(s): [1, 3, 4, 5, 6, 7, 8, 10, 14, 17, 21, 25, 27, 29, 31, 32, 33, 34, 35, 36, 38]  Score: 0.7419391676116216\n",
      "22 feature(s): [1, 3, 4, 5, 6, 7, 8, 10, 13, 14, 17, 21, 25, 27, 29, 31, 32, 33, 34, 35, 36, 38]  Score: 0.7427878239058224\n",
      "23 feature(s): [1, 3, 4, 5, 6, 7, 8, 10, 13, 14, 17, 21, 25, 26, 27, 29, 31, 32, 33, 34, 35, 36, 38]  Score: 0.7427878239058223\n",
      "24 feature(s): [1, 3, 4, 5, 6, 7, 8, 10, 13, 14, 17, 21, 25, 26, 27, 29, 31, 32, 33, 34, 35, 36, 37, 38]  Score: 0.7427874232182425\n",
      "25 feature(s): [1, 3, 4, 5, 6, 7, 8, 10, 11, 13, 14, 17, 21, 25, 26, 27, 29, 31, 32, 33, 34, 35, 36, 37, 38]  Score: 0.7427882245934023\n",
      "26 feature(s): [1, 2, 3, 4, 5, 6, 7, 8, 10, 11, 13, 14, 17, 21, 25, 26, 27, 29, 31, 32, 33, 34, 35, 36, 37, 38]  Score: 0.7425049384744221\n",
      "27 feature(s): [1, 2, 3, 4, 5, 6, 7, 8, 10, 11, 13, 14, 17, 21, 25, 26, 27, 28, 29, 31, 32, 33, 34, 35, 36, 37, 38]  Score: 0.742504938474422\n",
      "28 feature(s): [1, 2, 3, 4, 5, 6, 7, 8, 10, 11, 13, 14, 16, 17, 21, 25, 26, 27, 28, 29, 31, 32, 33, 34, 35, 36, 37, 38]  Score: 0.7425033357241025\n",
      "29 feature(s): [1, 2, 3, 4, 5, 6, 7, 8, 10, 11, 13, 14, 15, 16, 17, 21, 25, 26, 27, 28, 29, 31, 32, 33, 34, 35, 36, 37, 38]  Score: 0.743069507274483\n",
      "30 feature(s): [0, 1, 2, 3, 4, 5, 6, 7, 8, 10, 11, 13, 14, 15, 16, 17, 21, 25, 26, 27, 28, 29, 31, 32, 33, 34, 35, 36, 37, 38]  Score: 0.7442022510628238\n",
      "31 feature(s): [0, 1, 2, 3, 4, 5, 6, 7, 8, 10, 11, 12, 13, 14, 15, 16, 17, 21, 25, 26, 27, 28, 29, 31, 32, 33, 34, 35, 36, 37, 38]  Score: 0.7453357962263244\n",
      "32 feature(s): [0, 1, 2, 3, 4, 5, 6, 7, 8, 10, 11, 12, 13, 14, 15, 16, 17, 21, 22, 25, 26, 27, 28, 29, 31, 32, 33, 34, 35, 36, 37, 38]  Score: 0.7464677386395053\n",
      "33 feature(s): [0, 1, 2, 3, 4, 5, 6, 7, 8, 9, 10, 11, 12, 13, 14, 15, 16, 17, 21, 22, 25, 26, 27, 28, 29, 31, 32, 33, 34, 35, 36, 37, 38]  Score: 0.7461840518329453\n",
      "34 feature(s): [0, 1, 2, 3, 4, 5, 6, 7, 8, 9, 10, 11, 12, 13, 14, 15, 16, 17, 21, 22, 24, 25, 26, 27, 28, 29, 31, 32, 33, 34, 35, 36, 37, 38]  Score: 0.7464673379519254\n",
      "35 feature(s): [0, 1, 2, 3, 4, 5, 6, 7, 8, 9, 10, 11, 12, 13, 14, 15, 16, 17, 21, 22, 24, 25, 26, 27, 28, 29, 30, 31, 32, 33, 34, 35, 36, 37, 38]  Score: 0.7459023684642847\n",
      "36 feature(s): [0, 1, 2, 3, 4, 5, 6, 7, 8, 9, 10, 11, 12, 13, 14, 15, 16, 17, 21, 22, 23, 24, 25, 26, 27, 28, 29, 30, 31, 32, 33, 34, 35, 36, 37, 38]  Score: 0.7444887426824431\n",
      "37 feature(s): [0, 1, 2, 3, 4, 5, 6, 7, 8, 9, 10, 11, 12, 13, 14, 15, 16, 17, 19, 21, 22, 23, 24, 25, 26, 27, 28, 29, 30, 31, 32, 33, 34, 35, 36, 37, 38]  Score: 0.7447712274262634\n",
      "38 feature(s): [0, 1, 2, 3, 4, 5, 6, 7, 8, 9, 10, 11, 12, 13, 14, 15, 16, 17, 18, 19, 21, 22, 23, 24, 25, 26, 27, 28, 29, 30, 31, 32, 33, 34, 35, 36, 37, 38]  Score: 0.7436380829503428\n"
     ]
    }
   ],
   "source": [
    "LogisticRegression(penalty='l1', C=0.1, solver = 'saga', multi_class='ovr', verbose = 1, n_jobs=-1, max_iter = 80000, random_state=20191028)\n",
    "sfs = SFS(log_reg, k_features=39, metric = 'cv')\n",
    "sfs.fit(X_train_std, y_train)\n",
    "plotSFS(sfs)"
   ]
  },
  {
   "cell_type": "code",
   "execution_count": 92,
   "metadata": {
    "scrolled": true
   },
   "outputs": [
    {
     "name": "stdout",
     "output_type": "stream",
     "text": [
      "Processing: 0\n",
      "Processing: 1\n",
      "Processing: 2\n",
      "Processing: 3\n",
      "Processing: 4\n",
      "Processing: 5\n",
      "Processing: 6\n",
      "Processing: 7\n",
      "Processing: 8\n",
      "Processing: 9\n",
      "Processing: 10\n",
      "Processing: 11\n",
      "Processing: 12\n",
      "Processing: 13\n",
      "Processing: 14\n",
      "Processing: 15\n",
      "Processing: 16\n",
      "Processing: 17\n",
      "Processing: 18\n",
      "Processing: 19\n",
      "Processing: 20\n",
      "Processing: 21\n",
      "Processing: 22\n",
      "Processing: 23\n",
      "Processing: 24\n",
      "Processing: 25\n",
      "Processing: 26\n",
      "Processing: 27\n",
      "Processing: 28\n",
      "Processing: 29\n",
      "Processing: 30\n",
      "Processing: 31\n",
      "Processing: 32\n",
      "Processing: 33\n",
      "Processing: 34\n",
      "Processing: 35\n",
      "Processing: 36\n",
      "Processing: 37\n",
      "Processing: 38\n"
     ]
    },
    {
     "data": {
      "image/png": "[encoded data removed]",
      "text/plain": [
       "<Figure size 648x432 with 1 Axes>"
      ]
     },
     "metadata": {
      "needs_background": "light"
     },
     "output_type": "display_data"
    },
    {
     "name": "stdout",
     "output_type": "stream",
     "text": [
      "1 feature(s): [1]  Metric Score: 1545.2929290140535  Test Score: 0.7319762510602206\n",
      "2 feature(s): [1, 23]  Metric Score: 1583.8649169745502  Test Score: 0.7421543681085666\n",
      "3 feature(s): [1, 23, 27]  Metric Score: 1592.408617412287  Test Score: 0.7455470737913485\n",
      "4 feature(s): [1, 9, 23, 27]  Metric Score: 1601.1619364833434  Test Score: 0.7489397794741306\n",
      "5 feature(s): [1, 2, 9, 23, 27]  Metric Score: 1594.089514582806  Test Score: 0.7489397794741306\n",
      "6 feature(s): [1, 2, 5, 9, 23, 27]  Metric Score: 1587.0170926822689  Test Score: 0.7489397794741306\n",
      "7 feature(s): [1, 2, 5, 8, 9, 23, 27]  Metric Score: 1579.9446707817315  Test Score: 0.7489397794741306\n",
      "8 feature(s): [1, 2, 5, 8, 9, 23, 25, 27]  Metric Score: 1576.8621004046138  Test Score: 0.7497879558948262\n",
      "9 feature(s): [1, 2, 5, 6, 8, 9, 23, 25, 27]  Metric Score: 1573.7930779364185  Test Score: 0.7506361323155216\n",
      "10 feature(s): [1, 2, 5, 6, 7, 8, 9, 23, 25, 27]  Metric Score: 1566.7206560358811  Test Score: 0.7506361323155216\n",
      "11 feature(s): [1, 2, 5, 6, 7, 8, 9, 14, 23, 25, 27]  Metric Score: 1559.6482341353437  Test Score: 0.7506361323155216\n",
      "12 feature(s): [1, 2, 5, 6, 7, 8, 9, 14, 21, 23, 25, 27]  Metric Score: 1552.5758122348063  Test Score: 0.7506361323155216\n",
      "13 feature(s): [1, 2, 5, 6, 7, 8, 9, 14, 21, 23, 24, 25, 27]  Metric Score: 1545.503390334269  Test Score: 0.7506361323155216\n",
      "14 feature(s): [1, 2, 5, 6, 7, 8, 9, 14, 21, 23, 24, 25, 26, 27]  Metric Score: 1538.4309684337316  Test Score: 0.7506361323155216\n",
      "15 feature(s): [1, 2, 5, 6, 7, 8, 9, 14, 21, 23, 24, 25, 26, 27, 31]  Metric Score: 1531.3585465331942  Test Score: 0.7506361323155216\n",
      "16 feature(s): [1, 2, 5, 6, 7, 8, 9, 14, 21, 23, 24, 25, 26, 27, 31, 32]  Metric Score: 1524.286124632657  Test Score: 0.7506361323155216\n",
      "17 feature(s): [1, 2, 5, 6, 7, 8, 9, 14, 21, 23, 24, 25, 26, 27, 31, 32, 35]  Metric Score: 1517.2137027321196  Test Score: 0.7506361323155216\n",
      "18 feature(s): [1, 2, 5, 6, 7, 8, 9, 14, 21, 23, 24, 25, 26, 27, 31, 32, 35, 38]  Metric Score: 1510.1412808315822  Test Score: 0.7506361323155216\n",
      "19 feature(s): [1, 2, 5, 6, 7, 8, 9, 14, 18, 21, 23, 24, 25, 26, 27, 31, 32, 35, 38]  Metric Score: 1499.0654594987027  Test Score: 0.7497879558948262\n",
      "20 feature(s): [1, 2, 5, 6, 7, 8, 9, 14, 18, 21, 23, 24, 25, 26, 27, 31, 32, 33, 35, 38]  Metric Score: 1488.0031860747456  Test Score: 0.7489397794741306\n",
      "21 feature(s): [1, 2, 5, 6, 7, 8, 9, 10, 14, 18, 21, 23, 24, 25, 26, 27, 31, 32, 33, 35, 38]  Metric Score: 1472.991340232404  Test Score: 0.7472434266327396\n",
      "22 feature(s): [1, 2, 5, 6, 7, 8, 9, 10, 14, 18, 21, 23, 24, 25, 26, 27, 28, 31, 32, 33, 35, 38]  Metric Score: 1469.8819472733553  Test Score: 0.7480916030534351\n",
      "23 feature(s): [1, 2, 5, 6, 7, 8, 9, 10, 14, 18, 21, 23, 24, 25, 26, 27, 28, 31, 32, 33, 35, 37, 38]  Metric Score: 1454.8967439935816  Test Score: 0.7463952502120441\n",
      "24 feature(s): [1, 2, 5, 6, 7, 8, 9, 10, 14, 17, 18, 21, 23, 24, 25, 26, 27, 28, 31, 32, 33, 35, 37, 38]  Metric Score: 1443.8877575010022  Test Score: 0.7455470737913485\n",
      "25 feature(s): [1, 2, 5, 6, 7, 8, 9, 10, 14, 17, 18, 21, 23, 24, 25, 26, 27, 28, 30, 31, 32, 33, 35, 37, 38]  Metric Score: 1436.8153356004648  Test Score: 0.7455470737913485\n",
      "26 feature(s): [1, 2, 4, 5, 6, 7, 8, 9, 10, 14, 17, 18, 21, 23, 24, 25, 26, 27, 28, 30, 31, 32, 33, 35, 37, 38]  Metric Score: 1437.6292307297172  Test Score: 0.7472434266327396\n",
      "27 feature(s): [1, 2, 3, 4, 5, 6, 7, 8, 9, 10, 14, 17, 18, 21, 23, 24, 25, 26, 27, 28, 30, 31, 32, 33, 35, 37, 38]  Metric Score: 1430.5568088291798  Test Score: 0.7472434266327396\n",
      "28 feature(s): [1, 2, 3, 4, 5, 6, 7, 8, 9, 10, 11, 14, 17, 18, 21, 23, 24, 25, 26, 27, 28, 30, 31, 32, 33, 35, 37, 38]  Metric Score: 1411.6746053795894  Test Score: 0.7446988973706531\n",
      "29 feature(s): [0, 1, 2, 3, 4, 5, 6, 7, 8, 9, 10, 11, 14, 17, 18, 21, 23, 24, 25, 26, 27, 28, 30, 31, 32, 33, 35, 37, 38]  Metric Score: 1408.5256479983154  Test Score: 0.7455470737913485\n",
      "30 feature(s): [0, 1, 2, 3, 4, 5, 6, 7, 8, 9, 10, 11, 14, 16, 17, 18, 21, 23, 24, 25, 26, 27, 28, 30, 31, 32, 33, 35, 37, 38]  Metric Score: 1421.2688185927916  Test Score: 0.7497879558948262\n",
      "31 feature(s): [0, 1, 2, 3, 4, 5, 6, 7, 8, 9, 10, 11, 14, 16, 17, 18, 19, 21, 23, 24, 25, 26, 27, 28, 30, 31, 32, 33, 35, 37, 38]  Metric Score: 1422.2168357857793  Test Score: 0.7514843087362172\n",
      "32 feature(s): [0, 1, 2, 3, 4, 5, 6, 7, 8, 9, 10, 11, 14, 16, 17, 18, 19, 21, 23, 24, 25, 26, 27, 28, 30, 31, 32, 33, 34, 35, 37, 38]  Metric Score: 1415.1444138852419  Test Score: 0.7514843087362172\n",
      "33 feature(s): [0, 1, 2, 3, 4, 5, 6, 7, 8, 9, 10, 11, 12, 14, 16, 17, 18, 19, 21, 23, 24, 25, 26, 27, 28, 30, 31, 32, 33, 34, 35, 37, 38]  Metric Score: 1400.0515528911794  Test Score: 0.7497879558948262\n",
      "34 feature(s): [0, 1, 2, 3, 4, 5, 6, 7, 8, 9, 10, 11, 12, 13, 14, 16, 17, 18, 19, 21, 23, 24, 25, 26, 27, 28, 30, 31, 32, 33, 34, 35, 37, 38]  Metric Score: 1392.979130990642  Test Score: 0.7497879558948262\n",
      "35 feature(s): [0, 1, 2, 3, 4, 5, 6, 7, 8, 9, 10, 11, 12, 13, 14, 15, 16, 17, 18, 19, 21, 23, 24, 25, 26, 27, 28, 30, 31, 32, 33, 34, 35, 37, 38]  Metric Score: 1381.916857566685  Test Score: 0.7489397794741306\n",
      "36 feature(s): [0, 1, 2, 3, 4, 5, 6, 7, 8, 9, 10, 11, 12, 13, 14, 15, 16, 17, 18, 19, 21, 22, 23, 24, 25, 26, 27, 28, 30, 31, 32, 33, 34, 35, 37, 38]  Metric Score: 1370.868040665832  Test Score: 0.7480916030534351\n",
      "37 feature(s): [0, 1, 2, 3, 4, 5, 6, 7, 8, 9, 10, 11, 12, 13, 14, 15, 16, 17, 18, 19, 21, 22, 23, 24, 25, 26, 27, 28, 29, 30, 31, 32, 33, 34, 35, 37, 38]  Metric Score: 1348.022808274753  Test Score: 0.7446988973706531\n",
      "38 feature(s): [0, 1, 2, 3, 4, 5, 6, 7, 8, 9, 10, 11, 12, 13, 14, 15, 16, 17, 18, 19, 21, 22, 23, 24, 25, 26, 27, 28, 29, 30, 31, 32, 33, 34, 35, 36, 37, 38]  Metric Score: 1329.2577285552047  Test Score: 0.7421543681085666\n",
      "39 feature(s): [0, 1, 2, 3, 4, 5, 6, 7, 8, 9, 10, 11, 12, 13, 14, 15, 16, 17, 18, 19, 20, 21, 22, 23, 24, 25, 26, 27, 28, 29, 30, 31, 32, 33, 34, 35, 36, 37, 38]  Metric Score: 1302.951601150161  Test Score: 0.7379134860050891\n"
     ]
    }
   ],
   "source": [
    "LogisticRegression(penalty='l1', C=0.1, solver = 'saga', multi_class='ovr', verbose = 1, n_jobs=-1, max_iter = 80000, random_state=20191028)\n",
    "sfs = SFS(log_reg, k_features=39, metric = 'bic')\n",
    "sfs.fit(X_train_std, y_train)\n",
    "plotSFS(sfs)\n",
    "with open('pickle_models/sfs_PLAYER_GOALS_LogReg_bic.pickle', 'wb') as handle:\n",
    "    pickle.dump(sfs, handle, protocol=pickle.HIGHEST_PROTOCOL)"
   ]
  },
  {
   "cell_type": "code",
   "execution_count": 93,
   "metadata": {},
   "outputs": [
    {
     "name": "stdout",
     "output_type": "stream",
     "text": [
      "Processing: 0\n",
      "Processing: 1\n",
      "Processing: 2\n",
      "Processing: 3\n",
      "Processing: 4\n",
      "Processing: 5\n",
      "Processing: 6\n",
      "Processing: 7\n",
      "Processing: 8\n",
      "Processing: 9\n",
      "Processing: 10\n",
      "Processing: 11\n",
      "Processing: 12\n",
      "Processing: 13\n",
      "Processing: 14\n",
      "Processing: 15\n",
      "Processing: 16\n",
      "Processing: 17\n",
      "Processing: 18\n",
      "Processing: 19\n",
      "Processing: 20\n",
      "Processing: 21\n",
      "Processing: 22\n",
      "Processing: 23\n",
      "Processing: 24\n",
      "Processing: 25\n",
      "Processing: 26\n",
      "Processing: 27\n",
      "Processing: 28\n",
      "Processing: 29\n",
      "Processing: 30\n",
      "Processing: 31\n",
      "Processing: 32\n",
      "Processing: 33\n",
      "Processing: 34\n",
      "Processing: 35\n",
      "Processing: 36\n",
      "Processing: 37\n",
      "Processing: 38\n"
     ]
    },
    {
     "data": {
      "image/png": "[encoded data removed]",
      "text/plain": [
       "<Figure size 648x432 with 1 Axes>"
      ]
     },
     "metadata": {
      "needs_background": "light"
     },
     "output_type": "display_data"
    },
    {
     "name": "stdout",
     "output_type": "stream",
     "text": [
      "1 feature(s): [1]  Metric Score: 0.7280717711593093  Test Score: 0.7319762510602206\n",
      "2 feature(s): [1, 27]  Metric Score: 0.7376946840778776  Test Score: 0.7379134860050891\n",
      "3 feature(s): [1, 4, 27]  Metric Score: 0.7396764848479992  Test Score: 0.7387616624257846\n",
      "4 feature(s): [1, 4, 27, 36]  Metric Score: 0.741373396748821  Test Score: 0.7353689567430025\n",
      "5 feature(s): [1, 4, 6, 27, 36]  Metric Score: 0.7419391676116216  Test Score: 0.7362171331636981\n",
      "6 feature(s): [1, 3, 4, 6, 27, 36]  Metric Score: 0.7419391676116216  Test Score: 0.7362171331636981\n",
      "7 feature(s): [1, 3, 4, 5, 6, 27, 36]  Metric Score: 0.7419391676116216  Test Score: 0.7362171331636981\n",
      "8 feature(s): [1, 3, 4, 5, 6, 7, 27, 36]  Metric Score: 0.7419391676116216  Test Score: 0.7362171331636981\n",
      "9 feature(s): [1, 3, 4, 5, 6, 7, 25, 27, 36]  Metric Score: 0.7422220530430217  Test Score: 0.7362171331636981\n",
      "10 feature(s): [1, 3, 4, 5, 6, 7, 21, 25, 27, 36]  Metric Score: 0.7422220530430217  Test Score: 0.7362171331636981\n",
      "11 feature(s): [1, 3, 4, 5, 6, 7, 21, 25, 27, 34, 36]  Metric Score: 0.7422220530430217  Test Score: 0.7362171331636981\n",
      "12 feature(s): [1, 3, 4, 5, 6, 7, 21, 25, 27, 34, 35, 36]  Metric Score: 0.7422220530430217  Test Score: 0.7362171331636981\n",
      "13 feature(s): [1, 3, 4, 5, 6, 7, 21, 25, 27, 29, 34, 35, 36]  Metric Score: 0.7422208509802821  Test Score: 0.734520780322307\n",
      "14 feature(s): [1, 3, 4, 5, 6, 7, 14, 21, 25, 27, 29, 34, 35, 36]  Metric Score: 0.7425029350365226  Test Score: 0.7362171331636981\n",
      "15 feature(s): [1, 3, 4, 5, 6, 7, 10, 14, 21, 25, 27, 29, 34, 35, 36]  Metric Score: 0.743069907962063  Test Score: 0.732824427480916\n",
      "16 feature(s): [1, 3, 4, 5, 6, 7, 10, 14, 21, 25, 27, 29, 33, 34, 35, 36]  Metric Score: 0.7439193656314235  Test Score: 0.7362171331636981\n",
      "17 feature(s): [1, 3, 4, 5, 6, 7, 8, 10, 14, 21, 25, 27, 29, 33, 34, 35, 36]  Metric Score: 0.7439193656314235  Test Score: 0.7362171331636981\n",
      "18 feature(s): [1, 3, 4, 5, 6, 7, 8, 10, 14, 17, 21, 25, 27, 29, 33, 34, 35, 36]  Metric Score: 0.7436364802000232  Test Score: 0.7362171331636981\n",
      "19 feature(s): [1, 3, 4, 5, 6, 7, 8, 10, 14, 17, 21, 25, 27, 29, 33, 34, 35, 36, 38]  Metric Score: 0.7430707093372226  Test Score: 0.7362171331636981\n",
      "20 feature(s): [1, 3, 4, 5, 6, 7, 8, 10, 14, 17, 21, 25, 27, 29, 31, 33, 34, 35, 36, 38]  Metric Score: 0.7425049384744221  Test Score: 0.7362171331636981\n",
      "21 feature(s): [1, 3, 4, 5, 6, 7, 8, 10, 14, 17, 21, 25, 27, 29, 31, 32, 33, 34, 35, 36, 38]  Metric Score: 0.7419391676116216  Test Score: 0.7362171331636981\n",
      "22 feature(s): [1, 3, 4, 5, 6, 7, 8, 10, 13, 14, 17, 21, 25, 27, 29, 31, 32, 33, 34, 35, 36, 38]  Metric Score: 0.7427878239058224  Test Score: 0.7336726039016115\n",
      "23 feature(s): [1, 3, 4, 5, 6, 7, 8, 10, 13, 14, 17, 21, 25, 26, 27, 29, 31, 32, 33, 34, 35, 36, 38]  Metric Score: 0.7427878239058223  Test Score: 0.7336726039016115\n",
      "24 feature(s): [1, 3, 4, 5, 6, 7, 8, 10, 13, 14, 17, 21, 25, 26, 27, 29, 31, 32, 33, 34, 35, 36, 37, 38]  Metric Score: 0.7427874232182425  Test Score: 0.7336726039016115\n",
      "25 feature(s): [1, 3, 4, 5, 6, 7, 8, 10, 11, 13, 14, 17, 21, 25, 26, 27, 29, 31, 32, 33, 34, 35, 36, 37, 38]  Metric Score: 0.7427882245934023  Test Score: 0.732824427480916\n",
      "26 feature(s): [1, 2, 3, 4, 5, 6, 7, 8, 10, 11, 13, 14, 17, 21, 25, 26, 27, 29, 31, 32, 33, 34, 35, 36, 37, 38]  Metric Score: 0.7425049384744221  Test Score: 0.732824427480916\n",
      "27 feature(s): [1, 2, 3, 4, 5, 6, 7, 8, 10, 11, 13, 14, 17, 21, 25, 26, 27, 28, 29, 31, 32, 33, 34, 35, 36, 37, 38]  Metric Score: 0.742504938474422  Test Score: 0.732824427480916\n",
      "28 feature(s): [1, 2, 3, 4, 5, 6, 7, 8, 10, 11, 13, 14, 16, 17, 21, 25, 26, 27, 28, 29, 31, 32, 33, 34, 35, 36, 37, 38]  Metric Score: 0.7425033357241025  Test Score: 0.7319762510602206\n",
      "29 feature(s): [1, 2, 3, 4, 5, 6, 7, 8, 10, 11, 13, 14, 15, 16, 17, 21, 25, 26, 27, 28, 29, 31, 32, 33, 34, 35, 36, 37, 38]  Metric Score: 0.743069507274483  Test Score: 0.7336726039016115\n",
      "30 feature(s): [0, 1, 2, 3, 4, 5, 6, 7, 8, 10, 11, 13, 14, 15, 16, 17, 21, 25, 26, 27, 28, 29, 31, 32, 33, 34, 35, 36, 37, 38]  Metric Score: 0.7442022510628238  Test Score: 0.7438507209499576\n",
      "31 feature(s): [0, 1, 2, 3, 4, 5, 6, 7, 8, 10, 11, 12, 13, 14, 15, 16, 17, 21, 25, 26, 27, 28, 29, 31, 32, 33, 34, 35, 36, 37, 38]  Metric Score: 0.7453357962263244  Test Score: 0.7430025445292621\n",
      "32 feature(s): [0, 1, 2, 3, 4, 5, 6, 7, 8, 10, 11, 12, 13, 14, 15, 16, 17, 21, 22, 25, 26, 27, 28, 29, 31, 32, 33, 34, 35, 36, 37, 38]  Metric Score: 0.7464677386395053  Test Score: 0.7404580152671756\n",
      "33 feature(s): [0, 1, 2, 3, 4, 5, 6, 7, 8, 9, 10, 11, 12, 13, 14, 15, 16, 17, 21, 22, 25, 26, 27, 28, 29, 31, 32, 33, 34, 35, 36, 37, 38]  Metric Score: 0.7461840518329453  Test Score: 0.7404580152671756\n",
      "34 feature(s): [0, 1, 2, 3, 4, 5, 6, 7, 8, 9, 10, 11, 12, 13, 14, 15, 16, 17, 21, 22, 24, 25, 26, 27, 28, 29, 31, 32, 33, 34, 35, 36, 37, 38]  Metric Score: 0.7464673379519254  Test Score: 0.7404580152671756\n",
      "35 feature(s): [0, 1, 2, 3, 4, 5, 6, 7, 8, 9, 10, 11, 12, 13, 14, 15, 16, 17, 21, 22, 24, 25, 26, 27, 28, 29, 30, 31, 32, 33, 34, 35, 36, 37, 38]  Metric Score: 0.7459023684642847  Test Score: 0.7430025445292621\n",
      "36 feature(s): [0, 1, 2, 3, 4, 5, 6, 7, 8, 9, 10, 11, 12, 13, 14, 15, 16, 17, 21, 22, 23, 24, 25, 26, 27, 28, 29, 30, 31, 32, 33, 34, 35, 36, 37, 38]  Metric Score: 0.7444887426824431  Test Score: 0.7421543681085666\n",
      "37 feature(s): [0, 1, 2, 3, 4, 5, 6, 7, 8, 9, 10, 11, 12, 13, 14, 15, 16, 17, 19, 21, 22, 23, 24, 25, 26, 27, 28, 29, 30, 31, 32, 33, 34, 35, 36, 37, 38]  Metric Score: 0.7447712274262634  Test Score: 0.7421543681085666\n",
      "38 feature(s): [0, 1, 2, 3, 4, 5, 6, 7, 8, 9, 10, 11, 12, 13, 14, 15, 16, 17, 18, 19, 21, 22, 23, 24, 25, 26, 27, 28, 29, 30, 31, 32, 33, 34, 35, 36, 37, 38]  Metric Score: 0.7436380829503428  Test Score: 0.7421543681085666\n",
      "39 feature(s): [0, 1, 2, 3, 4, 5, 6, 7, 8, 9, 10, 11, 12, 13, 14, 15, 16, 17, 18, 19, 20, 21, 22, 23, 24, 25, 26, 27, 28, 29, 30, 31, 32, 33, 34, 35, 36, 37, 38]  Metric Score: 0.7408076258860203  Test Score: 0.7379134860050891\n"
     ]
    }
   ],
   "source": [
    "LogisticRegression(penalty='l1', C=0.1, solver = 'saga', multi_class='ovr', verbose = 1, n_jobs=-1, max_iter = 80000, random_state=20191028)\n",
    "sfs = SFS(log_reg, k_features=39, metric = 'cv')\n",
    "sfs.fit(X_train_std, y_train)\n",
    "plotSFS(sfs)\n",
    "with open('pickle_models/sfs_PLAYER_GOALS_LogReg_cv.pickle', 'wb') as handle:\n",
    "    pickle.dump(sfs, handle, protocol=pickle.HIGHEST_PROTOCOL)"
   ]
  },
  {
   "cell_type": "code",
   "execution_count": 23,
   "metadata": {},
   "outputs": [],
   "source": [
    "# with open('pickle_models/scoring_prob_model.pickle', 'wb') as handle:\n",
    "#     pickle.dump(log_reg, handle, protocol=pickle.HIGHEST_PROTOCOL)"
   ]
  },
  {
   "cell_type": "code",
   "execution_count": 24,
   "metadata": {},
   "outputs": [],
   "source": [
    "# with open('pickle_models/scoring_prob_model_stdsc.pickle', 'wb') as handle:\n",
    "#     pickle.dump(stdsc, handle, protocol=pickle.HIGHEST_PROTOCOL)"
   ]
  }
 ],
 "metadata": {
  "kernelspec": {
   "display_name": "Python 3",
   "language": "python",
   "name": "python3"
  },
  "language_info": {
   "codemirror_mode": {
    "name": "ipython",
    "version": 3
   },
   "file_extension": ".py",
   "mimetype": "text/x-python",
   "name": "python",
   "nbconvert_exporter": "python",
   "pygments_lexer": "ipython3",
   "version": "3.6.5"
  }
 },
 "nbformat": 4,
 "nbformat_minor": 2
}
