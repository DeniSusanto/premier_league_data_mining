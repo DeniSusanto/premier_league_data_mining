{
 "cells": [
  {
   "cell_type": "code",
   "execution_count": 1,
   "metadata": {},
   "outputs": [],
   "source": [
    "import pandas\n",
    "df = pandas.read_csv(\"goal_prediction.csv\")"
   ]
  },
  {
   "cell_type": "code",
   "execution_count": 2,
   "metadata": {},
   "outputs": [
    {
     "name": "stdout",
     "output_type": "stream",
     "text": [
      "(5592, 41)\n"
     ]
    }
   ],
   "source": [
    "print(df.shape)"
   ]
  },
  {
   "cell_type": "code",
   "execution_count": 3,
   "metadata": {},
   "outputs": [
    {
     "name": "stdout",
     "output_type": "stream",
     "text": [
      "Index(['match_id', 'scored', 'fpl_minutes', 'fpl_goals', 'fpl_assits',\n",
      "       'fpl_cs', 'fpl_points', 'fpl_bonus', 'fpl_cprice', 'player_rating',\n",
      "       'touches', 'saves', 'total_pass', 'aerial_won', 'formation_place',\n",
      "       'accurate_pass', 'total_tackle', 'aerial_lost', 'fouls', 'yellow_card',\n",
      "       'total_scoring_att', 'man_of_the_match', 'goals', 'won_contest',\n",
      "       'blocked_scoring_att', 'goal_assist', 'good_high_claim',\n",
      "       'second_yellow', 'red_card', 'error_lead_to_goal', 'last_man_tackle',\n",
      "       'six_yard_block', 'post_scoring_att', 'att_pen_target', 'penalty_save',\n",
      "       'penalty_conceded', 'clearance_off_line', 'att_pen_goal',\n",
      "       'att_pen_miss', 'own_goals', 'att_pen_post'],\n",
      "      dtype='object')\n"
     ]
    }
   ],
   "source": [
    "print(df.columns)"
   ]
  },
  {
   "cell_type": "code",
   "execution_count": 9,
   "metadata": {},
   "outputs": [],
   "source": [
    "home_win = []\n",
    "away_win = []\n",
    "draw = []\n",
    "\n",
    "for i in df['winner']:\n",
    "    if i == 0:\n",
    "        draw.append(1)\n",
    "        home_win.append(0)\n",
    "        away_win.append(0)\n",
    "    elif i== -1:\n",
    "        draw.append(0)\n",
    "        home_win.append(0)\n",
    "        away_win.append(1)\n",
    "    else:\n",
    "        draw.append(0)\n",
    "        home_win.append(1)\n",
    "        away_win.append(0)\n",
    "        "
   ]
  },
  {
   "cell_type": "code",
   "execution_count": 10,
   "metadata": {},
   "outputs": [],
   "source": [
    "df['home_wins'] = home_win\n",
    "df['away_wins'] = away_win\n",
    "df['draws'] = draw"
   ]
  },
  {
   "cell_type": "code",
   "execution_count": 11,
   "metadata": {},
   "outputs": [
    {
     "name": "stdout",
     "output_type": "stream",
     "text": [
      "(1520, 971)\n"
     ]
    }
   ],
   "source": [
    "print(df.shape)"
   ]
  },
  {
   "cell_type": "code",
   "execution_count": 19,
   "metadata": {},
   "outputs": [],
   "source": [
    "X = df.iloc[:,8:968]"
   ]
  },
  {
   "cell_type": "code",
   "execution_count": 20,
   "metadata": {},
   "outputs": [
    {
     "data": {
      "text/plain": [
       "(1520, 960)"
      ]
     },
     "execution_count": 20,
     "metadata": {},
     "output_type": "execute_result"
    }
   ],
   "source": [
    "X.shape"
   ]
  },
  {
   "cell_type": "code",
   "execution_count": 22,
   "metadata": {},
   "outputs": [
    {
     "data": {
      "text/plain": [
       "(1520, 3)"
      ]
     },
     "execution_count": 22,
     "metadata": {},
     "output_type": "execute_result"
    }
   ],
   "source": [
    "Y = df.iloc[:,968:]\n",
    "Y.shape"
   ]
  },
  {
   "cell_type": "code",
   "execution_count": 1,
   "metadata": {},
   "outputs": [],
   "source": [
    "#Torch Classes\n",
    "#General Data processing, Linear Algebra and Plotting  classes\n",
    "\n",
    "from __future__ import print_function, division\n",
    "import os\n",
    "import sys\n",
    "import torch\n",
    "import pandas as pd\n",
    "from skimage import io, transform\n",
    "import numpy as np\n",
    "import matplotlib.pyplot as plt\n",
    "import struct\n",
    "import math\n",
    "from torch.utils import data\n",
    "# Ignore warnings\n",
    "import warnings\n",
    "import csv\n",
    "warnings.filterwarnings(\"ignore\")\n",
    "\n",
    "plt.ion()   # interactive mode\n",
    "\n",
    "import torch\n",
    "import torch.nn as nn\n",
    "import torch.nn.functional as F\n",
    "from torch.utils.data import Dataset, DataLoader\n",
    "from torchvision import transforms, utils\n",
    "import torch.optim as optim\n",
    "\n",
    "from sklearn.metrics import confusion_matrix\n",
    "\n",
    "cuda = torch.device('cuda')"
   ]
  },
  {
   "cell_type": "code",
   "execution_count": 2,
   "metadata": {},
   "outputs": [],
   "source": [
    "class Football(nn.Module):\n",
    "    def __init__(self):\n",
    "        super(Football,self).__init__()\n",
    "        \n",
    "        \n",
    "        self.fc1 = nn.Linear(39,20)\n",
    "        #self.fc2 = nn.Linear(50,20)\n",
    "        self.fc3 = nn.Linear(20,5)\n",
    "        #self.fc4 = nn.Linear(100,50)\n",
    "        #self.fc5 = nn.Linear(50,20)\n",
    "        self.softmax = nn.Linear(5,1)\n",
    "        \n",
    "    def forward(self,x,**kwargs):\n",
    "        \n",
    "        #print(x)\n",
    "        x = F.leaky_relu(self.fc1(x))\n",
    "        #x = F.leaky_relu(self.fc2(x))\n",
    "        x = F.leaky_relu(self.fc3(x))\n",
    "        #x = F.sigmoid(self.fc4(x))\n",
    "        #x = F.sigmoid(self.fc5(x))\n",
    "        x = F.sigmoid(self.softmax(x))\n",
    "        # print(x)\n",
    "   \n",
    "        return x\n",
    "        "
   ]
  },
  {
   "cell_type": "code",
   "execution_count": 28,
   "metadata": {},
   "outputs": [],
   "source": [
    "import sys\n",
    "def training_1(net, X,Y, criterion,optimizer,epoch=5):\n",
    "    #palm_joints_list = [0:13]\n",
    "    #phalanges_joints_list = []\n",
    "\n",
    "    total_loss = 0\n",
    "\n",
    "    for e in range(epoch):\n",
    "        running_loss = 0.0\n",
    "        print(\"Starting Epoch %d...\"%(e+1))\n",
    "        for i,(inputs,labels) in enumerate(zip(X,Y),0):\n",
    "            \n",
    "            inputs = torch.from_numpy(inputs)\n",
    "            inputs = inputs.type(torch.FloatTensor)\n",
    "        \n",
    "            optimizer.zero_grad()\n",
    "            y_pred = net(inputs)\n",
    "            labels = torch.from_numpy(np.array(labels))\n",
    "            labels.requires_grad = False\n",
    "            labels = labels.type(torch.FloatTensor)\n",
    "            loss = criterion(y_pred,labels)\n",
    "            \n",
    "            if y_pred == 1:\n",
    "                loss = loss*2 \n",
    "            loss.backward()\n",
    "            optimizer.step()\n",
    "        \n",
    "        #printing stats \n",
    "            sys.stdout.write('\\r [epoch: %d, iteration: %5d] loss: %.3f ' % (e+1,i+1,running_loss/200))\n",
    "            sys.stdout.flush()\n",
    "        \n",
    "            running_loss += loss.item()\n",
    "            total_loss += loss.item()**0.5\n",
    "            \n",
    "        \n",
    "        torch.save(net,\"models/football_1_%d.pth\"%(e+1))\n",
    "        torch.save(optimizer,\"optim.pth\")\n",
    "        \n",
    "        total_loss = 0\n",
    "        print(\"\\nEpoch %d complete. Model after epoch %d successfully saved as models/football_net_1_%d.pth...\"%(e+1,e+1,e+1))\n",
    "        \n",
    "    print('Finished Training...')"
   ]
  },
  {
   "cell_type": "code",
   "execution_count": 29,
   "metadata": {},
   "outputs": [],
   "source": [
    "dff = pd.read_csv(\"goal_prediction.csv\")\n",
    "#dff = dff.iloc[:,1:]"
   ]
  },
  {
   "cell_type": "code",
   "execution_count": 30,
   "metadata": {},
   "outputs": [
    {
     "name": "stdout",
     "output_type": "stream",
     "text": [
      "Football(\n",
      "  (fc1): Linear(in_features=39, out_features=20, bias=True)\n",
      "  (fc3): Linear(in_features=20, out_features=5, bias=True)\n",
      "  (softmax): Linear(in_features=5, out_features=1, bias=True)\n",
      ")\n"
     ]
    }
   ],
   "source": [
    "criterion = nn.BCELoss()\n",
    "football_net = Football()\n",
    "print(football_net)\n",
    "optimizer = optim.Adam(football_net.parameters(),weight_decay = float(0.0001),lr= float(0.001))"
   ]
  },
  {
   "cell_type": "code",
   "execution_count": 31,
   "metadata": {},
   "outputs": [],
   "source": [
    "msk = np.random.rand(len(dff)) < 0.9\n",
    "\n",
    "train = dff[msk]\n",
    "\n",
    "test = dff[~msk]"
   ]
  },
  {
   "cell_type": "code",
   "execution_count": null,
   "metadata": {},
   "outputs": [
    {
     "name": "stdout",
     "output_type": "stream",
     "text": [
      "Starting Epoch 1...\n",
      " [epoch: 1, iteration:   644] loss: 11.152 "
     ]
    }
   ],
   "source": [
    "training_1(football_net,dff.iloc[:,2:].values,dff.iloc[:,1].values,criterion,optimizer,epoch = 10)"
   ]
  },
  {
   "cell_type": "code",
   "execution_count": 114,
   "metadata": {},
   "outputs": [],
   "source": [
    "net = torch.load(\"models/football_1_10.pth\")"
   ]
  },
  {
   "cell_type": "code",
   "execution_count": 115,
   "metadata": {},
   "outputs": [],
   "source": [
    "error = 0\n",
    "#total_sum = 0\n",
    "max,min = -100,100\n",
    "predicts = []\n",
    "for row in dff.values:\n",
    "    x = row[2:]\n",
    "    x = torch.from_numpy(np.array(x))\n",
    "    x = x.type(torch.FloatTensor)\n",
    "    y = row[1]\n",
    "    pred = net(x).tolist()[0]\n",
    "    \n",
    "    if max < pred:\n",
    "        max = pred\n",
    "    if min > pred:\n",
    "        min = pred\n",
    "    \n",
    "    '''if pred > 0.5:\n",
    "        pred=1\n",
    "    else :\n",
    "        pred=0'''\n",
    "    #print(y,pred)\n",
    "    pred = round(pred)\n",
    "    #total_sum += pred \n",
    "    predicts.append(pred)\n",
    "    error += (abs(y-pred))"
   ]
  },
  {
   "cell_type": "code",
   "execution_count": 116,
   "metadata": {},
   "outputs": [
    {
     "name": "stdout",
     "output_type": "stream",
     "text": [
      "3105\n"
     ]
    }
   ],
   "source": [
    "print(sum(predicts))"
   ]
  },
  {
   "cell_type": "code",
   "execution_count": 117,
   "metadata": {},
   "outputs": [
    {
     "data": {
      "text/plain": [
       "2796.0"
      ]
     },
     "execution_count": 117,
     "metadata": {},
     "output_type": "execute_result"
    }
   ],
   "source": [
    "sum(dff.iloc[:,1])"
   ]
  },
  {
   "cell_type": "code",
   "execution_count": 118,
   "metadata": {},
   "outputs": [
    {
     "name": "stdout",
     "output_type": "stream",
     "text": [
      "0.7533977110157368\n"
     ]
    }
   ],
   "source": [
    "print(1-sum(abs(predicts - dff.iloc[:,1]))/len(dff))"
   ]
  },
  {
   "cell_type": "code",
   "execution_count": 119,
   "metadata": {},
   "outputs": [],
   "source": [
    "confmat = confusion_matrix(y_true = dff.iloc[:,1].tolist(),y_pred = predicts)"
   ]
  },
  {
   "cell_type": "code",
   "execution_count": 120,
   "metadata": {},
   "outputs": [
    {
     "name": "stdout",
     "output_type": "stream",
     "text": [
      "[[1952  844]\n",
      " [ 535 2261]]\n"
     ]
    }
   ],
   "source": [
    "print(confmat)"
   ]
  },
  {
   "cell_type": "code",
   "execution_count": null,
   "metadata": {},
   "outputs": [],
   "source": []
  }
 ],
 "metadata": {
  "kernelspec": {
   "display_name": "Python 3",
   "language": "python",
   "name": "python3"
  },
  "language_info": {
   "codemirror_mode": {
    "name": "ipython",
    "version": 3
   },
   "file_extension": ".py",
   "mimetype": "text/x-python",
   "name": "python",
   "nbconvert_exporter": "python",
   "pygments_lexer": "ipython3",
   "version": "3.7.1"
  }
 },
 "nbformat": 4,
 "nbformat_minor": 2
}
