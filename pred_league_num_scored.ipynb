{
 "cells": [
  {
   "cell_type": "code",
   "execution_count": 1,
   "metadata": {},
   "outputs": [],
   "source": [
    "import pandas\n",
    "df = pandas.read_csv(\"goal_prediction_numeric_UPDATED.csv\")"
   ]
  },
  {
   "cell_type": "code",
   "execution_count": 8,
   "metadata": {},
   "outputs": [
    {
     "name": "stdout",
     "output_type": "stream",
     "text": [
      "(1200, 44)\n"
     ]
    }
   ],
   "source": [
    "print(df.shape)"
   ]
  },
  {
   "cell_type": "code",
   "execution_count": 3,
   "metadata": {},
   "outputs": [
    {
     "name": "stdout",
     "output_type": "stream",
     "text": [
      "Index(['match_id', 'scored', 'fpl_minutes', 'fpl_goals', 'fpl_assits',\n",
      "       'fpl_cs', 'fpl_points', 'fpl_bonus', 'fpl_cprice', 'player_rating',\n",
      "       'touches', 'saves', 'total_pass', 'aerial_won', 'formation_place',\n",
      "       'accurate_pass', 'total_tackle', 'aerial_lost', 'fouls', 'yellow_card',\n",
      "       'total_scoring_att', 'man_of_the_match', 'goals', 'won_contest',\n",
      "       'blocked_scoring_att', 'goal_assist', 'good_high_claim',\n",
      "       'second_yellow', 'red_card', 'error_lead_to_goal', 'last_man_tackle',\n",
      "       'six_yard_block', 'post_scoring_att', 'att_pen_target', 'penalty_save',\n",
      "       'penalty_conceded', 'clearance_off_line', 'att_pen_goal',\n",
      "       'att_pen_miss', 'own_goals', 'att_pen_post'],\n",
      "      dtype='object')\n"
     ]
    }
   ],
   "source": [
    "print(df.columns)"
   ]
  },
  {
   "cell_type": "code",
   "execution_count": 5,
   "metadata": {},
   "outputs": [
    {
     "name": "stdout",
     "output_type": "stream",
     "text": [
      "0       1.0\n",
      "1       1.0\n",
      "2       1.0\n",
      "3       1.0\n",
      "4       1.0\n",
      "5       1.0\n",
      "6       1.0\n",
      "7       1.0\n",
      "8       1.0\n",
      "9       1.0\n",
      "10      1.0\n",
      "11      1.0\n",
      "12      1.0\n",
      "13      1.0\n",
      "14      1.0\n",
      "15      1.0\n",
      "16      1.0\n",
      "17      1.0\n",
      "18      1.0\n",
      "19      1.0\n",
      "20      1.0\n",
      "21      1.0\n",
      "22      1.0\n",
      "23      1.0\n",
      "24      1.0\n",
      "25      1.0\n",
      "26      1.0\n",
      "27      1.0\n",
      "28      1.0\n",
      "29      1.0\n",
      "       ... \n",
      "1170    3.0\n",
      "1171    3.0\n",
      "1172    3.0\n",
      "1173    3.0\n",
      "1174    3.0\n",
      "1175    3.0\n",
      "1176    3.0\n",
      "1177    3.0\n",
      "1178    3.0\n",
      "1179    3.0\n",
      "1180    3.0\n",
      "1181    3.0\n",
      "1182    3.0\n",
      "1183    3.0\n",
      "1184    3.0\n",
      "1185    3.0\n",
      "1186    3.0\n",
      "1187    3.0\n",
      "1188    3.0\n",
      "1189    3.0\n",
      "1190    3.0\n",
      "1191    3.0\n",
      "1192    3.0\n",
      "1193    3.0\n",
      "1194    3.0\n",
      "1195    3.0\n",
      "1196    3.0\n",
      "1197    3.0\n",
      "1198    3.0\n",
      "1199    3.0\n",
      "Name: scored, Length: 1200, dtype: float64\n"
     ]
    }
   ],
   "source": [
    "print(df['scored'])"
   ]
  },
  {
   "cell_type": "code",
   "execution_count": 3,
   "metadata": {},
   "outputs": [],
   "source": [
    "score_1 = []\n",
    "score_2 = []\n",
    "score_3 = []\n",
    "\n",
    "for i in df['scored']:\n",
    "    if i == 1:\n",
    "        score_1.append(1)\n",
    "        score_2.append(0)\n",
    "        score_3.append(0)\n",
    "    elif i == 2:\n",
    "        score_1.append(0)\n",
    "        score_2.append(1)\n",
    "        score_3.append(0)\n",
    "    else:\n",
    "        score_1.append(0)\n",
    "        score_2.append(0)\n",
    "        score_3.append(1)\n",
    "        "
   ]
  },
  {
   "cell_type": "code",
   "execution_count": 4,
   "metadata": {},
   "outputs": [],
   "source": [
    "df['score_1'] = score_1\n",
    "df['score_2'] = score_2\n",
    "df['score_3'] = score_3"
   ]
  },
  {
   "cell_type": "code",
   "execution_count": 48,
   "metadata": {},
   "outputs": [],
   "source": [
    "#Torch Classes\n",
    "#General Data processing, Linear Algebra and Plotting  classes\n",
    "\n",
    "from __future__ import print_function, division\n",
    "import os\n",
    "import sys\n",
    "import torch\n",
    "import pandas as pd\n",
    "from skimage import io, transform\n",
    "import numpy as np\n",
    "import matplotlib.pyplot as plt\n",
    "import struct\n",
    "import math\n",
    "from torch.utils import data\n",
    "# Ignore warnings\n",
    "import warnings\n",
    "import csv\n",
    "warnings.filterwarnings(\"ignore\")\n",
    "\n",
    "plt.ion()   # interactive mode\n",
    "\n",
    "import torch\n",
    "import torch.nn as nn\n",
    "import torch.nn.functional as F\n",
    "from torch.utils.data import Dataset, DataLoader\n",
    "from torchvision import transforms, utils\n",
    "import torch.optim as optim\n",
    "\n",
    "from sklearn.metrics import confusion_matrix\n",
    "from sklearn.model_selection import train_test_split\n",
    "\n",
    "cuda = torch.device('cuda')"
   ]
  },
  {
   "cell_type": "code",
   "execution_count": 41,
   "metadata": {},
   "outputs": [],
   "source": [
    "class Football(nn.Module):\n",
    "    def __init__(self):\n",
    "        super(Football,self).__init__()\n",
    "        \n",
    "        \n",
    "        self.fc1 = nn.Linear(39,20)\n",
    "        #self.fc2 = nn.Linear(50,20)\n",
    "        self.fc3 = nn.Linear(20,5)\n",
    "        #self.fc4 = nn.Linear(100,50)\n",
    "        #self.fc5 = nn.Linear(50,20)\n",
    "        self.softmax = nn.Linear(5,3)\n",
    "        \n",
    "    def forward(self,x,**kwargs):\n",
    "        \n",
    "        #print(x)\n",
    "        x = F.leaky_relu(self.fc1(x))\n",
    "        \n",
    "        #x = F.leaky_relu(self.fc2(x))\n",
    "       \n",
    "        x = F.leaky_relu(self.fc3(x))\n",
    "        \n",
    "        #x = F.sigmoid(self.fc4(x))\n",
    "        #x = F.sigmoid(self.fc5(x))\n",
    "        \n",
    "        x = F.sigmoid(self.softmax(x))\n",
    "        # print(x)\n",
    "   \n",
    "        return x\n",
    "        "
   ]
  },
  {
   "cell_type": "code",
   "execution_count": 63,
   "metadata": {},
   "outputs": [],
   "source": [
    "import sys\n",
    "def training_1(net, X,Y, criterion,optimizer,epoch=5):\n",
    "    #palm_joints_list = [0:13]\n",
    "    #phalanges_joints_list = []\n",
    "\n",
    "    total_loss = 0\n",
    "\n",
    "    for e in range(epoch):\n",
    "        running_loss = 0.0\n",
    "        print(\"Starting Epoch %d...\"%(e+1))\n",
    "        for i,(inputs,labels) in enumerate(zip(X,Y),0):\n",
    "            \n",
    "            inputs = torch.from_numpy(inputs)\n",
    "            inputs = inputs.type(torch.FloatTensor)\n",
    "        \n",
    "            optimizer.zero_grad()\n",
    "            y_pred = net(inputs)\n",
    "            labels = torch.from_numpy(np.array(labels))\n",
    "            #labels.requires_grad = False\n",
    "            labels = labels.type(torch.FloatTensor)\n",
    "            loss = criterion(y_pred,labels)\n",
    "            \n",
    "            loss.backward()\n",
    "            optimizer.step()\n",
    "        \n",
    "        #printing stats \n",
    "            sys.stdout.write('\\r [epoch: %d, iteration: %5d] loss: %.3f ' % (e+1,i+1,running_loss))\n",
    "            sys.stdout.flush()\n",
    "        \n",
    "            running_loss += loss.item()\n",
    "            total_loss += loss.item()**0.5\n",
    "            \n",
    "        \n",
    "        torch.save(net,\"models/football_2_%d.pth\"%(e+1))\n",
    "        torch.save(optimizer,\"optim.pth\")\n",
    "        \n",
    "        total_loss = 0\n",
    "        print(\"\\nEpoch %d complete. Model after epoch %d successfully saved as models/football_net_2_%d.pth...\"%(e+1,e+1,e+1))\n",
    "        \n",
    "    print('Finished Training...')"
   ]
  },
  {
   "cell_type": "code",
   "execution_count": 64,
   "metadata": {},
   "outputs": [
    {
     "name": "stdout",
     "output_type": "stream",
     "text": [
      "Football(\n",
      "  (fc1): Linear(in_features=39, out_features=20, bias=True)\n",
      "  (fc3): Linear(in_features=20, out_features=5, bias=True)\n",
      "  (softmax): Linear(in_features=5, out_features=3, bias=True)\n",
      ")\n"
     ]
    }
   ],
   "source": [
    "criterion = nn.MSELoss()\n",
    "football_net = Football()\n",
    "print(football_net)\n",
    "optimizer = optim.Adam(football_net.parameters(),weight_decay = float(0.0001),lr= float(0.001))"
   ]
  },
  {
   "cell_type": "code",
   "execution_count": 54,
   "metadata": {},
   "outputs": [],
   "source": [
    "X_train, X_test, y_train, y_test = train_test_split(df.iloc[:,2:].values,df.iloc[:,1].values, test_size = 0.1, random_state = 1 , stratify = df.iloc[:,1].values)"
   ]
  },
  {
   "cell_type": "code",
   "execution_count": 76,
   "metadata": {},
   "outputs": [
    {
     "name": "stdout",
     "output_type": "stream",
     "text": [
      "Starting Epoch 1...\n",
      " [epoch: 1, iteration:  1080] loss: 210.593 \n",
      "Epoch 1 complete. Model after epoch 1 successfully saved as models/football_net_2_1.pth...\n",
      "Starting Epoch 2...\n",
      " [epoch: 2, iteration:  1080] loss: 209.317 \n",
      "Epoch 2 complete. Model after epoch 2 successfully saved as models/football_net_2_2.pth...\n",
      "Starting Epoch 3...\n",
      " [epoch: 3, iteration:  1080] loss: 210.205 \n",
      "Epoch 3 complete. Model after epoch 3 successfully saved as models/football_net_2_3.pth...\n",
      "Starting Epoch 4...\n",
      " [epoch: 4, iteration:  1080] loss: 210.202 \n",
      "Epoch 4 complete. Model after epoch 4 successfully saved as models/football_net_2_4.pth...\n",
      "Starting Epoch 5...\n",
      " [epoch: 5, iteration:  1080] loss: 209.118 \n",
      "Epoch 5 complete. Model after epoch 5 successfully saved as models/football_net_2_5.pth...\n",
      "Starting Epoch 6...\n",
      " [epoch: 6, iteration:  1080] loss: 209.336 \n",
      "Epoch 6 complete. Model after epoch 6 successfully saved as models/football_net_2_6.pth...\n",
      "Starting Epoch 7...\n",
      " [epoch: 7, iteration:  1080] loss: 208.370 \n",
      "Epoch 7 complete. Model after epoch 7 successfully saved as models/football_net_2_7.pth...\n",
      "Starting Epoch 8...\n",
      " [epoch: 8, iteration:  1080] loss: 208.498 \n",
      "Epoch 8 complete. Model after epoch 8 successfully saved as models/football_net_2_8.pth...\n",
      "Starting Epoch 9...\n",
      " [epoch: 9, iteration:  1080] loss: 210.965 \n",
      "Epoch 9 complete. Model after epoch 9 successfully saved as models/football_net_2_9.pth...\n",
      "Starting Epoch 10...\n",
      " [epoch: 10, iteration:  1080] loss: 208.395 \n",
      "Epoch 10 complete. Model after epoch 10 successfully saved as models/football_net_2_10.pth...\n",
      "Finished Training...\n"
     ]
    }
   ],
   "source": [
    "training_1(football_net,X_train[:,:39],X_train[:,39:],criterion,optimizer,epoch = 10)"
   ]
  },
  {
   "cell_type": "code",
   "execution_count": 77,
   "metadata": {},
   "outputs": [],
   "source": [
    "net = torch.load(\"models/football_1_10.pth\")"
   ]
  },
  {
   "cell_type": "code",
   "execution_count": 78,
   "metadata": {},
   "outputs": [],
   "source": [
    "error = 0\n",
    "#total_sum = 0\n",
    "maxi,mini = -100,100\n",
    "predicts = []\n",
    "for row in df.values:\n",
    "    x = row[2:41]\n",
    "    x = torch.from_numpy(np.array(x))\n",
    "    x = x.type(torch.FloatTensor)\n",
    "    y = row[41:]\n",
    "    pred = net(x).tolist()\n",
    "    \n",
    "    '''if max < pred:\n",
    "        max = pred\n",
    "    if min > pred:\n",
    "        min = pred\n",
    "    '''\n",
    "    \n",
    "    '''if pred > 0.5:\n",
    "        pred=1\n",
    "    else :\n",
    "        pred=0'''\n",
    "    \n",
    "    #print(pred)\n",
    "    max_ind = pred.index(max(pred))\n",
    "   \n",
    "    pred = [0,0,0]\n",
    "    pred[max_ind] = 1\n",
    "    \n",
    "    #total_sum += pred \n",
    "    \n",
    "    predicts.append(pred)\n",
    "    error += (sum(abs(y-pred)))"
   ]
  },
  {
   "cell_type": "code",
   "execution_count": 79,
   "metadata": {},
   "outputs": [],
   "source": [
    "predicts = np.array(predicts)"
   ]
  },
  {
   "cell_type": "code",
   "execution_count": 80,
   "metadata": {},
   "outputs": [
    {
     "data": {
      "text/plain": [
       "1"
      ]
     },
     "execution_count": 80,
     "metadata": {},
     "output_type": "execute_result"
    }
   ],
   "source": [
    "min(predicts.T[2])"
   ]
  },
  {
   "cell_type": "code",
   "execution_count": 75,
   "metadata": {},
   "outputs": [
    {
     "name": "stdout",
     "output_type": "stream",
     "text": [
      "1200\n"
     ]
    }
   ],
   "source": [
    "print(sum(predicts.T[2]))"
   ]
  },
  {
   "cell_type": "code",
   "execution_count": null,
   "metadata": {},
   "outputs": [],
   "source": [
    "sum(dff.iloc[:,1])"
   ]
  },
  {
   "cell_type": "code",
   "execution_count": null,
   "metadata": {},
   "outputs": [],
   "source": [
    "print(1-sum(abs(predicts - dff.iloc[:,1]))/len(dff))"
   ]
  },
  {
   "cell_type": "code",
   "execution_count": 23,
   "metadata": {},
   "outputs": [],
   "source": [
    "confmat = confusion_matrix(y_true = df.iloc[:,41].tolist(),y_pred = predicts.T[0])"
   ]
  },
  {
   "cell_type": "code",
   "execution_count": 24,
   "metadata": {},
   "outputs": [
    {
     "name": "stdout",
     "output_type": "stream",
     "text": [
      "[[800   0]\n",
      " [400   0]]\n"
     ]
    }
   ],
   "source": [
    "print(confmat)"
   ]
  },
  {
   "cell_type": "code",
   "execution_count": null,
   "metadata": {},
   "outputs": [],
   "source": []
  }
 ],
 "metadata": {
  "kernelspec": {
   "display_name": "Python 3",
   "language": "python",
   "name": "python3"
  },
  "language_info": {
   "codemirror_mode": {
    "name": "ipython",
    "version": 3
   },
   "file_extension": ".py",
   "mimetype": "text/x-python",
   "name": "python",
   "nbconvert_exporter": "python",
   "pygments_lexer": "ipython3",
   "version": "3.7.1"
  }
 },
 "nbformat": 4,
 "nbformat_minor": 2
}
